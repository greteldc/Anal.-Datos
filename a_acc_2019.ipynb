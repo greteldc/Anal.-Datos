{
 "cells": [
  {
   "cell_type": "markdown",
   "metadata": {},
   "source": [
    "# 0. IMPORTACIONES DE SOFTWARE Y CÓDIGO"
   ]
  },
  {
   "cell_type": "code",
   "execution_count": 1,
   "metadata": {},
   "outputs": [],
   "source": [
    "import pandas as pd\n",
    "import seaborn as sns\n",
    "import matplotlib as plt\n",
    "import plotly.express as px\n",
    "import numpy as np\n",
    "from datetime import datetime\n",
    "\n",
    "from utils.functions import reorder_columns, shorten_column_titles, clarify_name_acc"
   ]
  },
  {
   "cell_type": "markdown",
   "metadata": {},
   "source": [
    "# I. IMPORTACION & PRIMERA EXPLORACIÓN DE LOS DATOS"
   ]
  },
  {
   "cell_type": "code",
   "execution_count": 2,
   "metadata": {},
   "outputs": [
    {
     "data": {
      "text/html": [
       "<div>\n",
       "<style scoped>\n",
       "    .dataframe tbody tr th:only-of-type {\n",
       "        vertical-align: middle;\n",
       "    }\n",
       "\n",
       "    .dataframe tbody tr th {\n",
       "        vertical-align: top;\n",
       "    }\n",
       "\n",
       "    .dataframe thead th {\n",
       "        text-align: right;\n",
       "    }\n",
       "</style>\n",
       "<table border=\"1\" class=\"dataframe\">\n",
       "  <thead>\n",
       "    <tr style=\"text-align: right;\">\n",
       "      <th></th>\n",
       "      <th>DT_DAY</th>\n",
       "      <th>DT_HOUR</th>\n",
       "      <th>CD_DAY_OF_WEEK</th>\n",
       "      <th>TX_DAY_OF_WEEK_DESCR_FR</th>\n",
       "      <th>TX_DAY_OF_WEEK_DESCR_NL</th>\n",
       "      <th>CD_BUILD_UP_AREA</th>\n",
       "      <th>TX_BUILD_UP_AREA_DESCR_NL</th>\n",
       "      <th>TX_BUILD_UP_AREA_DESCR_FR</th>\n",
       "      <th>CD_COLL_TYPE</th>\n",
       "      <th>TX_COLL_TYPE_DESCR_NL</th>\n",
       "      <th>...</th>\n",
       "      <th>TX_PROV_DESCR_FR</th>\n",
       "      <th>CD_RGN_REFNIS</th>\n",
       "      <th>TX_RGN_DESCR_NL</th>\n",
       "      <th>TX_RGN_DESCR_FR</th>\n",
       "      <th>MS_ACCT</th>\n",
       "      <th>MS_ACCT_WITH_DEAD</th>\n",
       "      <th>MS_ACCT_WITH_DEAD_30_DAYS</th>\n",
       "      <th>MS_ACCT_WITH_MORY_INJ</th>\n",
       "      <th>MS_ACCT_WITH_SERLY_INJ</th>\n",
       "      <th>MS_ACCT_WITH_SLY_INJ</th>\n",
       "    </tr>\n",
       "  </thead>\n",
       "  <tbody>\n",
       "    <tr>\n",
       "      <th>0</th>\n",
       "      <td>2019-11-27</td>\n",
       "      <td>9</td>\n",
       "      <td>3</td>\n",
       "      <td>Mercredi</td>\n",
       "      <td>woensdag</td>\n",
       "      <td>1.0</td>\n",
       "      <td>Binnen bebouwde kom</td>\n",
       "      <td>En agglomération</td>\n",
       "      <td>2.0</td>\n",
       "      <td>Frontale botsing (of bij het kruisen)</td>\n",
       "      <td>...</td>\n",
       "      <td>Province d’Anvers</td>\n",
       "      <td>2000</td>\n",
       "      <td>Vlaams Gewest</td>\n",
       "      <td>Région flamande</td>\n",
       "      <td>1</td>\n",
       "      <td>0</td>\n",
       "      <td>0</td>\n",
       "      <td>0</td>\n",
       "      <td>0</td>\n",
       "      <td>1</td>\n",
       "    </tr>\n",
       "    <tr>\n",
       "      <th>1</th>\n",
       "      <td>2019-12-15</td>\n",
       "      <td>14</td>\n",
       "      <td>7</td>\n",
       "      <td>Dimanche</td>\n",
       "      <td>zondag</td>\n",
       "      <td>1.0</td>\n",
       "      <td>Binnen bebouwde kom</td>\n",
       "      <td>En agglomération</td>\n",
       "      <td>4.0</td>\n",
       "      <td>Langs opzij</td>\n",
       "      <td>...</td>\n",
       "      <td>Province d’Anvers</td>\n",
       "      <td>2000</td>\n",
       "      <td>Vlaams Gewest</td>\n",
       "      <td>Région flamande</td>\n",
       "      <td>1</td>\n",
       "      <td>0</td>\n",
       "      <td>0</td>\n",
       "      <td>0</td>\n",
       "      <td>0</td>\n",
       "      <td>1</td>\n",
       "    </tr>\n",
       "    <tr>\n",
       "      <th>2</th>\n",
       "      <td>2019-11-29</td>\n",
       "      <td>18</td>\n",
       "      <td>5</td>\n",
       "      <td>Vendredi</td>\n",
       "      <td>vrijdag</td>\n",
       "      <td>2.0</td>\n",
       "      <td>Buiten bebouwde kom</td>\n",
       "      <td>Hors agglomération</td>\n",
       "      <td>7.0</td>\n",
       "      <td>Tegen een hindernis buiten de rijbaan</td>\n",
       "      <td>...</td>\n",
       "      <td>Province d’Anvers</td>\n",
       "      <td>2000</td>\n",
       "      <td>Vlaams Gewest</td>\n",
       "      <td>Région flamande</td>\n",
       "      <td>1</td>\n",
       "      <td>0</td>\n",
       "      <td>0</td>\n",
       "      <td>0</td>\n",
       "      <td>0</td>\n",
       "      <td>1</td>\n",
       "    </tr>\n",
       "    <tr>\n",
       "      <th>3</th>\n",
       "      <td>2019-12-11</td>\n",
       "      <td>18</td>\n",
       "      <td>3</td>\n",
       "      <td>Mercredi</td>\n",
       "      <td>woensdag</td>\n",
       "      <td>2.0</td>\n",
       "      <td>Buiten bebouwde kom</td>\n",
       "      <td>Hors agglomération</td>\n",
       "      <td>NaN</td>\n",
       "      <td>Niet beschikbaar</td>\n",
       "      <td>...</td>\n",
       "      <td>Province d’Anvers</td>\n",
       "      <td>2000</td>\n",
       "      <td>Vlaams Gewest</td>\n",
       "      <td>Région flamande</td>\n",
       "      <td>1</td>\n",
       "      <td>0</td>\n",
       "      <td>0</td>\n",
       "      <td>0</td>\n",
       "      <td>0</td>\n",
       "      <td>1</td>\n",
       "    </tr>\n",
       "    <tr>\n",
       "      <th>4</th>\n",
       "      <td>2019-12-30</td>\n",
       "      <td>13</td>\n",
       "      <td>1</td>\n",
       "      <td>Lundi</td>\n",
       "      <td>maandag</td>\n",
       "      <td>NaN</td>\n",
       "      <td>Niet beschikbaar</td>\n",
       "      <td>Non disponible</td>\n",
       "      <td>5.0</td>\n",
       "      <td>Met een voetganger</td>\n",
       "      <td>...</td>\n",
       "      <td>Province d’Anvers</td>\n",
       "      <td>2000</td>\n",
       "      <td>Vlaams Gewest</td>\n",
       "      <td>Région flamande</td>\n",
       "      <td>1</td>\n",
       "      <td>0</td>\n",
       "      <td>0</td>\n",
       "      <td>0</td>\n",
       "      <td>0</td>\n",
       "      <td>1</td>\n",
       "    </tr>\n",
       "  </tbody>\n",
       "</table>\n",
       "<p>5 rows × 35 columns</p>\n",
       "</div>"
      ],
      "text/plain": [
       "      DT_DAY  DT_HOUR  CD_DAY_OF_WEEK TX_DAY_OF_WEEK_DESCR_FR  \\\n",
       "0 2019-11-27        9               3                Mercredi   \n",
       "1 2019-12-15       14               7                Dimanche   \n",
       "2 2019-11-29       18               5                Vendredi   \n",
       "3 2019-12-11       18               3                Mercredi   \n",
       "4 2019-12-30       13               1                   Lundi   \n",
       "\n",
       "  TX_DAY_OF_WEEK_DESCR_NL  CD_BUILD_UP_AREA TX_BUILD_UP_AREA_DESCR_NL  \\\n",
       "0                woensdag               1.0       Binnen bebouwde kom   \n",
       "1                  zondag               1.0       Binnen bebouwde kom   \n",
       "2                 vrijdag               2.0       Buiten bebouwde kom   \n",
       "3                woensdag               2.0       Buiten bebouwde kom   \n",
       "4                 maandag               NaN          Niet beschikbaar   \n",
       "\n",
       "  TX_BUILD_UP_AREA_DESCR_FR  CD_COLL_TYPE  \\\n",
       "0          En agglomération           2.0   \n",
       "1          En agglomération           4.0   \n",
       "2        Hors agglomération           7.0   \n",
       "3        Hors agglomération           NaN   \n",
       "4            Non disponible           5.0   \n",
       "\n",
       "                   TX_COLL_TYPE_DESCR_NL  ...   TX_PROV_DESCR_FR  \\\n",
       "0  Frontale botsing (of bij het kruisen)  ...  Province d’Anvers   \n",
       "1                            Langs opzij  ...  Province d’Anvers   \n",
       "2  Tegen een hindernis buiten de rijbaan  ...  Province d’Anvers   \n",
       "3                       Niet beschikbaar  ...  Province d’Anvers   \n",
       "4                     Met een voetganger  ...  Province d’Anvers   \n",
       "\n",
       "   CD_RGN_REFNIS TX_RGN_DESCR_NL  TX_RGN_DESCR_FR  MS_ACCT MS_ACCT_WITH_DEAD  \\\n",
       "0           2000   Vlaams Gewest  Région flamande        1                 0   \n",
       "1           2000   Vlaams Gewest  Région flamande        1                 0   \n",
       "2           2000   Vlaams Gewest  Région flamande        1                 0   \n",
       "3           2000   Vlaams Gewest  Région flamande        1                 0   \n",
       "4           2000   Vlaams Gewest  Région flamande        1                 0   \n",
       "\n",
       "  MS_ACCT_WITH_DEAD_30_DAYS  MS_ACCT_WITH_MORY_INJ MS_ACCT_WITH_SERLY_INJ  \\\n",
       "0                         0                      0                      0   \n",
       "1                         0                      0                      0   \n",
       "2                         0                      0                      0   \n",
       "3                         0                      0                      0   \n",
       "4                         0                      0                      0   \n",
       "\n",
       "  MS_ACCT_WITH_SLY_INJ  \n",
       "0                    1  \n",
       "1                    1  \n",
       "2                    1  \n",
       "3                    1  \n",
       "4                    1  \n",
       "\n",
       "[5 rows x 35 columns]"
      ]
     },
     "execution_count": 2,
     "metadata": {},
     "output_type": "execute_result"
    }
   ],
   "source": [
    "#introduccion de nuestro primer fichero de datos:\n",
    "acc_2019 = pd.read_excel(\"Data_ACC/datos_brutos/TF_ACCIDENTS_2019.xlsx\")\n",
    "acc_2019.head()"
   ]
  },
  {
   "cell_type": "code",
   "execution_count": 3,
   "metadata": {},
   "outputs": [
    {
     "data": {
      "text/plain": [
       "(37520, 35)"
      ]
     },
     "execution_count": 3,
     "metadata": {},
     "output_type": "execute_result"
    }
   ],
   "source": [
    "#aplicamos shape para tener primera idea de nº columnas y filas\n",
    "acc_2019.shape"
   ]
  },
  {
   "cell_type": "code",
   "execution_count": 4,
   "metadata": {},
   "outputs": [
    {
     "name": "stdout",
     "output_type": "stream",
     "text": [
      "<class 'pandas.core.frame.DataFrame'>\n",
      "RangeIndex: 37520 entries, 0 to 37519\n",
      "Data columns (total 35 columns):\n",
      " #   Column                     Non-Null Count  Dtype         \n",
      "---  ------                     --------------  -----         \n",
      " 0   DT_DAY                     37520 non-null  datetime64[ns]\n",
      " 1   DT_HOUR                    37520 non-null  int64         \n",
      " 2   CD_DAY_OF_WEEK             37520 non-null  int64         \n",
      " 3   TX_DAY_OF_WEEK_DESCR_FR    37520 non-null  object        \n",
      " 4   TX_DAY_OF_WEEK_DESCR_NL    37520 non-null  object        \n",
      " 5   CD_BUILD_UP_AREA           36094 non-null  float64       \n",
      " 6   TX_BUILD_UP_AREA_DESCR_NL  37520 non-null  object        \n",
      " 7   TX_BUILD_UP_AREA_DESCR_FR  37520 non-null  object        \n",
      " 8   CD_COLL_TYPE               31603 non-null  float64       \n",
      " 9   TX_COLL_TYPE_DESCR_NL      37520 non-null  object        \n",
      " 10  TX_COLL_TYPE_DESCR_FR      37520 non-null  object        \n",
      " 11  CD_LIGHT_COND              35956 non-null  float64       \n",
      " 12  TX_LIGHT_COND_DESCR_NL     37520 non-null  object        \n",
      " 13  TX_LIGHT_COND_DESCR_FR     37520 non-null  object        \n",
      " 14  CD_ROAD_TYPE               37361 non-null  float64       \n",
      " 15  TX_ROAD_TYPE_DESCR_NL      37520 non-null  object        \n",
      " 16  TX_ROAD_TYPE_DESCR_FR      37520 non-null  object        \n",
      " 17  CD_MUNTY_REFNIS            37520 non-null  int64         \n",
      " 18  TX_MUNTY_DESCR_NL          37520 non-null  object        \n",
      " 19  TX_MUNTY_DESCR_FR          37520 non-null  object        \n",
      " 20  CD_DSTR_REFNIS             37520 non-null  int64         \n",
      " 21  TX_ADM_DSTR_DESCR_NL       37520 non-null  object        \n",
      " 22  TX_ADM_DSTR_DESCR_FR       37520 non-null  object        \n",
      " 23  CD_PROV_REFNIS             33621 non-null  float64       \n",
      " 24  TX_PROV_DESCR_NL           33621 non-null  object        \n",
      " 25  TX_PROV_DESCR_FR           33621 non-null  object        \n",
      " 26  CD_RGN_REFNIS              37520 non-null  int64         \n",
      " 27  TX_RGN_DESCR_NL            37520 non-null  object        \n",
      " 28  TX_RGN_DESCR_FR            37520 non-null  object        \n",
      " 29  MS_ACCT                    37520 non-null  int64         \n",
      " 30  MS_ACCT_WITH_DEAD          37520 non-null  int64         \n",
      " 31  MS_ACCT_WITH_DEAD_30_DAYS  37520 non-null  int64         \n",
      " 32  MS_ACCT_WITH_MORY_INJ      37520 non-null  int64         \n",
      " 33  MS_ACCT_WITH_SERLY_INJ     37520 non-null  int64         \n",
      " 34  MS_ACCT_WITH_SLY_INJ       37520 non-null  int64         \n",
      "dtypes: datetime64[ns](1), float64(5), int64(11), object(18)\n",
      "memory usage: 10.0+ MB\n"
     ]
    }
   ],
   "source": [
    "#más info sobre tipos de datos y valores ausentes en nuestro DF:\n",
    "acc_2019.info()"
   ]
  },
  {
   "cell_type": "markdown",
   "metadata": {},
   "source": [
    ">> vistazo sobre todas las columnas + indicación de índice correspondiente:"
   ]
  },
  {
   "cell_type": "code",
   "execution_count": 5,
   "metadata": {},
   "outputs": [
    {
     "name": "stdout",
     "output_type": "stream",
     "text": [
      "(0, 'DT_DAY')\n",
      "(1, 'DT_HOUR')\n",
      "(2, 'CD_DAY_OF_WEEK')\n",
      "(3, 'TX_DAY_OF_WEEK_DESCR_FR')\n",
      "(4, 'TX_DAY_OF_WEEK_DESCR_NL')\n",
      "(5, 'CD_BUILD_UP_AREA')\n",
      "(6, 'TX_BUILD_UP_AREA_DESCR_NL')\n",
      "(7, 'TX_BUILD_UP_AREA_DESCR_FR')\n",
      "(8, 'CD_COLL_TYPE')\n",
      "(9, 'TX_COLL_TYPE_DESCR_NL')\n",
      "(10, 'TX_COLL_TYPE_DESCR_FR')\n",
      "(11, 'CD_LIGHT_COND')\n",
      "(12, 'TX_LIGHT_COND_DESCR_NL')\n",
      "(13, 'TX_LIGHT_COND_DESCR_FR')\n",
      "(14, 'CD_ROAD_TYPE')\n",
      "(15, 'TX_ROAD_TYPE_DESCR_NL')\n",
      "(16, 'TX_ROAD_TYPE_DESCR_FR')\n",
      "(17, 'CD_MUNTY_REFNIS')\n",
      "(18, 'TX_MUNTY_DESCR_NL')\n",
      "(19, 'TX_MUNTY_DESCR_FR')\n",
      "(20, 'CD_DSTR_REFNIS')\n",
      "(21, 'TX_ADM_DSTR_DESCR_NL')\n",
      "(22, 'TX_ADM_DSTR_DESCR_FR')\n",
      "(23, 'CD_PROV_REFNIS')\n",
      "(24, 'TX_PROV_DESCR_NL')\n",
      "(25, 'TX_PROV_DESCR_FR')\n",
      "(26, 'CD_RGN_REFNIS')\n",
      "(27, 'TX_RGN_DESCR_NL')\n",
      "(28, 'TX_RGN_DESCR_FR')\n",
      "(29, 'MS_ACCT')\n",
      "(30, 'MS_ACCT_WITH_DEAD')\n",
      "(31, 'MS_ACCT_WITH_DEAD_30_DAYS')\n",
      "(32, 'MS_ACCT_WITH_MORY_INJ')\n",
      "(33, 'MS_ACCT_WITH_SERLY_INJ')\n",
      "(34, 'MS_ACCT_WITH_SLY_INJ')\n"
     ]
    }
   ],
   "source": [
    "#preparación para poder seleccionar por indice fluidamente las columnas relevantes (sin conteo manual):\n",
    "todas_col = enumerate(acc_2019.columns)\n",
    "for i in todas_col:\n",
    "    print (i)"
   ]
  },
  {
   "cell_type": "code",
   "execution_count": 6,
   "metadata": {},
   "outputs": [
    {
     "data": {
      "text/plain": [
       "CD_DAY_OF_WEEK\n",
       "1    5544\n",
       "2    5605\n",
       "3    5649\n",
       "4    5544\n",
       "5    6196\n",
       "6    4809\n",
       "7    4173\n",
       "Name: CD_DAY_OF_WEEK, dtype: int64"
      ]
     },
     "execution_count": 6,
     "metadata": {},
     "output_type": "execute_result"
    }
   ],
   "source": [
    "#exploracion de nº accidentes por día\n",
    "A = acc_2019.groupby([\"CD_DAY_OF_WEEK\"])[\"CD_DAY_OF_WEEK\"].count()\n",
    "A"
   ]
  },
  {
   "cell_type": "markdown",
   "metadata": {},
   "source": [
    "# II. LIMPIAR LOS DATOS DEL DATAFRAME PARA NUESTRO PROPÓSITO"
   ]
  },
  {
   "cell_type": "markdown",
   "metadata": {},
   "source": [
    "## II.1. limpiar DB original (parte columnas): eliminar columnas irrelevantes"
   ]
  },
  {
   "cell_type": "code",
   "execution_count": 7,
   "metadata": {},
   "outputs": [
    {
     "data": {
      "text/html": [
       "<div>\n",
       "<style scoped>\n",
       "    .dataframe tbody tr th:only-of-type {\n",
       "        vertical-align: middle;\n",
       "    }\n",
       "\n",
       "    .dataframe tbody tr th {\n",
       "        vertical-align: top;\n",
       "    }\n",
       "\n",
       "    .dataframe thead th {\n",
       "        text-align: right;\n",
       "    }\n",
       "</style>\n",
       "<table border=\"1\" class=\"dataframe\">\n",
       "  <thead>\n",
       "    <tr style=\"text-align: right;\">\n",
       "      <th></th>\n",
       "      <th>DT_DAY</th>\n",
       "      <th>CD_DAY_OF_WEEK</th>\n",
       "      <th>TX_BUILD_UP_AREA_DESCR_NL</th>\n",
       "      <th>TX_LIGHT_COND_DESCR_NL</th>\n",
       "      <th>TX_ROAD_TYPE_DESCR_NL</th>\n",
       "      <th>TX_MUNTY_DESCR_NL</th>\n",
       "      <th>TX_ADM_DSTR_DESCR_NL</th>\n",
       "      <th>TX_PROV_DESCR_NL</th>\n",
       "      <th>TX_RGN_DESCR_NL</th>\n",
       "      <th>MS_ACCT</th>\n",
       "      <th>MS_ACCT_WITH_DEAD</th>\n",
       "      <th>MS_ACCT_WITH_DEAD_30_DAYS</th>\n",
       "      <th>MS_ACCT_WITH_MORY_INJ</th>\n",
       "      <th>MS_ACCT_WITH_SERLY_INJ</th>\n",
       "      <th>MS_ACCT_WITH_SLY_INJ</th>\n",
       "    </tr>\n",
       "  </thead>\n",
       "  <tbody>\n",
       "    <tr>\n",
       "      <th>0</th>\n",
       "      <td>2019-11-27</td>\n",
       "      <td>3</td>\n",
       "      <td>Binnen bebouwde kom</td>\n",
       "      <td>Bij klaarlichte dag</td>\n",
       "      <td>Gewestweg, provincieweg of gemeenteweg</td>\n",
       "      <td>Aartselaar</td>\n",
       "      <td>Arrondissement Antwerpen</td>\n",
       "      <td>Provincie Antwerpen</td>\n",
       "      <td>Vlaams Gewest</td>\n",
       "      <td>1</td>\n",
       "      <td>0</td>\n",
       "      <td>0</td>\n",
       "      <td>0</td>\n",
       "      <td>0</td>\n",
       "      <td>1</td>\n",
       "    </tr>\n",
       "    <tr>\n",
       "      <th>1</th>\n",
       "      <td>2019-12-15</td>\n",
       "      <td>7</td>\n",
       "      <td>Binnen bebouwde kom</td>\n",
       "      <td>Bij klaarlichte dag</td>\n",
       "      <td>Gewestweg, provincieweg of gemeenteweg</td>\n",
       "      <td>Aartselaar</td>\n",
       "      <td>Arrondissement Antwerpen</td>\n",
       "      <td>Provincie Antwerpen</td>\n",
       "      <td>Vlaams Gewest</td>\n",
       "      <td>1</td>\n",
       "      <td>0</td>\n",
       "      <td>0</td>\n",
       "      <td>0</td>\n",
       "      <td>0</td>\n",
       "      <td>1</td>\n",
       "    </tr>\n",
       "    <tr>\n",
       "      <th>2</th>\n",
       "      <td>2019-11-29</td>\n",
       "      <td>5</td>\n",
       "      <td>Buiten bebouwde kom</td>\n",
       "      <td>Nacht, ontstoken openbare verlichting</td>\n",
       "      <td>Gewestweg, provincieweg of gemeenteweg</td>\n",
       "      <td>Aartselaar</td>\n",
       "      <td>Arrondissement Antwerpen</td>\n",
       "      <td>Provincie Antwerpen</td>\n",
       "      <td>Vlaams Gewest</td>\n",
       "      <td>1</td>\n",
       "      <td>0</td>\n",
       "      <td>0</td>\n",
       "      <td>0</td>\n",
       "      <td>0</td>\n",
       "      <td>1</td>\n",
       "    </tr>\n",
       "    <tr>\n",
       "      <th>3</th>\n",
       "      <td>2019-12-11</td>\n",
       "      <td>3</td>\n",
       "      <td>Buiten bebouwde kom</td>\n",
       "      <td>Nacht, ontstoken openbare verlichting</td>\n",
       "      <td>Gewestweg, provincieweg of gemeenteweg</td>\n",
       "      <td>Aartselaar</td>\n",
       "      <td>Arrondissement Antwerpen</td>\n",
       "      <td>Provincie Antwerpen</td>\n",
       "      <td>Vlaams Gewest</td>\n",
       "      <td>1</td>\n",
       "      <td>0</td>\n",
       "      <td>0</td>\n",
       "      <td>0</td>\n",
       "      <td>0</td>\n",
       "      <td>1</td>\n",
       "    </tr>\n",
       "    <tr>\n",
       "      <th>4</th>\n",
       "      <td>2019-12-30</td>\n",
       "      <td>1</td>\n",
       "      <td>Niet beschikbaar</td>\n",
       "      <td>Bij klaarlichte dag</td>\n",
       "      <td>Gewestweg, provincieweg of gemeenteweg</td>\n",
       "      <td>Aartselaar</td>\n",
       "      <td>Arrondissement Antwerpen</td>\n",
       "      <td>Provincie Antwerpen</td>\n",
       "      <td>Vlaams Gewest</td>\n",
       "      <td>1</td>\n",
       "      <td>0</td>\n",
       "      <td>0</td>\n",
       "      <td>0</td>\n",
       "      <td>0</td>\n",
       "      <td>1</td>\n",
       "    </tr>\n",
       "  </tbody>\n",
       "</table>\n",
       "</div>"
      ],
      "text/plain": [
       "      DT_DAY  CD_DAY_OF_WEEK TX_BUILD_UP_AREA_DESCR_NL  \\\n",
       "0 2019-11-27               3       Binnen bebouwde kom   \n",
       "1 2019-12-15               7       Binnen bebouwde kom   \n",
       "2 2019-11-29               5       Buiten bebouwde kom   \n",
       "3 2019-12-11               3       Buiten bebouwde kom   \n",
       "4 2019-12-30               1          Niet beschikbaar   \n",
       "\n",
       "                  TX_LIGHT_COND_DESCR_NL  \\\n",
       "0                    Bij klaarlichte dag   \n",
       "1                    Bij klaarlichte dag   \n",
       "2  Nacht, ontstoken openbare verlichting   \n",
       "3  Nacht, ontstoken openbare verlichting   \n",
       "4                    Bij klaarlichte dag   \n",
       "\n",
       "                    TX_ROAD_TYPE_DESCR_NL TX_MUNTY_DESCR_NL  \\\n",
       "0  Gewestweg, provincieweg of gemeenteweg        Aartselaar   \n",
       "1  Gewestweg, provincieweg of gemeenteweg        Aartselaar   \n",
       "2  Gewestweg, provincieweg of gemeenteweg        Aartselaar   \n",
       "3  Gewestweg, provincieweg of gemeenteweg        Aartselaar   \n",
       "4  Gewestweg, provincieweg of gemeenteweg        Aartselaar   \n",
       "\n",
       "       TX_ADM_DSTR_DESCR_NL     TX_PROV_DESCR_NL TX_RGN_DESCR_NL  MS_ACCT  \\\n",
       "0  Arrondissement Antwerpen  Provincie Antwerpen   Vlaams Gewest        1   \n",
       "1  Arrondissement Antwerpen  Provincie Antwerpen   Vlaams Gewest        1   \n",
       "2  Arrondissement Antwerpen  Provincie Antwerpen   Vlaams Gewest        1   \n",
       "3  Arrondissement Antwerpen  Provincie Antwerpen   Vlaams Gewest        1   \n",
       "4  Arrondissement Antwerpen  Provincie Antwerpen   Vlaams Gewest        1   \n",
       "\n",
       "   MS_ACCT_WITH_DEAD  MS_ACCT_WITH_DEAD_30_DAYS  MS_ACCT_WITH_MORY_INJ  \\\n",
       "0                  0                          0                      0   \n",
       "1                  0                          0                      0   \n",
       "2                  0                          0                      0   \n",
       "3                  0                          0                      0   \n",
       "4                  0                          0                      0   \n",
       "\n",
       "   MS_ACCT_WITH_SERLY_INJ  MS_ACCT_WITH_SLY_INJ  \n",
       "0                       0                     1  \n",
       "1                       0                     1  \n",
       "2                       0                     1  \n",
       "3                       0                     1  \n",
       "4                       0                     1  "
      ]
     },
     "execution_count": 7,
     "metadata": {},
     "output_type": "execute_result"
    }
   ],
   "source": [
    "#mantener columnas relevantes solo - si opcion entre varias: selección de las en las cuales menos valores faltan\n",
    "acc_2019_col = acc_2019.iloc[:,[0,2,6,12,15,18,21,24,27,29,30,31,32,33,34]]\n",
    "acc_2019_col.head(5)"
   ]
  },
  {
   "cell_type": "code",
   "execution_count": 8,
   "metadata": {},
   "outputs": [
    {
     "name": "stdout",
     "output_type": "stream",
     "text": [
      "<class 'pandas.core.frame.DataFrame'>\n",
      "RangeIndex: 37520 entries, 0 to 37519\n",
      "Data columns (total 15 columns):\n",
      " #   Column                     Non-Null Count  Dtype         \n",
      "---  ------                     --------------  -----         \n",
      " 0   DT_DAY                     37520 non-null  datetime64[ns]\n",
      " 1   CD_DAY_OF_WEEK             37520 non-null  int64         \n",
      " 2   TX_BUILD_UP_AREA_DESCR_NL  37520 non-null  object        \n",
      " 3   TX_LIGHT_COND_DESCR_NL     37520 non-null  object        \n",
      " 4   TX_ROAD_TYPE_DESCR_NL      37520 non-null  object        \n",
      " 5   TX_MUNTY_DESCR_NL          37520 non-null  object        \n",
      " 6   TX_ADM_DSTR_DESCR_NL       37520 non-null  object        \n",
      " 7   TX_PROV_DESCR_NL           33621 non-null  object        \n",
      " 8   TX_RGN_DESCR_NL            37520 non-null  object        \n",
      " 9   MS_ACCT                    37520 non-null  int64         \n",
      " 10  MS_ACCT_WITH_DEAD          37520 non-null  int64         \n",
      " 11  MS_ACCT_WITH_DEAD_30_DAYS  37520 non-null  int64         \n",
      " 12  MS_ACCT_WITH_MORY_INJ      37520 non-null  int64         \n",
      " 13  MS_ACCT_WITH_SERLY_INJ     37520 non-null  int64         \n",
      " 14  MS_ACCT_WITH_SLY_INJ       37520 non-null  int64         \n",
      "dtypes: datetime64[ns](1), int64(7), object(7)\n",
      "memory usage: 4.3+ MB\n"
     ]
    }
   ],
   "source": [
    "#nuevo vistazo sobre tipos de datos y valores ausentes:\n",
    "acc_2019_col.info()"
   ]
  },
  {
   "cell_type": "code",
   "execution_count": 43,
   "metadata": {},
   "outputs": [],
   "source": [
    "# deducción: solo en col[7] faltan valores - se deberían poder recuperar en base a col[8] \n",
    "# de momento todavía por determinar si hará falta (dependerá del nivel que seleccionaremos por zona)"
   ]
  },
  {
   "cell_type": "markdown",
   "metadata": {},
   "source": [
    "## II.2. limpiar DB original (parte columnas): crear columna YEAR y MONTH, eliminar columna YEAR-MONTH-DAY"
   ]
  },
  {
   "cell_type": "markdown",
   "metadata": {},
   "source": [
    "Con vistas a agrupaciones posteriores por día laboral vs. sábado vs. domingo, preparamos los datos necesarios para las agrupaciones. Para el proceso de elaboración concreta, referimos al fichero TEST_extraction YEAR DAY."
   ]
  },
  {
   "cell_type": "code",
   "execution_count": 9,
   "metadata": {},
   "outputs": [
    {
     "name": "stderr",
     "output_type": "stream",
     "text": [
      "C:\\Users\\piovr\\AppData\\Roaming\\Python\\Python37\\site-packages\\ipykernel_launcher.py:2: SettingWithCopyWarning: \n",
      "A value is trying to be set on a copy of a slice from a DataFrame.\n",
      "Try using .loc[row_indexer,col_indexer] = value instead\n",
      "\n",
      "See the caveats in the documentation: https://pandas.pydata.org/pandas-docs/stable/user_guide/indexing.html#returning-a-view-versus-a-copy\n",
      "  \n",
      "C:\\Users\\piovr\\AppData\\Roaming\\Python\\Python37\\site-packages\\ipykernel_launcher.py:3: SettingWithCopyWarning: \n",
      "A value is trying to be set on a copy of a slice from a DataFrame.\n",
      "Try using .loc[row_indexer,col_indexer] = value instead\n",
      "\n",
      "See the caveats in the documentation: https://pandas.pydata.org/pandas-docs/stable/user_guide/indexing.html#returning-a-view-versus-a-copy\n",
      "  This is separate from the ipykernel package so we can avoid doing imports until\n"
     ]
    }
   ],
   "source": [
    "# primer paso: creamos unas nuevas columnas \"YEAR\" y \"MONTH\" a partir de la columna existente \"DT_DAY\"\n",
    "acc_2019_col['YEAR'] = acc_2019_col['DT_DAY'].dt.year\n",
    "acc_2019_col['MONTH'] = acc_2019_col['DT_DAY'].dt.month"
   ]
  },
  {
   "cell_type": "code",
   "execution_count": 10,
   "metadata": {},
   "outputs": [
    {
     "data": {
      "text/plain": [
       "Index(['DT_DAY', 'CD_DAY_OF_WEEK', 'TX_BUILD_UP_AREA_DESCR_NL',\n",
       "       'TX_LIGHT_COND_DESCR_NL', 'TX_ROAD_TYPE_DESCR_NL', 'TX_MUNTY_DESCR_NL',\n",
       "       'TX_ADM_DSTR_DESCR_NL', 'TX_PROV_DESCR_NL', 'TX_RGN_DESCR_NL',\n",
       "       'MS_ACCT', 'MS_ACCT_WITH_DEAD', 'MS_ACCT_WITH_DEAD_30_DAYS',\n",
       "       'MS_ACCT_WITH_MORY_INJ', 'MS_ACCT_WITH_SERLY_INJ',\n",
       "       'MS_ACCT_WITH_SLY_INJ', 'YEAR', 'MONTH'],\n",
       "      dtype='object')"
      ]
     },
     "execution_count": 10,
     "metadata": {},
     "output_type": "execute_result"
    }
   ],
   "source": [
    "# segundo paso: verificación: se ha extendido nuestro df de 2 columnas?\n",
    "acc_2019_col.columns\n",
    "# respuesta: sí"
   ]
  },
  {
   "cell_type": "code",
   "execution_count": 11,
   "metadata": {},
   "outputs": [
    {
     "data": {
      "text/plain": [
       "0       2019-11-27\n",
       "1       2019-12-15\n",
       "2       2019-11-29\n",
       "3       2019-12-11\n",
       "4       2019-12-30\n",
       "           ...    \n",
       "37515   2019-12-22\n",
       "37516   2019-12-20\n",
       "37517   2019-12-02\n",
       "37518   2019-12-01\n",
       "37519   2019-11-28\n",
       "Name: DT_DAY, Length: 37520, dtype: datetime64[ns]"
      ]
     },
     "execution_count": 11,
     "metadata": {},
     "output_type": "execute_result"
    }
   ],
   "source": [
    "# tercer paso: eliminamos la primera columna (información relevante mejor distribuida en otra columnas, información no relevante (día) por eliminar)\n",
    "acc_2019_col.pop(\"DT_DAY\")"
   ]
  },
  {
   "cell_type": "code",
   "execution_count": 12,
   "metadata": {},
   "outputs": [
    {
     "data": {
      "text/plain": [
       "Index(['CD_DAY_OF_WEEK', 'TX_BUILD_UP_AREA_DESCR_NL', 'TX_LIGHT_COND_DESCR_NL',\n",
       "       'TX_ROAD_TYPE_DESCR_NL', 'TX_MUNTY_DESCR_NL', 'TX_ADM_DSTR_DESCR_NL',\n",
       "       'TX_PROV_DESCR_NL', 'TX_RGN_DESCR_NL', 'MS_ACCT', 'MS_ACCT_WITH_DEAD',\n",
       "       'MS_ACCT_WITH_DEAD_30_DAYS', 'MS_ACCT_WITH_MORY_INJ',\n",
       "       'MS_ACCT_WITH_SERLY_INJ', 'MS_ACCT_WITH_SLY_INJ', 'YEAR', 'MONTH'],\n",
       "      dtype='object')"
      ]
     },
     "execution_count": 12,
     "metadata": {},
     "output_type": "execute_result"
    }
   ],
   "source": [
    "#cuarto paso: verificación de las columnas presentes:\n",
    "acc_2019_col.columns"
   ]
  },
  {
   "cell_type": "code",
   "execution_count": 13,
   "metadata": {},
   "outputs": [
    {
     "name": "stdout",
     "output_type": "stream",
     "text": [
      "Index(['YEAR', 'MONTH', 'CD_DAY_OF_WEEK', 'TX_BUILD_UP_AREA_DESCR_NL',\n",
      "       'TX_LIGHT_COND_DESCR_NL', 'TX_ROAD_TYPE_DESCR_NL', 'TX_MUNTY_DESCR_NL',\n",
      "       'TX_ADM_DSTR_DESCR_NL', 'TX_PROV_DESCR_NL', 'TX_RGN_DESCR_NL',\n",
      "       'MS_ACCT', 'MS_ACCT_WITH_DEAD', 'MS_ACCT_WITH_DEAD_30_DAYS',\n",
      "       'MS_ACCT_WITH_MORY_INJ', 'MS_ACCT_WITH_SERLY_INJ',\n",
      "       'MS_ACCT_WITH_SLY_INJ'],\n",
      "      dtype='object')\n"
     ]
    }
   ],
   "source": [
    "# quinto paso: desplazamos la última y penúltima columnas a primera y segunda posición de columna:\n",
    "acc_2019_col_fila = reorder_columns(dataframe= acc_2019_col, col_name='YEAR', position=0)\n",
    "#print(acc_2019_col_fila.columns)\n",
    "acc_2019_col_filb = reorder_columns(dataframe= acc_2019_col_fila, col_name=\"MONTH\", position=1)\n",
    "print(acc_2019_col_filb.columns)"
   ]
  },
  {
   "cell_type": "markdown",
   "metadata": {},
   "source": [
    "## II.3. Limpiamos dataframe de valores NaN"
   ]
  },
  {
   "cell_type": "code",
   "execution_count": 14,
   "metadata": {},
   "outputs": [
    {
     "data": {
      "text/html": [
       "<div>\n",
       "<style scoped>\n",
       "    .dataframe tbody tr th:only-of-type {\n",
       "        vertical-align: middle;\n",
       "    }\n",
       "\n",
       "    .dataframe tbody tr th {\n",
       "        vertical-align: top;\n",
       "    }\n",
       "\n",
       "    .dataframe thead th {\n",
       "        text-align: right;\n",
       "    }\n",
       "</style>\n",
       "<table border=\"1\" class=\"dataframe\">\n",
       "  <thead>\n",
       "    <tr style=\"text-align: right;\">\n",
       "      <th></th>\n",
       "      <th>YEAR</th>\n",
       "      <th>MONTH</th>\n",
       "      <th>CD_DAY_OF_WEEK</th>\n",
       "      <th>TX_BUILD_UP_AREA_DESCR_NL</th>\n",
       "      <th>TX_LIGHT_COND_DESCR_NL</th>\n",
       "      <th>TX_ROAD_TYPE_DESCR_NL</th>\n",
       "      <th>TX_MUNTY_DESCR_NL</th>\n",
       "      <th>TX_ADM_DSTR_DESCR_NL</th>\n",
       "      <th>TX_PROV_DESCR_NL</th>\n",
       "      <th>TX_RGN_DESCR_NL</th>\n",
       "      <th>MS_ACCT</th>\n",
       "      <th>MS_ACCT_WITH_DEAD</th>\n",
       "      <th>MS_ACCT_WITH_DEAD_30_DAYS</th>\n",
       "      <th>MS_ACCT_WITH_MORY_INJ</th>\n",
       "      <th>MS_ACCT_WITH_SERLY_INJ</th>\n",
       "      <th>MS_ACCT_WITH_SLY_INJ</th>\n",
       "    </tr>\n",
       "  </thead>\n",
       "  <tbody>\n",
       "    <tr>\n",
       "      <th>17819</th>\n",
       "      <td>2019</td>\n",
       "      <td>6</td>\n",
       "      <td>4</td>\n",
       "      <td>Binnen bebouwde kom</td>\n",
       "      <td>Bij klaarlichte dag</td>\n",
       "      <td>Gewestweg, provincieweg of gemeenteweg</td>\n",
       "      <td>Gent</td>\n",
       "      <td>Arrondissement Gent</td>\n",
       "      <td>Provincie Oost-Vlaanderen</td>\n",
       "      <td>Vlaams Gewest</td>\n",
       "      <td>1</td>\n",
       "      <td>0</td>\n",
       "      <td>0</td>\n",
       "      <td>0</td>\n",
       "      <td>0</td>\n",
       "      <td>1</td>\n",
       "    </tr>\n",
       "    <tr>\n",
       "      <th>20792</th>\n",
       "      <td>2019</td>\n",
       "      <td>7</td>\n",
       "      <td>5</td>\n",
       "      <td>Binnen bebouwde kom</td>\n",
       "      <td>Bij klaarlichte dag</td>\n",
       "      <td>Gewestweg, provincieweg of gemeenteweg</td>\n",
       "      <td>Charleroi</td>\n",
       "      <td>Arrondissement Charleroi</td>\n",
       "      <td>Provincie Henegouwen</td>\n",
       "      <td>Waals Gewest</td>\n",
       "      <td>1</td>\n",
       "      <td>0</td>\n",
       "      <td>0</td>\n",
       "      <td>0</td>\n",
       "      <td>0</td>\n",
       "      <td>1</td>\n",
       "    </tr>\n",
       "    <tr>\n",
       "      <th>14751</th>\n",
       "      <td>2019</td>\n",
       "      <td>4</td>\n",
       "      <td>1</td>\n",
       "      <td>Binnen bebouwde kom</td>\n",
       "      <td>Bij klaarlichte dag</td>\n",
       "      <td>Gewestweg, provincieweg of gemeenteweg</td>\n",
       "      <td>Aalst (Aalst)</td>\n",
       "      <td>Arrondissement Aalst</td>\n",
       "      <td>Provincie Oost-Vlaanderen</td>\n",
       "      <td>Vlaams Gewest</td>\n",
       "      <td>1</td>\n",
       "      <td>0</td>\n",
       "      <td>0</td>\n",
       "      <td>0</td>\n",
       "      <td>0</td>\n",
       "      <td>1</td>\n",
       "    </tr>\n",
       "    <tr>\n",
       "      <th>29124</th>\n",
       "      <td>2019</td>\n",
       "      <td>12</td>\n",
       "      <td>5</td>\n",
       "      <td>Binnen bebouwde kom</td>\n",
       "      <td>Nacht, ontstoken openbare verlichting</td>\n",
       "      <td>Gewestweg, provincieweg of gemeenteweg</td>\n",
       "      <td>Dinant</td>\n",
       "      <td>Arrondissement Dinant</td>\n",
       "      <td>Provincie Namen</td>\n",
       "      <td>Waals Gewest</td>\n",
       "      <td>1</td>\n",
       "      <td>0</td>\n",
       "      <td>0</td>\n",
       "      <td>0</td>\n",
       "      <td>0</td>\n",
       "      <td>1</td>\n",
       "    </tr>\n",
       "    <tr>\n",
       "      <th>8997</th>\n",
       "      <td>2019</td>\n",
       "      <td>2</td>\n",
       "      <td>3</td>\n",
       "      <td>Binnen bebouwde kom</td>\n",
       "      <td>Nacht, ontstoken openbare verlichting</td>\n",
       "      <td>Gewestweg, provincieweg of gemeenteweg</td>\n",
       "      <td>Elsene</td>\n",
       "      <td>Arrondissement Brussel-Hoofdstad</td>\n",
       "      <td>Arr. Brussel-Hfdstad[no Prov]</td>\n",
       "      <td>Brussels Hoofdstedelijk Gewest</td>\n",
       "      <td>1</td>\n",
       "      <td>0</td>\n",
       "      <td>0</td>\n",
       "      <td>0</td>\n",
       "      <td>0</td>\n",
       "      <td>1</td>\n",
       "    </tr>\n",
       "  </tbody>\n",
       "</table>\n",
       "</div>"
      ],
      "text/plain": [
       "       YEAR  MONTH  CD_DAY_OF_WEEK TX_BUILD_UP_AREA_DESCR_NL  \\\n",
       "17819  2019      6               4       Binnen bebouwde kom   \n",
       "20792  2019      7               5       Binnen bebouwde kom   \n",
       "14751  2019      4               1       Binnen bebouwde kom   \n",
       "29124  2019     12               5       Binnen bebouwde kom   \n",
       "8997   2019      2               3       Binnen bebouwde kom   \n",
       "\n",
       "                      TX_LIGHT_COND_DESCR_NL  \\\n",
       "17819                    Bij klaarlichte dag   \n",
       "20792                    Bij klaarlichte dag   \n",
       "14751                    Bij klaarlichte dag   \n",
       "29124  Nacht, ontstoken openbare verlichting   \n",
       "8997   Nacht, ontstoken openbare verlichting   \n",
       "\n",
       "                        TX_ROAD_TYPE_DESCR_NL TX_MUNTY_DESCR_NL  \\\n",
       "17819  Gewestweg, provincieweg of gemeenteweg              Gent   \n",
       "20792  Gewestweg, provincieweg of gemeenteweg         Charleroi   \n",
       "14751  Gewestweg, provincieweg of gemeenteweg     Aalst (Aalst)   \n",
       "29124  Gewestweg, provincieweg of gemeenteweg            Dinant   \n",
       "8997   Gewestweg, provincieweg of gemeenteweg            Elsene   \n",
       "\n",
       "                   TX_ADM_DSTR_DESCR_NL               TX_PROV_DESCR_NL  \\\n",
       "17819               Arrondissement Gent      Provincie Oost-Vlaanderen   \n",
       "20792          Arrondissement Charleroi           Provincie Henegouwen   \n",
       "14751              Arrondissement Aalst      Provincie Oost-Vlaanderen   \n",
       "29124             Arrondissement Dinant                Provincie Namen   \n",
       "8997   Arrondissement Brussel-Hoofdstad  Arr. Brussel-Hfdstad[no Prov]   \n",
       "\n",
       "                      TX_RGN_DESCR_NL  MS_ACCT  MS_ACCT_WITH_DEAD  \\\n",
       "17819                   Vlaams Gewest        1                  0   \n",
       "20792                    Waals Gewest        1                  0   \n",
       "14751                   Vlaams Gewest        1                  0   \n",
       "29124                    Waals Gewest        1                  0   \n",
       "8997   Brussels Hoofdstedelijk Gewest        1                  0   \n",
       "\n",
       "       MS_ACCT_WITH_DEAD_30_DAYS  MS_ACCT_WITH_MORY_INJ  \\\n",
       "17819                          0                      0   \n",
       "20792                          0                      0   \n",
       "14751                          0                      0   \n",
       "29124                          0                      0   \n",
       "8997                           0                      0   \n",
       "\n",
       "       MS_ACCT_WITH_SERLY_INJ  MS_ACCT_WITH_SLY_INJ  \n",
       "17819                       0                     1  \n",
       "20792                       0                     1  \n",
       "14751                       0                     1  \n",
       "29124                       0                     1  \n",
       "8997                        0                     1  "
      ]
     },
     "execution_count": 14,
     "metadata": {},
     "output_type": "execute_result"
    }
   ],
   "source": [
    "#limpiamos el dataframe de valores 0, basándonos en la argumentación más detallada ya llevado a cabo en d_pobl_2019\n",
    "acc_2019_col_filb['TX_PROV_DESCR_NL'] = acc_2019_col_filb['TX_PROV_DESCR_NL'].fillna(\"Arr. Brussel-Hfdstad[no Prov]\")\n",
    "acc_2019_col_filb.sample(5)"
   ]
  },
  {
   "cell_type": "code",
   "execution_count": 15,
   "metadata": {},
   "outputs": [
    {
     "data": {
      "text/plain": [
       "37520"
      ]
     },
     "execution_count": 15,
     "metadata": {},
     "output_type": "execute_result"
    }
   ],
   "source": [
    "#número de filas por controlar si queremos hacer un control 'visual':\n",
    "len(acc_2019_col_filb)"
   ]
  },
  {
   "cell_type": "code",
   "execution_count": 16,
   "metadata": {},
   "outputs": [
    {
     "data": {
      "text/plain": [
       "YEAR                         0\n",
       "MONTH                        0\n",
       "CD_DAY_OF_WEEK               0\n",
       "TX_BUILD_UP_AREA_DESCR_NL    0\n",
       "TX_LIGHT_COND_DESCR_NL       0\n",
       "TX_ROAD_TYPE_DESCR_NL        0\n",
       "TX_MUNTY_DESCR_NL            0\n",
       "TX_ADM_DSTR_DESCR_NL         0\n",
       "TX_PROV_DESCR_NL             0\n",
       "TX_RGN_DESCR_NL              0\n",
       "MS_ACCT                      0\n",
       "MS_ACCT_WITH_DEAD            0\n",
       "MS_ACCT_WITH_DEAD_30_DAYS    0\n",
       "MS_ACCT_WITH_MORY_INJ        0\n",
       "MS_ACCT_WITH_SERLY_INJ       0\n",
       "MS_ACCT_WITH_SLY_INJ         0\n",
       "dtype: int64"
      ]
     },
     "execution_count": 16,
     "metadata": {},
     "output_type": "execute_result"
    }
   ],
   "source": [
    "#dado que una verificación visual es más complicada aquí (nº de registros = 30102), nos apoyamos solo en el código para verificar \n",
    "# si con la transformación de arriba hemos conseguido eleminar todos los valores NaN:\n",
    "acc_2019_col_filb.isnull().sum()"
   ]
  },
  {
   "cell_type": "markdown",
   "metadata": {},
   "source": [
    "## II.4. LAYOUT: lectura: mejoramos nombres de títulos de/en nuestro dataframe\n",
    "### II.4.1 Título de dataframe "
   ]
  },
  {
   "cell_type": "code",
   "execution_count": 17,
   "metadata": {},
   "outputs": [
    {
     "data": {
      "text/html": [
       "<div>\n",
       "<style scoped>\n",
       "    .dataframe tbody tr th:only-of-type {\n",
       "        vertical-align: middle;\n",
       "    }\n",
       "\n",
       "    .dataframe tbody tr th {\n",
       "        vertical-align: top;\n",
       "    }\n",
       "\n",
       "    .dataframe thead th {\n",
       "        text-align: right;\n",
       "    }\n",
       "</style>\n",
       "<table border=\"1\" class=\"dataframe\">\n",
       "  <thead>\n",
       "    <tr style=\"text-align: right;\">\n",
       "      <th></th>\n",
       "      <th>YEAR</th>\n",
       "      <th>MONTH</th>\n",
       "      <th>CD_DAY_OF_WEEK</th>\n",
       "      <th>TX_BUILD_UP_AREA_DESCR_NL</th>\n",
       "      <th>TX_LIGHT_COND_DESCR_NL</th>\n",
       "      <th>TX_ROAD_TYPE_DESCR_NL</th>\n",
       "      <th>TX_MUNTY_DESCR_NL</th>\n",
       "      <th>TX_ADM_DSTR_DESCR_NL</th>\n",
       "      <th>TX_PROV_DESCR_NL</th>\n",
       "      <th>TX_RGN_DESCR_NL</th>\n",
       "      <th>MS_ACCT</th>\n",
       "      <th>MS_ACCT_WITH_DEAD</th>\n",
       "      <th>MS_ACCT_WITH_DEAD_30_DAYS</th>\n",
       "      <th>MS_ACCT_WITH_MORY_INJ</th>\n",
       "      <th>MS_ACCT_WITH_SERLY_INJ</th>\n",
       "      <th>MS_ACCT_WITH_SLY_INJ</th>\n",
       "    </tr>\n",
       "  </thead>\n",
       "  <tbody>\n",
       "    <tr>\n",
       "      <th>0</th>\n",
       "      <td>2019</td>\n",
       "      <td>11</td>\n",
       "      <td>3</td>\n",
       "      <td>Binnen bebouwde kom</td>\n",
       "      <td>Bij klaarlichte dag</td>\n",
       "      <td>Gewestweg, provincieweg of gemeenteweg</td>\n",
       "      <td>Aartselaar</td>\n",
       "      <td>Arrondissement Antwerpen</td>\n",
       "      <td>Provincie Antwerpen</td>\n",
       "      <td>Vlaams Gewest</td>\n",
       "      <td>1</td>\n",
       "      <td>0</td>\n",
       "      <td>0</td>\n",
       "      <td>0</td>\n",
       "      <td>0</td>\n",
       "      <td>1</td>\n",
       "    </tr>\n",
       "    <tr>\n",
       "      <th>1</th>\n",
       "      <td>2019</td>\n",
       "      <td>12</td>\n",
       "      <td>7</td>\n",
       "      <td>Binnen bebouwde kom</td>\n",
       "      <td>Bij klaarlichte dag</td>\n",
       "      <td>Gewestweg, provincieweg of gemeenteweg</td>\n",
       "      <td>Aartselaar</td>\n",
       "      <td>Arrondissement Antwerpen</td>\n",
       "      <td>Provincie Antwerpen</td>\n",
       "      <td>Vlaams Gewest</td>\n",
       "      <td>1</td>\n",
       "      <td>0</td>\n",
       "      <td>0</td>\n",
       "      <td>0</td>\n",
       "      <td>0</td>\n",
       "      <td>1</td>\n",
       "    </tr>\n",
       "  </tbody>\n",
       "</table>\n",
       "</div>"
      ],
      "text/plain": [
       "   YEAR  MONTH  CD_DAY_OF_WEEK TX_BUILD_UP_AREA_DESCR_NL  \\\n",
       "0  2019     11               3       Binnen bebouwde kom   \n",
       "1  2019     12               7       Binnen bebouwde kom   \n",
       "\n",
       "  TX_LIGHT_COND_DESCR_NL                   TX_ROAD_TYPE_DESCR_NL  \\\n",
       "0    Bij klaarlichte dag  Gewestweg, provincieweg of gemeenteweg   \n",
       "1    Bij klaarlichte dag  Gewestweg, provincieweg of gemeenteweg   \n",
       "\n",
       "  TX_MUNTY_DESCR_NL      TX_ADM_DSTR_DESCR_NL     TX_PROV_DESCR_NL  \\\n",
       "0        Aartselaar  Arrondissement Antwerpen  Provincie Antwerpen   \n",
       "1        Aartselaar  Arrondissement Antwerpen  Provincie Antwerpen   \n",
       "\n",
       "  TX_RGN_DESCR_NL  MS_ACCT  MS_ACCT_WITH_DEAD  MS_ACCT_WITH_DEAD_30_DAYS  \\\n",
       "0   Vlaams Gewest        1                  0                          0   \n",
       "1   Vlaams Gewest        1                  0                          0   \n",
       "\n",
       "   MS_ACCT_WITH_MORY_INJ  MS_ACCT_WITH_SERLY_INJ  MS_ACCT_WITH_SLY_INJ  \n",
       "0                      0                       0                     1  \n",
       "1                      0                       0                     1  "
      ]
     },
     "execution_count": 17,
     "metadata": {},
     "output_type": "execute_result"
    }
   ],
   "source": [
    "#simplicar nombre dataframe y verificación de que sigue funcionando bien al llamar:\n",
    "acc_2019_base = acc_2019_col_filb\n",
    "acc_2019_base.head(2)"
   ]
  },
  {
   "cell_type": "markdown",
   "metadata": {},
   "source": [
    "### II.4.2. Título columnas: abreviaciones donde sea posible (según patrón iterativo)"
   ]
  },
  {
   "cell_type": "code",
   "execution_count": 18,
   "metadata": {},
   "outputs": [],
   "source": [
    "#primer paso: renombrar títulos de columnas\n",
    "acc_2019_base.columns = shorten_column_titles(acc_2019_base.columns)"
   ]
  },
  {
   "cell_type": "code",
   "execution_count": 19,
   "metadata": {},
   "outputs": [
    {
     "name": "stdout",
     "output_type": "stream",
     "text": [
      "Index(['YEAR', 'MONTH', 'CD_DAY_OF_WEEK', 'BUILD_UP_AREA', 'LIGHT_COND',\n",
      "       'ROAD_TYPE', 'MUNTY', 'ADM_DSTR', 'PROV', 'RGN', 'MS_ACCT',\n",
      "       'MS_ACCT_WITH_DEAD', 'MS_ACCT_WITH_DEAD_30_DAYS',\n",
      "       'MS_ACCT_WITH_MORY_INJ', 'MS_ACCT_WITH_SERLY_INJ',\n",
      "       'MS_ACCT_WITH_SLY_INJ'],\n",
      "      dtype='object')\n"
     ]
    }
   ],
   "source": [
    "#segundo paso: primera posibilidad de verificación:\n",
    "print(acc_2019_base.columns)"
   ]
  },
  {
   "cell_type": "code",
   "execution_count": 20,
   "metadata": {},
   "outputs": [
    {
     "data": {
      "text/html": [
       "<div>\n",
       "<style scoped>\n",
       "    .dataframe tbody tr th:only-of-type {\n",
       "        vertical-align: middle;\n",
       "    }\n",
       "\n",
       "    .dataframe tbody tr th {\n",
       "        vertical-align: top;\n",
       "    }\n",
       "\n",
       "    .dataframe thead th {\n",
       "        text-align: right;\n",
       "    }\n",
       "</style>\n",
       "<table border=\"1\" class=\"dataframe\">\n",
       "  <thead>\n",
       "    <tr style=\"text-align: right;\">\n",
       "      <th></th>\n",
       "      <th>YEAR</th>\n",
       "      <th>MONTH</th>\n",
       "      <th>CD_DAY_OF_WEEK</th>\n",
       "      <th>BUILD_UP_AREA</th>\n",
       "      <th>LIGHT_COND</th>\n",
       "      <th>ROAD_TYPE</th>\n",
       "      <th>MUNTY</th>\n",
       "      <th>ADM_DSTR</th>\n",
       "      <th>PROV</th>\n",
       "      <th>RGN</th>\n",
       "      <th>MS_ACCT</th>\n",
       "      <th>MS_ACCT_WITH_DEAD</th>\n",
       "      <th>MS_ACCT_WITH_DEAD_30_DAYS</th>\n",
       "      <th>MS_ACCT_WITH_MORY_INJ</th>\n",
       "      <th>MS_ACCT_WITH_SERLY_INJ</th>\n",
       "      <th>MS_ACCT_WITH_SLY_INJ</th>\n",
       "    </tr>\n",
       "  </thead>\n",
       "  <tbody>\n",
       "    <tr>\n",
       "      <th>8146</th>\n",
       "      <td>2019</td>\n",
       "      <td>8</td>\n",
       "      <td>2</td>\n",
       "      <td>Binnen bebouwde kom</td>\n",
       "      <td>Dageraad - schemering</td>\n",
       "      <td>Gewestweg, provincieweg of gemeenteweg</td>\n",
       "      <td>Brussel</td>\n",
       "      <td>Arrondissement Brussel-Hoofdstad</td>\n",
       "      <td>Arr. Brussel-Hfdstad[no Prov]</td>\n",
       "      <td>Brussels Hoofdstedelijk Gewest</td>\n",
       "      <td>1</td>\n",
       "      <td>0</td>\n",
       "      <td>0</td>\n",
       "      <td>0</td>\n",
       "      <td>0</td>\n",
       "      <td>1</td>\n",
       "    </tr>\n",
       "  </tbody>\n",
       "</table>\n",
       "</div>"
      ],
      "text/plain": [
       "      YEAR  MONTH  CD_DAY_OF_WEEK        BUILD_UP_AREA             LIGHT_COND  \\\n",
       "8146  2019      8               2  Binnen bebouwde kom  Dageraad - schemering   \n",
       "\n",
       "                                   ROAD_TYPE    MUNTY  \\\n",
       "8146  Gewestweg, provincieweg of gemeenteweg  Brussel   \n",
       "\n",
       "                              ADM_DSTR                           PROV  \\\n",
       "8146  Arrondissement Brussel-Hoofdstad  Arr. Brussel-Hfdstad[no Prov]   \n",
       "\n",
       "                                 RGN  MS_ACCT  MS_ACCT_WITH_DEAD  \\\n",
       "8146  Brussels Hoofdstedelijk Gewest        1                  0   \n",
       "\n",
       "      MS_ACCT_WITH_DEAD_30_DAYS  MS_ACCT_WITH_MORY_INJ  \\\n",
       "8146                          0                      0   \n",
       "\n",
       "      MS_ACCT_WITH_SERLY_INJ  MS_ACCT_WITH_SLY_INJ  \n",
       "8146                       0                     1  "
      ]
     },
     "execution_count": 20,
     "metadata": {},
     "output_type": "execute_result"
    }
   ],
   "source": [
    "#segundo paso: segunda posibilidad de verificación (integración real en el dataframe):\n",
    "acc_2019_base.sample()"
   ]
  },
  {
   "cell_type": "markdown",
   "metadata": {},
   "source": [
    "### II.4.3. Título columnas accidentes: más transparencia"
   ]
  },
  {
   "cell_type": "code",
   "execution_count": 21,
   "metadata": {},
   "outputs": [
    {
     "data": {
      "text/plain": [
       "Index(['YEAR', 'MONTH', 'CD_DAY_OF_WEEK', 'BUILD_UP_AREA', 'LIGHT_COND',\n",
       "       'ROAD_TYPE', 'MUNTY', 'ADM_DSTR', 'PROV', 'RGN', 'MS_ACCT',\n",
       "       'MS_ACCT_WITH_DEAD', 'MS_ACCT_WITH_DEAD_30_DAYS',\n",
       "       'MS_ACCT_WITH_MORY_INJ', 'MS_ACCT_WITH_SERLY_INJ',\n",
       "       'MS_ACCT_WITH_SLY_INJ'],\n",
       "      dtype='object')"
      ]
     },
     "execution_count": 21,
     "metadata": {},
     "output_type": "execute_result"
    }
   ],
   "source": [
    "acc_2019_base.columns"
   ]
  },
  {
   "cell_type": "code",
   "execution_count": 22,
   "metadata": {},
   "outputs": [
    {
     "data": {
      "text/plain": [
       "['YEAR',\n",
       " 'MONTH',\n",
       " 'CD_DAY_OF_WEEK',\n",
       " 'BUILD_UP_AREA',\n",
       " 'LIGHT_COND',\n",
       " 'ROAD_TYPE',\n",
       " 'MUNTY',\n",
       " 'ADM_DSTR',\n",
       " 'PROV',\n",
       " 'RGN',\n",
       " 'Nº ACC',\n",
       " 'Nº ACC_WITH_DEAD',\n",
       " 'Nº ACC_WITH_DEAD_30_DAYS',\n",
       " 'Nº ACC_WITH_MORY_INJ',\n",
       " 'Nº ACC_WITH_SERLY_INJ',\n",
       " 'Nº ACC_WITH_SLY_INJ']"
      ]
     },
     "execution_count": 22,
     "metadata": {},
     "output_type": "execute_result"
    }
   ],
   "source": [
    "clarify_name_acc(acc_2019_base.columns)"
   ]
  },
  {
   "cell_type": "code",
   "execution_count": 23,
   "metadata": {},
   "outputs": [
    {
     "data": {
      "text/plain": [
       "Index(['YEAR', 'MONTH', 'CD_DAY_OF_WEEK', 'BUILD_UP_AREA', 'LIGHT_COND',\n",
       "       'ROAD_TYPE', 'MUNTY', 'ADM_DSTR', 'PROV', 'RGN', 'Nº ACC',\n",
       "       'Nº ACC_WITH_DEAD', 'Nº ACC_WITH_DEAD_30_DAYS', 'Nº ACC_WITH_MORY_INJ',\n",
       "       'Nº ACC_WITH_SERLY_INJ', 'Nº ACC_WITH_SLY_INJ'],\n",
       "      dtype='object')"
      ]
     },
     "execution_count": 23,
     "metadata": {},
     "output_type": "execute_result"
    }
   ],
   "source": [
    "acc_2019_base.columns = clarify_name_acc(acc_2019_base.columns)\n",
    "#acc_2019_base = acc_2019_base.rename(columns={\"MS_ACCT\": \"Nº ACCIDENTS\"})\n",
    "acc_2019_base.columns"
   ]
  },
  {
   "cell_type": "markdown",
   "metadata": {},
   "source": [
    "## II.5. Operaciones para analizar los datos:"
   ]
  },
  {
   "cell_type": "markdown",
   "metadata": {},
   "source": [
    "### II.5.1. Total de accidentes para el año 2019:"
   ]
  },
  {
   "cell_type": "code",
   "execution_count": 24,
   "metadata": {},
   "outputs": [
    {
     "data": {
      "text/plain": [
       "37520"
      ]
     },
     "execution_count": 24,
     "metadata": {},
     "output_type": "execute_result"
    }
   ],
   "source": [
    "tot_acc_2019 = acc_2019_base[\"Nº ACC\"].count()\n",
    "tot_acc_2019"
   ]
  },
  {
   "cell_type": "markdown",
   "metadata": {},
   "source": [
    "### II.5.2. Totales por otras distinciones en el tiempo\n",
    "\n",
    "a) nº de accidentes por día"
   ]
  },
  {
   "cell_type": "code",
   "execution_count": 25,
   "metadata": {},
   "outputs": [
    {
     "data": {
      "text/html": [
       "<div>\n",
       "<style scoped>\n",
       "    .dataframe tbody tr th:only-of-type {\n",
       "        vertical-align: middle;\n",
       "    }\n",
       "\n",
       "    .dataframe tbody tr th {\n",
       "        vertical-align: top;\n",
       "    }\n",
       "\n",
       "    .dataframe thead th {\n",
       "        text-align: right;\n",
       "    }\n",
       "</style>\n",
       "<table border=\"1\" class=\"dataframe\">\n",
       "  <thead>\n",
       "    <tr style=\"text-align: right;\">\n",
       "      <th></th>\n",
       "      <th>Nº ACC</th>\n",
       "    </tr>\n",
       "    <tr>\n",
       "      <th>CD_DAY_OF_WEEK</th>\n",
       "      <th></th>\n",
       "    </tr>\n",
       "  </thead>\n",
       "  <tbody>\n",
       "    <tr>\n",
       "      <th>1</th>\n",
       "      <td>5544</td>\n",
       "    </tr>\n",
       "    <tr>\n",
       "      <th>2</th>\n",
       "      <td>5605</td>\n",
       "    </tr>\n",
       "    <tr>\n",
       "      <th>3</th>\n",
       "      <td>5649</td>\n",
       "    </tr>\n",
       "    <tr>\n",
       "      <th>4</th>\n",
       "      <td>5544</td>\n",
       "    </tr>\n",
       "    <tr>\n",
       "      <th>5</th>\n",
       "      <td>6196</td>\n",
       "    </tr>\n",
       "    <tr>\n",
       "      <th>6</th>\n",
       "      <td>4809</td>\n",
       "    </tr>\n",
       "    <tr>\n",
       "      <th>7</th>\n",
       "      <td>4173</td>\n",
       "    </tr>\n",
       "  </tbody>\n",
       "</table>\n",
       "</div>"
      ],
      "text/plain": [
       "                Nº ACC\n",
       "CD_DAY_OF_WEEK        \n",
       "1                 5544\n",
       "2                 5605\n",
       "3                 5649\n",
       "4                 5544\n",
       "5                 6196\n",
       "6                 4809\n",
       "7                 4173"
      ]
     },
     "execution_count": 25,
     "metadata": {},
     "output_type": "execute_result"
    }
   ],
   "source": [
    "acc_2019_por_dia = acc_2019_base.groupby(\"CD_DAY_OF_WEEK\")[[\"Nº ACC\"]].count()\n",
    "acc_2019_por_dia"
   ]
  },
  {
   "cell_type": "markdown",
   "metadata": {},
   "source": [
    "b) nº de accidentes por mes"
   ]
  },
  {
   "cell_type": "code",
   "execution_count": 26,
   "metadata": {},
   "outputs": [
    {
     "data": {
      "text/html": [
       "<div>\n",
       "<style scoped>\n",
       "    .dataframe tbody tr th:only-of-type {\n",
       "        vertical-align: middle;\n",
       "    }\n",
       "\n",
       "    .dataframe tbody tr th {\n",
       "        vertical-align: top;\n",
       "    }\n",
       "\n",
       "    .dataframe thead th {\n",
       "        text-align: right;\n",
       "    }\n",
       "</style>\n",
       "<table border=\"1\" class=\"dataframe\">\n",
       "  <thead>\n",
       "    <tr style=\"text-align: right;\">\n",
       "      <th></th>\n",
       "      <th>Nº ACC</th>\n",
       "    </tr>\n",
       "    <tr>\n",
       "      <th>MONTH</th>\n",
       "      <th></th>\n",
       "    </tr>\n",
       "  </thead>\n",
       "  <tbody>\n",
       "    <tr>\n",
       "      <th>1</th>\n",
       "      <td>2757</td>\n",
       "    </tr>\n",
       "    <tr>\n",
       "      <th>2</th>\n",
       "      <td>2852</td>\n",
       "    </tr>\n",
       "    <tr>\n",
       "      <th>3</th>\n",
       "      <td>2913</td>\n",
       "    </tr>\n",
       "    <tr>\n",
       "      <th>4</th>\n",
       "      <td>2889</td>\n",
       "    </tr>\n",
       "    <tr>\n",
       "      <th>5</th>\n",
       "      <td>3275</td>\n",
       "    </tr>\n",
       "    <tr>\n",
       "      <th>6</th>\n",
       "      <td>3483</td>\n",
       "    </tr>\n",
       "    <tr>\n",
       "      <th>7</th>\n",
       "      <td>3073</td>\n",
       "    </tr>\n",
       "    <tr>\n",
       "      <th>8</th>\n",
       "      <td>3107</td>\n",
       "    </tr>\n",
       "    <tr>\n",
       "      <th>9</th>\n",
       "      <td>3454</td>\n",
       "    </tr>\n",
       "    <tr>\n",
       "      <th>10</th>\n",
       "      <td>3385</td>\n",
       "    </tr>\n",
       "    <tr>\n",
       "      <th>11</th>\n",
       "      <td>3301</td>\n",
       "    </tr>\n",
       "    <tr>\n",
       "      <th>12</th>\n",
       "      <td>3031</td>\n",
       "    </tr>\n",
       "  </tbody>\n",
       "</table>\n",
       "</div>"
      ],
      "text/plain": [
       "       Nº ACC\n",
       "MONTH        \n",
       "1        2757\n",
       "2        2852\n",
       "3        2913\n",
       "4        2889\n",
       "5        3275\n",
       "6        3483\n",
       "7        3073\n",
       "8        3107\n",
       "9        3454\n",
       "10       3385\n",
       "11       3301\n",
       "12       3031"
      ]
     },
     "execution_count": 26,
     "metadata": {},
     "output_type": "execute_result"
    }
   ],
   "source": [
    "acc_2019_por_mes = acc_2019_base.groupby(\"MONTH\")[[\"Nº ACC\"]].count()\n",
    "acc_2019_por_mes"
   ]
  },
  {
   "cell_type": "markdown",
   "metadata": {},
   "source": [
    "### II.5.3 Totales por distinciones en el espacio "
   ]
  },
  {
   "cell_type": "markdown",
   "metadata": {},
   "source": [
    "preliminar: nº de distritos:"
   ]
  },
  {
   "cell_type": "code",
   "execution_count": 28,
   "metadata": {},
   "outputs": [
    {
     "data": {
      "text/plain": [
       "43"
      ]
     },
     "execution_count": 28,
     "metadata": {},
     "output_type": "execute_result"
    }
   ],
   "source": [
    "tot_dstr = len(acc_2019_base.groupby(\"ADM_DSTR\"))\n",
    "tot_dstr"
   ]
  },
  {
   "cell_type": "markdown",
   "metadata": {},
   "source": [
    "promedio por distrito (si no hubiera variación espacial)"
   ]
  },
  {
   "cell_type": "code",
   "execution_count": 29,
   "metadata": {},
   "outputs": [
    {
     "data": {
      "text/plain": [
       "872.5581395348837"
      ]
     },
     "execution_count": 29,
     "metadata": {},
     "output_type": "execute_result"
    }
   ],
   "source": [
    "#promedio de accidentes por distrito:\n",
    "tot_acc_2019 / tot_dstr"
   ]
  },
  {
   "cell_type": "markdown",
   "metadata": {},
   "source": [
    "a) nº de accidentes por distrito"
   ]
  },
  {
   "cell_type": "code",
   "execution_count": 30,
   "metadata": {},
   "outputs": [
    {
     "data": {
      "text/html": [
       "<div>\n",
       "<style scoped>\n",
       "    .dataframe tbody tr th:only-of-type {\n",
       "        vertical-align: middle;\n",
       "    }\n",
       "\n",
       "    .dataframe tbody tr th {\n",
       "        vertical-align: top;\n",
       "    }\n",
       "\n",
       "    .dataframe thead th {\n",
       "        text-align: right;\n",
       "    }\n",
       "</style>\n",
       "<table border=\"1\" class=\"dataframe\">\n",
       "  <thead>\n",
       "    <tr style=\"text-align: right;\">\n",
       "      <th></th>\n",
       "      <th>PROV</th>\n",
       "      <th>ADM_DSTR</th>\n",
       "      <th>Nº ACC</th>\n",
       "    </tr>\n",
       "  </thead>\n",
       "  <tbody>\n",
       "    <tr>\n",
       "      <th>0</th>\n",
       "      <td>Arr. Brussel-Hfdstad[no Prov]</td>\n",
       "      <td>Arrondissement Brussel-Hoofdstad</td>\n",
       "      <td>3899</td>\n",
       "    </tr>\n",
       "    <tr>\n",
       "      <th>1</th>\n",
       "      <td>Provincie Antwerpen</td>\n",
       "      <td>Arrondissement Antwerpen</td>\n",
       "      <td>4358</td>\n",
       "    </tr>\n",
       "    <tr>\n",
       "      <th>2</th>\n",
       "      <td>Provincie Antwerpen</td>\n",
       "      <td>Arrondissement Mechelen</td>\n",
       "      <td>1006</td>\n",
       "    </tr>\n",
       "    <tr>\n",
       "      <th>3</th>\n",
       "      <td>Provincie Antwerpen</td>\n",
       "      <td>Arrondissement Turnhout</td>\n",
       "      <td>1317</td>\n",
       "    </tr>\n",
       "    <tr>\n",
       "      <th>4</th>\n",
       "      <td>Provincie Henegouwen</td>\n",
       "      <td>Arrondissement Aat</td>\n",
       "      <td>346</td>\n",
       "    </tr>\n",
       "    <tr>\n",
       "      <th>5</th>\n",
       "      <td>Provincie Henegouwen</td>\n",
       "      <td>Arrondissement Bergen</td>\n",
       "      <td>564</td>\n",
       "    </tr>\n",
       "    <tr>\n",
       "      <th>6</th>\n",
       "      <td>Provincie Henegouwen</td>\n",
       "      <td>Arrondissement Charleroi</td>\n",
       "      <td>1250</td>\n",
       "    </tr>\n",
       "    <tr>\n",
       "      <th>7</th>\n",
       "      <td>Provincie Henegouwen</td>\n",
       "      <td>Arrondissement Doornik-Moeskroen</td>\n",
       "      <td>682</td>\n",
       "    </tr>\n",
       "    <tr>\n",
       "      <th>8</th>\n",
       "      <td>Provincie Henegouwen</td>\n",
       "      <td>Arrondissement La Louvière</td>\n",
       "      <td>346</td>\n",
       "    </tr>\n",
       "    <tr>\n",
       "      <th>9</th>\n",
       "      <td>Provincie Henegouwen</td>\n",
       "      <td>Arrondissement Thuin</td>\n",
       "      <td>291</td>\n",
       "    </tr>\n",
       "    <tr>\n",
       "      <th>10</th>\n",
       "      <td>Provincie Henegouwen</td>\n",
       "      <td>Arrondissement Zinnik</td>\n",
       "      <td>256</td>\n",
       "    </tr>\n",
       "    <tr>\n",
       "      <th>11</th>\n",
       "      <td>Provincie Limburg</td>\n",
       "      <td>Arrondissement Hasselt</td>\n",
       "      <td>1463</td>\n",
       "    </tr>\n",
       "    <tr>\n",
       "      <th>12</th>\n",
       "      <td>Provincie Limburg</td>\n",
       "      <td>Arrondissement Maaseik</td>\n",
       "      <td>739</td>\n",
       "    </tr>\n",
       "    <tr>\n",
       "      <th>13</th>\n",
       "      <td>Provincie Limburg</td>\n",
       "      <td>Arrondissement Tongeren</td>\n",
       "      <td>597</td>\n",
       "    </tr>\n",
       "    <tr>\n",
       "      <th>14</th>\n",
       "      <td>Provincie Luik</td>\n",
       "      <td>Arrondissement Borgworm</td>\n",
       "      <td>216</td>\n",
       "    </tr>\n",
       "    <tr>\n",
       "      <th>15</th>\n",
       "      <td>Provincie Luik</td>\n",
       "      <td>Arrondissement Hoei</td>\n",
       "      <td>346</td>\n",
       "    </tr>\n",
       "    <tr>\n",
       "      <th>16</th>\n",
       "      <td>Provincie Luik</td>\n",
       "      <td>Arrondissement Luik</td>\n",
       "      <td>1979</td>\n",
       "    </tr>\n",
       "    <tr>\n",
       "      <th>17</th>\n",
       "      <td>Provincie Luik</td>\n",
       "      <td>Arrondissement Verviers</td>\n",
       "      <td>780</td>\n",
       "    </tr>\n",
       "    <tr>\n",
       "      <th>18</th>\n",
       "      <td>Provincie Luxemburg</td>\n",
       "      <td>Arrondissement Aarlen</td>\n",
       "      <td>189</td>\n",
       "    </tr>\n",
       "    <tr>\n",
       "      <th>19</th>\n",
       "      <td>Provincie Luxemburg</td>\n",
       "      <td>Arrondissement Bastenaken</td>\n",
       "      <td>147</td>\n",
       "    </tr>\n",
       "    <tr>\n",
       "      <th>20</th>\n",
       "      <td>Provincie Luxemburg</td>\n",
       "      <td>Arrondissement Marche-en-Famenne</td>\n",
       "      <td>229</td>\n",
       "    </tr>\n",
       "    <tr>\n",
       "      <th>21</th>\n",
       "      <td>Provincie Luxemburg</td>\n",
       "      <td>Arrondissement Neufchâteau</td>\n",
       "      <td>206</td>\n",
       "    </tr>\n",
       "    <tr>\n",
       "      <th>22</th>\n",
       "      <td>Provincie Luxemburg</td>\n",
       "      <td>Arrondissement Virton</td>\n",
       "      <td>151</td>\n",
       "    </tr>\n",
       "    <tr>\n",
       "      <th>23</th>\n",
       "      <td>Provincie Namen</td>\n",
       "      <td>Arrondissement Dinant</td>\n",
       "      <td>383</td>\n",
       "    </tr>\n",
       "    <tr>\n",
       "      <th>24</th>\n",
       "      <td>Provincie Namen</td>\n",
       "      <td>Arrondissement Namen</td>\n",
       "      <td>955</td>\n",
       "    </tr>\n",
       "    <tr>\n",
       "      <th>25</th>\n",
       "      <td>Provincie Namen</td>\n",
       "      <td>Arrondissement Philippeville</td>\n",
       "      <td>209</td>\n",
       "    </tr>\n",
       "    <tr>\n",
       "      <th>26</th>\n",
       "      <td>Provincie Oost-Vlaanderen</td>\n",
       "      <td>Arrondissement Aalst</td>\n",
       "      <td>951</td>\n",
       "    </tr>\n",
       "    <tr>\n",
       "      <th>27</th>\n",
       "      <td>Provincie Oost-Vlaanderen</td>\n",
       "      <td>Arrondissement Dendermonde</td>\n",
       "      <td>731</td>\n",
       "    </tr>\n",
       "    <tr>\n",
       "      <th>28</th>\n",
       "      <td>Provincie Oost-Vlaanderen</td>\n",
       "      <td>Arrondissement Eeklo</td>\n",
       "      <td>441</td>\n",
       "    </tr>\n",
       "    <tr>\n",
       "      <th>29</th>\n",
       "      <td>Provincie Oost-Vlaanderen</td>\n",
       "      <td>Arrondissement Gent</td>\n",
       "      <td>2377</td>\n",
       "    </tr>\n",
       "    <tr>\n",
       "      <th>30</th>\n",
       "      <td>Provincie Oost-Vlaanderen</td>\n",
       "      <td>Arrondissement Oudenaarde</td>\n",
       "      <td>328</td>\n",
       "    </tr>\n",
       "    <tr>\n",
       "      <th>31</th>\n",
       "      <td>Provincie Oost-Vlaanderen</td>\n",
       "      <td>Arrondissement Sint-Niklaas</td>\n",
       "      <td>1234</td>\n",
       "    </tr>\n",
       "    <tr>\n",
       "      <th>32</th>\n",
       "      <td>Provincie Vlaams-Brabant</td>\n",
       "      <td>Arrondissement Halle-Vilvoorde</td>\n",
       "      <td>1778</td>\n",
       "    </tr>\n",
       "    <tr>\n",
       "      <th>33</th>\n",
       "      <td>Provincie Vlaams-Brabant</td>\n",
       "      <td>Arrondissement Leuven</td>\n",
       "      <td>1321</td>\n",
       "    </tr>\n",
       "    <tr>\n",
       "      <th>34</th>\n",
       "      <td>Provincie Waals-Brabant</td>\n",
       "      <td>Arrondissement Nijvel</td>\n",
       "      <td>1152</td>\n",
       "    </tr>\n",
       "    <tr>\n",
       "      <th>35</th>\n",
       "      <td>Provincie West-Vlaanderen</td>\n",
       "      <td>Arrondissement Brugge</td>\n",
       "      <td>1245</td>\n",
       "    </tr>\n",
       "    <tr>\n",
       "      <th>36</th>\n",
       "      <td>Provincie West-Vlaanderen</td>\n",
       "      <td>Arrondissement Diksmuide</td>\n",
       "      <td>139</td>\n",
       "    </tr>\n",
       "    <tr>\n",
       "      <th>37</th>\n",
       "      <td>Provincie West-Vlaanderen</td>\n",
       "      <td>Arrondissement Ieper</td>\n",
       "      <td>373</td>\n",
       "    </tr>\n",
       "    <tr>\n",
       "      <th>38</th>\n",
       "      <td>Provincie West-Vlaanderen</td>\n",
       "      <td>Arrondissement Kortrijk</td>\n",
       "      <td>993</td>\n",
       "    </tr>\n",
       "    <tr>\n",
       "      <th>39</th>\n",
       "      <td>Provincie West-Vlaanderen</td>\n",
       "      <td>Arrondissement Oostende</td>\n",
       "      <td>568</td>\n",
       "    </tr>\n",
       "    <tr>\n",
       "      <th>40</th>\n",
       "      <td>Provincie West-Vlaanderen</td>\n",
       "      <td>Arrondissement Roeselare</td>\n",
       "      <td>527</td>\n",
       "    </tr>\n",
       "    <tr>\n",
       "      <th>41</th>\n",
       "      <td>Provincie West-Vlaanderen</td>\n",
       "      <td>Arrondissement Tielt</td>\n",
       "      <td>254</td>\n",
       "    </tr>\n",
       "    <tr>\n",
       "      <th>42</th>\n",
       "      <td>Provincie West-Vlaanderen</td>\n",
       "      <td>Arrondissement Veurne</td>\n",
       "      <td>204</td>\n",
       "    </tr>\n",
       "  </tbody>\n",
       "</table>\n",
       "</div>"
      ],
      "text/plain": [
       "                             PROV                          ADM_DSTR  Nº ACC\n",
       "0   Arr. Brussel-Hfdstad[no Prov]  Arrondissement Brussel-Hoofdstad    3899\n",
       "1             Provincie Antwerpen          Arrondissement Antwerpen    4358\n",
       "2             Provincie Antwerpen           Arrondissement Mechelen    1006\n",
       "3             Provincie Antwerpen           Arrondissement Turnhout    1317\n",
       "4            Provincie Henegouwen                Arrondissement Aat     346\n",
       "5            Provincie Henegouwen             Arrondissement Bergen     564\n",
       "6            Provincie Henegouwen          Arrondissement Charleroi    1250\n",
       "7            Provincie Henegouwen  Arrondissement Doornik-Moeskroen     682\n",
       "8            Provincie Henegouwen        Arrondissement La Louvière     346\n",
       "9            Provincie Henegouwen              Arrondissement Thuin     291\n",
       "10           Provincie Henegouwen             Arrondissement Zinnik     256\n",
       "11              Provincie Limburg            Arrondissement Hasselt    1463\n",
       "12              Provincie Limburg            Arrondissement Maaseik     739\n",
       "13              Provincie Limburg           Arrondissement Tongeren     597\n",
       "14                 Provincie Luik           Arrondissement Borgworm     216\n",
       "15                 Provincie Luik               Arrondissement Hoei     346\n",
       "16                 Provincie Luik               Arrondissement Luik    1979\n",
       "17                 Provincie Luik           Arrondissement Verviers     780\n",
       "18            Provincie Luxemburg             Arrondissement Aarlen     189\n",
       "19            Provincie Luxemburg         Arrondissement Bastenaken     147\n",
       "20            Provincie Luxemburg  Arrondissement Marche-en-Famenne     229\n",
       "21            Provincie Luxemburg        Arrondissement Neufchâteau     206\n",
       "22            Provincie Luxemburg             Arrondissement Virton     151\n",
       "23                Provincie Namen             Arrondissement Dinant     383\n",
       "24                Provincie Namen              Arrondissement Namen     955\n",
       "25                Provincie Namen      Arrondissement Philippeville     209\n",
       "26      Provincie Oost-Vlaanderen              Arrondissement Aalst     951\n",
       "27      Provincie Oost-Vlaanderen        Arrondissement Dendermonde     731\n",
       "28      Provincie Oost-Vlaanderen              Arrondissement Eeklo     441\n",
       "29      Provincie Oost-Vlaanderen               Arrondissement Gent    2377\n",
       "30      Provincie Oost-Vlaanderen         Arrondissement Oudenaarde     328\n",
       "31      Provincie Oost-Vlaanderen       Arrondissement Sint-Niklaas    1234\n",
       "32       Provincie Vlaams-Brabant    Arrondissement Halle-Vilvoorde    1778\n",
       "33       Provincie Vlaams-Brabant             Arrondissement Leuven    1321\n",
       "34        Provincie Waals-Brabant             Arrondissement Nijvel    1152\n",
       "35      Provincie West-Vlaanderen             Arrondissement Brugge    1245\n",
       "36      Provincie West-Vlaanderen          Arrondissement Diksmuide     139\n",
       "37      Provincie West-Vlaanderen              Arrondissement Ieper     373\n",
       "38      Provincie West-Vlaanderen           Arrondissement Kortrijk     993\n",
       "39      Provincie West-Vlaanderen           Arrondissement Oostende     568\n",
       "40      Provincie West-Vlaanderen          Arrondissement Roeselare     527\n",
       "41      Provincie West-Vlaanderen              Arrondissement Tielt     254\n",
       "42      Provincie West-Vlaanderen             Arrondissement Veurne     204"
      ]
     },
     "execution_count": 30,
     "metadata": {},
     "output_type": "execute_result"
    }
   ],
   "source": [
    "#primer paso: nº de accidentes por zona, vistazo ordenado por provincia\n",
    "acc_2019_por_zona = acc_2019_base.groupby([\"PROV\",\"ADM_DSTR\"])[[\"Nº ACC\"]].count()\n",
    "    #acc_2019_por_zona.value_counts()\n",
    "    #acc_2019_por_zona.reset_index(inplace=True)\n",
    "    #acc_2019_por_zona = acc_2019_por_zona.sort_values([\"ADM_DSTR\"], ascending=False)\n",
    "acc_2019_por_zona.reset_index(inplace=True)\n",
    "acc_2019_por_zona"
   ]
  },
  {
   "cell_type": "code",
   "execution_count": 31,
   "metadata": {},
   "outputs": [
    {
     "data": {
      "text/html": [
       "<div>\n",
       "<style scoped>\n",
       "    .dataframe tbody tr th:only-of-type {\n",
       "        vertical-align: middle;\n",
       "    }\n",
       "\n",
       "    .dataframe tbody tr th {\n",
       "        vertical-align: top;\n",
       "    }\n",
       "\n",
       "    .dataframe thead th {\n",
       "        text-align: right;\n",
       "    }\n",
       "</style>\n",
       "<table border=\"1\" class=\"dataframe\">\n",
       "  <thead>\n",
       "    <tr style=\"text-align: right;\">\n",
       "      <th></th>\n",
       "      <th>PROV</th>\n",
       "      <th>ADM_DSTR</th>\n",
       "      <th>Nº ACC</th>\n",
       "    </tr>\n",
       "  </thead>\n",
       "  <tbody>\n",
       "    <tr>\n",
       "      <th>0</th>\n",
       "      <td>Provincie Antwerpen</td>\n",
       "      <td>Arrondissement Antwerpen</td>\n",
       "      <td>4358</td>\n",
       "    </tr>\n",
       "    <tr>\n",
       "      <th>1</th>\n",
       "      <td>Arr. Brussel-Hfdstad[no Prov]</td>\n",
       "      <td>Arrondissement Brussel-Hoofdstad</td>\n",
       "      <td>3899</td>\n",
       "    </tr>\n",
       "    <tr>\n",
       "      <th>2</th>\n",
       "      <td>Provincie Oost-Vlaanderen</td>\n",
       "      <td>Arrondissement Gent</td>\n",
       "      <td>2377</td>\n",
       "    </tr>\n",
       "    <tr>\n",
       "      <th>3</th>\n",
       "      <td>Provincie Luik</td>\n",
       "      <td>Arrondissement Luik</td>\n",
       "      <td>1979</td>\n",
       "    </tr>\n",
       "    <tr>\n",
       "      <th>4</th>\n",
       "      <td>Provincie Vlaams-Brabant</td>\n",
       "      <td>Arrondissement Halle-Vilvoorde</td>\n",
       "      <td>1778</td>\n",
       "    </tr>\n",
       "    <tr>\n",
       "      <th>5</th>\n",
       "      <td>Provincie Limburg</td>\n",
       "      <td>Arrondissement Hasselt</td>\n",
       "      <td>1463</td>\n",
       "    </tr>\n",
       "    <tr>\n",
       "      <th>6</th>\n",
       "      <td>Provincie Vlaams-Brabant</td>\n",
       "      <td>Arrondissement Leuven</td>\n",
       "      <td>1321</td>\n",
       "    </tr>\n",
       "    <tr>\n",
       "      <th>7</th>\n",
       "      <td>Provincie Antwerpen</td>\n",
       "      <td>Arrondissement Turnhout</td>\n",
       "      <td>1317</td>\n",
       "    </tr>\n",
       "    <tr>\n",
       "      <th>8</th>\n",
       "      <td>Provincie Henegouwen</td>\n",
       "      <td>Arrondissement Charleroi</td>\n",
       "      <td>1250</td>\n",
       "    </tr>\n",
       "    <tr>\n",
       "      <th>9</th>\n",
       "      <td>Provincie West-Vlaanderen</td>\n",
       "      <td>Arrondissement Brugge</td>\n",
       "      <td>1245</td>\n",
       "    </tr>\n",
       "    <tr>\n",
       "      <th>10</th>\n",
       "      <td>Provincie Oost-Vlaanderen</td>\n",
       "      <td>Arrondissement Sint-Niklaas</td>\n",
       "      <td>1234</td>\n",
       "    </tr>\n",
       "    <tr>\n",
       "      <th>11</th>\n",
       "      <td>Provincie Waals-Brabant</td>\n",
       "      <td>Arrondissement Nijvel</td>\n",
       "      <td>1152</td>\n",
       "    </tr>\n",
       "    <tr>\n",
       "      <th>12</th>\n",
       "      <td>Provincie Antwerpen</td>\n",
       "      <td>Arrondissement Mechelen</td>\n",
       "      <td>1006</td>\n",
       "    </tr>\n",
       "    <tr>\n",
       "      <th>13</th>\n",
       "      <td>Provincie West-Vlaanderen</td>\n",
       "      <td>Arrondissement Kortrijk</td>\n",
       "      <td>993</td>\n",
       "    </tr>\n",
       "    <tr>\n",
       "      <th>14</th>\n",
       "      <td>Provincie Namen</td>\n",
       "      <td>Arrondissement Namen</td>\n",
       "      <td>955</td>\n",
       "    </tr>\n",
       "    <tr>\n",
       "      <th>15</th>\n",
       "      <td>Provincie Oost-Vlaanderen</td>\n",
       "      <td>Arrondissement Aalst</td>\n",
       "      <td>951</td>\n",
       "    </tr>\n",
       "    <tr>\n",
       "      <th>16</th>\n",
       "      <td>Provincie Luik</td>\n",
       "      <td>Arrondissement Verviers</td>\n",
       "      <td>780</td>\n",
       "    </tr>\n",
       "    <tr>\n",
       "      <th>17</th>\n",
       "      <td>Provincie Limburg</td>\n",
       "      <td>Arrondissement Maaseik</td>\n",
       "      <td>739</td>\n",
       "    </tr>\n",
       "    <tr>\n",
       "      <th>18</th>\n",
       "      <td>Provincie Oost-Vlaanderen</td>\n",
       "      <td>Arrondissement Dendermonde</td>\n",
       "      <td>731</td>\n",
       "    </tr>\n",
       "    <tr>\n",
       "      <th>19</th>\n",
       "      <td>Provincie Henegouwen</td>\n",
       "      <td>Arrondissement Doornik-Moeskroen</td>\n",
       "      <td>682</td>\n",
       "    </tr>\n",
       "    <tr>\n",
       "      <th>20</th>\n",
       "      <td>Provincie Limburg</td>\n",
       "      <td>Arrondissement Tongeren</td>\n",
       "      <td>597</td>\n",
       "    </tr>\n",
       "    <tr>\n",
       "      <th>21</th>\n",
       "      <td>Provincie West-Vlaanderen</td>\n",
       "      <td>Arrondissement Oostende</td>\n",
       "      <td>568</td>\n",
       "    </tr>\n",
       "    <tr>\n",
       "      <th>22</th>\n",
       "      <td>Provincie Henegouwen</td>\n",
       "      <td>Arrondissement Bergen</td>\n",
       "      <td>564</td>\n",
       "    </tr>\n",
       "    <tr>\n",
       "      <th>23</th>\n",
       "      <td>Provincie West-Vlaanderen</td>\n",
       "      <td>Arrondissement Roeselare</td>\n",
       "      <td>527</td>\n",
       "    </tr>\n",
       "    <tr>\n",
       "      <th>24</th>\n",
       "      <td>Provincie Oost-Vlaanderen</td>\n",
       "      <td>Arrondissement Eeklo</td>\n",
       "      <td>441</td>\n",
       "    </tr>\n",
       "    <tr>\n",
       "      <th>25</th>\n",
       "      <td>Provincie Namen</td>\n",
       "      <td>Arrondissement Dinant</td>\n",
       "      <td>383</td>\n",
       "    </tr>\n",
       "    <tr>\n",
       "      <th>26</th>\n",
       "      <td>Provincie West-Vlaanderen</td>\n",
       "      <td>Arrondissement Ieper</td>\n",
       "      <td>373</td>\n",
       "    </tr>\n",
       "    <tr>\n",
       "      <th>27</th>\n",
       "      <td>Provincie Henegouwen</td>\n",
       "      <td>Arrondissement Aat</td>\n",
       "      <td>346</td>\n",
       "    </tr>\n",
       "    <tr>\n",
       "      <th>28</th>\n",
       "      <td>Provincie Luik</td>\n",
       "      <td>Arrondissement Hoei</td>\n",
       "      <td>346</td>\n",
       "    </tr>\n",
       "    <tr>\n",
       "      <th>29</th>\n",
       "      <td>Provincie Henegouwen</td>\n",
       "      <td>Arrondissement La Louvière</td>\n",
       "      <td>346</td>\n",
       "    </tr>\n",
       "    <tr>\n",
       "      <th>30</th>\n",
       "      <td>Provincie Oost-Vlaanderen</td>\n",
       "      <td>Arrondissement Oudenaarde</td>\n",
       "      <td>328</td>\n",
       "    </tr>\n",
       "    <tr>\n",
       "      <th>31</th>\n",
       "      <td>Provincie Henegouwen</td>\n",
       "      <td>Arrondissement Thuin</td>\n",
       "      <td>291</td>\n",
       "    </tr>\n",
       "    <tr>\n",
       "      <th>32</th>\n",
       "      <td>Provincie Henegouwen</td>\n",
       "      <td>Arrondissement Zinnik</td>\n",
       "      <td>256</td>\n",
       "    </tr>\n",
       "    <tr>\n",
       "      <th>33</th>\n",
       "      <td>Provincie West-Vlaanderen</td>\n",
       "      <td>Arrondissement Tielt</td>\n",
       "      <td>254</td>\n",
       "    </tr>\n",
       "    <tr>\n",
       "      <th>34</th>\n",
       "      <td>Provincie Luxemburg</td>\n",
       "      <td>Arrondissement Marche-en-Famenne</td>\n",
       "      <td>229</td>\n",
       "    </tr>\n",
       "    <tr>\n",
       "      <th>35</th>\n",
       "      <td>Provincie Luik</td>\n",
       "      <td>Arrondissement Borgworm</td>\n",
       "      <td>216</td>\n",
       "    </tr>\n",
       "    <tr>\n",
       "      <th>36</th>\n",
       "      <td>Provincie Namen</td>\n",
       "      <td>Arrondissement Philippeville</td>\n",
       "      <td>209</td>\n",
       "    </tr>\n",
       "    <tr>\n",
       "      <th>37</th>\n",
       "      <td>Provincie Luxemburg</td>\n",
       "      <td>Arrondissement Neufchâteau</td>\n",
       "      <td>206</td>\n",
       "    </tr>\n",
       "    <tr>\n",
       "      <th>38</th>\n",
       "      <td>Provincie West-Vlaanderen</td>\n",
       "      <td>Arrondissement Veurne</td>\n",
       "      <td>204</td>\n",
       "    </tr>\n",
       "    <tr>\n",
       "      <th>39</th>\n",
       "      <td>Provincie Luxemburg</td>\n",
       "      <td>Arrondissement Aarlen</td>\n",
       "      <td>189</td>\n",
       "    </tr>\n",
       "    <tr>\n",
       "      <th>40</th>\n",
       "      <td>Provincie Luxemburg</td>\n",
       "      <td>Arrondissement Virton</td>\n",
       "      <td>151</td>\n",
       "    </tr>\n",
       "    <tr>\n",
       "      <th>41</th>\n",
       "      <td>Provincie Luxemburg</td>\n",
       "      <td>Arrondissement Bastenaken</td>\n",
       "      <td>147</td>\n",
       "    </tr>\n",
       "    <tr>\n",
       "      <th>42</th>\n",
       "      <td>Provincie West-Vlaanderen</td>\n",
       "      <td>Arrondissement Diksmuide</td>\n",
       "      <td>139</td>\n",
       "    </tr>\n",
       "  </tbody>\n",
       "</table>\n",
       "</div>"
      ],
      "text/plain": [
       "                             PROV                          ADM_DSTR  Nº ACC\n",
       "0             Provincie Antwerpen          Arrondissement Antwerpen    4358\n",
       "1   Arr. Brussel-Hfdstad[no Prov]  Arrondissement Brussel-Hoofdstad    3899\n",
       "2       Provincie Oost-Vlaanderen               Arrondissement Gent    2377\n",
       "3                  Provincie Luik               Arrondissement Luik    1979\n",
       "4        Provincie Vlaams-Brabant    Arrondissement Halle-Vilvoorde    1778\n",
       "5               Provincie Limburg            Arrondissement Hasselt    1463\n",
       "6        Provincie Vlaams-Brabant             Arrondissement Leuven    1321\n",
       "7             Provincie Antwerpen           Arrondissement Turnhout    1317\n",
       "8            Provincie Henegouwen          Arrondissement Charleroi    1250\n",
       "9       Provincie West-Vlaanderen             Arrondissement Brugge    1245\n",
       "10      Provincie Oost-Vlaanderen       Arrondissement Sint-Niklaas    1234\n",
       "11        Provincie Waals-Brabant             Arrondissement Nijvel    1152\n",
       "12            Provincie Antwerpen           Arrondissement Mechelen    1006\n",
       "13      Provincie West-Vlaanderen           Arrondissement Kortrijk     993\n",
       "14                Provincie Namen              Arrondissement Namen     955\n",
       "15      Provincie Oost-Vlaanderen              Arrondissement Aalst     951\n",
       "16                 Provincie Luik           Arrondissement Verviers     780\n",
       "17              Provincie Limburg            Arrondissement Maaseik     739\n",
       "18      Provincie Oost-Vlaanderen        Arrondissement Dendermonde     731\n",
       "19           Provincie Henegouwen  Arrondissement Doornik-Moeskroen     682\n",
       "20              Provincie Limburg           Arrondissement Tongeren     597\n",
       "21      Provincie West-Vlaanderen           Arrondissement Oostende     568\n",
       "22           Provincie Henegouwen             Arrondissement Bergen     564\n",
       "23      Provincie West-Vlaanderen          Arrondissement Roeselare     527\n",
       "24      Provincie Oost-Vlaanderen              Arrondissement Eeklo     441\n",
       "25                Provincie Namen             Arrondissement Dinant     383\n",
       "26      Provincie West-Vlaanderen              Arrondissement Ieper     373\n",
       "27           Provincie Henegouwen                Arrondissement Aat     346\n",
       "28                 Provincie Luik               Arrondissement Hoei     346\n",
       "29           Provincie Henegouwen        Arrondissement La Louvière     346\n",
       "30      Provincie Oost-Vlaanderen         Arrondissement Oudenaarde     328\n",
       "31           Provincie Henegouwen              Arrondissement Thuin     291\n",
       "32           Provincie Henegouwen             Arrondissement Zinnik     256\n",
       "33      Provincie West-Vlaanderen              Arrondissement Tielt     254\n",
       "34            Provincie Luxemburg  Arrondissement Marche-en-Famenne     229\n",
       "35                 Provincie Luik           Arrondissement Borgworm     216\n",
       "36                Provincie Namen      Arrondissement Philippeville     209\n",
       "37            Provincie Luxemburg        Arrondissement Neufchâteau     206\n",
       "38      Provincie West-Vlaanderen             Arrondissement Veurne     204\n",
       "39            Provincie Luxemburg             Arrondissement Aarlen     189\n",
       "40            Provincie Luxemburg             Arrondissement Virton     151\n",
       "41            Provincie Luxemburg         Arrondissement Bastenaken     147\n",
       "42      Provincie West-Vlaanderen          Arrondissement Diksmuide     139"
      ]
     },
     "execution_count": 31,
     "metadata": {},
     "output_type": "execute_result"
    }
   ],
   "source": [
    "#segundo paso: ordenar de mayor a menor\n",
    "sorted_acc_2019_por_zona = acc_2019_por_zona.sort_values(\"Nº ACC\", ascending=False)\n",
    "sorted_acc_2019_por_zona.reset_index(inplace=True, drop=[\"index\"])\n",
    "sorted_acc_2019_por_zona"
   ]
  },
  {
   "cell_type": "markdown",
   "metadata": {},
   "source": [
    "# III. Preparación de ficheros para su exportación"
   ]
  },
  {
   "cell_type": "code",
   "execution_count": 32,
   "metadata": {},
   "outputs": [],
   "source": [
    "acc_2019_por_zona.to_csv(\"Data_ACC/acc_por_zona_2019.csv\", index=False)\n",
    "sorted_acc_2019_por_zona.to_csv(\"Data_ACC/sorted_acc_por_zona_2019.csv\", index=False)\n",
    "\n",
    "acc_2019_por_dia.to_csv(\"Data_ACC/acc_2019_por_dia.csv\", index = False)\n",
    "acc_2019_por_mes.to_csv(\"Data_ACC/acc_2019_por_mes.csv\", index = False)"
   ]
  },
  {
   "cell_type": "markdown",
   "metadata": {},
   "source": [
    "### Anexo: primeras pruebas con gráficas:"
   ]
  },
  {
   "cell_type": "code",
   "execution_count": 67,
   "metadata": {},
   "outputs": [
    {
     "data": {
      "text/plain": [
       "<pandas.core.groupby.generic.DataFrameGroupBy object at 0x000001AD9931E188>"
      ]
     },
     "execution_count": 67,
     "metadata": {},
     "output_type": "execute_result"
    }
   ],
   "source": [
    "#borrador...\n",
    "MASK = acc_2019_col[\"CD_DAY_OF_WEEK\"].isin([1,2,3,4,5])\n",
    "acc_2019_col_fil = acc_2019_col.groupby(MASK)\n",
    "acc_2019_col_fil"
   ]
  },
  {
   "cell_type": "code",
   "execution_count": 68,
   "metadata": {},
   "outputs": [
    {
     "data": {
      "text/plain": [
       "<AxesSubplot:>"
      ]
     },
     "execution_count": 68,
     "metadata": {},
     "output_type": "execute_result"
    },
    {
     "data": {
      "image/png": "[encoded data removed]",
      "text/plain": [
       "<Figure size 432x288 with 1 Axes>"
      ]
     },
     "metadata": {
      "needs_background": "light"
     },
     "output_type": "display_data"
    }
   ],
   "source": [
    "#prueba...\n",
    "sorted_acc_2019_por_zona[\"Nº ACC\"].hist()"
   ]
  },
  {
   "cell_type": "code",
   "execution_count": 69,
   "metadata": {},
   "outputs": [
    {
     "data": {
      "application/vnd.plotly.v1+json": {
       "config": {
        "plotlyServerURL": "https://plot.ly"
       },
       "data": [
        {
         "hovertemplate": "distritos=%{x}<br>nº accidentes=%{y}<extra></extra>",
         "legendgroup": "",
         "line": {
          "color": "#636efa",
          "dash": "solid"
         },
         "marker": {
          "symbol": "circle"
         },
         "mode": "lines",
         "name": "",
         "orientation": "v",
         "showlegend": false,
         "type": "scatter",
         "x": [
          "Arrondissement Antwerpen",
          "Arrondissement Brussel-Hoofdstad",
          "Arrondissement Gent",
          "Arrondissement Luik",
          "Arrondissement Halle-Vilvoorde",
          "Arrondissement Hasselt",
          "Arrondissement Leuven",
          "Arrondissement Turnhout",
          "Arrondissement Charleroi",
          "Arrondissement Brugge",
          "Arrondissement Sint-Niklaas",
          "Arrondissement Nijvel",
          "Arrondissement Mechelen",
          "Arrondissement Kortrijk",
          "Arrondissement Namen",
          "Arrondissement Aalst",
          "Arrondissement Verviers",
          "Arrondissement Maaseik",
          "Arrondissement Dendermonde",
          "Arrondissement Doornik-Moeskroen",
          "Arrondissement Tongeren",
          "Arrondissement Oostende",
          "Arrondissement Bergen",
          "Arrondissement Roeselare",
          "Arrondissement Eeklo",
          "Arrondissement Dinant",
          "Arrondissement Ieper",
          "Arrondissement Aat",
          "Arrondissement Hoei",
          "Arrondissement La Louvière",
          "Arrondissement Oudenaarde",
          "Arrondissement Thuin",
          "Arrondissement Zinnik",
          "Arrondissement Tielt",
          "Arrondissement Marche-en-Famenne",
          "Arrondissement Borgworm",
          "Arrondissement Philippeville",
          "Arrondissement Neufchâteau",
          "Arrondissement Veurne",
          "Arrondissement Aarlen",
          "Arrondissement Virton",
          "Arrondissement Bastenaken",
          "Arrondissement Diksmuide"
         ],
         "xaxis": "x",
         "y": [
          4358,
          3899,
          2377,
          1979,
          1778,
          1463,
          1321,
          1317,
          1250,
          1245,
          1234,
          1152,
          1006,
          993,
          955,
          951,
          780,
          739,
          731,
          682,
          597,
          568,
          564,
          527,
          441,
          383,
          373,
          346,
          346,
          346,
          328,
          291,
          256,
          254,
          229,
          216,
          209,
          206,
          204,
          189,
          151,
          147,
          139
         ],
         "yaxis": "y"
        }
       ],
       "layout": {
        "legend": {
         "tracegroupgap": 0
        },
        "template": {
         "data": {
          "bar": [
           {
            "error_x": {
             "color": "#2a3f5f"
            },
            "error_y": {
             "color": "#2a3f5f"
            },
            "marker": {
             "line": {
              "color": "#E5ECF6",
              "width": 0.5
             },
             "pattern": {
              "fillmode": "overlay",
              "size": 10,
              "solidity": 0.2
             }
            },
            "type": "bar"
           }
          ],
          "barpolar": [
           {
            "marker": {
             "line": {
              "color": "#E5ECF6",
              "width": 0.5
             },
             "pattern": {
              "fillmode": "overlay",
              "size": 10,
              "solidity": 0.2
             }
            },
            "type": "barpolar"
           }
          ],
          "carpet": [
           {
            "aaxis": {
             "endlinecolor": "#2a3f5f",
             "gridcolor": "white",
             "linecolor": "white",
             "minorgridcolor": "white",
             "startlinecolor": "#2a3f5f"
            },
            "baxis": {
             "endlinecolor": "#2a3f5f",
             "gridcolor": "white",
             "linecolor": "white",
             "minorgridcolor": "white",
             "startlinecolor": "#2a3f5f"
            },
            "type": "carpet"
           }
          ],
          "choropleth": [
           {
            "colorbar": {
             "outlinewidth": 0,
             "ticks": ""
            },
            "type": "choropleth"
           }
          ],
          "contour": [
           {
            "colorbar": {
             "outlinewidth": 0,
             "ticks": ""
            },
            "colorscale": [
             [
              0,
              "#0d0887"
             ],
             [
              0.1111111111111111,
              "#46039f"
             ],
             [
              0.2222222222222222,
              "#7201a8"
             ],
             [
              0.3333333333333333,
              "#9c179e"
             ],
             [
              0.4444444444444444,
              "#bd3786"
             ],
             [
              0.5555555555555556,
              "#d8576b"
             ],
             [
              0.6666666666666666,
              "#ed7953"
             ],
             [
              0.7777777777777778,
              "#fb9f3a"
             ],
             [
              0.8888888888888888,
              "#fdca26"
             ],
             [
              1,
              "#f0f921"
             ]
            ],
            "type": "contour"
           }
          ],
          "contourcarpet": [
           {
            "colorbar": {
             "outlinewidth": 0,
             "ticks": ""
            },
            "type": "contourcarpet"
           }
          ],
          "heatmap": [
           {
            "colorbar": {
             "outlinewidth": 0,
             "ticks": ""
            },
            "colorscale": [
             [
              0,
              "#0d0887"
             ],
             [
              0.1111111111111111,
              "#46039f"
             ],
             [
              0.2222222222222222,
              "#7201a8"
             ],
             [
              0.3333333333333333,
              "#9c179e"
             ],
             [
              0.4444444444444444,
              "#bd3786"
             ],
             [
              0.5555555555555556,
              "#d8576b"
             ],
             [
              0.6666666666666666,
              "#ed7953"
             ],
             [
              0.7777777777777778,
              "#fb9f3a"
             ],
             [
              0.8888888888888888,
              "#fdca26"
             ],
             [
              1,
              "#f0f921"
             ]
            ],
            "type": "heatmap"
           }
          ],
          "heatmapgl": [
           {
            "colorbar": {
             "outlinewidth": 0,
             "ticks": ""
            },
            "colorscale": [
             [
              0,
              "#0d0887"
             ],
             [
              0.1111111111111111,
              "#46039f"
             ],
             [
              0.2222222222222222,
              "#7201a8"
             ],
             [
              0.3333333333333333,
              "#9c179e"
             ],
             [
              0.4444444444444444,
              "#bd3786"
             ],
             [
              0.5555555555555556,
              "#d8576b"
             ],
             [
              0.6666666666666666,
              "#ed7953"
             ],
             [
              0.7777777777777778,
              "#fb9f3a"
             ],
             [
              0.8888888888888888,
              "#fdca26"
             ],
             [
              1,
              "#f0f921"
             ]
            ],
            "type": "heatmapgl"
           }
          ],
          "histogram": [
           {
            "marker": {
             "pattern": {
              "fillmode": "overlay",
              "size": 10,
              "solidity": 0.2
             }
            },
            "type": "histogram"
           }
          ],
          "histogram2d": [
           {
            "colorbar": {
             "outlinewidth": 0,
             "ticks": ""
            },
            "colorscale": [
             [
              0,
              "#0d0887"
             ],
             [
              0.1111111111111111,
              "#46039f"
             ],
             [
              0.2222222222222222,
              "#7201a8"
             ],
             [
              0.3333333333333333,
              "#9c179e"
             ],
             [
              0.4444444444444444,
              "#bd3786"
             ],
             [
              0.5555555555555556,
              "#d8576b"
             ],
             [
              0.6666666666666666,
              "#ed7953"
             ],
             [
              0.7777777777777778,
              "#fb9f3a"
             ],
             [
              0.8888888888888888,
              "#fdca26"
             ],
             [
              1,
              "#f0f921"
             ]
            ],
            "type": "histogram2d"
           }
          ],
          "histogram2dcontour": [
           {
            "colorbar": {
             "outlinewidth": 0,
             "ticks": ""
            },
            "colorscale": [
             [
              0,
              "#0d0887"
             ],
             [
              0.1111111111111111,
              "#46039f"
             ],
             [
              0.2222222222222222,
              "#7201a8"
             ],
             [
              0.3333333333333333,
              "#9c179e"
             ],
             [
              0.4444444444444444,
              "#bd3786"
             ],
             [
              0.5555555555555556,
              "#d8576b"
             ],
             [
              0.6666666666666666,
              "#ed7953"
             ],
             [
              0.7777777777777778,
              "#fb9f3a"
             ],
             [
              0.8888888888888888,
              "#fdca26"
             ],
             [
              1,
              "#f0f921"
             ]
            ],
            "type": "histogram2dcontour"
           }
          ],
          "mesh3d": [
           {
            "colorbar": {
             "outlinewidth": 0,
             "ticks": ""
            },
            "type": "mesh3d"
           }
          ],
          "parcoords": [
           {
            "line": {
             "colorbar": {
              "outlinewidth": 0,
              "ticks": ""
             }
            },
            "type": "parcoords"
           }
          ],
          "pie": [
           {
            "automargin": true,
            "type": "pie"
           }
          ],
          "scatter": [
           {
            "marker": {
             "colorbar": {
              "outlinewidth": 0,
              "ticks": ""
             }
            },
            "type": "scatter"
           }
          ],
          "scatter3d": [
           {
            "line": {
             "colorbar": {
              "outlinewidth": 0,
              "ticks": ""
             }
            },
            "marker": {
             "colorbar": {
              "outlinewidth": 0,
              "ticks": ""
             }
            },
            "type": "scatter3d"
           }
          ],
          "scattercarpet": [
           {
            "marker": {
             "colorbar": {
              "outlinewidth": 0,
              "ticks": ""
             }
            },
            "type": "scattercarpet"
           }
          ],
          "scattergeo": [
           {
            "marker": {
             "colorbar": {
              "outlinewidth": 0,
              "ticks": ""
             }
            },
            "type": "scattergeo"
           }
          ],
          "scattergl": [
           {
            "marker": {
             "colorbar": {
              "outlinewidth": 0,
              "ticks": ""
             }
            },
            "type": "scattergl"
           }
          ],
          "scattermapbox": [
           {
            "marker": {
             "colorbar": {
              "outlinewidth": 0,
              "ticks": ""
             }
            },
            "type": "scattermapbox"
           }
          ],
          "scatterpolar": [
           {
            "marker": {
             "colorbar": {
              "outlinewidth": 0,
              "ticks": ""
             }
            },
            "type": "scatterpolar"
           }
          ],
          "scatterpolargl": [
           {
            "marker": {
             "colorbar": {
              "outlinewidth": 0,
              "ticks": ""
             }
            },
            "type": "scatterpolargl"
           }
          ],
          "scatterternary": [
           {
            "marker": {
             "colorbar": {
              "outlinewidth": 0,
              "ticks": ""
             }
            },
            "type": "scatterternary"
           }
          ],
          "surface": [
           {
            "colorbar": {
             "outlinewidth": 0,
             "ticks": ""
            },
            "colorscale": [
             [
              0,
              "#0d0887"
             ],
             [
              0.1111111111111111,
              "#46039f"
             ],
             [
              0.2222222222222222,
              "#7201a8"
             ],
             [
              0.3333333333333333,
              "#9c179e"
             ],
             [
              0.4444444444444444,
              "#bd3786"
             ],
             [
              0.5555555555555556,
              "#d8576b"
             ],
             [
              0.6666666666666666,
              "#ed7953"
             ],
             [
              0.7777777777777778,
              "#fb9f3a"
             ],
             [
              0.8888888888888888,
              "#fdca26"
             ],
             [
              1,
              "#f0f921"
             ]
            ],
            "type": "surface"
           }
          ],
          "table": [
           {
            "cells": {
             "fill": {
              "color": "#EBF0F8"
             },
             "line": {
              "color": "white"
             }
            },
            "header": {
             "fill": {
              "color": "#C8D4E3"
             },
             "line": {
              "color": "white"
             }
            },
            "type": "table"
           }
          ]
         },
         "layout": {
          "annotationdefaults": {
           "arrowcolor": "#2a3f5f",
           "arrowhead": 0,
           "arrowwidth": 1
          },
          "autotypenumbers": "strict",
          "coloraxis": {
           "colorbar": {
            "outlinewidth": 0,
            "ticks": ""
           }
          },
          "colorscale": {
           "diverging": [
            [
             0,
             "#8e0152"
            ],
            [
             0.1,
             "#c51b7d"
            ],
            [
             0.2,
             "#de77ae"
            ],
            [
             0.3,
             "#f1b6da"
            ],
            [
             0.4,
             "#fde0ef"
            ],
            [
             0.5,
             "#f7f7f7"
            ],
            [
             0.6,
             "#e6f5d0"
            ],
            [
             0.7,
             "#b8e186"
            ],
            [
             0.8,
             "#7fbc41"
            ],
            [
             0.9,
             "#4d9221"
            ],
            [
             1,
             "#276419"
            ]
           ],
           "sequential": [
            [
             0,
             "#0d0887"
            ],
            [
             0.1111111111111111,
             "#46039f"
            ],
            [
             0.2222222222222222,
             "#7201a8"
            ],
            [
             0.3333333333333333,
             "#9c179e"
            ],
            [
             0.4444444444444444,
             "#bd3786"
            ],
            [
             0.5555555555555556,
             "#d8576b"
            ],
            [
             0.6666666666666666,
             "#ed7953"
            ],
            [
             0.7777777777777778,
             "#fb9f3a"
            ],
            [
             0.8888888888888888,
             "#fdca26"
            ],
            [
             1,
             "#f0f921"
            ]
           ],
           "sequentialminus": [
            [
             0,
             "#0d0887"
            ],
            [
             0.1111111111111111,
             "#46039f"
            ],
            [
             0.2222222222222222,
             "#7201a8"
            ],
            [
             0.3333333333333333,
             "#9c179e"
            ],
            [
             0.4444444444444444,
             "#bd3786"
            ],
            [
             0.5555555555555556,
             "#d8576b"
            ],
            [
             0.6666666666666666,
             "#ed7953"
            ],
            [
             0.7777777777777778,
             "#fb9f3a"
            ],
            [
             0.8888888888888888,
             "#fdca26"
            ],
            [
             1,
             "#f0f921"
            ]
           ]
          },
          "colorway": [
           "#636efa",
           "#EF553B",
           "#00cc96",
           "#ab63fa",
           "#FFA15A",
           "#19d3f3",
           "#FF6692",
           "#B6E880",
           "#FF97FF",
           "#FECB52"
          ],
          "font": {
           "color": "#2a3f5f"
          },
          "geo": {
           "bgcolor": "white",
           "lakecolor": "white",
           "landcolor": "#E5ECF6",
           "showlakes": true,
           "showland": true,
           "subunitcolor": "white"
          },
          "hoverlabel": {
           "align": "left"
          },
          "hovermode": "closest",
          "mapbox": {
           "style": "light"
          },
          "paper_bgcolor": "white",
          "plot_bgcolor": "#E5ECF6",
          "polar": {
           "angularaxis": {
            "gridcolor": "white",
            "linecolor": "white",
            "ticks": ""
           },
           "bgcolor": "#E5ECF6",
           "radialaxis": {
            "gridcolor": "white",
            "linecolor": "white",
            "ticks": ""
           }
          },
          "scene": {
           "xaxis": {
            "backgroundcolor": "#E5ECF6",
            "gridcolor": "white",
            "gridwidth": 2,
            "linecolor": "white",
            "showbackground": true,
            "ticks": "",
            "zerolinecolor": "white"
           },
           "yaxis": {
            "backgroundcolor": "#E5ECF6",
            "gridcolor": "white",
            "gridwidth": 2,
            "linecolor": "white",
            "showbackground": true,
            "ticks": "",
            "zerolinecolor": "white"
           },
           "zaxis": {
            "backgroundcolor": "#E5ECF6",
            "gridcolor": "white",
            "gridwidth": 2,
            "linecolor": "white",
            "showbackground": true,
            "ticks": "",
            "zerolinecolor": "white"
           }
          },
          "shapedefaults": {
           "line": {
            "color": "#2a3f5f"
           }
          },
          "ternary": {
           "aaxis": {
            "gridcolor": "white",
            "linecolor": "white",
            "ticks": ""
           },
           "baxis": {
            "gridcolor": "white",
            "linecolor": "white",
            "ticks": ""
           },
           "bgcolor": "#E5ECF6",
           "caxis": {
            "gridcolor": "white",
            "linecolor": "white",
            "ticks": ""
           }
          },
          "title": {
           "x": 0.05
          },
          "xaxis": {
           "automargin": true,
           "gridcolor": "white",
           "linecolor": "white",
           "ticks": "",
           "title": {
            "standoff": 15
           },
           "zerolinecolor": "white",
           "zerolinewidth": 2
          },
          "yaxis": {
           "automargin": true,
           "gridcolor": "white",
           "linecolor": "white",
           "ticks": "",
           "title": {
            "standoff": 15
           },
           "zerolinecolor": "white",
           "zerolinewidth": 2
          }
         }
        },
        "title": {
         "text": "Nº de accidentes por zona (2019)"
        },
        "xaxis": {
         "anchor": "y",
         "domain": [
          0,
          1
         ],
         "tickangle": 60,
         "title": {
          "text": "distritos"
         }
        },
        "yaxis": {
         "anchor": "x",
         "domain": [
          0,
          1
         ],
         "title": {
          "text": "nº accidentes"
         }
        }
       }
      }
     },
     "metadata": {},
     "output_type": "display_data"
    }
   ],
   "source": [
    "fig = px.line(x=sorted_acc_2019_por_zona[\"ADM_DSTR\"], y=sorted_acc_2019_por_zona[\"Nº ACC\"], labels = {\"x\": \"distritos\", \"y\": \"nº accidentes\"}, title = \"Nº de accidentes por zona (2019)\")\n",
    "#ax.set_xlabel(xlabel, rotation=60)\n",
    "fig.update_xaxes(tickangle=60)\n",
    "fig.show()"
   ]
  }
 ],
 "metadata": {
  "interpreter": {
   "hash": "7291fc089e198fa8915d0d58dd480239dc8daf5dc8a6486e165be5bbe751df3e"
  },
  "kernelspec": {
   "display_name": "Python 3.7.4 64-bit",
   "language": "python",
   "name": "python3"
  },
  "language_info": {
   "codemirror_mode": {
    "name": "ipython",
    "version": 3
   },
   "file_extension": ".py",
   "mimetype": "text/x-python",
   "name": "python",
   "nbconvert_exporter": "python",
   "pygments_lexer": "ipython3",
   "version": "3.7.4"
  },
  "orig_nbformat": 4
 },
 "nbformat": 4,
 "nbformat_minor": 2
}
