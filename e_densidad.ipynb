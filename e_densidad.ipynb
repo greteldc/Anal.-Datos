{
 "cells": [
  {
   "cell_type": "markdown",
   "metadata": {},
   "source": [
    "# Datos sobre la densidad de la población (por distritos belgas)"
   ]
  },
  {
   "cell_type": "markdown",
   "metadata": {},
   "source": [
    "## I. Preparación para conseguir los datos"
   ]
  },
  {
   "cell_type": "markdown",
   "metadata": {},
   "source": [
    "## I.1. Instalaciones"
   ]
  },
  {
   "cell_type": "markdown",
   "metadata": {},
   "source": []
  },
  {
   "cell_type": "markdown",
   "metadata": {},
   "source": [
    "### I.1. Importamos las variables + librerías necesarias"
   ]
  },
  {
   "cell_type": "code",
   "execution_count": 1,
   "metadata": {},
   "outputs": [
    {
     "name": "stdout",
     "output_type": "stream",
     "text": [
      "Requirement already satisfied: import-ipynb in c:\\users\\piovr\\appdata\\local\\programs\\python\\python37\\lib\\site-packages (0.1.3)\n",
      "Note: you may need to restart the kernel to use updated packages.\n"
     ]
    },
    {
     "name": "stderr",
     "output_type": "stream",
     "text": [
      "WARNING: You are using pip version 22.0.3; however, version 22.0.4 is available.\n",
      "You should consider upgrading via the 'C:\\Users\\piovr\\AppData\\Local\\Programs\\Python\\Python37\\python.exe -m pip install --upgrade pip' command.\n"
     ]
    }
   ],
   "source": [
    "pip install import-ipynb"
   ]
  },
  {
   "cell_type": "markdown",
   "metadata": {},
   "source": [
    "## I.2 Importación librerías"
   ]
  },
  {
   "cell_type": "code",
   "execution_count": 63,
   "metadata": {},
   "outputs": [],
   "source": [
    "import import_ipynb\n",
    "import pandas as pd\n",
    "import numpy as np"
   ]
  },
  {
   "cell_type": "markdown",
   "metadata": {},
   "source": [
    "## I.3. Importación ficheros"
   ]
  },
  {
   "cell_type": "code",
   "execution_count": 137,
   "metadata": {},
   "outputs": [],
   "source": [
    "#primer paso: importaciones, originalmente desde otros Notebooks, después mediante import read_csv debido a inestabilidad de la primera opción\n",
    "superficie = pd.read_csv(\"Data_ACC/superficie.csv\")\n",
    "pobl_2020_habxarr = pd.read_csv(\"Data_ACC/pobl_2020_habxarr.csv\")\n",
    "pobl_2019_habxarr = pd.read_csv(\"Data_ACC/pobl_2019_habxarr.csv\")\n",
    "pobl_2018_habxarr = pd.read_csv(\"Data_ACC/pobl_2018_habxarr.csv\")\n",
    "pobl_2017_habxarr = pd.read_csv(\"Data_ACC/pobl_2017_habxarr.csv\")\n",
    "pobl_2016_habxarr = pd.read_csv(\"Data_ACC/pobl_2016_habxarr.csv\")\n",
    "pobl_2012_habxarr = pd.read_csv(\"Data_ACC/pobl_2012_habxarr.csv\")"
   ]
  },
  {
   "cell_type": "code",
   "execution_count": 138,
   "metadata": {},
   "outputs": [
    {
     "data": {
      "text/html": [
       "<div>\n",
       "<style scoped>\n",
       "    .dataframe tbody tr th:only-of-type {\n",
       "        vertical-align: middle;\n",
       "    }\n",
       "\n",
       "    .dataframe tbody tr th {\n",
       "        vertical-align: top;\n",
       "    }\n",
       "\n",
       "    .dataframe thead th {\n",
       "        text-align: right;\n",
       "    }\n",
       "</style>\n",
       "<table border=\"1\" class=\"dataframe\">\n",
       "  <thead>\n",
       "    <tr style=\"text-align: right;\">\n",
       "      <th></th>\n",
       "      <th>Unnamed: 0</th>\n",
       "      <th>REGION</th>\n",
       "      <th>PROV</th>\n",
       "      <th>ADM_DSTR</th>\n",
       "      <th>TOT_SURFACE</th>\n",
       "    </tr>\n",
       "  </thead>\n",
       "  <tbody>\n",
       "    <tr>\n",
       "      <th>0</th>\n",
       "      <td>0</td>\n",
       "      <td>Vlaams Gewest</td>\n",
       "      <td>Provincie Antwerpen</td>\n",
       "      <td>Arrondissement Antwerpen</td>\n",
       "      <td>100425.611</td>\n",
       "    </tr>\n",
       "    <tr>\n",
       "      <th>1</th>\n",
       "      <td>1</td>\n",
       "      <td>Vlaams Gewest</td>\n",
       "      <td>Provincie Antwerpen</td>\n",
       "      <td>Arrondissement Mechelen</td>\n",
       "      <td>51182.994</td>\n",
       "    </tr>\n",
       "    <tr>\n",
       "      <th>2</th>\n",
       "      <td>2</td>\n",
       "      <td>Vlaams Gewest</td>\n",
       "      <td>Provincie Antwerpen</td>\n",
       "      <td>Arrondissement Turnhout</td>\n",
       "      <td>136003.269</td>\n",
       "    </tr>\n",
       "    <tr>\n",
       "      <th>3</th>\n",
       "      <td>3</td>\n",
       "      <td>Vlaams Gewest</td>\n",
       "      <td>Provincie Vlaams-Brabant</td>\n",
       "      <td>Arrondissement Halle-Vilvoorde</td>\n",
       "      <td>94910.940</td>\n",
       "    </tr>\n",
       "    <tr>\n",
       "      <th>4</th>\n",
       "      <td>4</td>\n",
       "      <td>Vlaams Gewest</td>\n",
       "      <td>Provincie Vlaams-Brabant</td>\n",
       "      <td>Arrondissement Leuven</td>\n",
       "      <td>116924.252</td>\n",
       "    </tr>\n",
       "    <tr>\n",
       "      <th>5</th>\n",
       "      <td>5</td>\n",
       "      <td>Vlaams Gewest</td>\n",
       "      <td>Provincie West-Vlaanderen</td>\n",
       "      <td>Arrondissement Brugge</td>\n",
       "      <td>67324.492</td>\n",
       "    </tr>\n",
       "    <tr>\n",
       "      <th>6</th>\n",
       "      <td>6</td>\n",
       "      <td>Vlaams Gewest</td>\n",
       "      <td>Provincie West-Vlaanderen</td>\n",
       "      <td>Arrondissement Diksmuide</td>\n",
       "      <td>36502.695</td>\n",
       "    </tr>\n",
       "    <tr>\n",
       "      <th>7</th>\n",
       "      <td>7</td>\n",
       "      <td>Vlaams Gewest</td>\n",
       "      <td>Provincie West-Vlaanderen</td>\n",
       "      <td>Arrondissement Ieper</td>\n",
       "      <td>55371.560</td>\n",
       "    </tr>\n",
       "    <tr>\n",
       "      <th>8</th>\n",
       "      <td>8</td>\n",
       "      <td>Vlaams Gewest</td>\n",
       "      <td>Provincie West-Vlaanderen</td>\n",
       "      <td>Arrondissement Kortrijk</td>\n",
       "      <td>40614.255</td>\n",
       "    </tr>\n",
       "    <tr>\n",
       "      <th>9</th>\n",
       "      <td>9</td>\n",
       "      <td>Vlaams Gewest</td>\n",
       "      <td>Provincie West-Vlaanderen</td>\n",
       "      <td>Arrondissement Oostende</td>\n",
       "      <td>30460.403</td>\n",
       "    </tr>\n",
       "    <tr>\n",
       "      <th>10</th>\n",
       "      <td>10</td>\n",
       "      <td>Vlaams Gewest</td>\n",
       "      <td>Provincie West-Vlaanderen</td>\n",
       "      <td>Arrondissement Roeselare</td>\n",
       "      <td>27381.999</td>\n",
       "    </tr>\n",
       "    <tr>\n",
       "      <th>11</th>\n",
       "      <td>11</td>\n",
       "      <td>Vlaams Gewest</td>\n",
       "      <td>Provincie West-Vlaanderen</td>\n",
       "      <td>Arrondissement Tielt</td>\n",
       "      <td>33183.692</td>\n",
       "    </tr>\n",
       "    <tr>\n",
       "      <th>12</th>\n",
       "      <td>12</td>\n",
       "      <td>Vlaams Gewest</td>\n",
       "      <td>Provincie West-Vlaanderen</td>\n",
       "      <td>Arrondissement Veurne</td>\n",
       "      <td>28818.820</td>\n",
       "    </tr>\n",
       "    <tr>\n",
       "      <th>13</th>\n",
       "      <td>13</td>\n",
       "      <td>Vlaams Gewest</td>\n",
       "      <td>Provincie Oost-Vlaanderen</td>\n",
       "      <td>Arrondissement Aalst</td>\n",
       "      <td>47293.605</td>\n",
       "    </tr>\n",
       "    <tr>\n",
       "      <th>14</th>\n",
       "      <td>14</td>\n",
       "      <td>Vlaams Gewest</td>\n",
       "      <td>Provincie Oost-Vlaanderen</td>\n",
       "      <td>Arrondissement Dendermonde</td>\n",
       "      <td>34656.770</td>\n",
       "    </tr>\n",
       "    <tr>\n",
       "      <th>15</th>\n",
       "      <td>15</td>\n",
       "      <td>Vlaams Gewest</td>\n",
       "      <td>Provincie Oost-Vlaanderen</td>\n",
       "      <td>Arrondissement Eeklo</td>\n",
       "      <td>33552.276</td>\n",
       "    </tr>\n",
       "    <tr>\n",
       "      <th>16</th>\n",
       "      <td>16</td>\n",
       "      <td>Vlaams Gewest</td>\n",
       "      <td>Provincie Oost-Vlaanderen</td>\n",
       "      <td>Arrondissement Gent</td>\n",
       "      <td>94966.068</td>\n",
       "    </tr>\n",
       "    <tr>\n",
       "      <th>17</th>\n",
       "      <td>17</td>\n",
       "      <td>Vlaams Gewest</td>\n",
       "      <td>Provincie Oost-Vlaanderen</td>\n",
       "      <td>Arrondissement Oudenaarde</td>\n",
       "      <td>42287.217</td>\n",
       "    </tr>\n",
       "    <tr>\n",
       "      <th>18</th>\n",
       "      <td>18</td>\n",
       "      <td>Vlaams Gewest</td>\n",
       "      <td>Provincie Oost-Vlaanderen</td>\n",
       "      <td>Arrondissement Sint-Niklaas</td>\n",
       "      <td>47950.059</td>\n",
       "    </tr>\n",
       "    <tr>\n",
       "      <th>19</th>\n",
       "      <td>19</td>\n",
       "      <td>Vlaams Gewest</td>\n",
       "      <td>Provincie Limburg</td>\n",
       "      <td>Arrondissement Hasselt</td>\n",
       "      <td>88386.598</td>\n",
       "    </tr>\n",
       "    <tr>\n",
       "      <th>20</th>\n",
       "      <td>20</td>\n",
       "      <td>Vlaams Gewest</td>\n",
       "      <td>Provincie Limburg</td>\n",
       "      <td>Arrondissement Maaseik</td>\n",
       "      <td>91044.455</td>\n",
       "    </tr>\n",
       "    <tr>\n",
       "      <th>21</th>\n",
       "      <td>21</td>\n",
       "      <td>Vlaams Gewest</td>\n",
       "      <td>Provincie Limburg</td>\n",
       "      <td>Arrondissement Tongeren</td>\n",
       "      <td>63311.687</td>\n",
       "    </tr>\n",
       "    <tr>\n",
       "      <th>22</th>\n",
       "      <td>22</td>\n",
       "      <td>Brussels Hoofdstedelijk Gewest</td>\n",
       "      <td>Arr. Brussel-Hfdstad[no Prov]</td>\n",
       "      <td>Arrondissement Brussel-Hoofdstad</td>\n",
       "      <td>16241.979</td>\n",
       "    </tr>\n",
       "    <tr>\n",
       "      <th>23</th>\n",
       "      <td>23</td>\n",
       "      <td>Waals Gewest</td>\n",
       "      <td>Provincie Waals-Brabant</td>\n",
       "      <td>Arrondissement Nijvel</td>\n",
       "      <td>109719.647</td>\n",
       "    </tr>\n",
       "    <tr>\n",
       "      <th>24</th>\n",
       "      <td>24</td>\n",
       "      <td>Waals Gewest</td>\n",
       "      <td>Provincie Henegouwen</td>\n",
       "      <td>Arrondissement Aat</td>\n",
       "      <td>67182.359</td>\n",
       "    </tr>\n",
       "    <tr>\n",
       "      <th>25</th>\n",
       "      <td>25</td>\n",
       "      <td>Waals Gewest</td>\n",
       "      <td>Provincie Henegouwen</td>\n",
       "      <td>Arrondissement Charleroi</td>\n",
       "      <td>47593.496</td>\n",
       "    </tr>\n",
       "    <tr>\n",
       "      <th>26</th>\n",
       "      <td>26</td>\n",
       "      <td>Waals Gewest</td>\n",
       "      <td>Provincie Henegouwen</td>\n",
       "      <td>Arrondissement Bergen</td>\n",
       "      <td>58843.733</td>\n",
       "    </tr>\n",
       "    <tr>\n",
       "      <th>27</th>\n",
       "      <td>27</td>\n",
       "      <td>Waals Gewest</td>\n",
       "      <td>Provincie Henegouwen</td>\n",
       "      <td>Arrondissement Zinnik</td>\n",
       "      <td>35760.683</td>\n",
       "    </tr>\n",
       "    <tr>\n",
       "      <th>28</th>\n",
       "      <td>28</td>\n",
       "      <td>Waals Gewest</td>\n",
       "      <td>Provincie Henegouwen</td>\n",
       "      <td>Arrondissement Thuin</td>\n",
       "      <td>78504.303</td>\n",
       "    </tr>\n",
       "    <tr>\n",
       "      <th>29</th>\n",
       "      <td>29</td>\n",
       "      <td>Waals Gewest</td>\n",
       "      <td>Provincie Henegouwen</td>\n",
       "      <td>Arrondissement Doornik-Moeskroen</td>\n",
       "      <td>71453.268</td>\n",
       "    </tr>\n",
       "    <tr>\n",
       "      <th>30</th>\n",
       "      <td>30</td>\n",
       "      <td>Waals Gewest</td>\n",
       "      <td>Provincie Henegouwen</td>\n",
       "      <td>Arrondissement La Louvière</td>\n",
       "      <td>21944.969</td>\n",
       "    </tr>\n",
       "    <tr>\n",
       "      <th>31</th>\n",
       "      <td>31</td>\n",
       "      <td>Waals Gewest</td>\n",
       "      <td>Provincie Luik</td>\n",
       "      <td>Arrondissement Hoei</td>\n",
       "      <td>66120.115</td>\n",
       "    </tr>\n",
       "    <tr>\n",
       "      <th>32</th>\n",
       "      <td>32</td>\n",
       "      <td>Waals Gewest</td>\n",
       "      <td>Provincie Luik</td>\n",
       "      <td>Arrondissement Luik</td>\n",
       "      <td>79591.143</td>\n",
       "    </tr>\n",
       "    <tr>\n",
       "      <th>33</th>\n",
       "      <td>33</td>\n",
       "      <td>Waals Gewest</td>\n",
       "      <td>Provincie Luik</td>\n",
       "      <td>Arrondissement Verviers</td>\n",
       "      <td>200960.159</td>\n",
       "    </tr>\n",
       "    <tr>\n",
       "      <th>34</th>\n",
       "      <td>34</td>\n",
       "      <td>Waals Gewest</td>\n",
       "      <td>Provincie Luik</td>\n",
       "      <td>Arrondissement Borgworm</td>\n",
       "      <td>39040.688</td>\n",
       "    </tr>\n",
       "    <tr>\n",
       "      <th>35</th>\n",
       "      <td>35</td>\n",
       "      <td>Waals Gewest</td>\n",
       "      <td>Provincie Luxemburg</td>\n",
       "      <td>Arrondissement Aarlen</td>\n",
       "      <td>31885.938</td>\n",
       "    </tr>\n",
       "    <tr>\n",
       "      <th>36</th>\n",
       "      <td>36</td>\n",
       "      <td>Waals Gewest</td>\n",
       "      <td>Provincie Luxemburg</td>\n",
       "      <td>Arrondissement Bastenaken</td>\n",
       "      <td>104659.881</td>\n",
       "    </tr>\n",
       "    <tr>\n",
       "      <th>37</th>\n",
       "      <td>37</td>\n",
       "      <td>Waals Gewest</td>\n",
       "      <td>Provincie Luxemburg</td>\n",
       "      <td>Arrondissement Marche-en-Famenne</td>\n",
       "      <td>95806.841</td>\n",
       "    </tr>\n",
       "    <tr>\n",
       "      <th>38</th>\n",
       "      <td>38</td>\n",
       "      <td>Waals Gewest</td>\n",
       "      <td>Provincie Luxemburg</td>\n",
       "      <td>Arrondissement Neufchâteau</td>\n",
       "      <td>135845.091</td>\n",
       "    </tr>\n",
       "    <tr>\n",
       "      <th>39</th>\n",
       "      <td>39</td>\n",
       "      <td>Waals Gewest</td>\n",
       "      <td>Provincie Luxemburg</td>\n",
       "      <td>Arrondissement Virton</td>\n",
       "      <td>77727.414</td>\n",
       "    </tr>\n",
       "    <tr>\n",
       "      <th>40</th>\n",
       "      <td>40</td>\n",
       "      <td>Waals Gewest</td>\n",
       "      <td>Provincie Namen</td>\n",
       "      <td>Arrondissement Dinant</td>\n",
       "      <td>159620.870</td>\n",
       "    </tr>\n",
       "    <tr>\n",
       "      <th>41</th>\n",
       "      <td>41</td>\n",
       "      <td>Waals Gewest</td>\n",
       "      <td>Provincie Namen</td>\n",
       "      <td>Arrondissement Namen</td>\n",
       "      <td>116769.559</td>\n",
       "    </tr>\n",
       "    <tr>\n",
       "      <th>42</th>\n",
       "      <td>42</td>\n",
       "      <td>Waals Gewest</td>\n",
       "      <td>Provincie Namen</td>\n",
       "      <td>Arrondissement Philippeville</td>\n",
       "      <td>91091.455</td>\n",
       "    </tr>\n",
       "  </tbody>\n",
       "</table>\n",
       "</div>"
      ],
      "text/plain": [
       "    Unnamed: 0                          REGION                           PROV  \\\n",
       "0            0                   Vlaams Gewest            Provincie Antwerpen   \n",
       "1            1                   Vlaams Gewest            Provincie Antwerpen   \n",
       "2            2                   Vlaams Gewest            Provincie Antwerpen   \n",
       "3            3                   Vlaams Gewest       Provincie Vlaams-Brabant   \n",
       "4            4                   Vlaams Gewest       Provincie Vlaams-Brabant   \n",
       "5            5                   Vlaams Gewest      Provincie West-Vlaanderen   \n",
       "6            6                   Vlaams Gewest      Provincie West-Vlaanderen   \n",
       "7            7                   Vlaams Gewest      Provincie West-Vlaanderen   \n",
       "8            8                   Vlaams Gewest      Provincie West-Vlaanderen   \n",
       "9            9                   Vlaams Gewest      Provincie West-Vlaanderen   \n",
       "10          10                   Vlaams Gewest      Provincie West-Vlaanderen   \n",
       "11          11                   Vlaams Gewest      Provincie West-Vlaanderen   \n",
       "12          12                   Vlaams Gewest      Provincie West-Vlaanderen   \n",
       "13          13                   Vlaams Gewest      Provincie Oost-Vlaanderen   \n",
       "14          14                   Vlaams Gewest      Provincie Oost-Vlaanderen   \n",
       "15          15                   Vlaams Gewest      Provincie Oost-Vlaanderen   \n",
       "16          16                   Vlaams Gewest      Provincie Oost-Vlaanderen   \n",
       "17          17                   Vlaams Gewest      Provincie Oost-Vlaanderen   \n",
       "18          18                   Vlaams Gewest      Provincie Oost-Vlaanderen   \n",
       "19          19                   Vlaams Gewest              Provincie Limburg   \n",
       "20          20                   Vlaams Gewest              Provincie Limburg   \n",
       "21          21                   Vlaams Gewest              Provincie Limburg   \n",
       "22          22  Brussels Hoofdstedelijk Gewest  Arr. Brussel-Hfdstad[no Prov]   \n",
       "23          23                    Waals Gewest        Provincie Waals-Brabant   \n",
       "24          24                    Waals Gewest           Provincie Henegouwen   \n",
       "25          25                    Waals Gewest           Provincie Henegouwen   \n",
       "26          26                    Waals Gewest           Provincie Henegouwen   \n",
       "27          27                    Waals Gewest           Provincie Henegouwen   \n",
       "28          28                    Waals Gewest           Provincie Henegouwen   \n",
       "29          29                    Waals Gewest           Provincie Henegouwen   \n",
       "30          30                    Waals Gewest           Provincie Henegouwen   \n",
       "31          31                    Waals Gewest                 Provincie Luik   \n",
       "32          32                    Waals Gewest                 Provincie Luik   \n",
       "33          33                    Waals Gewest                 Provincie Luik   \n",
       "34          34                    Waals Gewest                 Provincie Luik   \n",
       "35          35                    Waals Gewest            Provincie Luxemburg   \n",
       "36          36                    Waals Gewest            Provincie Luxemburg   \n",
       "37          37                    Waals Gewest            Provincie Luxemburg   \n",
       "38          38                    Waals Gewest            Provincie Luxemburg   \n",
       "39          39                    Waals Gewest            Provincie Luxemburg   \n",
       "40          40                    Waals Gewest                Provincie Namen   \n",
       "41          41                    Waals Gewest                Provincie Namen   \n",
       "42          42                    Waals Gewest                Provincie Namen   \n",
       "\n",
       "                            ADM_DSTR  TOT_SURFACE  \n",
       "0           Arrondissement Antwerpen   100425.611  \n",
       "1            Arrondissement Mechelen    51182.994  \n",
       "2            Arrondissement Turnhout   136003.269  \n",
       "3     Arrondissement Halle-Vilvoorde    94910.940  \n",
       "4              Arrondissement Leuven   116924.252  \n",
       "5              Arrondissement Brugge    67324.492  \n",
       "6           Arrondissement Diksmuide    36502.695  \n",
       "7               Arrondissement Ieper    55371.560  \n",
       "8            Arrondissement Kortrijk    40614.255  \n",
       "9            Arrondissement Oostende    30460.403  \n",
       "10          Arrondissement Roeselare    27381.999  \n",
       "11              Arrondissement Tielt    33183.692  \n",
       "12             Arrondissement Veurne    28818.820  \n",
       "13              Arrondissement Aalst    47293.605  \n",
       "14        Arrondissement Dendermonde    34656.770  \n",
       "15              Arrondissement Eeklo    33552.276  \n",
       "16               Arrondissement Gent    94966.068  \n",
       "17         Arrondissement Oudenaarde    42287.217  \n",
       "18       Arrondissement Sint-Niklaas    47950.059  \n",
       "19            Arrondissement Hasselt    88386.598  \n",
       "20            Arrondissement Maaseik    91044.455  \n",
       "21           Arrondissement Tongeren    63311.687  \n",
       "22  Arrondissement Brussel-Hoofdstad    16241.979  \n",
       "23             Arrondissement Nijvel   109719.647  \n",
       "24                Arrondissement Aat    67182.359  \n",
       "25          Arrondissement Charleroi    47593.496  \n",
       "26             Arrondissement Bergen    58843.733  \n",
       "27             Arrondissement Zinnik    35760.683  \n",
       "28              Arrondissement Thuin    78504.303  \n",
       "29  Arrondissement Doornik-Moeskroen    71453.268  \n",
       "30        Arrondissement La Louvière    21944.969  \n",
       "31               Arrondissement Hoei    66120.115  \n",
       "32               Arrondissement Luik    79591.143  \n",
       "33           Arrondissement Verviers   200960.159  \n",
       "34           Arrondissement Borgworm    39040.688  \n",
       "35             Arrondissement Aarlen    31885.938  \n",
       "36         Arrondissement Bastenaken   104659.881  \n",
       "37  Arrondissement Marche-en-Famenne    95806.841  \n",
       "38        Arrondissement Neufchâteau   135845.091  \n",
       "39             Arrondissement Virton    77727.414  \n",
       "40             Arrondissement Dinant   159620.870  \n",
       "41              Arrondissement Namen   116769.559  \n",
       "42      Arrondissement Philippeville    91091.455  "
      ]
     },
     "execution_count": 138,
     "metadata": {},
     "output_type": "execute_result"
    }
   ],
   "source": [
    "#segundo paso: a) verificación éxito importación de c_superficie\n",
    "superficie"
   ]
  },
  {
   "cell_type": "code",
   "execution_count": 139,
   "metadata": {},
   "outputs": [
    {
     "data": {
      "text/html": [
       "<div>\n",
       "<style scoped>\n",
       "    .dataframe tbody tr th:only-of-type {\n",
       "        vertical-align: middle;\n",
       "    }\n",
       "\n",
       "    .dataframe tbody tr th {\n",
       "        vertical-align: top;\n",
       "    }\n",
       "\n",
       "    .dataframe thead th {\n",
       "        text-align: right;\n",
       "    }\n",
       "</style>\n",
       "<table border=\"1\" class=\"dataframe\">\n",
       "  <thead>\n",
       "    <tr style=\"text-align: right;\">\n",
       "      <th></th>\n",
       "      <th>PROV</th>\n",
       "      <th>ADM_DSTR</th>\n",
       "      <th>MS_POPULATION</th>\n",
       "      <th>PROPORTION_BE</th>\n",
       "    </tr>\n",
       "  </thead>\n",
       "  <tbody>\n",
       "    <tr>\n",
       "      <th>0</th>\n",
       "      <td>Arr. Brussel-Hfdstad[no Prov]</td>\n",
       "      <td>Arrondissement Brussel-Hoofdstad</td>\n",
       "      <td>1218255</td>\n",
       "      <td>0.106003</td>\n",
       "    </tr>\n",
       "    <tr>\n",
       "      <th>1</th>\n",
       "      <td>Provincie Antwerpen</td>\n",
       "      <td>Arrondissement Antwerpen</td>\n",
       "      <td>1057736</td>\n",
       "      <td>0.092036</td>\n",
       "    </tr>\n",
       "    <tr>\n",
       "      <th>2</th>\n",
       "      <td>Provincie Antwerpen</td>\n",
       "      <td>Arrondissement Mechelen</td>\n",
       "      <td>347125</td>\n",
       "      <td>0.030204</td>\n",
       "    </tr>\n",
       "    <tr>\n",
       "      <th>3</th>\n",
       "      <td>Provincie Antwerpen</td>\n",
       "      <td>Arrondissement Turnhout</td>\n",
       "      <td>464869</td>\n",
       "      <td>0.040449</td>\n",
       "    </tr>\n",
       "    <tr>\n",
       "      <th>4</th>\n",
       "      <td>Provincie Henegouwen</td>\n",
       "      <td>Arrondissement Aat</td>\n",
       "      <td>128468</td>\n",
       "      <td>0.011178</td>\n",
       "    </tr>\n",
       "    <tr>\n",
       "      <th>5</th>\n",
       "      <td>Provincie Henegouwen</td>\n",
       "      <td>Arrondissement Bergen</td>\n",
       "      <td>259237</td>\n",
       "      <td>0.022557</td>\n",
       "    </tr>\n",
       "    <tr>\n",
       "      <th>6</th>\n",
       "      <td>Provincie Henegouwen</td>\n",
       "      <td>Arrondissement Charleroi</td>\n",
       "      <td>396962</td>\n",
       "      <td>0.034541</td>\n",
       "    </tr>\n",
       "    <tr>\n",
       "      <th>7</th>\n",
       "      <td>Provincie Henegouwen</td>\n",
       "      <td>Arrondissement Doornik-Moeskroen</td>\n",
       "      <td>223799</td>\n",
       "      <td>0.019473</td>\n",
       "    </tr>\n",
       "    <tr>\n",
       "      <th>8</th>\n",
       "      <td>Provincie Henegouwen</td>\n",
       "      <td>Arrondissement La Louvière</td>\n",
       "      <td>141470</td>\n",
       "      <td>0.012310</td>\n",
       "    </tr>\n",
       "    <tr>\n",
       "      <th>9</th>\n",
       "      <td>Provincie Henegouwen</td>\n",
       "      <td>Arrondissement Thuin</td>\n",
       "      <td>91725</td>\n",
       "      <td>0.007981</td>\n",
       "    </tr>\n",
       "    <tr>\n",
       "      <th>10</th>\n",
       "      <td>Provincie Henegouwen</td>\n",
       "      <td>Arrondissement Zinnik</td>\n",
       "      <td>105179</td>\n",
       "      <td>0.009152</td>\n",
       "    </tr>\n",
       "    <tr>\n",
       "      <th>11</th>\n",
       "      <td>Provincie Limburg</td>\n",
       "      <td>Arrondissement Hasselt</td>\n",
       "      <td>420312</td>\n",
       "      <td>0.036572</td>\n",
       "    </tr>\n",
       "    <tr>\n",
       "      <th>12</th>\n",
       "      <td>Provincie Limburg</td>\n",
       "      <td>Arrondissement Maaseik</td>\n",
       "      <td>252115</td>\n",
       "      <td>0.021937</td>\n",
       "    </tr>\n",
       "    <tr>\n",
       "      <th>13</th>\n",
       "      <td>Provincie Limburg</td>\n",
       "      <td>Arrondissement Tongeren</td>\n",
       "      <td>204943</td>\n",
       "      <td>0.017833</td>\n",
       "    </tr>\n",
       "    <tr>\n",
       "      <th>14</th>\n",
       "      <td>Provincie Luik</td>\n",
       "      <td>Arrondissement Borgworm</td>\n",
       "      <td>81889</td>\n",
       "      <td>0.007125</td>\n",
       "    </tr>\n",
       "    <tr>\n",
       "      <th>15</th>\n",
       "      <td>Provincie Luik</td>\n",
       "      <td>Arrondissement Hoei</td>\n",
       "      <td>113869</td>\n",
       "      <td>0.009908</td>\n",
       "    </tr>\n",
       "    <tr>\n",
       "      <th>16</th>\n",
       "      <td>Provincie Luik</td>\n",
       "      <td>Arrondissement Luik</td>\n",
       "      <td>625765</td>\n",
       "      <td>0.054449</td>\n",
       "    </tr>\n",
       "    <tr>\n",
       "      <th>17</th>\n",
       "      <td>Provincie Luik</td>\n",
       "      <td>Arrondissement Verviers</td>\n",
       "      <td>288277</td>\n",
       "      <td>0.025084</td>\n",
       "    </tr>\n",
       "    <tr>\n",
       "      <th>18</th>\n",
       "      <td>Provincie Luxemburg</td>\n",
       "      <td>Arrondissement Aarlen</td>\n",
       "      <td>62996</td>\n",
       "      <td>0.005481</td>\n",
       "    </tr>\n",
       "    <tr>\n",
       "      <th>19</th>\n",
       "      <td>Provincie Luxemburg</td>\n",
       "      <td>Arrondissement Bastenaken</td>\n",
       "      <td>49083</td>\n",
       "      <td>0.004271</td>\n",
       "    </tr>\n",
       "    <tr>\n",
       "      <th>20</th>\n",
       "      <td>Provincie Luxemburg</td>\n",
       "      <td>Arrondissement Marche-en-Famenne</td>\n",
       "      <td>56771</td>\n",
       "      <td>0.004940</td>\n",
       "    </tr>\n",
       "    <tr>\n",
       "      <th>21</th>\n",
       "      <td>Provincie Luxemburg</td>\n",
       "      <td>Arrondissement Neufchâteau</td>\n",
       "      <td>63763</td>\n",
       "      <td>0.005548</td>\n",
       "    </tr>\n",
       "    <tr>\n",
       "      <th>22</th>\n",
       "      <td>Provincie Luxemburg</td>\n",
       "      <td>Arrondissement Virton</td>\n",
       "      <td>54139</td>\n",
       "      <td>0.004711</td>\n",
       "    </tr>\n",
       "    <tr>\n",
       "      <th>23</th>\n",
       "      <td>Provincie Namen</td>\n",
       "      <td>Arrondissement Dinant</td>\n",
       "      <td>111286</td>\n",
       "      <td>0.009683</td>\n",
       "    </tr>\n",
       "    <tr>\n",
       "      <th>24</th>\n",
       "      <td>Provincie Namen</td>\n",
       "      <td>Arrondissement Namen</td>\n",
       "      <td>318231</td>\n",
       "      <td>0.027690</td>\n",
       "    </tr>\n",
       "    <tr>\n",
       "      <th>25</th>\n",
       "      <td>Provincie Namen</td>\n",
       "      <td>Arrondissement Philippeville</td>\n",
       "      <td>66315</td>\n",
       "      <td>0.005770</td>\n",
       "    </tr>\n",
       "    <tr>\n",
       "      <th>26</th>\n",
       "      <td>Provincie Oost-Vlaanderen</td>\n",
       "      <td>Arrondissement Aalst</td>\n",
       "      <td>293650</td>\n",
       "      <td>0.025551</td>\n",
       "    </tr>\n",
       "    <tr>\n",
       "      <th>27</th>\n",
       "      <td>Provincie Oost-Vlaanderen</td>\n",
       "      <td>Arrondissement Dendermonde</td>\n",
       "      <td>202411</td>\n",
       "      <td>0.017612</td>\n",
       "    </tr>\n",
       "    <tr>\n",
       "      <th>28</th>\n",
       "      <td>Provincie Oost-Vlaanderen</td>\n",
       "      <td>Arrondissement Eeklo</td>\n",
       "      <td>85692</td>\n",
       "      <td>0.007456</td>\n",
       "    </tr>\n",
       "    <tr>\n",
       "      <th>29</th>\n",
       "      <td>Provincie Oost-Vlaanderen</td>\n",
       "      <td>Arrondissement Gent</td>\n",
       "      <td>564042</td>\n",
       "      <td>0.049079</td>\n",
       "    </tr>\n",
       "    <tr>\n",
       "      <th>30</th>\n",
       "      <td>Provincie Oost-Vlaanderen</td>\n",
       "      <td>Arrondissement Oudenaarde</td>\n",
       "      <td>124610</td>\n",
       "      <td>0.010843</td>\n",
       "    </tr>\n",
       "    <tr>\n",
       "      <th>31</th>\n",
       "      <td>Provincie Oost-Vlaanderen</td>\n",
       "      <td>Arrondissement Sint-Niklaas</td>\n",
       "      <td>254850</td>\n",
       "      <td>0.022175</td>\n",
       "    </tr>\n",
       "    <tr>\n",
       "      <th>32</th>\n",
       "      <td>Provincie Vlaams-Brabant</td>\n",
       "      <td>Arrondissement Halle-Vilvoorde</td>\n",
       "      <td>643766</td>\n",
       "      <td>0.056015</td>\n",
       "    </tr>\n",
       "    <tr>\n",
       "      <th>33</th>\n",
       "      <td>Provincie Vlaams-Brabant</td>\n",
       "      <td>Arrondissement Leuven</td>\n",
       "      <td>512077</td>\n",
       "      <td>0.044557</td>\n",
       "    </tr>\n",
       "    <tr>\n",
       "      <th>34</th>\n",
       "      <td>Provincie Waals-Brabant</td>\n",
       "      <td>Arrondissement Nijvel</td>\n",
       "      <td>406019</td>\n",
       "      <td>0.035329</td>\n",
       "    </tr>\n",
       "    <tr>\n",
       "      <th>35</th>\n",
       "      <td>Provincie West-Vlaanderen</td>\n",
       "      <td>Arrondissement Brugge</td>\n",
       "      <td>282745</td>\n",
       "      <td>0.024602</td>\n",
       "    </tr>\n",
       "    <tr>\n",
       "      <th>36</th>\n",
       "      <td>Provincie West-Vlaanderen</td>\n",
       "      <td>Arrondissement Diksmuide</td>\n",
       "      <td>51696</td>\n",
       "      <td>0.004498</td>\n",
       "    </tr>\n",
       "    <tr>\n",
       "      <th>37</th>\n",
       "      <td>Provincie West-Vlaanderen</td>\n",
       "      <td>Arrondissement Ieper</td>\n",
       "      <td>106570</td>\n",
       "      <td>0.009273</td>\n",
       "    </tr>\n",
       "    <tr>\n",
       "      <th>38</th>\n",
       "      <td>Provincie West-Vlaanderen</td>\n",
       "      <td>Arrondissement Kortrijk</td>\n",
       "      <td>292493</td>\n",
       "      <td>0.025450</td>\n",
       "    </tr>\n",
       "    <tr>\n",
       "      <th>39</th>\n",
       "      <td>Provincie West-Vlaanderen</td>\n",
       "      <td>Arrondissement Oostende</td>\n",
       "      <td>157780</td>\n",
       "      <td>0.013729</td>\n",
       "    </tr>\n",
       "    <tr>\n",
       "      <th>40</th>\n",
       "      <td>Provincie West-Vlaanderen</td>\n",
       "      <td>Arrondissement Roeselare</td>\n",
       "      <td>154494</td>\n",
       "      <td>0.013443</td>\n",
       "    </tr>\n",
       "    <tr>\n",
       "      <th>41</th>\n",
       "      <td>Provincie West-Vlaanderen</td>\n",
       "      <td>Arrondissement Tielt</td>\n",
       "      <td>93428</td>\n",
       "      <td>0.008129</td>\n",
       "    </tr>\n",
       "    <tr>\n",
       "      <th>42</th>\n",
       "      <td>Provincie West-Vlaanderen</td>\n",
       "      <td>Arrondissement Veurne</td>\n",
       "      <td>61739</td>\n",
       "      <td>0.005372</td>\n",
       "    </tr>\n",
       "  </tbody>\n",
       "</table>\n",
       "</div>"
      ],
      "text/plain": [
       "                             PROV                          ADM_DSTR  \\\n",
       "0   Arr. Brussel-Hfdstad[no Prov]  Arrondissement Brussel-Hoofdstad   \n",
       "1             Provincie Antwerpen          Arrondissement Antwerpen   \n",
       "2             Provincie Antwerpen           Arrondissement Mechelen   \n",
       "3             Provincie Antwerpen           Arrondissement Turnhout   \n",
       "4            Provincie Henegouwen                Arrondissement Aat   \n",
       "5            Provincie Henegouwen             Arrondissement Bergen   \n",
       "6            Provincie Henegouwen          Arrondissement Charleroi   \n",
       "7            Provincie Henegouwen  Arrondissement Doornik-Moeskroen   \n",
       "8            Provincie Henegouwen        Arrondissement La Louvière   \n",
       "9            Provincie Henegouwen              Arrondissement Thuin   \n",
       "10           Provincie Henegouwen             Arrondissement Zinnik   \n",
       "11              Provincie Limburg            Arrondissement Hasselt   \n",
       "12              Provincie Limburg            Arrondissement Maaseik   \n",
       "13              Provincie Limburg           Arrondissement Tongeren   \n",
       "14                 Provincie Luik           Arrondissement Borgworm   \n",
       "15                 Provincie Luik               Arrondissement Hoei   \n",
       "16                 Provincie Luik               Arrondissement Luik   \n",
       "17                 Provincie Luik           Arrondissement Verviers   \n",
       "18            Provincie Luxemburg             Arrondissement Aarlen   \n",
       "19            Provincie Luxemburg         Arrondissement Bastenaken   \n",
       "20            Provincie Luxemburg  Arrondissement Marche-en-Famenne   \n",
       "21            Provincie Luxemburg        Arrondissement Neufchâteau   \n",
       "22            Provincie Luxemburg             Arrondissement Virton   \n",
       "23                Provincie Namen             Arrondissement Dinant   \n",
       "24                Provincie Namen              Arrondissement Namen   \n",
       "25                Provincie Namen      Arrondissement Philippeville   \n",
       "26      Provincie Oost-Vlaanderen              Arrondissement Aalst   \n",
       "27      Provincie Oost-Vlaanderen        Arrondissement Dendermonde   \n",
       "28      Provincie Oost-Vlaanderen              Arrondissement Eeklo   \n",
       "29      Provincie Oost-Vlaanderen               Arrondissement Gent   \n",
       "30      Provincie Oost-Vlaanderen         Arrondissement Oudenaarde   \n",
       "31      Provincie Oost-Vlaanderen       Arrondissement Sint-Niklaas   \n",
       "32       Provincie Vlaams-Brabant    Arrondissement Halle-Vilvoorde   \n",
       "33       Provincie Vlaams-Brabant             Arrondissement Leuven   \n",
       "34        Provincie Waals-Brabant             Arrondissement Nijvel   \n",
       "35      Provincie West-Vlaanderen             Arrondissement Brugge   \n",
       "36      Provincie West-Vlaanderen          Arrondissement Diksmuide   \n",
       "37      Provincie West-Vlaanderen              Arrondissement Ieper   \n",
       "38      Provincie West-Vlaanderen           Arrondissement Kortrijk   \n",
       "39      Provincie West-Vlaanderen           Arrondissement Oostende   \n",
       "40      Provincie West-Vlaanderen          Arrondissement Roeselare   \n",
       "41      Provincie West-Vlaanderen              Arrondissement Tielt   \n",
       "42      Provincie West-Vlaanderen             Arrondissement Veurne   \n",
       "\n",
       "    MS_POPULATION  PROPORTION_BE  \n",
       "0         1218255       0.106003  \n",
       "1         1057736       0.092036  \n",
       "2          347125       0.030204  \n",
       "3          464869       0.040449  \n",
       "4          128468       0.011178  \n",
       "5          259237       0.022557  \n",
       "6          396962       0.034541  \n",
       "7          223799       0.019473  \n",
       "8          141470       0.012310  \n",
       "9           91725       0.007981  \n",
       "10         105179       0.009152  \n",
       "11         420312       0.036572  \n",
       "12         252115       0.021937  \n",
       "13         204943       0.017833  \n",
       "14          81889       0.007125  \n",
       "15         113869       0.009908  \n",
       "16         625765       0.054449  \n",
       "17         288277       0.025084  \n",
       "18          62996       0.005481  \n",
       "19          49083       0.004271  \n",
       "20          56771       0.004940  \n",
       "21          63763       0.005548  \n",
       "22          54139       0.004711  \n",
       "23         111286       0.009683  \n",
       "24         318231       0.027690  \n",
       "25          66315       0.005770  \n",
       "26         293650       0.025551  \n",
       "27         202411       0.017612  \n",
       "28          85692       0.007456  \n",
       "29         564042       0.049079  \n",
       "30         124610       0.010843  \n",
       "31         254850       0.022175  \n",
       "32         643766       0.056015  \n",
       "33         512077       0.044557  \n",
       "34         406019       0.035329  \n",
       "35         282745       0.024602  \n",
       "36          51696       0.004498  \n",
       "37         106570       0.009273  \n",
       "38         292493       0.025450  \n",
       "39         157780       0.013729  \n",
       "40         154494       0.013443  \n",
       "41          93428       0.008129  \n",
       "42          61739       0.005372  "
      ]
     },
     "execution_count": 139,
     "metadata": {},
     "output_type": "execute_result"
    }
   ],
   "source": [
    "#segundo paso: b) verificación éxito importación de d_pobl_2020\n",
    "pobl_2020_habxarr"
   ]
  },
  {
   "cell_type": "markdown",
   "metadata": {},
   "source": [
    "## II. Cálculo de la densidad \n",
    "### en base a las variables conseguidos en los ficheros importados:\n",
    "\n",
    "- pobl_2020_habxarr = número de habitantes por \"distrito\"  \n",
    "- superficie = superficie por \"distrito\""
   ]
  },
  {
   "cell_type": "markdown",
   "metadata": {},
   "source": [
    "### II.1 Juntamos los datos: (nº habitantes + superficie (ha)) / zona (\"ADM_DSTR\")"
   ]
  },
  {
   "cell_type": "code",
   "execution_count": 177,
   "metadata": {},
   "outputs": [
    {
     "data": {
      "text/html": [
       "<div>\n",
       "<style scoped>\n",
       "    .dataframe tbody tr th:only-of-type {\n",
       "        vertical-align: middle;\n",
       "    }\n",
       "\n",
       "    .dataframe tbody tr th {\n",
       "        vertical-align: top;\n",
       "    }\n",
       "\n",
       "    .dataframe thead th {\n",
       "        text-align: right;\n",
       "    }\n",
       "</style>\n",
       "<table border=\"1\" class=\"dataframe\">\n",
       "  <thead>\n",
       "    <tr style=\"text-align: right;\">\n",
       "      <th></th>\n",
       "      <th>Unnamed: 0</th>\n",
       "      <th>REGION</th>\n",
       "      <th>PROV_x</th>\n",
       "      <th>ADM_DSTR</th>\n",
       "      <th>TOT_SURFACE</th>\n",
       "      <th>PROV_y</th>\n",
       "      <th>MS_POPULATION</th>\n",
       "      <th>PROPORTION_BE</th>\n",
       "    </tr>\n",
       "  </thead>\n",
       "  <tbody>\n",
       "    <tr>\n",
       "      <th>0</th>\n",
       "      <td>0</td>\n",
       "      <td>Vlaams Gewest</td>\n",
       "      <td>Provincie Antwerpen</td>\n",
       "      <td>Arrondissement Antwerpen</td>\n",
       "      <td>100425.611</td>\n",
       "      <td>Provincie Antwerpen</td>\n",
       "      <td>1057736</td>\n",
       "      <td>0.092036</td>\n",
       "    </tr>\n",
       "    <tr>\n",
       "      <th>1</th>\n",
       "      <td>1</td>\n",
       "      <td>Vlaams Gewest</td>\n",
       "      <td>Provincie Antwerpen</td>\n",
       "      <td>Arrondissement Mechelen</td>\n",
       "      <td>51182.994</td>\n",
       "      <td>Provincie Antwerpen</td>\n",
       "      <td>347125</td>\n",
       "      <td>0.030204</td>\n",
       "    </tr>\n",
       "    <tr>\n",
       "      <th>2</th>\n",
       "      <td>2</td>\n",
       "      <td>Vlaams Gewest</td>\n",
       "      <td>Provincie Antwerpen</td>\n",
       "      <td>Arrondissement Turnhout</td>\n",
       "      <td>136003.269</td>\n",
       "      <td>Provincie Antwerpen</td>\n",
       "      <td>464869</td>\n",
       "      <td>0.040449</td>\n",
       "    </tr>\n",
       "    <tr>\n",
       "      <th>3</th>\n",
       "      <td>3</td>\n",
       "      <td>Vlaams Gewest</td>\n",
       "      <td>Provincie Vlaams-Brabant</td>\n",
       "      <td>Arrondissement Halle-Vilvoorde</td>\n",
       "      <td>94910.940</td>\n",
       "      <td>Provincie Vlaams-Brabant</td>\n",
       "      <td>643766</td>\n",
       "      <td>0.056015</td>\n",
       "    </tr>\n",
       "    <tr>\n",
       "      <th>4</th>\n",
       "      <td>4</td>\n",
       "      <td>Vlaams Gewest</td>\n",
       "      <td>Provincie Vlaams-Brabant</td>\n",
       "      <td>Arrondissement Leuven</td>\n",
       "      <td>116924.252</td>\n",
       "      <td>Provincie Vlaams-Brabant</td>\n",
       "      <td>512077</td>\n",
       "      <td>0.044557</td>\n",
       "    </tr>\n",
       "  </tbody>\n",
       "</table>\n",
       "</div>"
      ],
      "text/plain": [
       "   Unnamed: 0         REGION                    PROV_x  \\\n",
       "0           0  Vlaams Gewest       Provincie Antwerpen   \n",
       "1           1  Vlaams Gewest       Provincie Antwerpen   \n",
       "2           2  Vlaams Gewest       Provincie Antwerpen   \n",
       "3           3  Vlaams Gewest  Provincie Vlaams-Brabant   \n",
       "4           4  Vlaams Gewest  Provincie Vlaams-Brabant   \n",
       "\n",
       "                         ADM_DSTR  TOT_SURFACE                    PROV_y  \\\n",
       "0        Arrondissement Antwerpen   100425.611       Provincie Antwerpen   \n",
       "1         Arrondissement Mechelen    51182.994       Provincie Antwerpen   \n",
       "2         Arrondissement Turnhout   136003.269       Provincie Antwerpen   \n",
       "3  Arrondissement Halle-Vilvoorde    94910.940  Provincie Vlaams-Brabant   \n",
       "4           Arrondissement Leuven   116924.252  Provincie Vlaams-Brabant   \n",
       "\n",
       "   MS_POPULATION  PROPORTION_BE  \n",
       "0        1057736       0.092036  \n",
       "1         347125       0.030204  \n",
       "2         464869       0.040449  \n",
       "3         643766       0.056015  \n",
       "4         512077       0.044557  "
      ]
     },
     "execution_count": 177,
     "metadata": {},
     "output_type": "execute_result"
    }
   ],
   "source": [
    "dens_2012_prep = pd.merge(superficie, pobl_2012_habxarr, on = \"ADM_DSTR\")\n",
    "dens_2016_prep = pd.merge(superficie, pobl_2016_habxarr, on = \"ADM_DSTR\")\n",
    "dens_2017_prep = pd.merge(superficie, pobl_2017_habxarr, on = \"ADM_DSTR\")\n",
    "dens_2018_prep = pd.merge(superficie, pobl_2018_habxarr, on = \"ADM_DSTR\")\n",
    "dens_2019_prep = pd.merge(superficie, pobl_2019_habxarr, on = \"ADM_DSTR\")\n",
    "dens_2020_prep = pd.merge(superficie, pobl_2020_habxarr, on = \"ADM_DSTR\")\n",
    "#prueba con todos los dataframes obtenidos, a modo de ilustración aquí solo el último dataframe.head()\n",
    "dens_2020_prep.head()"
   ]
  },
  {
   "cell_type": "markdown",
   "metadata": {},
   "source": [
    "### II.2 Limpiamos el 'merged dataframe' dens_2020:  \n",
    "a) eliminamos columnas redundantes (idénticas que no han servido de key)"
   ]
  },
  {
   "cell_type": "code",
   "execution_count": 178,
   "metadata": {},
   "outputs": [
    {
     "data": {
      "text/html": [
       "<div>\n",
       "<style scoped>\n",
       "    .dataframe tbody tr th:only-of-type {\n",
       "        vertical-align: middle;\n",
       "    }\n",
       "\n",
       "    .dataframe tbody tr th {\n",
       "        vertical-align: top;\n",
       "    }\n",
       "\n",
       "    .dataframe thead th {\n",
       "        text-align: right;\n",
       "    }\n",
       "</style>\n",
       "<table border=\"1\" class=\"dataframe\">\n",
       "  <thead>\n",
       "    <tr style=\"text-align: right;\">\n",
       "      <th></th>\n",
       "      <th>Unnamed: 0</th>\n",
       "      <th>REGION</th>\n",
       "      <th>PROV_x</th>\n",
       "      <th>ADM_DSTR</th>\n",
       "      <th>TOT_SURFACE</th>\n",
       "      <th>MS_POPULATION</th>\n",
       "      <th>PROPORTION_BE</th>\n",
       "    </tr>\n",
       "  </thead>\n",
       "  <tbody>\n",
       "    <tr>\n",
       "      <th>0</th>\n",
       "      <td>0</td>\n",
       "      <td>Vlaams Gewest</td>\n",
       "      <td>Provincie Antwerpen</td>\n",
       "      <td>Arrondissement Antwerpen</td>\n",
       "      <td>100425.611</td>\n",
       "      <td>1057736</td>\n",
       "      <td>0.092036</td>\n",
       "    </tr>\n",
       "    <tr>\n",
       "      <th>1</th>\n",
       "      <td>1</td>\n",
       "      <td>Vlaams Gewest</td>\n",
       "      <td>Provincie Antwerpen</td>\n",
       "      <td>Arrondissement Mechelen</td>\n",
       "      <td>51182.994</td>\n",
       "      <td>347125</td>\n",
       "      <td>0.030204</td>\n",
       "    </tr>\n",
       "    <tr>\n",
       "      <th>2</th>\n",
       "      <td>2</td>\n",
       "      <td>Vlaams Gewest</td>\n",
       "      <td>Provincie Antwerpen</td>\n",
       "      <td>Arrondissement Turnhout</td>\n",
       "      <td>136003.269</td>\n",
       "      <td>464869</td>\n",
       "      <td>0.040449</td>\n",
       "    </tr>\n",
       "    <tr>\n",
       "      <th>3</th>\n",
       "      <td>3</td>\n",
       "      <td>Vlaams Gewest</td>\n",
       "      <td>Provincie Vlaams-Brabant</td>\n",
       "      <td>Arrondissement Halle-Vilvoorde</td>\n",
       "      <td>94910.940</td>\n",
       "      <td>643766</td>\n",
       "      <td>0.056015</td>\n",
       "    </tr>\n",
       "    <tr>\n",
       "      <th>4</th>\n",
       "      <td>4</td>\n",
       "      <td>Vlaams Gewest</td>\n",
       "      <td>Provincie Vlaams-Brabant</td>\n",
       "      <td>Arrondissement Leuven</td>\n",
       "      <td>116924.252</td>\n",
       "      <td>512077</td>\n",
       "      <td>0.044557</td>\n",
       "    </tr>\n",
       "  </tbody>\n",
       "</table>\n",
       "</div>"
      ],
      "text/plain": [
       "   Unnamed: 0         REGION                    PROV_x  \\\n",
       "0           0  Vlaams Gewest       Provincie Antwerpen   \n",
       "1           1  Vlaams Gewest       Provincie Antwerpen   \n",
       "2           2  Vlaams Gewest       Provincie Antwerpen   \n",
       "3           3  Vlaams Gewest  Provincie Vlaams-Brabant   \n",
       "4           4  Vlaams Gewest  Provincie Vlaams-Brabant   \n",
       "\n",
       "                         ADM_DSTR  TOT_SURFACE  MS_POPULATION  PROPORTION_BE  \n",
       "0        Arrondissement Antwerpen   100425.611        1057736       0.092036  \n",
       "1         Arrondissement Mechelen    51182.994         347125       0.030204  \n",
       "2         Arrondissement Turnhout   136003.269         464869       0.040449  \n",
       "3  Arrondissement Halle-Vilvoorde    94910.940         643766       0.056015  \n",
       "4           Arrondissement Leuven   116924.252         512077       0.044557  "
      ]
     },
     "execution_count": 178,
     "metadata": {},
     "output_type": "execute_result"
    }
   ],
   "source": [
    "dens_2012_prep = pd.merge(superficie, pobl_2012_habxarr, on = \"ADM_DSTR\").drop(\"PROV_y\", axis=1)\n",
    "dens_2016_prep = pd.merge(superficie, pobl_2016_habxarr, on = \"ADM_DSTR\").drop(\"PROV_y\", axis=1)\n",
    "dens_2017_prep = pd.merge(superficie, pobl_2017_habxarr, on = \"ADM_DSTR\").drop(\"PROV_y\", axis=1)\n",
    "dens_2018_prep = pd.merge(superficie, pobl_2018_habxarr, on = \"ADM_DSTR\").drop(\"PROV_y\", axis=1)\n",
    "dens_2019_prep = pd.merge(superficie, pobl_2019_habxarr, on = \"ADM_DSTR\").drop(\"PROV_y\", axis=1)\n",
    "dens_2020_prep = pd.merge(superficie, pobl_2020_habxarr, on = \"ADM_DSTR\").drop(\"PROV_y\", axis=1)\n",
    "dens_2020_prep.head()"
   ]
  },
  {
   "cell_type": "markdown",
   "metadata": {},
   "source": [
    "b) layout: eliminamos marca de diferenciación de nombre de columna restante (después de haber eliminado su copia idéntica)"
   ]
  },
  {
   "cell_type": "code",
   "execution_count": 179,
   "metadata": {},
   "outputs": [
    {
     "data": {
      "text/html": [
       "<div>\n",
       "<style scoped>\n",
       "    .dataframe tbody tr th:only-of-type {\n",
       "        vertical-align: middle;\n",
       "    }\n",
       "\n",
       "    .dataframe tbody tr th {\n",
       "        vertical-align: top;\n",
       "    }\n",
       "\n",
       "    .dataframe thead th {\n",
       "        text-align: right;\n",
       "    }\n",
       "</style>\n",
       "<table border=\"1\" class=\"dataframe\">\n",
       "  <thead>\n",
       "    <tr style=\"text-align: right;\">\n",
       "      <th></th>\n",
       "      <th>Unnamed: 0</th>\n",
       "      <th>REGION</th>\n",
       "      <th>PROV</th>\n",
       "      <th>ADM_DSTR</th>\n",
       "      <th>TOT_SURFACE</th>\n",
       "      <th>MS_POPULATION</th>\n",
       "      <th>PROPORTION_BE</th>\n",
       "    </tr>\n",
       "  </thead>\n",
       "  <tbody>\n",
       "    <tr>\n",
       "      <th>0</th>\n",
       "      <td>0</td>\n",
       "      <td>Vlaams Gewest</td>\n",
       "      <td>Provincie Antwerpen</td>\n",
       "      <td>Arrondissement Antwerpen</td>\n",
       "      <td>100425.611</td>\n",
       "      <td>1057736</td>\n",
       "      <td>0.092036</td>\n",
       "    </tr>\n",
       "    <tr>\n",
       "      <th>1</th>\n",
       "      <td>1</td>\n",
       "      <td>Vlaams Gewest</td>\n",
       "      <td>Provincie Antwerpen</td>\n",
       "      <td>Arrondissement Mechelen</td>\n",
       "      <td>51182.994</td>\n",
       "      <td>347125</td>\n",
       "      <td>0.030204</td>\n",
       "    </tr>\n",
       "    <tr>\n",
       "      <th>2</th>\n",
       "      <td>2</td>\n",
       "      <td>Vlaams Gewest</td>\n",
       "      <td>Provincie Antwerpen</td>\n",
       "      <td>Arrondissement Turnhout</td>\n",
       "      <td>136003.269</td>\n",
       "      <td>464869</td>\n",
       "      <td>0.040449</td>\n",
       "    </tr>\n",
       "    <tr>\n",
       "      <th>3</th>\n",
       "      <td>3</td>\n",
       "      <td>Vlaams Gewest</td>\n",
       "      <td>Provincie Vlaams-Brabant</td>\n",
       "      <td>Arrondissement Halle-Vilvoorde</td>\n",
       "      <td>94910.940</td>\n",
       "      <td>643766</td>\n",
       "      <td>0.056015</td>\n",
       "    </tr>\n",
       "    <tr>\n",
       "      <th>4</th>\n",
       "      <td>4</td>\n",
       "      <td>Vlaams Gewest</td>\n",
       "      <td>Provincie Vlaams-Brabant</td>\n",
       "      <td>Arrondissement Leuven</td>\n",
       "      <td>116924.252</td>\n",
       "      <td>512077</td>\n",
       "      <td>0.044557</td>\n",
       "    </tr>\n",
       "  </tbody>\n",
       "</table>\n",
       "</div>"
      ],
      "text/plain": [
       "   Unnamed: 0         REGION                      PROV  \\\n",
       "0           0  Vlaams Gewest       Provincie Antwerpen   \n",
       "1           1  Vlaams Gewest       Provincie Antwerpen   \n",
       "2           2  Vlaams Gewest       Provincie Antwerpen   \n",
       "3           3  Vlaams Gewest  Provincie Vlaams-Brabant   \n",
       "4           4  Vlaams Gewest  Provincie Vlaams-Brabant   \n",
       "\n",
       "                         ADM_DSTR  TOT_SURFACE  MS_POPULATION  PROPORTION_BE  \n",
       "0        Arrondissement Antwerpen   100425.611        1057736       0.092036  \n",
       "1         Arrondissement Mechelen    51182.994         347125       0.030204  \n",
       "2         Arrondissement Turnhout   136003.269         464869       0.040449  \n",
       "3  Arrondissement Halle-Vilvoorde    94910.940         643766       0.056015  \n",
       "4           Arrondissement Leuven   116924.252         512077       0.044557  "
      ]
     },
     "execution_count": 179,
     "metadata": {},
     "output_type": "execute_result"
    }
   ],
   "source": [
    "dens_2012_prep = dens_2012_prep.rename(columns = {\"PROV_x\":\"PROV\"})\n",
    "dens_2016_prep = dens_2016_prep.rename(columns = {\"PROV_x\":\"PROV\"})\n",
    "dens_2017_prep = dens_2017_prep.rename(columns = {\"PROV_x\":\"PROV\"})\n",
    "dens_2018_prep = dens_2018_prep.rename(columns = {\"PROV_x\":\"PROV\"})\n",
    "dens_2019_prep = dens_2019_prep.rename(columns = {\"PROV_x\":\"PROV\"})\n",
    "dens_2020_prep = dens_2020_prep.rename(columns = {\"PROV_x\":\"PROV\"})\n",
    "dens_2020_prep.head()"
   ]
  },
  {
   "cell_type": "markdown",
   "metadata": {},
   "source": [
    "### II.3 Cálculo de la densidad "
   ]
  },
  {
   "cell_type": "markdown",
   "metadata": {},
   "source": [
    "II.3.1. Preparación: adaptamos unidad de medida de TOT_SURFACE de ha > km2 para poder expresar luego la densidad en base a km2 (1km2 = 100ha)"
   ]
  },
  {
   "cell_type": "code",
   "execution_count": 180,
   "metadata": {},
   "outputs": [
    {
     "data": {
      "text/html": [
       "<div>\n",
       "<style scoped>\n",
       "    .dataframe tbody tr th:only-of-type {\n",
       "        vertical-align: middle;\n",
       "    }\n",
       "\n",
       "    .dataframe tbody tr th {\n",
       "        vertical-align: top;\n",
       "    }\n",
       "\n",
       "    .dataframe thead th {\n",
       "        text-align: right;\n",
       "    }\n",
       "</style>\n",
       "<table border=\"1\" class=\"dataframe\">\n",
       "  <thead>\n",
       "    <tr style=\"text-align: right;\">\n",
       "      <th></th>\n",
       "      <th>Unnamed: 0</th>\n",
       "      <th>REGION</th>\n",
       "      <th>PROV</th>\n",
       "      <th>ADM_DSTR</th>\n",
       "      <th>TOT_SURFACE</th>\n",
       "      <th>MS_POPULATION</th>\n",
       "      <th>PROPORTION_BE</th>\n",
       "    </tr>\n",
       "  </thead>\n",
       "  <tbody>\n",
       "    <tr>\n",
       "      <th>0</th>\n",
       "      <td>0</td>\n",
       "      <td>Vlaams Gewest</td>\n",
       "      <td>Provincie Antwerpen</td>\n",
       "      <td>Arrondissement Antwerpen</td>\n",
       "      <td>1004.25611</td>\n",
       "      <td>1057736</td>\n",
       "      <td>0.092036</td>\n",
       "    </tr>\n",
       "    <tr>\n",
       "      <th>1</th>\n",
       "      <td>1</td>\n",
       "      <td>Vlaams Gewest</td>\n",
       "      <td>Provincie Antwerpen</td>\n",
       "      <td>Arrondissement Mechelen</td>\n",
       "      <td>511.82994</td>\n",
       "      <td>347125</td>\n",
       "      <td>0.030204</td>\n",
       "    </tr>\n",
       "    <tr>\n",
       "      <th>2</th>\n",
       "      <td>2</td>\n",
       "      <td>Vlaams Gewest</td>\n",
       "      <td>Provincie Antwerpen</td>\n",
       "      <td>Arrondissement Turnhout</td>\n",
       "      <td>1360.03269</td>\n",
       "      <td>464869</td>\n",
       "      <td>0.040449</td>\n",
       "    </tr>\n",
       "    <tr>\n",
       "      <th>3</th>\n",
       "      <td>3</td>\n",
       "      <td>Vlaams Gewest</td>\n",
       "      <td>Provincie Vlaams-Brabant</td>\n",
       "      <td>Arrondissement Halle-Vilvoorde</td>\n",
       "      <td>949.10940</td>\n",
       "      <td>643766</td>\n",
       "      <td>0.056015</td>\n",
       "    </tr>\n",
       "    <tr>\n",
       "      <th>4</th>\n",
       "      <td>4</td>\n",
       "      <td>Vlaams Gewest</td>\n",
       "      <td>Provincie Vlaams-Brabant</td>\n",
       "      <td>Arrondissement Leuven</td>\n",
       "      <td>1169.24252</td>\n",
       "      <td>512077</td>\n",
       "      <td>0.044557</td>\n",
       "    </tr>\n",
       "  </tbody>\n",
       "</table>\n",
       "</div>"
      ],
      "text/plain": [
       "   Unnamed: 0         REGION                      PROV  \\\n",
       "0           0  Vlaams Gewest       Provincie Antwerpen   \n",
       "1           1  Vlaams Gewest       Provincie Antwerpen   \n",
       "2           2  Vlaams Gewest       Provincie Antwerpen   \n",
       "3           3  Vlaams Gewest  Provincie Vlaams-Brabant   \n",
       "4           4  Vlaams Gewest  Provincie Vlaams-Brabant   \n",
       "\n",
       "                         ADM_DSTR  TOT_SURFACE  MS_POPULATION  PROPORTION_BE  \n",
       "0        Arrondissement Antwerpen   1004.25611        1057736       0.092036  \n",
       "1         Arrondissement Mechelen    511.82994         347125       0.030204  \n",
       "2         Arrondissement Turnhout   1360.03269         464869       0.040449  \n",
       "3  Arrondissement Halle-Vilvoorde    949.10940         643766       0.056015  \n",
       "4           Arrondissement Leuven   1169.24252         512077       0.044557  "
      ]
     },
     "execution_count": 180,
     "metadata": {},
     "output_type": "execute_result"
    }
   ],
   "source": [
    "dens_2012_prep[\"TOT_SURFACE\"] = dens_2012_prep[\"TOT_SURFACE\"]/100\n",
    "dens_2016_prep[\"TOT_SURFACE\"] = dens_2016_prep[\"TOT_SURFACE\"]/100\n",
    "dens_2017_prep[\"TOT_SURFACE\"] = dens_2017_prep[\"TOT_SURFACE\"]/100\n",
    "dens_2018_prep[\"TOT_SURFACE\"] = dens_2018_prep[\"TOT_SURFACE\"]/100\n",
    "dens_2019_prep[\"TOT_SURFACE\"] = dens_2019_prep[\"TOT_SURFACE\"]/100\n",
    "dens_2020_prep[\"TOT_SURFACE\"] = dens_2020_prep[\"TOT_SURFACE\"]/100\n",
    "dens_2020_prep.head()"
   ]
  },
  {
   "cell_type": "markdown",
   "metadata": {},
   "source": [
    "a) cambiar unidad de medida: cálculo de ha > km2 en la columna relevante (\"TOT_SURFACE\")"
   ]
  },
  {
   "cell_type": "code",
   "execution_count": 181,
   "metadata": {},
   "outputs": [
    {
     "data": {
      "text/html": [
       "<div>\n",
       "<style scoped>\n",
       "    .dataframe tbody tr th:only-of-type {\n",
       "        vertical-align: middle;\n",
       "    }\n",
       "\n",
       "    .dataframe tbody tr th {\n",
       "        vertical-align: top;\n",
       "    }\n",
       "\n",
       "    .dataframe thead th {\n",
       "        text-align: right;\n",
       "    }\n",
       "</style>\n",
       "<table border=\"1\" class=\"dataframe\">\n",
       "  <thead>\n",
       "    <tr style=\"text-align: right;\">\n",
       "      <th></th>\n",
       "      <th>Unnamed: 0</th>\n",
       "      <th>REGION</th>\n",
       "      <th>PROV</th>\n",
       "      <th>ADM_DSTR</th>\n",
       "      <th>TOT_SURFACE</th>\n",
       "      <th>MS_POPULATION</th>\n",
       "      <th>PROPORTION_BE</th>\n",
       "    </tr>\n",
       "  </thead>\n",
       "  <tbody>\n",
       "    <tr>\n",
       "      <th>0</th>\n",
       "      <td>0</td>\n",
       "      <td>Vlaams Gewest</td>\n",
       "      <td>Provincie Antwerpen</td>\n",
       "      <td>Arrondissement Antwerpen</td>\n",
       "      <td>1004.25611</td>\n",
       "      <td>1057736</td>\n",
       "      <td>0.092036</td>\n",
       "    </tr>\n",
       "    <tr>\n",
       "      <th>1</th>\n",
       "      <td>1</td>\n",
       "      <td>Vlaams Gewest</td>\n",
       "      <td>Provincie Antwerpen</td>\n",
       "      <td>Arrondissement Mechelen</td>\n",
       "      <td>511.82994</td>\n",
       "      <td>347125</td>\n",
       "      <td>0.030204</td>\n",
       "    </tr>\n",
       "    <tr>\n",
       "      <th>2</th>\n",
       "      <td>2</td>\n",
       "      <td>Vlaams Gewest</td>\n",
       "      <td>Provincie Antwerpen</td>\n",
       "      <td>Arrondissement Turnhout</td>\n",
       "      <td>1360.03269</td>\n",
       "      <td>464869</td>\n",
       "      <td>0.040449</td>\n",
       "    </tr>\n",
       "    <tr>\n",
       "      <th>3</th>\n",
       "      <td>3</td>\n",
       "      <td>Vlaams Gewest</td>\n",
       "      <td>Provincie Vlaams-Brabant</td>\n",
       "      <td>Arrondissement Halle-Vilvoorde</td>\n",
       "      <td>949.10940</td>\n",
       "      <td>643766</td>\n",
       "      <td>0.056015</td>\n",
       "    </tr>\n",
       "    <tr>\n",
       "      <th>4</th>\n",
       "      <td>4</td>\n",
       "      <td>Vlaams Gewest</td>\n",
       "      <td>Provincie Vlaams-Brabant</td>\n",
       "      <td>Arrondissement Leuven</td>\n",
       "      <td>1169.24252</td>\n",
       "      <td>512077</td>\n",
       "      <td>0.044557</td>\n",
       "    </tr>\n",
       "  </tbody>\n",
       "</table>\n",
       "</div>"
      ],
      "text/plain": [
       "   Unnamed: 0         REGION                      PROV  \\\n",
       "0           0  Vlaams Gewest       Provincie Antwerpen   \n",
       "1           1  Vlaams Gewest       Provincie Antwerpen   \n",
       "2           2  Vlaams Gewest       Provincie Antwerpen   \n",
       "3           3  Vlaams Gewest  Provincie Vlaams-Brabant   \n",
       "4           4  Vlaams Gewest  Provincie Vlaams-Brabant   \n",
       "\n",
       "                         ADM_DSTR  TOT_SURFACE  MS_POPULATION  PROPORTION_BE  \n",
       "0        Arrondissement Antwerpen   1004.25611        1057736       0.092036  \n",
       "1         Arrondissement Mechelen    511.82994         347125       0.030204  \n",
       "2         Arrondissement Turnhout   1360.03269         464869       0.040449  \n",
       "3  Arrondissement Halle-Vilvoorde    949.10940         643766       0.056015  \n",
       "4           Arrondissement Leuven   1169.24252         512077       0.044557  "
      ]
     },
     "execution_count": 181,
     "metadata": {},
     "output_type": "execute_result"
    }
   ],
   "source": [
    "#fijamos el df con la adaptación de TOT_SURFACE a km2\n",
    "dens_2020_prep.head()"
   ]
  },
  {
   "cell_type": "markdown",
   "metadata": {},
   "source": [
    "b) layout de títulos de columnas:  \n",
    "- añadir unidad de medida de manera explícita en la columna de superificie: TOT_SURFACE(km2)  \n",
    "- especificar que la proporción concierne a la población: PROPORTION_POP_BE"
   ]
  },
  {
   "cell_type": "code",
   "execution_count": 182,
   "metadata": {},
   "outputs": [
    {
     "data": {
      "text/html": [
       "<div>\n",
       "<style scoped>\n",
       "    .dataframe tbody tr th:only-of-type {\n",
       "        vertical-align: middle;\n",
       "    }\n",
       "\n",
       "    .dataframe tbody tr th {\n",
       "        vertical-align: top;\n",
       "    }\n",
       "\n",
       "    .dataframe thead th {\n",
       "        text-align: right;\n",
       "    }\n",
       "</style>\n",
       "<table border=\"1\" class=\"dataframe\">\n",
       "  <thead>\n",
       "    <tr style=\"text-align: right;\">\n",
       "      <th></th>\n",
       "      <th>Unnamed: 0</th>\n",
       "      <th>REGION</th>\n",
       "      <th>PROV</th>\n",
       "      <th>ADM_DSTR</th>\n",
       "      <th>TOT_SURFACE(km2)</th>\n",
       "      <th>MS_POPULATION</th>\n",
       "      <th>PROPORTION_POP_BE</th>\n",
       "    </tr>\n",
       "  </thead>\n",
       "  <tbody>\n",
       "    <tr>\n",
       "      <th>0</th>\n",
       "      <td>0</td>\n",
       "      <td>Vlaams Gewest</td>\n",
       "      <td>Provincie Antwerpen</td>\n",
       "      <td>Arrondissement Antwerpen</td>\n",
       "      <td>1004.25611</td>\n",
       "      <td>1057736</td>\n",
       "      <td>0.092036</td>\n",
       "    </tr>\n",
       "    <tr>\n",
       "      <th>1</th>\n",
       "      <td>1</td>\n",
       "      <td>Vlaams Gewest</td>\n",
       "      <td>Provincie Antwerpen</td>\n",
       "      <td>Arrondissement Mechelen</td>\n",
       "      <td>511.82994</td>\n",
       "      <td>347125</td>\n",
       "      <td>0.030204</td>\n",
       "    </tr>\n",
       "    <tr>\n",
       "      <th>2</th>\n",
       "      <td>2</td>\n",
       "      <td>Vlaams Gewest</td>\n",
       "      <td>Provincie Antwerpen</td>\n",
       "      <td>Arrondissement Turnhout</td>\n",
       "      <td>1360.03269</td>\n",
       "      <td>464869</td>\n",
       "      <td>0.040449</td>\n",
       "    </tr>\n",
       "    <tr>\n",
       "      <th>3</th>\n",
       "      <td>3</td>\n",
       "      <td>Vlaams Gewest</td>\n",
       "      <td>Provincie Vlaams-Brabant</td>\n",
       "      <td>Arrondissement Halle-Vilvoorde</td>\n",
       "      <td>949.10940</td>\n",
       "      <td>643766</td>\n",
       "      <td>0.056015</td>\n",
       "    </tr>\n",
       "    <tr>\n",
       "      <th>4</th>\n",
       "      <td>4</td>\n",
       "      <td>Vlaams Gewest</td>\n",
       "      <td>Provincie Vlaams-Brabant</td>\n",
       "      <td>Arrondissement Leuven</td>\n",
       "      <td>1169.24252</td>\n",
       "      <td>512077</td>\n",
       "      <td>0.044557</td>\n",
       "    </tr>\n",
       "  </tbody>\n",
       "</table>\n",
       "</div>"
      ],
      "text/plain": [
       "   Unnamed: 0         REGION                      PROV  \\\n",
       "0           0  Vlaams Gewest       Provincie Antwerpen   \n",
       "1           1  Vlaams Gewest       Provincie Antwerpen   \n",
       "2           2  Vlaams Gewest       Provincie Antwerpen   \n",
       "3           3  Vlaams Gewest  Provincie Vlaams-Brabant   \n",
       "4           4  Vlaams Gewest  Provincie Vlaams-Brabant   \n",
       "\n",
       "                         ADM_DSTR  TOT_SURFACE(km2)  MS_POPULATION  \\\n",
       "0        Arrondissement Antwerpen        1004.25611        1057736   \n",
       "1         Arrondissement Mechelen         511.82994         347125   \n",
       "2         Arrondissement Turnhout        1360.03269         464869   \n",
       "3  Arrondissement Halle-Vilvoorde         949.10940         643766   \n",
       "4           Arrondissement Leuven        1169.24252         512077   \n",
       "\n",
       "   PROPORTION_POP_BE  \n",
       "0           0.092036  \n",
       "1           0.030204  \n",
       "2           0.040449  \n",
       "3           0.056015  \n",
       "4           0.044557  "
      ]
     },
     "execution_count": 182,
     "metadata": {},
     "output_type": "execute_result"
    }
   ],
   "source": [
    "dens_2012_prep = dens_2012_prep.rename(columns={\"TOT_SURFACE\":\"TOT_SURFACE(km2)\", \"PROPORTION_BE\":\"PROPORTION_POP_BE\"})\n",
    "dens_2016_prep = dens_2016_prep.rename(columns={\"TOT_SURFACE\":\"TOT_SURFACE(km2)\", \"PROPORTION_BE\":\"PROPORTION_POP_BE\"})\n",
    "dens_2017_prep = dens_2017_prep.rename(columns={\"TOT_SURFACE\":\"TOT_SURFACE(km2)\", \"PROPORTION_BE\":\"PROPORTION_POP_BE\"})\n",
    "dens_2018_prep = dens_2018_prep.rename(columns={\"TOT_SURFACE\":\"TOT_SURFACE(km2)\", \"PROPORTION_BE\":\"PROPORTION_POP_BE\"})\n",
    "dens_2019_prep = dens_2019_prep.rename(columns={\"TOT_SURFACE\":\"TOT_SURFACE(km2)\", \"PROPORTION_BE\":\"PROPORTION_POP_BE\"})\n",
    "dens_2020_prep = dens_2020_prep.rename(columns={\"TOT_SURFACE\":\"TOT_SURFACE(km2)\", \"PROPORTION_BE\":\"PROPORTION_POP_BE\"})\n",
    "dens_2020_prep.head()"
   ]
  },
  {
   "cell_type": "markdown",
   "metadata": {},
   "source": [
    "### II.3.2. Cálculo de la densidad por distrito"
   ]
  },
  {
   "cell_type": "markdown",
   "metadata": {},
   "source": [
    "a) cálculo "
   ]
  },
  {
   "cell_type": "code",
   "execution_count": 146,
   "metadata": {},
   "outputs": [],
   "source": [
    "#a continuacion seguiremos usando las variables solo a nivel de distrito\n",
    "dens_2012_xarr = dens_2012_prep\n",
    "dens_2016_xarr = dens_2016_prep\n",
    "dens_2017_xarr = dens_2017_prep\n",
    "dens_2018_xarr = dens_2018_prep\n",
    "dens_2019_xarr = dens_2019_prep\n",
    "dens_2020_xarr = dens_2020_prep"
   ]
  },
  {
   "cell_type": "code",
   "execution_count": 147,
   "metadata": {},
   "outputs": [
    {
     "data": {
      "text/html": [
       "<div>\n",
       "<style scoped>\n",
       "    .dataframe tbody tr th:only-of-type {\n",
       "        vertical-align: middle;\n",
       "    }\n",
       "\n",
       "    .dataframe tbody tr th {\n",
       "        vertical-align: top;\n",
       "    }\n",
       "\n",
       "    .dataframe thead th {\n",
       "        text-align: right;\n",
       "    }\n",
       "</style>\n",
       "<table border=\"1\" class=\"dataframe\">\n",
       "  <thead>\n",
       "    <tr style=\"text-align: right;\">\n",
       "      <th></th>\n",
       "      <th>Unnamed: 0</th>\n",
       "      <th>REGION</th>\n",
       "      <th>PROV</th>\n",
       "      <th>ADM_DSTR</th>\n",
       "      <th>TOT_SURFACE(km2)</th>\n",
       "      <th>MS_POPULATION</th>\n",
       "      <th>PROPORTION_POP_BE</th>\n",
       "      <th>DENSITY(hab/km2)</th>\n",
       "    </tr>\n",
       "  </thead>\n",
       "  <tbody>\n",
       "    <tr>\n",
       "      <th>0</th>\n",
       "      <td>0</td>\n",
       "      <td>Vlaams Gewest</td>\n",
       "      <td>Provincie Antwerpen</td>\n",
       "      <td>Arrondissement Antwerpen</td>\n",
       "      <td>1004.25611</td>\n",
       "      <td>1057736</td>\n",
       "      <td>0.092036</td>\n",
       "      <td>1053.253238</td>\n",
       "    </tr>\n",
       "    <tr>\n",
       "      <th>1</th>\n",
       "      <td>1</td>\n",
       "      <td>Vlaams Gewest</td>\n",
       "      <td>Provincie Antwerpen</td>\n",
       "      <td>Arrondissement Mechelen</td>\n",
       "      <td>511.82994</td>\n",
       "      <td>347125</td>\n",
       "      <td>0.030204</td>\n",
       "      <td>678.203780</td>\n",
       "    </tr>\n",
       "    <tr>\n",
       "      <th>2</th>\n",
       "      <td>2</td>\n",
       "      <td>Vlaams Gewest</td>\n",
       "      <td>Provincie Antwerpen</td>\n",
       "      <td>Arrondissement Turnhout</td>\n",
       "      <td>1360.03269</td>\n",
       "      <td>464869</td>\n",
       "      <td>0.040449</td>\n",
       "      <td>341.807225</td>\n",
       "    </tr>\n",
       "    <tr>\n",
       "      <th>3</th>\n",
       "      <td>3</td>\n",
       "      <td>Vlaams Gewest</td>\n",
       "      <td>Provincie Vlaams-Brabant</td>\n",
       "      <td>Arrondissement Halle-Vilvoorde</td>\n",
       "      <td>949.10940</td>\n",
       "      <td>643766</td>\n",
       "      <td>0.056015</td>\n",
       "      <td>678.284295</td>\n",
       "    </tr>\n",
       "    <tr>\n",
       "      <th>4</th>\n",
       "      <td>4</td>\n",
       "      <td>Vlaams Gewest</td>\n",
       "      <td>Provincie Vlaams-Brabant</td>\n",
       "      <td>Arrondissement Leuven</td>\n",
       "      <td>1169.24252</td>\n",
       "      <td>512077</td>\n",
       "      <td>0.044557</td>\n",
       "      <td>437.956191</td>\n",
       "    </tr>\n",
       "  </tbody>\n",
       "</table>\n",
       "</div>"
      ],
      "text/plain": [
       "   Unnamed: 0         REGION                      PROV  \\\n",
       "0           0  Vlaams Gewest       Provincie Antwerpen   \n",
       "1           1  Vlaams Gewest       Provincie Antwerpen   \n",
       "2           2  Vlaams Gewest       Provincie Antwerpen   \n",
       "3           3  Vlaams Gewest  Provincie Vlaams-Brabant   \n",
       "4           4  Vlaams Gewest  Provincie Vlaams-Brabant   \n",
       "\n",
       "                         ADM_DSTR  TOT_SURFACE(km2)  MS_POPULATION  \\\n",
       "0        Arrondissement Antwerpen        1004.25611        1057736   \n",
       "1         Arrondissement Mechelen         511.82994         347125   \n",
       "2         Arrondissement Turnhout        1360.03269         464869   \n",
       "3  Arrondissement Halle-Vilvoorde         949.10940         643766   \n",
       "4           Arrondissement Leuven        1169.24252         512077   \n",
       "\n",
       "   PROPORTION_POP_BE  DENSITY(hab/km2)  \n",
       "0           0.092036       1053.253238  \n",
       "1           0.030204        678.203780  \n",
       "2           0.040449        341.807225  \n",
       "3           0.056015        678.284295  \n",
       "4           0.044557        437.956191  "
      ]
     },
     "execution_count": 147,
     "metadata": {},
     "output_type": "execute_result"
    }
   ],
   "source": [
    "dens_2012_xarr[\"DENSITY(hab/km2)\"] = dens_2012_xarr[\"MS_POPULATION\"]/dens_2012_xarr[\"TOT_SURFACE(km2)\"]\n",
    "dens_2016_xarr[\"DENSITY(hab/km2)\"] = dens_2016_xarr[\"MS_POPULATION\"]/dens_2016_xarr[\"TOT_SURFACE(km2)\"]\n",
    "dens_2017_xarr[\"DENSITY(hab/km2)\"] = dens_2017_xarr[\"MS_POPULATION\"]/dens_2017_xarr[\"TOT_SURFACE(km2)\"]\n",
    "dens_2018_xarr[\"DENSITY(hab/km2)\"] = dens_2018_xarr[\"MS_POPULATION\"]/dens_2018_xarr[\"TOT_SURFACE(km2)\"]\n",
    "dens_2019_xarr[\"DENSITY(hab/km2)\"] = dens_2019_xarr[\"MS_POPULATION\"]/dens_2019_xarr[\"TOT_SURFACE(km2)\"]\n",
    "dens_2020_xarr[\"DENSITY(hab/km2)\"] = dens_2020_xarr[\"MS_POPULATION\"]/dens_2020_xarr[\"TOT_SURFACE(km2)\"]\n",
    "dens_2020_xarr.head()"
   ]
  },
  {
   "cell_type": "markdown",
   "metadata": {},
   "source": [
    "b) limpieza: deshacernos de columnas que se han vuelto irrelevantes para el uso futuro de dens_2020"
   ]
  },
  {
   "cell_type": "code",
   "execution_count": 148,
   "metadata": {},
   "outputs": [
    {
     "data": {
      "text/html": [
       "<div>\n",
       "<style scoped>\n",
       "    .dataframe tbody tr th:only-of-type {\n",
       "        vertical-align: middle;\n",
       "    }\n",
       "\n",
       "    .dataframe tbody tr th {\n",
       "        vertical-align: top;\n",
       "    }\n",
       "\n",
       "    .dataframe thead th {\n",
       "        text-align: right;\n",
       "    }\n",
       "</style>\n",
       "<table border=\"1\" class=\"dataframe\">\n",
       "  <thead>\n",
       "    <tr style=\"text-align: right;\">\n",
       "      <th></th>\n",
       "      <th>Unnamed: 0</th>\n",
       "      <th>REGION</th>\n",
       "      <th>PROV</th>\n",
       "      <th>ADM_DSTR</th>\n",
       "      <th>PROPORTION_POP_BE</th>\n",
       "      <th>DENSITY(hab/km2)</th>\n",
       "    </tr>\n",
       "  </thead>\n",
       "  <tbody>\n",
       "    <tr>\n",
       "      <th>0</th>\n",
       "      <td>0</td>\n",
       "      <td>Vlaams Gewest</td>\n",
       "      <td>Provincie Antwerpen</td>\n",
       "      <td>Arrondissement Antwerpen</td>\n",
       "      <td>0.092036</td>\n",
       "      <td>1053.253238</td>\n",
       "    </tr>\n",
       "    <tr>\n",
       "      <th>1</th>\n",
       "      <td>1</td>\n",
       "      <td>Vlaams Gewest</td>\n",
       "      <td>Provincie Antwerpen</td>\n",
       "      <td>Arrondissement Mechelen</td>\n",
       "      <td>0.030204</td>\n",
       "      <td>678.203780</td>\n",
       "    </tr>\n",
       "    <tr>\n",
       "      <th>2</th>\n",
       "      <td>2</td>\n",
       "      <td>Vlaams Gewest</td>\n",
       "      <td>Provincie Antwerpen</td>\n",
       "      <td>Arrondissement Turnhout</td>\n",
       "      <td>0.040449</td>\n",
       "      <td>341.807225</td>\n",
       "    </tr>\n",
       "    <tr>\n",
       "      <th>3</th>\n",
       "      <td>3</td>\n",
       "      <td>Vlaams Gewest</td>\n",
       "      <td>Provincie Vlaams-Brabant</td>\n",
       "      <td>Arrondissement Halle-Vilvoorde</td>\n",
       "      <td>0.056015</td>\n",
       "      <td>678.284295</td>\n",
       "    </tr>\n",
       "    <tr>\n",
       "      <th>4</th>\n",
       "      <td>4</td>\n",
       "      <td>Vlaams Gewest</td>\n",
       "      <td>Provincie Vlaams-Brabant</td>\n",
       "      <td>Arrondissement Leuven</td>\n",
       "      <td>0.044557</td>\n",
       "      <td>437.956191</td>\n",
       "    </tr>\n",
       "    <tr>\n",
       "      <th>5</th>\n",
       "      <td>5</td>\n",
       "      <td>Vlaams Gewest</td>\n",
       "      <td>Provincie West-Vlaanderen</td>\n",
       "      <td>Arrondissement Brugge</td>\n",
       "      <td>0.024602</td>\n",
       "      <td>419.973462</td>\n",
       "    </tr>\n",
       "    <tr>\n",
       "      <th>6</th>\n",
       "      <td>6</td>\n",
       "      <td>Vlaams Gewest</td>\n",
       "      <td>Provincie West-Vlaanderen</td>\n",
       "      <td>Arrondissement Diksmuide</td>\n",
       "      <td>0.004498</td>\n",
       "      <td>141.622420</td>\n",
       "    </tr>\n",
       "    <tr>\n",
       "      <th>7</th>\n",
       "      <td>7</td>\n",
       "      <td>Vlaams Gewest</td>\n",
       "      <td>Provincie West-Vlaanderen</td>\n",
       "      <td>Arrondissement Ieper</td>\n",
       "      <td>0.009273</td>\n",
       "      <td>192.463423</td>\n",
       "    </tr>\n",
       "    <tr>\n",
       "      <th>8</th>\n",
       "      <td>8</td>\n",
       "      <td>Vlaams Gewest</td>\n",
       "      <td>Provincie West-Vlaanderen</td>\n",
       "      <td>Arrondissement Kortrijk</td>\n",
       "      <td>0.025450</td>\n",
       "      <td>720.173250</td>\n",
       "    </tr>\n",
       "    <tr>\n",
       "      <th>9</th>\n",
       "      <td>9</td>\n",
       "      <td>Vlaams Gewest</td>\n",
       "      <td>Provincie West-Vlaanderen</td>\n",
       "      <td>Arrondissement Oostende</td>\n",
       "      <td>0.013729</td>\n",
       "      <td>517.983954</td>\n",
       "    </tr>\n",
       "    <tr>\n",
       "      <th>10</th>\n",
       "      <td>10</td>\n",
       "      <td>Vlaams Gewest</td>\n",
       "      <td>Provincie West-Vlaanderen</td>\n",
       "      <td>Arrondissement Roeselare</td>\n",
       "      <td>0.013443</td>\n",
       "      <td>564.217390</td>\n",
       "    </tr>\n",
       "    <tr>\n",
       "      <th>11</th>\n",
       "      <td>11</td>\n",
       "      <td>Vlaams Gewest</td>\n",
       "      <td>Provincie West-Vlaanderen</td>\n",
       "      <td>Arrondissement Tielt</td>\n",
       "      <td>0.008129</td>\n",
       "      <td>281.547936</td>\n",
       "    </tr>\n",
       "    <tr>\n",
       "      <th>12</th>\n",
       "      <td>12</td>\n",
       "      <td>Vlaams Gewest</td>\n",
       "      <td>Provincie West-Vlaanderen</td>\n",
       "      <td>Arrondissement Veurne</td>\n",
       "      <td>0.005372</td>\n",
       "      <td>214.231533</td>\n",
       "    </tr>\n",
       "    <tr>\n",
       "      <th>13</th>\n",
       "      <td>13</td>\n",
       "      <td>Vlaams Gewest</td>\n",
       "      <td>Provincie Oost-Vlaanderen</td>\n",
       "      <td>Arrondissement Aalst</td>\n",
       "      <td>0.025551</td>\n",
       "      <td>620.908472</td>\n",
       "    </tr>\n",
       "    <tr>\n",
       "      <th>14</th>\n",
       "      <td>14</td>\n",
       "      <td>Vlaams Gewest</td>\n",
       "      <td>Provincie Oost-Vlaanderen</td>\n",
       "      <td>Arrondissement Dendermonde</td>\n",
       "      <td>0.017612</td>\n",
       "      <td>584.044618</td>\n",
       "    </tr>\n",
       "    <tr>\n",
       "      <th>15</th>\n",
       "      <td>15</td>\n",
       "      <td>Vlaams Gewest</td>\n",
       "      <td>Provincie Oost-Vlaanderen</td>\n",
       "      <td>Arrondissement Eeklo</td>\n",
       "      <td>0.007456</td>\n",
       "      <td>255.398471</td>\n",
       "    </tr>\n",
       "    <tr>\n",
       "      <th>16</th>\n",
       "      <td>16</td>\n",
       "      <td>Vlaams Gewest</td>\n",
       "      <td>Provincie Oost-Vlaanderen</td>\n",
       "      <td>Arrondissement Gent</td>\n",
       "      <td>0.049079</td>\n",
       "      <td>593.940564</td>\n",
       "    </tr>\n",
       "    <tr>\n",
       "      <th>17</th>\n",
       "      <td>17</td>\n",
       "      <td>Vlaams Gewest</td>\n",
       "      <td>Provincie Oost-Vlaanderen</td>\n",
       "      <td>Arrondissement Oudenaarde</td>\n",
       "      <td>0.010843</td>\n",
       "      <td>294.675339</td>\n",
       "    </tr>\n",
       "    <tr>\n",
       "      <th>18</th>\n",
       "      <td>18</td>\n",
       "      <td>Vlaams Gewest</td>\n",
       "      <td>Provincie Oost-Vlaanderen</td>\n",
       "      <td>Arrondissement Sint-Niklaas</td>\n",
       "      <td>0.022175</td>\n",
       "      <td>531.490483</td>\n",
       "    </tr>\n",
       "    <tr>\n",
       "      <th>19</th>\n",
       "      <td>19</td>\n",
       "      <td>Vlaams Gewest</td>\n",
       "      <td>Provincie Limburg</td>\n",
       "      <td>Arrondissement Hasselt</td>\n",
       "      <td>0.036572</td>\n",
       "      <td>475.538158</td>\n",
       "    </tr>\n",
       "    <tr>\n",
       "      <th>20</th>\n",
       "      <td>20</td>\n",
       "      <td>Vlaams Gewest</td>\n",
       "      <td>Provincie Limburg</td>\n",
       "      <td>Arrondissement Maaseik</td>\n",
       "      <td>0.021937</td>\n",
       "      <td>276.914173</td>\n",
       "    </tr>\n",
       "    <tr>\n",
       "      <th>21</th>\n",
       "      <td>21</td>\n",
       "      <td>Vlaams Gewest</td>\n",
       "      <td>Provincie Limburg</td>\n",
       "      <td>Arrondissement Tongeren</td>\n",
       "      <td>0.017833</td>\n",
       "      <td>323.704848</td>\n",
       "    </tr>\n",
       "    <tr>\n",
       "      <th>22</th>\n",
       "      <td>22</td>\n",
       "      <td>Brussels Hoofdstedelijk Gewest</td>\n",
       "      <td>Arr. Brussel-Hfdstad[no Prov]</td>\n",
       "      <td>Arrondissement Brussel-Hoofdstad</td>\n",
       "      <td>0.106003</td>\n",
       "      <td>7500.656170</td>\n",
       "    </tr>\n",
       "    <tr>\n",
       "      <th>23</th>\n",
       "      <td>23</td>\n",
       "      <td>Waals Gewest</td>\n",
       "      <td>Provincie Waals-Brabant</td>\n",
       "      <td>Arrondissement Nijvel</td>\n",
       "      <td>0.035329</td>\n",
       "      <td>370.051318</td>\n",
       "    </tr>\n",
       "    <tr>\n",
       "      <th>24</th>\n",
       "      <td>24</td>\n",
       "      <td>Waals Gewest</td>\n",
       "      <td>Provincie Henegouwen</td>\n",
       "      <td>Arrondissement Aat</td>\n",
       "      <td>0.011178</td>\n",
       "      <td>191.222818</td>\n",
       "    </tr>\n",
       "    <tr>\n",
       "      <th>25</th>\n",
       "      <td>25</td>\n",
       "      <td>Waals Gewest</td>\n",
       "      <td>Provincie Henegouwen</td>\n",
       "      <td>Arrondissement Charleroi</td>\n",
       "      <td>0.034541</td>\n",
       "      <td>834.067747</td>\n",
       "    </tr>\n",
       "    <tr>\n",
       "      <th>26</th>\n",
       "      <td>26</td>\n",
       "      <td>Waals Gewest</td>\n",
       "      <td>Provincie Henegouwen</td>\n",
       "      <td>Arrondissement Bergen</td>\n",
       "      <td>0.022557</td>\n",
       "      <td>440.551588</td>\n",
       "    </tr>\n",
       "    <tr>\n",
       "      <th>27</th>\n",
       "      <td>27</td>\n",
       "      <td>Waals Gewest</td>\n",
       "      <td>Provincie Henegouwen</td>\n",
       "      <td>Arrondissement Zinnik</td>\n",
       "      <td>0.009152</td>\n",
       "      <td>294.119103</td>\n",
       "    </tr>\n",
       "    <tr>\n",
       "      <th>28</th>\n",
       "      <td>28</td>\n",
       "      <td>Waals Gewest</td>\n",
       "      <td>Provincie Henegouwen</td>\n",
       "      <td>Arrondissement Thuin</td>\n",
       "      <td>0.007981</td>\n",
       "      <td>116.840729</td>\n",
       "    </tr>\n",
       "    <tr>\n",
       "      <th>29</th>\n",
       "      <td>29</td>\n",
       "      <td>Waals Gewest</td>\n",
       "      <td>Provincie Henegouwen</td>\n",
       "      <td>Arrondissement Doornik-Moeskroen</td>\n",
       "      <td>0.019473</td>\n",
       "      <td>313.210307</td>\n",
       "    </tr>\n",
       "    <tr>\n",
       "      <th>30</th>\n",
       "      <td>30</td>\n",
       "      <td>Waals Gewest</td>\n",
       "      <td>Provincie Henegouwen</td>\n",
       "      <td>Arrondissement La Louvière</td>\n",
       "      <td>0.012310</td>\n",
       "      <td>644.658008</td>\n",
       "    </tr>\n",
       "    <tr>\n",
       "      <th>31</th>\n",
       "      <td>31</td>\n",
       "      <td>Waals Gewest</td>\n",
       "      <td>Provincie Luik</td>\n",
       "      <td>Arrondissement Hoei</td>\n",
       "      <td>0.009908</td>\n",
       "      <td>172.215369</td>\n",
       "    </tr>\n",
       "    <tr>\n",
       "      <th>32</th>\n",
       "      <td>32</td>\n",
       "      <td>Waals Gewest</td>\n",
       "      <td>Provincie Luik</td>\n",
       "      <td>Arrondissement Luik</td>\n",
       "      <td>0.054449</td>\n",
       "      <td>786.224417</td>\n",
       "    </tr>\n",
       "    <tr>\n",
       "      <th>33</th>\n",
       "      <td>33</td>\n",
       "      <td>Waals Gewest</td>\n",
       "      <td>Provincie Luik</td>\n",
       "      <td>Arrondissement Verviers</td>\n",
       "      <td>0.025084</td>\n",
       "      <td>143.449827</td>\n",
       "    </tr>\n",
       "    <tr>\n",
       "      <th>34</th>\n",
       "      <td>34</td>\n",
       "      <td>Waals Gewest</td>\n",
       "      <td>Provincie Luik</td>\n",
       "      <td>Arrondissement Borgworm</td>\n",
       "      <td>0.007125</td>\n",
       "      <td>209.752963</td>\n",
       "    </tr>\n",
       "    <tr>\n",
       "      <th>35</th>\n",
       "      <td>35</td>\n",
       "      <td>Waals Gewest</td>\n",
       "      <td>Provincie Luxemburg</td>\n",
       "      <td>Arrondissement Aarlen</td>\n",
       "      <td>0.005481</td>\n",
       "      <td>197.566714</td>\n",
       "    </tr>\n",
       "    <tr>\n",
       "      <th>36</th>\n",
       "      <td>36</td>\n",
       "      <td>Waals Gewest</td>\n",
       "      <td>Provincie Luxemburg</td>\n",
       "      <td>Arrondissement Bastenaken</td>\n",
       "      <td>0.004271</td>\n",
       "      <td>46.897626</td>\n",
       "    </tr>\n",
       "    <tr>\n",
       "      <th>37</th>\n",
       "      <td>37</td>\n",
       "      <td>Waals Gewest</td>\n",
       "      <td>Provincie Luxemburg</td>\n",
       "      <td>Arrondissement Marche-en-Famenne</td>\n",
       "      <td>0.004940</td>\n",
       "      <td>59.255685</td>\n",
       "    </tr>\n",
       "    <tr>\n",
       "      <th>38</th>\n",
       "      <td>38</td>\n",
       "      <td>Waals Gewest</td>\n",
       "      <td>Provincie Luxemburg</td>\n",
       "      <td>Arrondissement Neufchâteau</td>\n",
       "      <td>0.005548</td>\n",
       "      <td>46.938023</td>\n",
       "    </tr>\n",
       "    <tr>\n",
       "      <th>39</th>\n",
       "      <td>39</td>\n",
       "      <td>Waals Gewest</td>\n",
       "      <td>Provincie Luxemburg</td>\n",
       "      <td>Arrondissement Virton</td>\n",
       "      <td>0.004711</td>\n",
       "      <td>69.652388</td>\n",
       "    </tr>\n",
       "    <tr>\n",
       "      <th>40</th>\n",
       "      <td>40</td>\n",
       "      <td>Waals Gewest</td>\n",
       "      <td>Provincie Namen</td>\n",
       "      <td>Arrondissement Dinant</td>\n",
       "      <td>0.009683</td>\n",
       "      <td>69.718953</td>\n",
       "    </tr>\n",
       "    <tr>\n",
       "      <th>41</th>\n",
       "      <td>41</td>\n",
       "      <td>Waals Gewest</td>\n",
       "      <td>Provincie Namen</td>\n",
       "      <td>Arrondissement Namen</td>\n",
       "      <td>0.027690</td>\n",
       "      <td>272.529076</td>\n",
       "    </tr>\n",
       "    <tr>\n",
       "      <th>42</th>\n",
       "      <td>42</td>\n",
       "      <td>Waals Gewest</td>\n",
       "      <td>Provincie Namen</td>\n",
       "      <td>Arrondissement Philippeville</td>\n",
       "      <td>0.005770</td>\n",
       "      <td>72.800462</td>\n",
       "    </tr>\n",
       "  </tbody>\n",
       "</table>\n",
       "</div>"
      ],
      "text/plain": [
       "    Unnamed: 0                          REGION                           PROV  \\\n",
       "0            0                   Vlaams Gewest            Provincie Antwerpen   \n",
       "1            1                   Vlaams Gewest            Provincie Antwerpen   \n",
       "2            2                   Vlaams Gewest            Provincie Antwerpen   \n",
       "3            3                   Vlaams Gewest       Provincie Vlaams-Brabant   \n",
       "4            4                   Vlaams Gewest       Provincie Vlaams-Brabant   \n",
       "5            5                   Vlaams Gewest      Provincie West-Vlaanderen   \n",
       "6            6                   Vlaams Gewest      Provincie West-Vlaanderen   \n",
       "7            7                   Vlaams Gewest      Provincie West-Vlaanderen   \n",
       "8            8                   Vlaams Gewest      Provincie West-Vlaanderen   \n",
       "9            9                   Vlaams Gewest      Provincie West-Vlaanderen   \n",
       "10          10                   Vlaams Gewest      Provincie West-Vlaanderen   \n",
       "11          11                   Vlaams Gewest      Provincie West-Vlaanderen   \n",
       "12          12                   Vlaams Gewest      Provincie West-Vlaanderen   \n",
       "13          13                   Vlaams Gewest      Provincie Oost-Vlaanderen   \n",
       "14          14                   Vlaams Gewest      Provincie Oost-Vlaanderen   \n",
       "15          15                   Vlaams Gewest      Provincie Oost-Vlaanderen   \n",
       "16          16                   Vlaams Gewest      Provincie Oost-Vlaanderen   \n",
       "17          17                   Vlaams Gewest      Provincie Oost-Vlaanderen   \n",
       "18          18                   Vlaams Gewest      Provincie Oost-Vlaanderen   \n",
       "19          19                   Vlaams Gewest              Provincie Limburg   \n",
       "20          20                   Vlaams Gewest              Provincie Limburg   \n",
       "21          21                   Vlaams Gewest              Provincie Limburg   \n",
       "22          22  Brussels Hoofdstedelijk Gewest  Arr. Brussel-Hfdstad[no Prov]   \n",
       "23          23                    Waals Gewest        Provincie Waals-Brabant   \n",
       "24          24                    Waals Gewest           Provincie Henegouwen   \n",
       "25          25                    Waals Gewest           Provincie Henegouwen   \n",
       "26          26                    Waals Gewest           Provincie Henegouwen   \n",
       "27          27                    Waals Gewest           Provincie Henegouwen   \n",
       "28          28                    Waals Gewest           Provincie Henegouwen   \n",
       "29          29                    Waals Gewest           Provincie Henegouwen   \n",
       "30          30                    Waals Gewest           Provincie Henegouwen   \n",
       "31          31                    Waals Gewest                 Provincie Luik   \n",
       "32          32                    Waals Gewest                 Provincie Luik   \n",
       "33          33                    Waals Gewest                 Provincie Luik   \n",
       "34          34                    Waals Gewest                 Provincie Luik   \n",
       "35          35                    Waals Gewest            Provincie Luxemburg   \n",
       "36          36                    Waals Gewest            Provincie Luxemburg   \n",
       "37          37                    Waals Gewest            Provincie Luxemburg   \n",
       "38          38                    Waals Gewest            Provincie Luxemburg   \n",
       "39          39                    Waals Gewest            Provincie Luxemburg   \n",
       "40          40                    Waals Gewest                Provincie Namen   \n",
       "41          41                    Waals Gewest                Provincie Namen   \n",
       "42          42                    Waals Gewest                Provincie Namen   \n",
       "\n",
       "                            ADM_DSTR  PROPORTION_POP_BE  DENSITY(hab/km2)  \n",
       "0           Arrondissement Antwerpen           0.092036       1053.253238  \n",
       "1            Arrondissement Mechelen           0.030204        678.203780  \n",
       "2            Arrondissement Turnhout           0.040449        341.807225  \n",
       "3     Arrondissement Halle-Vilvoorde           0.056015        678.284295  \n",
       "4              Arrondissement Leuven           0.044557        437.956191  \n",
       "5              Arrondissement Brugge           0.024602        419.973462  \n",
       "6           Arrondissement Diksmuide           0.004498        141.622420  \n",
       "7               Arrondissement Ieper           0.009273        192.463423  \n",
       "8            Arrondissement Kortrijk           0.025450        720.173250  \n",
       "9            Arrondissement Oostende           0.013729        517.983954  \n",
       "10          Arrondissement Roeselare           0.013443        564.217390  \n",
       "11              Arrondissement Tielt           0.008129        281.547936  \n",
       "12             Arrondissement Veurne           0.005372        214.231533  \n",
       "13              Arrondissement Aalst           0.025551        620.908472  \n",
       "14        Arrondissement Dendermonde           0.017612        584.044618  \n",
       "15              Arrondissement Eeklo           0.007456        255.398471  \n",
       "16               Arrondissement Gent           0.049079        593.940564  \n",
       "17         Arrondissement Oudenaarde           0.010843        294.675339  \n",
       "18       Arrondissement Sint-Niklaas           0.022175        531.490483  \n",
       "19            Arrondissement Hasselt           0.036572        475.538158  \n",
       "20            Arrondissement Maaseik           0.021937        276.914173  \n",
       "21           Arrondissement Tongeren           0.017833        323.704848  \n",
       "22  Arrondissement Brussel-Hoofdstad           0.106003       7500.656170  \n",
       "23             Arrondissement Nijvel           0.035329        370.051318  \n",
       "24                Arrondissement Aat           0.011178        191.222818  \n",
       "25          Arrondissement Charleroi           0.034541        834.067747  \n",
       "26             Arrondissement Bergen           0.022557        440.551588  \n",
       "27             Arrondissement Zinnik           0.009152        294.119103  \n",
       "28              Arrondissement Thuin           0.007981        116.840729  \n",
       "29  Arrondissement Doornik-Moeskroen           0.019473        313.210307  \n",
       "30        Arrondissement La Louvière           0.012310        644.658008  \n",
       "31               Arrondissement Hoei           0.009908        172.215369  \n",
       "32               Arrondissement Luik           0.054449        786.224417  \n",
       "33           Arrondissement Verviers           0.025084        143.449827  \n",
       "34           Arrondissement Borgworm           0.007125        209.752963  \n",
       "35             Arrondissement Aarlen           0.005481        197.566714  \n",
       "36         Arrondissement Bastenaken           0.004271         46.897626  \n",
       "37  Arrondissement Marche-en-Famenne           0.004940         59.255685  \n",
       "38        Arrondissement Neufchâteau           0.005548         46.938023  \n",
       "39             Arrondissement Virton           0.004711         69.652388  \n",
       "40             Arrondissement Dinant           0.009683         69.718953  \n",
       "41              Arrondissement Namen           0.027690        272.529076  \n",
       "42      Arrondissement Philippeville           0.005770         72.800462  "
      ]
     },
     "execution_count": 148,
     "metadata": {},
     "output_type": "execute_result"
    }
   ],
   "source": [
    "dens_2012_xarr = dens_2012_xarr.drop([\"TOT_SURFACE(km2)\",\"MS_POPULATION\"], axis=1)\n",
    "dens_2016_xarr = dens_2016_xarr.drop([\"TOT_SURFACE(km2)\",\"MS_POPULATION\"], axis=1)\n",
    "dens_2017_xarr = dens_2017_xarr.drop([\"TOT_SURFACE(km2)\",\"MS_POPULATION\"], axis=1)\n",
    "dens_2018_xarr = dens_2018_xarr.drop([\"TOT_SURFACE(km2)\",\"MS_POPULATION\"], axis=1)\n",
    "dens_2019_xarr = dens_2019_xarr.drop([\"TOT_SURFACE(km2)\",\"MS_POPULATION\"], axis=1)\n",
    "dens_2020_xarr = dens_2020_xarr.drop([\"TOT_SURFACE(km2)\",\"MS_POPULATION\"], axis=1)\n",
    "dens_2020_xarr"
   ]
  },
  {
   "cell_type": "markdown",
   "metadata": {},
   "source": [
    "c) guardar en formato csv con vistas de exportación (dado problemas en este caso, al contrario de otros, al importar de 1 Notebook a otro Notebook)"
   ]
  },
  {
   "cell_type": "code",
   "execution_count": 149,
   "metadata": {},
   "outputs": [],
   "source": [
    "dens_2012_xarr.to_csv(\"Data_ACC/dens_2012_xarr.csv\", index=False)\n",
    "dens_2016_xarr.to_csv(\"Data_ACC/dens_2016_xarr.csv\", index=False)\n",
    "dens_2017_xarr.to_csv(\"Data_ACC/dens_2017_xarr.csv\", index=False)\n",
    "dens_2018_xarr.to_csv(\"Data_ACC/dens_2018_xarr.csv\", index=False)\n",
    "dens_2019_xarr.to_csv(\"Data_ACC/dens_2019_xarr.csv\", index=False)\n",
    "dens_2020_xarr.to_csv(\"Data_ACC/dens_2020_xarr.csv\", index=False)"
   ]
  },
  {
   "cell_type": "markdown",
   "metadata": {},
   "source": [
    "# I.3.3. Cálculo de la densidad a nivel nacional"
   ]
  },
  {
   "cell_type": "markdown",
   "metadata": {},
   "source": [
    "a) cálculo a nivel nacional"
   ]
  },
  {
   "cell_type": "code",
   "execution_count": 183,
   "metadata": {},
   "outputs": [],
   "source": [
    "#a continuacion seguiremos usando las variables solo a nivel nacional\n",
    "dens_2012_BE = dens_2012_prep\n",
    "dens_2016_BE = dens_2016_prep\n",
    "dens_2017_BE = dens_2017_prep\n",
    "dens_2018_BE = dens_2018_prep\n",
    "dens_2019_BE = dens_2019_prep\n",
    "dens_2020_BE = dens_2020_prep"
   ]
  },
  {
   "cell_type": "code",
   "execution_count": 184,
   "metadata": {},
   "outputs": [
    {
     "data": {
      "text/plain": [
       "10816273"
      ]
     },
     "execution_count": 184,
     "metadata": {},
     "output_type": "execute_result"
    }
   ],
   "source": [
    "dens_2012_BE[\"MS_POPULATION\"].sum()"
   ]
  },
  {
   "cell_type": "code",
   "execution_count": 185,
   "metadata": {},
   "outputs": [
    {
     "data": {
      "text/plain": [
       "29755.190710000003"
      ]
     },
     "execution_count": 185,
     "metadata": {},
     "output_type": "execute_result"
    }
   ],
   "source": [
    "dens_2012_BE[\"TOT_SURFACE(km2)\"].sum()"
   ]
  },
  {
   "cell_type": "code",
   "execution_count": 186,
   "metadata": {},
   "outputs": [],
   "source": [
    "dens_2012_BE[\"DENSITY(hab/km2)\"] = dens_2012_BE[\"MS_POPULATION\"].sum()/dens_2012_BE[\"TOT_SURFACE(km2)\"].sum()\n",
    "dens_2016_BE[\"DENSITY(hab/km2)\"] = dens_2016_BE[\"MS_POPULATION\"].sum()/dens_2016_BE[\"TOT_SURFACE(km2)\"].sum()\n",
    "dens_2017_BE[\"DENSITY(hab/km2)\"] = dens_2017_BE[\"MS_POPULATION\"].sum()/dens_2017_BE[\"TOT_SURFACE(km2)\"].sum()\n",
    "dens_2018_BE[\"DENSITY(hab/km2)\"] = dens_2018_BE[\"MS_POPULATION\"].sum()/dens_2018_BE[\"TOT_SURFACE(km2)\"].sum()\n",
    "dens_2019_BE[\"DENSITY(hab/km2)\"] = dens_2019_BE[\"MS_POPULATION\"].sum()/dens_2019_BE[\"TOT_SURFACE(km2)\"].sum()\n",
    "dens_2020_BE[\"DENSITY(hab/km2)\"] = dens_2020_BE[\"MS_POPULATION\"].sum()/dens_2020_BE[\"TOT_SURFACE(km2)\"].sum()"
   ]
  },
  {
   "cell_type": "markdown",
   "metadata": {},
   "source": [
    "b) limpieza: valor de densidad a nivel nacional"
   ]
  },
  {
   "cell_type": "code",
   "execution_count": 187,
   "metadata": {},
   "outputs": [
    {
     "data": {
      "text/plain": [
       "[363.5087775244845,\n",
       " 371.2254143371276,\n",
       " 373.02073134654086,\n",
       " 374.81735905163686,\n",
       " 372.48986703554414,\n",
       " 374.48519613223806]"
      ]
     },
     "execution_count": 187,
     "metadata": {},
     "output_type": "execute_result"
    }
   ],
   "source": [
    "dens_BE_anos = [\n",
    "    dens_2012_BE.loc[0,\"DENSITY(hab/km2)\"],\n",
    "    dens_2016_BE.loc[0,\"DENSITY(hab/km2)\"],\n",
    "    dens_2017_BE.loc[0,\"DENSITY(hab/km2)\"],\n",
    "    dens_2018_BE.loc[0,\"DENSITY(hab/km2)\"],\n",
    "    dens_2019_BE.loc[0,\"DENSITY(hab/km2)\"],\n",
    "    dens_2020_BE.loc[0,\"DENSITY(hab/km2)\"] ]\n",
    "\n",
    "dens_BE_anos"
   ]
  },
  {
   "cell_type": "code",
   "execution_count": 188,
   "metadata": {},
   "outputs": [
    {
     "data": {
      "text/plain": [
       "[363.51, 371.23, 373.02, 374.82, 372.49, 374.49]"
      ]
     },
     "execution_count": 188,
     "metadata": {},
     "output_type": "execute_result"
    }
   ],
   "source": [
    "dens_BE_anos = [round(i, 2) for i in dens_BE_anos]\n",
    "dens_BE_anos"
   ]
  },
  {
   "cell_type": "code",
   "execution_count": 189,
   "metadata": {},
   "outputs": [
    {
     "data": {
      "text/html": [
       "<div>\n",
       "<style scoped>\n",
       "    .dataframe tbody tr th:only-of-type {\n",
       "        vertical-align: middle;\n",
       "    }\n",
       "\n",
       "    .dataframe tbody tr th {\n",
       "        vertical-align: top;\n",
       "    }\n",
       "\n",
       "    .dataframe thead th {\n",
       "        text-align: right;\n",
       "    }\n",
       "</style>\n",
       "<table border=\"1\" class=\"dataframe\">\n",
       "  <thead>\n",
       "    <tr style=\"text-align: right;\">\n",
       "      <th></th>\n",
       "      <th>Year</th>\n",
       "      <th>Density</th>\n",
       "    </tr>\n",
       "  </thead>\n",
       "  <tbody>\n",
       "    <tr>\n",
       "      <th>0</th>\n",
       "      <td>2012</td>\n",
       "      <td>363.51</td>\n",
       "    </tr>\n",
       "    <tr>\n",
       "      <th>1</th>\n",
       "      <td>2016</td>\n",
       "      <td>371.23</td>\n",
       "    </tr>\n",
       "    <tr>\n",
       "      <th>2</th>\n",
       "      <td>2017</td>\n",
       "      <td>373.02</td>\n",
       "    </tr>\n",
       "    <tr>\n",
       "      <th>3</th>\n",
       "      <td>2018</td>\n",
       "      <td>374.82</td>\n",
       "    </tr>\n",
       "    <tr>\n",
       "      <th>4</th>\n",
       "      <td>2019</td>\n",
       "      <td>372.49</td>\n",
       "    </tr>\n",
       "    <tr>\n",
       "      <th>5</th>\n",
       "      <td>2020</td>\n",
       "      <td>374.49</td>\n",
       "    </tr>\n",
       "  </tbody>\n",
       "</table>\n",
       "</div>"
      ],
      "text/plain": [
       "   Year  Density\n",
       "0  2012   363.51\n",
       "1  2016   371.23\n",
       "2  2017   373.02\n",
       "3  2018   374.82\n",
       "4  2019   372.49\n",
       "5  2020   374.49"
      ]
     },
     "execution_count": 189,
     "metadata": {},
     "output_type": "execute_result"
    }
   ],
   "source": [
    "dens_BE_anos = pd.DataFrame({\"Year\": [\"2012\",\"2016\",\"2017\",\"2018\",\"2019\",\"2020\"], \"Density\": dens_BE_anos})\n",
    "dens_BE_anos"
   ]
  },
  {
   "cell_type": "markdown",
   "metadata": {},
   "source": [
    "c) preparación para exportación"
   ]
  },
  {
   "cell_type": "code",
   "execution_count": 190,
   "metadata": {},
   "outputs": [],
   "source": [
    "dens_BE_anos.to_csv(\"Data_ACC/dens_BE_anos.csv\", index=False)"
   ]
  },
  {
   "cell_type": "markdown",
   "metadata": {},
   "source": [
    "### II.4 Limpieza para la visualización"
   ]
  },
  {
   "cell_type": "markdown",
   "metadata": {},
   "source": [
    "II.4.1 Ordenamos los valores de la densidad de mayor a menor"
   ]
  },
  {
   "cell_type": "code",
   "execution_count": 36,
   "metadata": {},
   "outputs": [
    {
     "data": {
      "text/html": [
       "<div>\n",
       "<style scoped>\n",
       "    .dataframe tbody tr th:only-of-type {\n",
       "        vertical-align: middle;\n",
       "    }\n",
       "\n",
       "    .dataframe tbody tr th {\n",
       "        vertical-align: top;\n",
       "    }\n",
       "\n",
       "    .dataframe thead th {\n",
       "        text-align: right;\n",
       "    }\n",
       "</style>\n",
       "<table border=\"1\" class=\"dataframe\">\n",
       "  <thead>\n",
       "    <tr style=\"text-align: right;\">\n",
       "      <th></th>\n",
       "      <th>REGION</th>\n",
       "      <th>PROV</th>\n",
       "      <th>ADM_DSTR</th>\n",
       "      <th>PROPORTION_POP_BE</th>\n",
       "      <th>DENSITY(hab/km2)</th>\n",
       "    </tr>\n",
       "  </thead>\n",
       "  <tbody>\n",
       "    <tr>\n",
       "      <th>0</th>\n",
       "      <td>Brussels Hoofdstedelijk Gewest</td>\n",
       "      <td>Arr. Brussel-Hfdstad[no Prov]</td>\n",
       "      <td>Arrondissement Brussel-Hoofdstad</td>\n",
       "      <td>0.106003</td>\n",
       "      <td>7500.656170</td>\n",
       "    </tr>\n",
       "    <tr>\n",
       "      <th>1</th>\n",
       "      <td>Vlaams Gewest</td>\n",
       "      <td>Provincie Antwerpen</td>\n",
       "      <td>Arrondissement Antwerpen</td>\n",
       "      <td>0.092036</td>\n",
       "      <td>1053.253238</td>\n",
       "    </tr>\n",
       "    <tr>\n",
       "      <th>2</th>\n",
       "      <td>Waals Gewest</td>\n",
       "      <td>Provincie Henegouwen</td>\n",
       "      <td>Arrondissement Charleroi</td>\n",
       "      <td>0.034541</td>\n",
       "      <td>834.067747</td>\n",
       "    </tr>\n",
       "    <tr>\n",
       "      <th>3</th>\n",
       "      <td>Waals Gewest</td>\n",
       "      <td>Provincie Luik</td>\n",
       "      <td>Arrondissement Luik</td>\n",
       "      <td>0.054449</td>\n",
       "      <td>786.224417</td>\n",
       "    </tr>\n",
       "    <tr>\n",
       "      <th>4</th>\n",
       "      <td>Vlaams Gewest</td>\n",
       "      <td>Provincie West-Vlaanderen</td>\n",
       "      <td>Arrondissement Kortrijk</td>\n",
       "      <td>0.025450</td>\n",
       "      <td>720.173250</td>\n",
       "    </tr>\n",
       "    <tr>\n",
       "      <th>5</th>\n",
       "      <td>Vlaams Gewest</td>\n",
       "      <td>Provincie Vlaams-Brabant</td>\n",
       "      <td>Arrondissement Halle-Vilvoorde</td>\n",
       "      <td>0.056015</td>\n",
       "      <td>678.284295</td>\n",
       "    </tr>\n",
       "    <tr>\n",
       "      <th>6</th>\n",
       "      <td>Vlaams Gewest</td>\n",
       "      <td>Provincie Antwerpen</td>\n",
       "      <td>Arrondissement Mechelen</td>\n",
       "      <td>0.030204</td>\n",
       "      <td>678.203780</td>\n",
       "    </tr>\n",
       "    <tr>\n",
       "      <th>7</th>\n",
       "      <td>Waals Gewest</td>\n",
       "      <td>Provincie Henegouwen</td>\n",
       "      <td>Arrondissement La Louvière</td>\n",
       "      <td>0.012310</td>\n",
       "      <td>644.658008</td>\n",
       "    </tr>\n",
       "    <tr>\n",
       "      <th>8</th>\n",
       "      <td>Vlaams Gewest</td>\n",
       "      <td>Provincie Oost-Vlaanderen</td>\n",
       "      <td>Arrondissement Aalst</td>\n",
       "      <td>0.025551</td>\n",
       "      <td>620.908472</td>\n",
       "    </tr>\n",
       "    <tr>\n",
       "      <th>9</th>\n",
       "      <td>Vlaams Gewest</td>\n",
       "      <td>Provincie Oost-Vlaanderen</td>\n",
       "      <td>Arrondissement Gent</td>\n",
       "      <td>0.049079</td>\n",
       "      <td>593.940564</td>\n",
       "    </tr>\n",
       "    <tr>\n",
       "      <th>10</th>\n",
       "      <td>Vlaams Gewest</td>\n",
       "      <td>Provincie Oost-Vlaanderen</td>\n",
       "      <td>Arrondissement Dendermonde</td>\n",
       "      <td>0.017612</td>\n",
       "      <td>584.044618</td>\n",
       "    </tr>\n",
       "    <tr>\n",
       "      <th>11</th>\n",
       "      <td>Vlaams Gewest</td>\n",
       "      <td>Provincie West-Vlaanderen</td>\n",
       "      <td>Arrondissement Roeselare</td>\n",
       "      <td>0.013443</td>\n",
       "      <td>564.217390</td>\n",
       "    </tr>\n",
       "    <tr>\n",
       "      <th>12</th>\n",
       "      <td>Vlaams Gewest</td>\n",
       "      <td>Provincie Oost-Vlaanderen</td>\n",
       "      <td>Arrondissement Sint-Niklaas</td>\n",
       "      <td>0.022175</td>\n",
       "      <td>531.490483</td>\n",
       "    </tr>\n",
       "    <tr>\n",
       "      <th>13</th>\n",
       "      <td>Vlaams Gewest</td>\n",
       "      <td>Provincie West-Vlaanderen</td>\n",
       "      <td>Arrondissement Oostende</td>\n",
       "      <td>0.013729</td>\n",
       "      <td>517.983954</td>\n",
       "    </tr>\n",
       "    <tr>\n",
       "      <th>14</th>\n",
       "      <td>Vlaams Gewest</td>\n",
       "      <td>Provincie Limburg</td>\n",
       "      <td>Arrondissement Hasselt</td>\n",
       "      <td>0.036572</td>\n",
       "      <td>475.538158</td>\n",
       "    </tr>\n",
       "    <tr>\n",
       "      <th>15</th>\n",
       "      <td>Waals Gewest</td>\n",
       "      <td>Provincie Henegouwen</td>\n",
       "      <td>Arrondissement Bergen</td>\n",
       "      <td>0.022557</td>\n",
       "      <td>440.551588</td>\n",
       "    </tr>\n",
       "    <tr>\n",
       "      <th>16</th>\n",
       "      <td>Vlaams Gewest</td>\n",
       "      <td>Provincie Vlaams-Brabant</td>\n",
       "      <td>Arrondissement Leuven</td>\n",
       "      <td>0.044557</td>\n",
       "      <td>437.956191</td>\n",
       "    </tr>\n",
       "    <tr>\n",
       "      <th>17</th>\n",
       "      <td>Vlaams Gewest</td>\n",
       "      <td>Provincie West-Vlaanderen</td>\n",
       "      <td>Arrondissement Brugge</td>\n",
       "      <td>0.024602</td>\n",
       "      <td>419.973462</td>\n",
       "    </tr>\n",
       "    <tr>\n",
       "      <th>18</th>\n",
       "      <td>Waals Gewest</td>\n",
       "      <td>Provincie Waals-Brabant</td>\n",
       "      <td>Arrondissement Nijvel</td>\n",
       "      <td>0.035329</td>\n",
       "      <td>370.051318</td>\n",
       "    </tr>\n",
       "    <tr>\n",
       "      <th>19</th>\n",
       "      <td>Vlaams Gewest</td>\n",
       "      <td>Provincie Antwerpen</td>\n",
       "      <td>Arrondissement Turnhout</td>\n",
       "      <td>0.040449</td>\n",
       "      <td>341.807225</td>\n",
       "    </tr>\n",
       "    <tr>\n",
       "      <th>20</th>\n",
       "      <td>Vlaams Gewest</td>\n",
       "      <td>Provincie Limburg</td>\n",
       "      <td>Arrondissement Tongeren</td>\n",
       "      <td>0.017833</td>\n",
       "      <td>323.704848</td>\n",
       "    </tr>\n",
       "    <tr>\n",
       "      <th>21</th>\n",
       "      <td>Waals Gewest</td>\n",
       "      <td>Provincie Henegouwen</td>\n",
       "      <td>Arrondissement Doornik-Moeskroen</td>\n",
       "      <td>0.019473</td>\n",
       "      <td>313.210307</td>\n",
       "    </tr>\n",
       "    <tr>\n",
       "      <th>22</th>\n",
       "      <td>Vlaams Gewest</td>\n",
       "      <td>Provincie Oost-Vlaanderen</td>\n",
       "      <td>Arrondissement Oudenaarde</td>\n",
       "      <td>0.010843</td>\n",
       "      <td>294.675339</td>\n",
       "    </tr>\n",
       "    <tr>\n",
       "      <th>23</th>\n",
       "      <td>Waals Gewest</td>\n",
       "      <td>Provincie Henegouwen</td>\n",
       "      <td>Arrondissement Zinnik</td>\n",
       "      <td>0.009152</td>\n",
       "      <td>294.119103</td>\n",
       "    </tr>\n",
       "    <tr>\n",
       "      <th>24</th>\n",
       "      <td>Vlaams Gewest</td>\n",
       "      <td>Provincie West-Vlaanderen</td>\n",
       "      <td>Arrondissement Tielt</td>\n",
       "      <td>0.008129</td>\n",
       "      <td>281.547936</td>\n",
       "    </tr>\n",
       "    <tr>\n",
       "      <th>25</th>\n",
       "      <td>Vlaams Gewest</td>\n",
       "      <td>Provincie Limburg</td>\n",
       "      <td>Arrondissement Maaseik</td>\n",
       "      <td>0.021937</td>\n",
       "      <td>276.914173</td>\n",
       "    </tr>\n",
       "    <tr>\n",
       "      <th>26</th>\n",
       "      <td>Waals Gewest</td>\n",
       "      <td>Provincie Namen</td>\n",
       "      <td>Arrondissement Namen</td>\n",
       "      <td>0.027690</td>\n",
       "      <td>272.529076</td>\n",
       "    </tr>\n",
       "    <tr>\n",
       "      <th>27</th>\n",
       "      <td>Vlaams Gewest</td>\n",
       "      <td>Provincie Oost-Vlaanderen</td>\n",
       "      <td>Arrondissement Eeklo</td>\n",
       "      <td>0.007456</td>\n",
       "      <td>255.398471</td>\n",
       "    </tr>\n",
       "    <tr>\n",
       "      <th>28</th>\n",
       "      <td>Vlaams Gewest</td>\n",
       "      <td>Provincie West-Vlaanderen</td>\n",
       "      <td>Arrondissement Veurne</td>\n",
       "      <td>0.005372</td>\n",
       "      <td>214.231533</td>\n",
       "    </tr>\n",
       "    <tr>\n",
       "      <th>29</th>\n",
       "      <td>Waals Gewest</td>\n",
       "      <td>Provincie Luik</td>\n",
       "      <td>Arrondissement Borgworm</td>\n",
       "      <td>0.007125</td>\n",
       "      <td>209.752963</td>\n",
       "    </tr>\n",
       "    <tr>\n",
       "      <th>30</th>\n",
       "      <td>Waals Gewest</td>\n",
       "      <td>Provincie Luxemburg</td>\n",
       "      <td>Arrondissement Aarlen</td>\n",
       "      <td>0.005481</td>\n",
       "      <td>197.566714</td>\n",
       "    </tr>\n",
       "    <tr>\n",
       "      <th>31</th>\n",
       "      <td>Vlaams Gewest</td>\n",
       "      <td>Provincie West-Vlaanderen</td>\n",
       "      <td>Arrondissement Ieper</td>\n",
       "      <td>0.009273</td>\n",
       "      <td>192.463423</td>\n",
       "    </tr>\n",
       "    <tr>\n",
       "      <th>32</th>\n",
       "      <td>Waals Gewest</td>\n",
       "      <td>Provincie Henegouwen</td>\n",
       "      <td>Arrondissement Aat</td>\n",
       "      <td>0.011178</td>\n",
       "      <td>191.222818</td>\n",
       "    </tr>\n",
       "    <tr>\n",
       "      <th>33</th>\n",
       "      <td>Waals Gewest</td>\n",
       "      <td>Provincie Luik</td>\n",
       "      <td>Arrondissement Hoei</td>\n",
       "      <td>0.009908</td>\n",
       "      <td>172.215369</td>\n",
       "    </tr>\n",
       "    <tr>\n",
       "      <th>34</th>\n",
       "      <td>Waals Gewest</td>\n",
       "      <td>Provincie Luik</td>\n",
       "      <td>Arrondissement Verviers</td>\n",
       "      <td>0.025084</td>\n",
       "      <td>143.449827</td>\n",
       "    </tr>\n",
       "    <tr>\n",
       "      <th>35</th>\n",
       "      <td>Vlaams Gewest</td>\n",
       "      <td>Provincie West-Vlaanderen</td>\n",
       "      <td>Arrondissement Diksmuide</td>\n",
       "      <td>0.004498</td>\n",
       "      <td>141.622420</td>\n",
       "    </tr>\n",
       "    <tr>\n",
       "      <th>36</th>\n",
       "      <td>Waals Gewest</td>\n",
       "      <td>Provincie Henegouwen</td>\n",
       "      <td>Arrondissement Thuin</td>\n",
       "      <td>0.007981</td>\n",
       "      <td>116.840729</td>\n",
       "    </tr>\n",
       "    <tr>\n",
       "      <th>37</th>\n",
       "      <td>Waals Gewest</td>\n",
       "      <td>Provincie Namen</td>\n",
       "      <td>Arrondissement Philippeville</td>\n",
       "      <td>0.005770</td>\n",
       "      <td>72.800462</td>\n",
       "    </tr>\n",
       "    <tr>\n",
       "      <th>38</th>\n",
       "      <td>Waals Gewest</td>\n",
       "      <td>Provincie Namen</td>\n",
       "      <td>Arrondissement Dinant</td>\n",
       "      <td>0.009683</td>\n",
       "      <td>69.718953</td>\n",
       "    </tr>\n",
       "    <tr>\n",
       "      <th>39</th>\n",
       "      <td>Waals Gewest</td>\n",
       "      <td>Provincie Luxemburg</td>\n",
       "      <td>Arrondissement Virton</td>\n",
       "      <td>0.004711</td>\n",
       "      <td>69.652388</td>\n",
       "    </tr>\n",
       "    <tr>\n",
       "      <th>40</th>\n",
       "      <td>Waals Gewest</td>\n",
       "      <td>Provincie Luxemburg</td>\n",
       "      <td>Arrondissement Marche-en-Famenne</td>\n",
       "      <td>0.004940</td>\n",
       "      <td>59.255685</td>\n",
       "    </tr>\n",
       "    <tr>\n",
       "      <th>41</th>\n",
       "      <td>Waals Gewest</td>\n",
       "      <td>Provincie Luxemburg</td>\n",
       "      <td>Arrondissement Neufchâteau</td>\n",
       "      <td>0.005548</td>\n",
       "      <td>46.938023</td>\n",
       "    </tr>\n",
       "    <tr>\n",
       "      <th>42</th>\n",
       "      <td>Waals Gewest</td>\n",
       "      <td>Provincie Luxemburg</td>\n",
       "      <td>Arrondissement Bastenaken</td>\n",
       "      <td>0.004271</td>\n",
       "      <td>46.897626</td>\n",
       "    </tr>\n",
       "  </tbody>\n",
       "</table>\n",
       "</div>"
      ],
      "text/plain": [
       "                            REGION                           PROV  \\\n",
       "0   Brussels Hoofdstedelijk Gewest  Arr. Brussel-Hfdstad[no Prov]   \n",
       "1                    Vlaams Gewest            Provincie Antwerpen   \n",
       "2                     Waals Gewest           Provincie Henegouwen   \n",
       "3                     Waals Gewest                 Provincie Luik   \n",
       "4                    Vlaams Gewest      Provincie West-Vlaanderen   \n",
       "5                    Vlaams Gewest       Provincie Vlaams-Brabant   \n",
       "6                    Vlaams Gewest            Provincie Antwerpen   \n",
       "7                     Waals Gewest           Provincie Henegouwen   \n",
       "8                    Vlaams Gewest      Provincie Oost-Vlaanderen   \n",
       "9                    Vlaams Gewest      Provincie Oost-Vlaanderen   \n",
       "10                   Vlaams Gewest      Provincie Oost-Vlaanderen   \n",
       "11                   Vlaams Gewest      Provincie West-Vlaanderen   \n",
       "12                   Vlaams Gewest      Provincie Oost-Vlaanderen   \n",
       "13                   Vlaams Gewest      Provincie West-Vlaanderen   \n",
       "14                   Vlaams Gewest              Provincie Limburg   \n",
       "15                    Waals Gewest           Provincie Henegouwen   \n",
       "16                   Vlaams Gewest       Provincie Vlaams-Brabant   \n",
       "17                   Vlaams Gewest      Provincie West-Vlaanderen   \n",
       "18                    Waals Gewest        Provincie Waals-Brabant   \n",
       "19                   Vlaams Gewest            Provincie Antwerpen   \n",
       "20                   Vlaams Gewest              Provincie Limburg   \n",
       "21                    Waals Gewest           Provincie Henegouwen   \n",
       "22                   Vlaams Gewest      Provincie Oost-Vlaanderen   \n",
       "23                    Waals Gewest           Provincie Henegouwen   \n",
       "24                   Vlaams Gewest      Provincie West-Vlaanderen   \n",
       "25                   Vlaams Gewest              Provincie Limburg   \n",
       "26                    Waals Gewest                Provincie Namen   \n",
       "27                   Vlaams Gewest      Provincie Oost-Vlaanderen   \n",
       "28                   Vlaams Gewest      Provincie West-Vlaanderen   \n",
       "29                    Waals Gewest                 Provincie Luik   \n",
       "30                    Waals Gewest            Provincie Luxemburg   \n",
       "31                   Vlaams Gewest      Provincie West-Vlaanderen   \n",
       "32                    Waals Gewest           Provincie Henegouwen   \n",
       "33                    Waals Gewest                 Provincie Luik   \n",
       "34                    Waals Gewest                 Provincie Luik   \n",
       "35                   Vlaams Gewest      Provincie West-Vlaanderen   \n",
       "36                    Waals Gewest           Provincie Henegouwen   \n",
       "37                    Waals Gewest                Provincie Namen   \n",
       "38                    Waals Gewest                Provincie Namen   \n",
       "39                    Waals Gewest            Provincie Luxemburg   \n",
       "40                    Waals Gewest            Provincie Luxemburg   \n",
       "41                    Waals Gewest            Provincie Luxemburg   \n",
       "42                    Waals Gewest            Provincie Luxemburg   \n",
       "\n",
       "                            ADM_DSTR  PROPORTION_POP_BE  DENSITY(hab/km2)  \n",
       "0   Arrondissement Brussel-Hoofdstad           0.106003       7500.656170  \n",
       "1           Arrondissement Antwerpen           0.092036       1053.253238  \n",
       "2           Arrondissement Charleroi           0.034541        834.067747  \n",
       "3                Arrondissement Luik           0.054449        786.224417  \n",
       "4            Arrondissement Kortrijk           0.025450        720.173250  \n",
       "5     Arrondissement Halle-Vilvoorde           0.056015        678.284295  \n",
       "6            Arrondissement Mechelen           0.030204        678.203780  \n",
       "7         Arrondissement La Louvière           0.012310        644.658008  \n",
       "8               Arrondissement Aalst           0.025551        620.908472  \n",
       "9                Arrondissement Gent           0.049079        593.940564  \n",
       "10        Arrondissement Dendermonde           0.017612        584.044618  \n",
       "11          Arrondissement Roeselare           0.013443        564.217390  \n",
       "12       Arrondissement Sint-Niklaas           0.022175        531.490483  \n",
       "13           Arrondissement Oostende           0.013729        517.983954  \n",
       "14            Arrondissement Hasselt           0.036572        475.538158  \n",
       "15             Arrondissement Bergen           0.022557        440.551588  \n",
       "16             Arrondissement Leuven           0.044557        437.956191  \n",
       "17             Arrondissement Brugge           0.024602        419.973462  \n",
       "18             Arrondissement Nijvel           0.035329        370.051318  \n",
       "19           Arrondissement Turnhout           0.040449        341.807225  \n",
       "20           Arrondissement Tongeren           0.017833        323.704848  \n",
       "21  Arrondissement Doornik-Moeskroen           0.019473        313.210307  \n",
       "22         Arrondissement Oudenaarde           0.010843        294.675339  \n",
       "23             Arrondissement Zinnik           0.009152        294.119103  \n",
       "24              Arrondissement Tielt           0.008129        281.547936  \n",
       "25            Arrondissement Maaseik           0.021937        276.914173  \n",
       "26              Arrondissement Namen           0.027690        272.529076  \n",
       "27              Arrondissement Eeklo           0.007456        255.398471  \n",
       "28             Arrondissement Veurne           0.005372        214.231533  \n",
       "29           Arrondissement Borgworm           0.007125        209.752963  \n",
       "30             Arrondissement Aarlen           0.005481        197.566714  \n",
       "31              Arrondissement Ieper           0.009273        192.463423  \n",
       "32                Arrondissement Aat           0.011178        191.222818  \n",
       "33               Arrondissement Hoei           0.009908        172.215369  \n",
       "34           Arrondissement Verviers           0.025084        143.449827  \n",
       "35          Arrondissement Diksmuide           0.004498        141.622420  \n",
       "36              Arrondissement Thuin           0.007981        116.840729  \n",
       "37      Arrondissement Philippeville           0.005770         72.800462  \n",
       "38             Arrondissement Dinant           0.009683         69.718953  \n",
       "39             Arrondissement Virton           0.004711         69.652388  \n",
       "40  Arrondissement Marche-en-Famenne           0.004940         59.255685  \n",
       "41        Arrondissement Neufchâteau           0.005548         46.938023  \n",
       "42         Arrondissement Bastenaken           0.004271         46.897626  "
      ]
     },
     "execution_count": 36,
     "metadata": {},
     "output_type": "execute_result"
    }
   ],
   "source": [
    "sorted_dens_2020 = dens_2020.sort_values(\"DENSITY(hab/km2)\", ascending=False)\n",
    "sorted_dens_2020 = sorted_dens_2020.reset_index(drop=True)\n",
    "sorted_dens_2020"
   ]
  },
  {
   "cell_type": "markdown",
   "metadata": {},
   "source": [
    "II.4.2. Preparación para la exportación (dado problemas en este caso, al contrario de otros, al importar de 1 Notebook a otro Notebook)"
   ]
  },
  {
   "cell_type": "code",
   "execution_count": 37,
   "metadata": {},
   "outputs": [],
   "source": [
    "sorted_dens_2020.to_csv(\"Data_ACC/sorted_dens_2020.csv\", index=False)"
   ]
  },
  {
   "cell_type": "markdown",
   "metadata": {},
   "source": [
    "############# II.4.2. Las primeras visualizaciones salta a la luz la longitud de las etiquetas para los distritos => abreviamos"
   ]
  },
  {
   "cell_type": "code",
   "execution_count": 17,
   "metadata": {},
   "outputs": [],
   "source": [
    "#for i in sorted_dens_2020:"
   ]
  },
  {
   "cell_type": "markdown",
   "metadata": {},
   "source": [
    "IV. First trials visualización"
   ]
  },
  {
   "cell_type": "code",
   "execution_count": 38,
   "metadata": {},
   "outputs": [],
   "source": [
    "%matplotlib inline\n",
    "from matplotlib import pyplot as plt\n",
    "import plotly.express as px"
   ]
  },
  {
   "cell_type": "code",
   "execution_count": 39,
   "metadata": {},
   "outputs": [
    {
     "data": {
      "text/plain": [
       "<function matplotlib.pyplot.show(close=None, block=None)>"
      ]
     },
     "execution_count": 39,
     "metadata": {},
     "output_type": "execute_result"
    },
    {
     "data": {
      "image/png": "[encoded data removed]",
      "text/plain": [
       "<Figure size 1296x720 with 1 Axes>"
      ]
     },
     "metadata": {
      "needs_background": "light"
     },
     "output_type": "display_data"
    }
   ],
   "source": [
    "fig,ax = plt.subplots(figsize = (18,10))\n",
    "plt.xticks(rotation=60)\n",
    "#plt.grid()    deja vacío la figura\n",
    "#ax.set(xlabel='Distritos', ylabel='Densidad (hab/km2)', title='Densidad de la población belga por distrito')\n",
    "#fig.update_layout(title_text = \"densidad de la población belga por distrito\")   NO FUNCIONA\n",
    "plt.show\n",
    "#FRACASO"
   ]
  },
  {
   "cell_type": "code",
   "execution_count": 58,
   "metadata": {},
   "outputs": [
    {
     "data": {
      "application/vnd.plotly.v1+json": {
       "config": {
        "plotlyServerURL": "https://plot.ly"
       },
       "data": [
        {
         "hovertemplate": "districts=%{x}<br>density=%{y}<extra></extra>",
         "legendgroup": "",
         "line": {
          "color": "#636efa",
          "dash": "solid"
         },
         "marker": {
          "symbol": "circle"
         },
         "mode": "lines",
         "name": "",
         "orientation": "v",
         "showlegend": false,
         "type": "scatter",
         "x": [
          "Arrondissement Brussel-Hoofdstad",
          "Arrondissement Antwerpen",
          "Arrondissement Charleroi",
          "Arrondissement Luik",
          "Arrondissement Kortrijk",
          "Arrondissement Halle-Vilvoorde",
          "Arrondissement Mechelen",
          "Arrondissement La Louvière",
          "Arrondissement Aalst",
          "Arrondissement Gent",
          "Arrondissement Dendermonde",
          "Arrondissement Roeselare",
          "Arrondissement Sint-Niklaas",
          "Arrondissement Oostende",
          "Arrondissement Hasselt",
          "Arrondissement Bergen",
          "Arrondissement Leuven",
          "Arrondissement Brugge",
          "Arrondissement Nijvel",
          "Arrondissement Turnhout",
          "Arrondissement Tongeren",
          "Arrondissement Doornik-Moeskroen",
          "Arrondissement Oudenaarde",
          "Arrondissement Zinnik",
          "Arrondissement Tielt",
          "Arrondissement Maaseik",
          "Arrondissement Namen",
          "Arrondissement Eeklo",
          "Arrondissement Veurne",
          "Arrondissement Borgworm",
          "Arrondissement Aarlen",
          "Arrondissement Ieper",
          "Arrondissement Aat",
          "Arrondissement Hoei",
          "Arrondissement Verviers",
          "Arrondissement Diksmuide",
          "Arrondissement Thuin",
          "Arrondissement Philippeville",
          "Arrondissement Dinant",
          "Arrondissement Virton",
          "Arrondissement Marche-en-Famenne",
          "Arrondissement Neufchâteau",
          "Arrondissement Bastenaken"
         ],
         "xaxis": "x",
         "y": [
          7500.656170039378,
          1053.253238359685,
          834.0677474081753,
          786.2244169555399,
          720.1732495154719,
          678.2842947293536,
          678.2037799508173,
          644.6580079470607,
          620.9084716633464,
          593.9405641181228,
          584.0446181222313,
          564.2173896799865,
          531.4904826290203,
          517.9839544473526,
          475.53815794561973,
          440.55158771113315,
          437.95619064554717,
          419.9734622579848,
          370.0513181563554,
          341.8072252366228,
          323.7048477321415,
          313.2103069099653,
          294.67533888550764,
          294.11910281467505,
          281.547936257364,
          276.9141734112198,
          272.5290758355951,
          255.39847132874087,
          214.23153342156272,
          209.75296336990783,
          197.56671420486362,
          192.46342346143038,
          191.22281788289095,
          172.2153689539106,
          143.44982678880143,
          141.62241993365149,
          116.84072909990678,
          72.80046190940742,
          69.7189534175575,
          69.65238802361289,
          59.255685092466415,
          46.938022957340436,
          46.89762641713686
         ],
         "yaxis": "y"
        }
       ],
       "layout": {
        "legend": {
         "tracegroupgap": 0
        },
        "template": {
         "data": {
          "bar": [
           {
            "error_x": {
             "color": "#2a3f5f"
            },
            "error_y": {
             "color": "#2a3f5f"
            },
            "marker": {
             "line": {
              "color": "#E5ECF6",
              "width": 0.5
             },
             "pattern": {
              "fillmode": "overlay",
              "size": 10,
              "solidity": 0.2
             }
            },
            "type": "bar"
           }
          ],
          "barpolar": [
           {
            "marker": {
             "line": {
              "color": "#E5ECF6",
              "width": 0.5
             },
             "pattern": {
              "fillmode": "overlay",
              "size": 10,
              "solidity": 0.2
             }
            },
            "type": "barpolar"
           }
          ],
          "carpet": [
           {
            "aaxis": {
             "endlinecolor": "#2a3f5f",
             "gridcolor": "white",
             "linecolor": "white",
             "minorgridcolor": "white",
             "startlinecolor": "#2a3f5f"
            },
            "baxis": {
             "endlinecolor": "#2a3f5f",
             "gridcolor": "white",
             "linecolor": "white",
             "minorgridcolor": "white",
             "startlinecolor": "#2a3f5f"
            },
            "type": "carpet"
           }
          ],
          "choropleth": [
           {
            "colorbar": {
             "outlinewidth": 0,
             "ticks": ""
            },
            "type": "choropleth"
           }
          ],
          "contour": [
           {
            "colorbar": {
             "outlinewidth": 0,
             "ticks": ""
            },
            "colorscale": [
             [
              0,
              "#0d0887"
             ],
             [
              0.1111111111111111,
              "#46039f"
             ],
             [
              0.2222222222222222,
              "#7201a8"
             ],
             [
              0.3333333333333333,
              "#9c179e"
             ],
             [
              0.4444444444444444,
              "#bd3786"
             ],
             [
              0.5555555555555556,
              "#d8576b"
             ],
             [
              0.6666666666666666,
              "#ed7953"
             ],
             [
              0.7777777777777778,
              "#fb9f3a"
             ],
             [
              0.8888888888888888,
              "#fdca26"
             ],
             [
              1,
              "#f0f921"
             ]
            ],
            "type": "contour"
           }
          ],
          "contourcarpet": [
           {
            "colorbar": {
             "outlinewidth": 0,
             "ticks": ""
            },
            "type": "contourcarpet"
           }
          ],
          "heatmap": [
           {
            "colorbar": {
             "outlinewidth": 0,
             "ticks": ""
            },
            "colorscale": [
             [
              0,
              "#0d0887"
             ],
             [
              0.1111111111111111,
              "#46039f"
             ],
             [
              0.2222222222222222,
              "#7201a8"
             ],
             [
              0.3333333333333333,
              "#9c179e"
             ],
             [
              0.4444444444444444,
              "#bd3786"
             ],
             [
              0.5555555555555556,
              "#d8576b"
             ],
             [
              0.6666666666666666,
              "#ed7953"
             ],
             [
              0.7777777777777778,
              "#fb9f3a"
             ],
             [
              0.8888888888888888,
              "#fdca26"
             ],
             [
              1,
              "#f0f921"
             ]
            ],
            "type": "heatmap"
           }
          ],
          "heatmapgl": [
           {
            "colorbar": {
             "outlinewidth": 0,
             "ticks": ""
            },
            "colorscale": [
             [
              0,
              "#0d0887"
             ],
             [
              0.1111111111111111,
              "#46039f"
             ],
             [
              0.2222222222222222,
              "#7201a8"
             ],
             [
              0.3333333333333333,
              "#9c179e"
             ],
             [
              0.4444444444444444,
              "#bd3786"
             ],
             [
              0.5555555555555556,
              "#d8576b"
             ],
             [
              0.6666666666666666,
              "#ed7953"
             ],
             [
              0.7777777777777778,
              "#fb9f3a"
             ],
             [
              0.8888888888888888,
              "#fdca26"
             ],
             [
              1,
              "#f0f921"
             ]
            ],
            "type": "heatmapgl"
           }
          ],
          "histogram": [
           {
            "marker": {
             "pattern": {
              "fillmode": "overlay",
              "size": 10,
              "solidity": 0.2
             }
            },
            "type": "histogram"
           }
          ],
          "histogram2d": [
           {
            "colorbar": {
             "outlinewidth": 0,
             "ticks": ""
            },
            "colorscale": [
             [
              0,
              "#0d0887"
             ],
             [
              0.1111111111111111,
              "#46039f"
             ],
             [
              0.2222222222222222,
              "#7201a8"
             ],
             [
              0.3333333333333333,
              "#9c179e"
             ],
             [
              0.4444444444444444,
              "#bd3786"
             ],
             [
              0.5555555555555556,
              "#d8576b"
             ],
             [
              0.6666666666666666,
              "#ed7953"
             ],
             [
              0.7777777777777778,
              "#fb9f3a"
             ],
             [
              0.8888888888888888,
              "#fdca26"
             ],
             [
              1,
              "#f0f921"
             ]
            ],
            "type": "histogram2d"
           }
          ],
          "histogram2dcontour": [
           {
            "colorbar": {
             "outlinewidth": 0,
             "ticks": ""
            },
            "colorscale": [
             [
              0,
              "#0d0887"
             ],
             [
              0.1111111111111111,
              "#46039f"
             ],
             [
              0.2222222222222222,
              "#7201a8"
             ],
             [
              0.3333333333333333,
              "#9c179e"
             ],
             [
              0.4444444444444444,
              "#bd3786"
             ],
             [
              0.5555555555555556,
              "#d8576b"
             ],
             [
              0.6666666666666666,
              "#ed7953"
             ],
             [
              0.7777777777777778,
              "#fb9f3a"
             ],
             [
              0.8888888888888888,
              "#fdca26"
             ],
             [
              1,
              "#f0f921"
             ]
            ],
            "type": "histogram2dcontour"
           }
          ],
          "mesh3d": [
           {
            "colorbar": {
             "outlinewidth": 0,
             "ticks": ""
            },
            "type": "mesh3d"
           }
          ],
          "parcoords": [
           {
            "line": {
             "colorbar": {
              "outlinewidth": 0,
              "ticks": ""
             }
            },
            "type": "parcoords"
           }
          ],
          "pie": [
           {
            "automargin": true,
            "type": "pie"
           }
          ],
          "scatter": [
           {
            "marker": {
             "colorbar": {
              "outlinewidth": 0,
              "ticks": ""
             }
            },
            "type": "scatter"
           }
          ],
          "scatter3d": [
           {
            "line": {
             "colorbar": {
              "outlinewidth": 0,
              "ticks": ""
             }
            },
            "marker": {
             "colorbar": {
              "outlinewidth": 0,
              "ticks": ""
             }
            },
            "type": "scatter3d"
           }
          ],
          "scattercarpet": [
           {
            "marker": {
             "colorbar": {
              "outlinewidth": 0,
              "ticks": ""
             }
            },
            "type": "scattercarpet"
           }
          ],
          "scattergeo": [
           {
            "marker": {
             "colorbar": {
              "outlinewidth": 0,
              "ticks": ""
             }
            },
            "type": "scattergeo"
           }
          ],
          "scattergl": [
           {
            "marker": {
             "colorbar": {
              "outlinewidth": 0,
              "ticks": ""
             }
            },
            "type": "scattergl"
           }
          ],
          "scattermapbox": [
           {
            "marker": {
             "colorbar": {
              "outlinewidth": 0,
              "ticks": ""
             }
            },
            "type": "scattermapbox"
           }
          ],
          "scatterpolar": [
           {
            "marker": {
             "colorbar": {
              "outlinewidth": 0,
              "ticks": ""
             }
            },
            "type": "scatterpolar"
           }
          ],
          "scatterpolargl": [
           {
            "marker": {
             "colorbar": {
              "outlinewidth": 0,
              "ticks": ""
             }
            },
            "type": "scatterpolargl"
           }
          ],
          "scatterternary": [
           {
            "marker": {
             "colorbar": {
              "outlinewidth": 0,
              "ticks": ""
             }
            },
            "type": "scatterternary"
           }
          ],
          "surface": [
           {
            "colorbar": {
             "outlinewidth": 0,
             "ticks": ""
            },
            "colorscale": [
             [
              0,
              "#0d0887"
             ],
             [
              0.1111111111111111,
              "#46039f"
             ],
             [
              0.2222222222222222,
              "#7201a8"
             ],
             [
              0.3333333333333333,
              "#9c179e"
             ],
             [
              0.4444444444444444,
              "#bd3786"
             ],
             [
              0.5555555555555556,
              "#d8576b"
             ],
             [
              0.6666666666666666,
              "#ed7953"
             ],
             [
              0.7777777777777778,
              "#fb9f3a"
             ],
             [
              0.8888888888888888,
              "#fdca26"
             ],
             [
              1,
              "#f0f921"
             ]
            ],
            "type": "surface"
           }
          ],
          "table": [
           {
            "cells": {
             "fill": {
              "color": "#EBF0F8"
             },
             "line": {
              "color": "white"
             }
            },
            "header": {
             "fill": {
              "color": "#C8D4E3"
             },
             "line": {
              "color": "white"
             }
            },
            "type": "table"
           }
          ]
         },
         "layout": {
          "annotationdefaults": {
           "arrowcolor": "#2a3f5f",
           "arrowhead": 0,
           "arrowwidth": 1
          },
          "autotypenumbers": "strict",
          "coloraxis": {
           "colorbar": {
            "outlinewidth": 0,
            "ticks": ""
           }
          },
          "colorscale": {
           "diverging": [
            [
             0,
             "#8e0152"
            ],
            [
             0.1,
             "#c51b7d"
            ],
            [
             0.2,
             "#de77ae"
            ],
            [
             0.3,
             "#f1b6da"
            ],
            [
             0.4,
             "#fde0ef"
            ],
            [
             0.5,
             "#f7f7f7"
            ],
            [
             0.6,
             "#e6f5d0"
            ],
            [
             0.7,
             "#b8e186"
            ],
            [
             0.8,
             "#7fbc41"
            ],
            [
             0.9,
             "#4d9221"
            ],
            [
             1,
             "#276419"
            ]
           ],
           "sequential": [
            [
             0,
             "#0d0887"
            ],
            [
             0.1111111111111111,
             "#46039f"
            ],
            [
             0.2222222222222222,
             "#7201a8"
            ],
            [
             0.3333333333333333,
             "#9c179e"
            ],
            [
             0.4444444444444444,
             "#bd3786"
            ],
            [
             0.5555555555555556,
             "#d8576b"
            ],
            [
             0.6666666666666666,
             "#ed7953"
            ],
            [
             0.7777777777777778,
             "#fb9f3a"
            ],
            [
             0.8888888888888888,
             "#fdca26"
            ],
            [
             1,
             "#f0f921"
            ]
           ],
           "sequentialminus": [
            [
             0,
             "#0d0887"
            ],
            [
             0.1111111111111111,
             "#46039f"
            ],
            [
             0.2222222222222222,
             "#7201a8"
            ],
            [
             0.3333333333333333,
             "#9c179e"
            ],
            [
             0.4444444444444444,
             "#bd3786"
            ],
            [
             0.5555555555555556,
             "#d8576b"
            ],
            [
             0.6666666666666666,
             "#ed7953"
            ],
            [
             0.7777777777777778,
             "#fb9f3a"
            ],
            [
             0.8888888888888888,
             "#fdca26"
            ],
            [
             1,
             "#f0f921"
            ]
           ]
          },
          "colorway": [
           "#636efa",
           "#EF553B",
           "#00cc96",
           "#ab63fa",
           "#FFA15A",
           "#19d3f3",
           "#FF6692",
           "#B6E880",
           "#FF97FF",
           "#FECB52"
          ],
          "font": {
           "color": "#2a3f5f"
          },
          "geo": {
           "bgcolor": "white",
           "lakecolor": "white",
           "landcolor": "#E5ECF6",
           "showlakes": true,
           "showland": true,
           "subunitcolor": "white"
          },
          "hoverlabel": {
           "align": "left"
          },
          "hovermode": "closest",
          "mapbox": {
           "style": "light"
          },
          "paper_bgcolor": "white",
          "plot_bgcolor": "#E5ECF6",
          "polar": {
           "angularaxis": {
            "gridcolor": "white",
            "linecolor": "white",
            "ticks": ""
           },
           "bgcolor": "#E5ECF6",
           "radialaxis": {
            "gridcolor": "white",
            "linecolor": "white",
            "ticks": ""
           }
          },
          "scene": {
           "xaxis": {
            "backgroundcolor": "#E5ECF6",
            "gridcolor": "white",
            "gridwidth": 2,
            "linecolor": "white",
            "showbackground": true,
            "ticks": "",
            "zerolinecolor": "white"
           },
           "yaxis": {
            "backgroundcolor": "#E5ECF6",
            "gridcolor": "white",
            "gridwidth": 2,
            "linecolor": "white",
            "showbackground": true,
            "ticks": "",
            "zerolinecolor": "white"
           },
           "zaxis": {
            "backgroundcolor": "#E5ECF6",
            "gridcolor": "white",
            "gridwidth": 2,
            "linecolor": "white",
            "showbackground": true,
            "ticks": "",
            "zerolinecolor": "white"
           }
          },
          "shapedefaults": {
           "line": {
            "color": "#2a3f5f"
           }
          },
          "ternary": {
           "aaxis": {
            "gridcolor": "white",
            "linecolor": "white",
            "ticks": ""
           },
           "baxis": {
            "gridcolor": "white",
            "linecolor": "white",
            "ticks": ""
           },
           "bgcolor": "#E5ECF6",
           "caxis": {
            "gridcolor": "white",
            "linecolor": "white",
            "ticks": ""
           }
          },
          "title": {
           "x": 0.05
          },
          "xaxis": {
           "automargin": true,
           "gridcolor": "white",
           "linecolor": "white",
           "ticks": "",
           "title": {
            "standoff": 15
           },
           "zerolinecolor": "white",
           "zerolinewidth": 2
          },
          "yaxis": {
           "automargin": true,
           "gridcolor": "white",
           "linecolor": "white",
           "ticks": "",
           "title": {
            "standoff": 15
           },
           "zerolinecolor": "white",
           "zerolinewidth": 2
          }
         }
        },
        "title": {
         "text": "BE Population Density by district in decreasing order"
        },
        "xaxis": {
         "anchor": "y",
         "domain": [
          0,
          1
         ],
         "tickangle": 60,
         "title": {
          "text": "districts"
         }
        },
        "yaxis": {
         "anchor": "x",
         "domain": [
          0,
          1
         ],
         "title": {
          "text": "density"
         }
        }
       }
      }
     },
     "metadata": {},
     "output_type": "display_data"
    }
   ],
   "source": [
    "fig = px.line(x=sorted_dens_2020[\"ADM_DSTR\"], y=sorted_dens_2020[\"DENSITY(hab/km2)\"], labels = {\"x\": \"districts\", \"y\": \"density\"}, \n",
    "            title = \"BE Population Density by district in decreasing order\")\n",
    "#ax.set_xlabel(xlabel, rotation=60)\n",
    "fig.update_xaxes(tickangle=60)\n",
    "#plt.figure(figsize=(25,15))\n",
    "fig.show()"
   ]
  },
  {
   "cell_type": "code",
   "execution_count": 21,
   "metadata": {},
   "outputs": [],
   "source": [
    "#plt.figure()\n",
    "#YA NO HAY; LIMPIADO: dens_2020[\"MS_POPULATION\"].plot(figsize = (7,7))\n",
    "#plt.show()"
   ]
  },
  {
   "cell_type": "code",
   "execution_count": 41,
   "metadata": {},
   "outputs": [
    {
     "data": {
      "text/plain": [
       "<AxesSubplot:xlabel='ADM_DSTR', ylabel='DENSITY(hab/km2)'>"
      ]
     },
     "execution_count": 41,
     "metadata": {},
     "output_type": "execute_result"
    },
    {
     "data": {
      "image/png": "[encoded data removed]",
      "text/plain": [
       "<Figure size 432x288 with 1 Axes>"
      ]
     },
     "metadata": {
      "needs_background": "light"
     },
     "output_type": "display_data"
    }
   ],
   "source": [
    "import seaborn as sns\n",
    "figure = figsize = (20,10)\n",
    "sns.barplot(x=\"ADM_DSTR\",y=\"DENSITY(hab/km2)\", data=sorted_dens_2020)\n",
    "#sorted_dens_2020.set_xticklabels(\"ADM_DSTR\",rotation = 60)\n",
    "\n"
   ]
  },
  {
   "cell_type": "code",
   "execution_count": 43,
   "metadata": {},
   "outputs": [
    {
     "data": {
      "text/plain": [
       "<AxesSubplot:xlabel='DENSITY(hab/km2)', ylabel='Density'>"
      ]
     },
     "execution_count": 43,
     "metadata": {},
     "output_type": "execute_result"
    },
    {
     "data": {
      "image/png": "[encoded data removed]",
      "text/plain": [
       "<Figure size 432x288 with 1 Axes>"
      ]
     },
     "metadata": {
      "needs_background": "light"
     },
     "output_type": "display_data"
    }
   ],
   "source": [
    "sns.kdeplot(sorted_dens_2020[\"DENSITY(hab/km2)\"], bw_adjust=0.5)"
   ]
  },
  {
   "cell_type": "code",
   "execution_count": 44,
   "metadata": {},
   "outputs": [
    {
     "data": {
      "text/plain": [
       "<AxesSubplot:xlabel='DENSITY(hab/km2)', ylabel='Count'>"
      ]
     },
     "execution_count": 44,
     "metadata": {},
     "output_type": "execute_result"
    },
    {
     "data": {
      "image/png": "[encoded data removed]",
      "text/plain": [
       "<Figure size 432x288 with 1 Axes>"
      ]
     },
     "metadata": {
      "needs_background": "light"
     },
     "output_type": "display_data"
    }
   ],
   "source": [
    "sns.histplot(data=sorted_dens_2020, x=\"DENSITY(hab/km2)\")"
   ]
  },
  {
   "cell_type": "markdown",
   "metadata": {},
   "source": [
    "En el histograma vemos claramente que tenemos un outlier marcado, en este caso no conviene 'eliminarlo' de nuestros datos para analizar los accidentes, ya que precisamente será una pauta importante para confirmar o refutar nuestra la hipótesis de \"cuanta más densidad, más accidentes\"."
   ]
  }
 ],
 "metadata": {
  "interpreter": {
   "hash": "7291fc089e198fa8915d0d58dd480239dc8daf5dc8a6486e165be5bbe751df3e"
  },
  "kernelspec": {
   "display_name": "Python 3.7.4 64-bit",
   "language": "python",
   "name": "python3"
  },
  "language_info": {
   "codemirror_mode": {
    "name": "ipython",
    "version": 3
   },
   "file_extension": ".py",
   "mimetype": "text/x-python",
   "name": "python",
   "nbconvert_exporter": "python",
   "pygments_lexer": "ipython3",
   "version": "3.7.4"
  },
  "orig_nbformat": 4
 },
 "nbformat": 4,
 "nbformat_minor": 2
}
