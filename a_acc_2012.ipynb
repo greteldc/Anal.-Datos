{
 "cells": [
  {
   "cell_type": "markdown",
   "metadata": {},
   "source": [
    "# 0. IMPORTACIONES DE SOFTWARE Y CÓDIGO"
   ]
  },
  {
   "cell_type": "code",
   "execution_count": 3,
   "metadata": {},
   "outputs": [],
   "source": [
    "import pandas as pd\n",
    "import seaborn as sns\n",
    "import matplotlib as plt\n",
    "import plotly.express as px\n",
    "import numpy as np\n",
    "from datetime import datetime\n",
    "\n",
    "from utils.functions import reorder_columns, shorten_column_titles, clarify_name_acc"
   ]
  },
  {
   "cell_type": "markdown",
   "metadata": {},
   "source": [
    "# I. IMPORTACION & PRIMERA EXPLORACIÓN DE LOS DATOS"
   ]
  },
  {
   "cell_type": "code",
   "execution_count": 5,
   "metadata": {},
   "outputs": [
    {
     "data": {
      "text/html": [
       "<div>\n",
       "<style scoped>\n",
       "    .dataframe tbody tr th:only-of-type {\n",
       "        vertical-align: middle;\n",
       "    }\n",
       "\n",
       "    .dataframe tbody tr th {\n",
       "        vertical-align: top;\n",
       "    }\n",
       "\n",
       "    .dataframe thead th {\n",
       "        text-align: right;\n",
       "    }\n",
       "</style>\n",
       "<table border=\"1\" class=\"dataframe\">\n",
       "  <thead>\n",
       "    <tr style=\"text-align: right;\">\n",
       "      <th></th>\n",
       "      <th>DT_DAY</th>\n",
       "      <th>DT_HOUR</th>\n",
       "      <th>CD_DAY_OF_WEEK</th>\n",
       "      <th>TX_DAY_OF_WEEK_DESCR_FR</th>\n",
       "      <th>TX_DAY_OF_WEEK_DESCR_NL</th>\n",
       "      <th>CD_BUILD_UP_AREA</th>\n",
       "      <th>TX_BUILD_UP_AREA_DESCR_NL</th>\n",
       "      <th>TX_BUILD_UP_AREA_DESCR_FR</th>\n",
       "      <th>CD_COLL_TYPE</th>\n",
       "      <th>TX_COLL_TYPE_DESCR_NL</th>\n",
       "      <th>...</th>\n",
       "      <th>TX_PROV_DESCR_FR</th>\n",
       "      <th>CD_RGN_REFNIS</th>\n",
       "      <th>TX_RGN_DESCR_NL</th>\n",
       "      <th>TX_RGN_DESCR_FR</th>\n",
       "      <th>MS_ACCT</th>\n",
       "      <th>MS_ACCT_WITH_DEAD</th>\n",
       "      <th>MS_ACCT_WITH_DEAD_30_DAYS</th>\n",
       "      <th>MS_ACCT_WITH_MORY_INJ</th>\n",
       "      <th>MS_ACCT_WITH_SERLY_INJ</th>\n",
       "      <th>MS_ACCT_WITH_SLY_INJ</th>\n",
       "    </tr>\n",
       "  </thead>\n",
       "  <tbody>\n",
       "    <tr>\n",
       "      <th>0</th>\n",
       "      <td>2012-08-27</td>\n",
       "      <td>14</td>\n",
       "      <td>1</td>\n",
       "      <td>Lundi</td>\n",
       "      <td>maandag</td>\n",
       "      <td>2.0</td>\n",
       "      <td>Buiten bebouwde kom</td>\n",
       "      <td>Hors agglomération</td>\n",
       "      <td>6.0</td>\n",
       "      <td>Tegen een hindernis op de rijbaan</td>\n",
       "      <td>...</td>\n",
       "      <td>Province d’Anvers</td>\n",
       "      <td>2000</td>\n",
       "      <td>Vlaams Gewest</td>\n",
       "      <td>Région flamande</td>\n",
       "      <td>1</td>\n",
       "      <td>0</td>\n",
       "      <td>0</td>\n",
       "      <td>0</td>\n",
       "      <td>0</td>\n",
       "      <td>1</td>\n",
       "    </tr>\n",
       "    <tr>\n",
       "      <th>1</th>\n",
       "      <td>2012-10-26</td>\n",
       "      <td>1</td>\n",
       "      <td>5</td>\n",
       "      <td>Vendredi</td>\n",
       "      <td>vrijdag</td>\n",
       "      <td>NaN</td>\n",
       "      <td>Niet beschikbaar</td>\n",
       "      <td>Non disponible</td>\n",
       "      <td>2.0</td>\n",
       "      <td>Frontale botsing (of bij het kruisen)</td>\n",
       "      <td>...</td>\n",
       "      <td>Province d’Anvers</td>\n",
       "      <td>2000</td>\n",
       "      <td>Vlaams Gewest</td>\n",
       "      <td>Région flamande</td>\n",
       "      <td>1</td>\n",
       "      <td>0</td>\n",
       "      <td>0</td>\n",
       "      <td>0</td>\n",
       "      <td>1</td>\n",
       "      <td>0</td>\n",
       "    </tr>\n",
       "    <tr>\n",
       "      <th>2</th>\n",
       "      <td>2012-09-16</td>\n",
       "      <td>17</td>\n",
       "      <td>7</td>\n",
       "      <td>Dimanche</td>\n",
       "      <td>zondag</td>\n",
       "      <td>2.0</td>\n",
       "      <td>Buiten bebouwde kom</td>\n",
       "      <td>Hors agglomération</td>\n",
       "      <td>4.0</td>\n",
       "      <td>Langs opzij</td>\n",
       "      <td>...</td>\n",
       "      <td>Province d’Anvers</td>\n",
       "      <td>2000</td>\n",
       "      <td>Vlaams Gewest</td>\n",
       "      <td>Région flamande</td>\n",
       "      <td>1</td>\n",
       "      <td>0</td>\n",
       "      <td>0</td>\n",
       "      <td>0</td>\n",
       "      <td>0</td>\n",
       "      <td>1</td>\n",
       "    </tr>\n",
       "    <tr>\n",
       "      <th>3</th>\n",
       "      <td>2012-09-06</td>\n",
       "      <td>16</td>\n",
       "      <td>4</td>\n",
       "      <td>Jeudi</td>\n",
       "      <td>donderdag</td>\n",
       "      <td>NaN</td>\n",
       "      <td>Niet beschikbaar</td>\n",
       "      <td>Non disponible</td>\n",
       "      <td>NaN</td>\n",
       "      <td>Niet beschikbaar</td>\n",
       "      <td>...</td>\n",
       "      <td>Province d’Anvers</td>\n",
       "      <td>2000</td>\n",
       "      <td>Vlaams Gewest</td>\n",
       "      <td>Région flamande</td>\n",
       "      <td>1</td>\n",
       "      <td>0</td>\n",
       "      <td>0</td>\n",
       "      <td>0</td>\n",
       "      <td>0</td>\n",
       "      <td>1</td>\n",
       "    </tr>\n",
       "    <tr>\n",
       "      <th>4</th>\n",
       "      <td>2012-12-23</td>\n",
       "      <td>24</td>\n",
       "      <td>7</td>\n",
       "      <td>Dimanche</td>\n",
       "      <td>zondag</td>\n",
       "      <td>1.0</td>\n",
       "      <td>Binnen bebouwde kom</td>\n",
       "      <td>En agglomération</td>\n",
       "      <td>7.0</td>\n",
       "      <td>Tegen een hindernis buiten de rijbaan</td>\n",
       "      <td>...</td>\n",
       "      <td>Province d’Anvers</td>\n",
       "      <td>2000</td>\n",
       "      <td>Vlaams Gewest</td>\n",
       "      <td>Région flamande</td>\n",
       "      <td>1</td>\n",
       "      <td>0</td>\n",
       "      <td>0</td>\n",
       "      <td>0</td>\n",
       "      <td>0</td>\n",
       "      <td>1</td>\n",
       "    </tr>\n",
       "  </tbody>\n",
       "</table>\n",
       "<p>5 rows × 35 columns</p>\n",
       "</div>"
      ],
      "text/plain": [
       "      DT_DAY  DT_HOUR  CD_DAY_OF_WEEK TX_DAY_OF_WEEK_DESCR_FR  \\\n",
       "0 2012-08-27       14               1                   Lundi   \n",
       "1 2012-10-26        1               5                Vendredi   \n",
       "2 2012-09-16       17               7                Dimanche   \n",
       "3 2012-09-06       16               4                   Jeudi   \n",
       "4 2012-12-23       24               7                Dimanche   \n",
       "\n",
       "  TX_DAY_OF_WEEK_DESCR_NL  CD_BUILD_UP_AREA TX_BUILD_UP_AREA_DESCR_NL  \\\n",
       "0                 maandag               2.0       Buiten bebouwde kom   \n",
       "1                 vrijdag               NaN          Niet beschikbaar   \n",
       "2                  zondag               2.0       Buiten bebouwde kom   \n",
       "3               donderdag               NaN          Niet beschikbaar   \n",
       "4                  zondag               1.0       Binnen bebouwde kom   \n",
       "\n",
       "  TX_BUILD_UP_AREA_DESCR_FR  CD_COLL_TYPE  \\\n",
       "0        Hors agglomération           6.0   \n",
       "1            Non disponible           2.0   \n",
       "2        Hors agglomération           4.0   \n",
       "3            Non disponible           NaN   \n",
       "4          En agglomération           7.0   \n",
       "\n",
       "                   TX_COLL_TYPE_DESCR_NL  ...   TX_PROV_DESCR_FR  \\\n",
       "0      Tegen een hindernis op de rijbaan  ...  Province d’Anvers   \n",
       "1  Frontale botsing (of bij het kruisen)  ...  Province d’Anvers   \n",
       "2                            Langs opzij  ...  Province d’Anvers   \n",
       "3                       Niet beschikbaar  ...  Province d’Anvers   \n",
       "4  Tegen een hindernis buiten de rijbaan  ...  Province d’Anvers   \n",
       "\n",
       "   CD_RGN_REFNIS TX_RGN_DESCR_NL  TX_RGN_DESCR_FR  MS_ACCT MS_ACCT_WITH_DEAD  \\\n",
       "0           2000   Vlaams Gewest  Région flamande        1                 0   \n",
       "1           2000   Vlaams Gewest  Région flamande        1                 0   \n",
       "2           2000   Vlaams Gewest  Région flamande        1                 0   \n",
       "3           2000   Vlaams Gewest  Région flamande        1                 0   \n",
       "4           2000   Vlaams Gewest  Région flamande        1                 0   \n",
       "\n",
       "  MS_ACCT_WITH_DEAD_30_DAYS  MS_ACCT_WITH_MORY_INJ MS_ACCT_WITH_SERLY_INJ  \\\n",
       "0                         0                      0                      0   \n",
       "1                         0                      0                      1   \n",
       "2                         0                      0                      0   \n",
       "3                         0                      0                      0   \n",
       "4                         0                      0                      0   \n",
       "\n",
       "  MS_ACCT_WITH_SLY_INJ  \n",
       "0                    1  \n",
       "1                    0  \n",
       "2                    1  \n",
       "3                    1  \n",
       "4                    1  \n",
       "\n",
       "[5 rows x 35 columns]"
      ]
     },
     "execution_count": 5,
     "metadata": {},
     "output_type": "execute_result"
    }
   ],
   "source": [
    "#introduccion de nuestro primer fichero de datos:\n",
    "acc_2012 = pd.read_excel(\"Data_ACC/datos_brutos/TF_ACCIDENTS_2012.xlsx\")\n",
    "acc_2012.head()"
   ]
  },
  {
   "cell_type": "code",
   "execution_count": 6,
   "metadata": {},
   "outputs": [
    {
     "data": {
      "text/plain": [
       "(44051, 35)"
      ]
     },
     "execution_count": 6,
     "metadata": {},
     "output_type": "execute_result"
    }
   ],
   "source": [
    "#aplicamos shape para tener primera idea de nº columnas y filas\n",
    "acc_2012.shape"
   ]
  },
  {
   "cell_type": "code",
   "execution_count": null,
   "metadata": {},
   "outputs": [
    {
     "name": "stdout",
     "output_type": "stream",
     "text": [
      "<class 'pandas.core.frame.DataFrame'>\n",
      "RangeIndex: 44051 entries, 0 to 44050\n",
      "Data columns (total 35 columns):\n",
      " #   Column                     Non-Null Count  Dtype         \n",
      "---  ------                     --------------  -----         \n",
      " 0   DT_DAY                     44051 non-null  datetime64[ns]\n",
      " 1   DT_HOUR                    44051 non-null  int64         \n",
      " 2   CD_DAY_OF_WEEK             44051 non-null  int64         \n",
      " 3   TX_DAY_OF_WEEK_DESCR_FR    44051 non-null  object        \n",
      " 4   TX_DAY_OF_WEEK_DESCR_NL    44051 non-null  object        \n",
      " 5   CD_BUILD_UP_AREA           35387 non-null  float64       \n",
      " 6   TX_BUILD_UP_AREA_DESCR_NL  44051 non-null  object        \n",
      " 7   TX_BUILD_UP_AREA_DESCR_FR  44051 non-null  object        \n",
      " 8   CD_COLL_TYPE               37291 non-null  float64       \n",
      " 9   TX_COLL_TYPE_DESCR_NL      44051 non-null  object        \n",
      " 10  TX_COLL_TYPE_DESCR_FR      44051 non-null  object        \n",
      " 11  CD_LIGHT_COND              38596 non-null  float64       \n",
      " 12  TX_LIGHT_COND_DESCR_NL     44051 non-null  object        \n",
      " 13  TX_LIGHT_COND_DESCR_FR     44051 non-null  object        \n",
      " 14  CD_ROAD_TYPE               43705 non-null  float64       \n",
      " 15  TX_ROAD_TYPE_DESCR_NL      44051 non-null  object        \n",
      " 16  TX_ROAD_TYPE_DESCR_FR      44051 non-null  object        \n",
      " 17  CD_MUNTY_REFNIS            44051 non-null  int64         \n",
      " 18  TX_MUNTY_DESCR_NL          44051 non-null  object        \n",
      " 19  TX_MUNTY_DESCR_FR          44051 non-null  object        \n",
      " 20  CD_DSTR_REFNIS             44051 non-null  int64         \n",
      " 21  TX_ADM_DSTR_DESCR_NL       44051 non-null  object        \n",
      " 22  TX_ADM_DSTR_DESCR_FR       44051 non-null  object        \n",
      " 23  CD_PROV_REFNIS             40196 non-null  float64       \n",
      " 24  TX_PROV_DESCR_NL           40196 non-null  object        \n",
      " 25  TX_PROV_DESCR_FR           40196 non-null  object        \n",
      " 26  CD_RGN_REFNIS              44051 non-null  int64         \n",
      " 27  TX_RGN_DESCR_NL            44051 non-null  object        \n",
      " 28  TX_RGN_DESCR_FR            44051 non-null  object        \n",
      " 29  MS_ACCT                    44051 non-null  int64         \n",
      " 30  MS_ACCT_WITH_DEAD          44051 non-null  int64         \n",
      " 31  MS_ACCT_WITH_DEAD_30_DAYS  44051 non-null  int64         \n",
      " 32  MS_ACCT_WITH_MORY_INJ      44051 non-null  int64         \n",
      " 33  MS_ACCT_WITH_SERLY_INJ     44051 non-null  int64         \n",
      " 34  MS_ACCT_WITH_SLY_INJ       44051 non-null  int64         \n",
      "dtypes: datetime64[ns](1), float64(5), int64(11), object(18)\n",
      "memory usage: 11.8+ MB\n"
     ]
    }
   ],
   "source": [
    "#más info sobre tipos de datos y valores ausentes en nuestro DF:\n",
    "acc_2012.info()"
   ]
  },
  {
   "cell_type": "markdown",
   "metadata": {},
   "source": [
    ">> vistazo sobre todas las columnas + indicación de índice correspondiente:"
   ]
  },
  {
   "cell_type": "code",
   "execution_count": 6,
   "metadata": {},
   "outputs": [
    {
     "name": "stdout",
     "output_type": "stream",
     "text": [
      "(0, 'DT_DAY')\n",
      "(1, 'DT_HOUR')\n",
      "(2, 'CD_DAY_OF_WEEK')\n",
      "(3, 'TX_DAY_OF_WEEK_DESCR_FR')\n",
      "(4, 'TX_DAY_OF_WEEK_DESCR_NL')\n",
      "(5, 'CD_BUILD_UP_AREA')\n",
      "(6, 'TX_BUILD_UP_AREA_DESCR_NL')\n",
      "(7, 'TX_BUILD_UP_AREA_DESCR_FR')\n",
      "(8, 'CD_COLL_TYPE')\n",
      "(9, 'TX_COLL_TYPE_DESCR_NL')\n",
      "(10, 'TX_COLL_TYPE_DESCR_FR')\n",
      "(11, 'CD_LIGHT_COND')\n",
      "(12, 'TX_LIGHT_COND_DESCR_NL')\n",
      "(13, 'TX_LIGHT_COND_DESCR_FR')\n",
      "(14, 'CD_ROAD_TYPE')\n",
      "(15, 'TX_ROAD_TYPE_DESCR_NL')\n",
      "(16, 'TX_ROAD_TYPE_DESCR_FR')\n",
      "(17, 'CD_MUNTY_REFNIS')\n",
      "(18, 'TX_MUNTY_DESCR_NL')\n",
      "(19, 'TX_MUNTY_DESCR_FR')\n",
      "(20, 'CD_DSTR_REFNIS')\n",
      "(21, 'TX_ADM_DSTR_DESCR_NL')\n",
      "(22, 'TX_ADM_DSTR_DESCR_FR')\n",
      "(23, 'CD_PROV_REFNIS')\n",
      "(24, 'TX_PROV_DESCR_NL')\n",
      "(25, 'TX_PROV_DESCR_FR')\n",
      "(26, 'CD_RGN_REFNIS')\n",
      "(27, 'TX_RGN_DESCR_NL')\n",
      "(28, 'TX_RGN_DESCR_FR')\n",
      "(29, 'MS_ACCT')\n",
      "(30, 'MS_ACCT_WITH_DEAD')\n",
      "(31, 'MS_ACCT_WITH_DEAD_30_DAYS')\n",
      "(32, 'MS_ACCT_WITH_MORY_INJ')\n",
      "(33, 'MS_ACCT_WITH_SERLY_INJ')\n",
      "(34, 'MS_ACCT_WITH_SLY_INJ')\n"
     ]
    }
   ],
   "source": [
    "#preparación para poder seleccionar por indice fluidamente las columnas relevantes (sin conteo manual):\n",
    "todas_col = enumerate(acc_2012.columns)\n",
    "for i in todas_col:\n",
    "    print (i)"
   ]
  },
  {
   "cell_type": "code",
   "execution_count": 7,
   "metadata": {},
   "outputs": [
    {
     "data": {
      "text/plain": [
       "CD_DAY_OF_WEEK\n",
       "1    6267\n",
       "2    6311\n",
       "3    6662\n",
       "4    6415\n",
       "5    6905\n",
       "6    6138\n",
       "7    5353\n",
       "Name: CD_DAY_OF_WEEK, dtype: int64"
      ]
     },
     "execution_count": 7,
     "metadata": {},
     "output_type": "execute_result"
    }
   ],
   "source": [
    "#exploracion de nº accidentes por día\n",
    "A = acc_2012.groupby([\"CD_DAY_OF_WEEK\"])[\"CD_DAY_OF_WEEK\"].count()\n",
    "A"
   ]
  },
  {
   "cell_type": "markdown",
   "metadata": {},
   "source": [
    "# II. LIMPIAR LOS DATOS DEL DATAFRAME PARA NUESTRO PROPÓSITO"
   ]
  },
  {
   "cell_type": "markdown",
   "metadata": {},
   "source": [
    "## II.1. limpiar DB original (parte columnas): eliminar columnas irrelevantes"
   ]
  },
  {
   "cell_type": "code",
   "execution_count": 8,
   "metadata": {},
   "outputs": [
    {
     "data": {
      "text/html": [
       "<div>\n",
       "<style scoped>\n",
       "    .dataframe tbody tr th:only-of-type {\n",
       "        vertical-align: middle;\n",
       "    }\n",
       "\n",
       "    .dataframe tbody tr th {\n",
       "        vertical-align: top;\n",
       "    }\n",
       "\n",
       "    .dataframe thead th {\n",
       "        text-align: right;\n",
       "    }\n",
       "</style>\n",
       "<table border=\"1\" class=\"dataframe\">\n",
       "  <thead>\n",
       "    <tr style=\"text-align: right;\">\n",
       "      <th></th>\n",
       "      <th>DT_DAY</th>\n",
       "      <th>CD_DAY_OF_WEEK</th>\n",
       "      <th>TX_BUILD_UP_AREA_DESCR_NL</th>\n",
       "      <th>TX_LIGHT_COND_DESCR_NL</th>\n",
       "      <th>TX_ROAD_TYPE_DESCR_NL</th>\n",
       "      <th>TX_MUNTY_DESCR_NL</th>\n",
       "      <th>TX_ADM_DSTR_DESCR_NL</th>\n",
       "      <th>TX_PROV_DESCR_NL</th>\n",
       "      <th>TX_RGN_DESCR_NL</th>\n",
       "      <th>MS_ACCT</th>\n",
       "      <th>MS_ACCT_WITH_DEAD</th>\n",
       "      <th>MS_ACCT_WITH_DEAD_30_DAYS</th>\n",
       "      <th>MS_ACCT_WITH_MORY_INJ</th>\n",
       "      <th>MS_ACCT_WITH_SERLY_INJ</th>\n",
       "      <th>MS_ACCT_WITH_SLY_INJ</th>\n",
       "    </tr>\n",
       "  </thead>\n",
       "  <tbody>\n",
       "    <tr>\n",
       "      <th>0</th>\n",
       "      <td>2012-08-27</td>\n",
       "      <td>1</td>\n",
       "      <td>Buiten bebouwde kom</td>\n",
       "      <td>Bij klaarlichte dag</td>\n",
       "      <td>Autosnelweg</td>\n",
       "      <td>Aartselaar</td>\n",
       "      <td>Arrondissement Antwerpen</td>\n",
       "      <td>Provincie Antwerpen</td>\n",
       "      <td>Vlaams Gewest</td>\n",
       "      <td>1</td>\n",
       "      <td>0</td>\n",
       "      <td>0</td>\n",
       "      <td>0</td>\n",
       "      <td>0</td>\n",
       "      <td>1</td>\n",
       "    </tr>\n",
       "    <tr>\n",
       "      <th>1</th>\n",
       "      <td>2012-10-26</td>\n",
       "      <td>5</td>\n",
       "      <td>Niet beschikbaar</td>\n",
       "      <td>Niet beschikbaar</td>\n",
       "      <td>Gewestweg, provincieweg of gemeenteweg</td>\n",
       "      <td>Aartselaar</td>\n",
       "      <td>Arrondissement Antwerpen</td>\n",
       "      <td>Provincie Antwerpen</td>\n",
       "      <td>Vlaams Gewest</td>\n",
       "      <td>1</td>\n",
       "      <td>0</td>\n",
       "      <td>0</td>\n",
       "      <td>0</td>\n",
       "      <td>1</td>\n",
       "      <td>0</td>\n",
       "    </tr>\n",
       "    <tr>\n",
       "      <th>2</th>\n",
       "      <td>2012-09-16</td>\n",
       "      <td>7</td>\n",
       "      <td>Buiten bebouwde kom</td>\n",
       "      <td>Bij klaarlichte dag</td>\n",
       "      <td>Gewestweg, provincieweg of gemeenteweg</td>\n",
       "      <td>Aartselaar</td>\n",
       "      <td>Arrondissement Antwerpen</td>\n",
       "      <td>Provincie Antwerpen</td>\n",
       "      <td>Vlaams Gewest</td>\n",
       "      <td>1</td>\n",
       "      <td>0</td>\n",
       "      <td>0</td>\n",
       "      <td>0</td>\n",
       "      <td>0</td>\n",
       "      <td>1</td>\n",
       "    </tr>\n",
       "    <tr>\n",
       "      <th>3</th>\n",
       "      <td>2012-09-06</td>\n",
       "      <td>4</td>\n",
       "      <td>Niet beschikbaar</td>\n",
       "      <td>Bij klaarlichte dag</td>\n",
       "      <td>Gewestweg, provincieweg of gemeenteweg</td>\n",
       "      <td>Aartselaar</td>\n",
       "      <td>Arrondissement Antwerpen</td>\n",
       "      <td>Provincie Antwerpen</td>\n",
       "      <td>Vlaams Gewest</td>\n",
       "      <td>1</td>\n",
       "      <td>0</td>\n",
       "      <td>0</td>\n",
       "      <td>0</td>\n",
       "      <td>0</td>\n",
       "      <td>1</td>\n",
       "    </tr>\n",
       "    <tr>\n",
       "      <th>4</th>\n",
       "      <td>2012-12-23</td>\n",
       "      <td>7</td>\n",
       "      <td>Binnen bebouwde kom</td>\n",
       "      <td>Nacht, ontstoken openbare verlichting</td>\n",
       "      <td>Gewestweg, provincieweg of gemeenteweg</td>\n",
       "      <td>Aartselaar</td>\n",
       "      <td>Arrondissement Antwerpen</td>\n",
       "      <td>Provincie Antwerpen</td>\n",
       "      <td>Vlaams Gewest</td>\n",
       "      <td>1</td>\n",
       "      <td>0</td>\n",
       "      <td>0</td>\n",
       "      <td>0</td>\n",
       "      <td>0</td>\n",
       "      <td>1</td>\n",
       "    </tr>\n",
       "  </tbody>\n",
       "</table>\n",
       "</div>"
      ],
      "text/plain": [
       "      DT_DAY  CD_DAY_OF_WEEK TX_BUILD_UP_AREA_DESCR_NL  \\\n",
       "0 2012-08-27               1       Buiten bebouwde kom   \n",
       "1 2012-10-26               5          Niet beschikbaar   \n",
       "2 2012-09-16               7       Buiten bebouwde kom   \n",
       "3 2012-09-06               4          Niet beschikbaar   \n",
       "4 2012-12-23               7       Binnen bebouwde kom   \n",
       "\n",
       "                  TX_LIGHT_COND_DESCR_NL  \\\n",
       "0                    Bij klaarlichte dag   \n",
       "1                       Niet beschikbaar   \n",
       "2                    Bij klaarlichte dag   \n",
       "3                    Bij klaarlichte dag   \n",
       "4  Nacht, ontstoken openbare verlichting   \n",
       "\n",
       "                    TX_ROAD_TYPE_DESCR_NL TX_MUNTY_DESCR_NL  \\\n",
       "0                             Autosnelweg        Aartselaar   \n",
       "1  Gewestweg, provincieweg of gemeenteweg        Aartselaar   \n",
       "2  Gewestweg, provincieweg of gemeenteweg        Aartselaar   \n",
       "3  Gewestweg, provincieweg of gemeenteweg        Aartselaar   \n",
       "4  Gewestweg, provincieweg of gemeenteweg        Aartselaar   \n",
       "\n",
       "       TX_ADM_DSTR_DESCR_NL     TX_PROV_DESCR_NL TX_RGN_DESCR_NL  MS_ACCT  \\\n",
       "0  Arrondissement Antwerpen  Provincie Antwerpen   Vlaams Gewest        1   \n",
       "1  Arrondissement Antwerpen  Provincie Antwerpen   Vlaams Gewest        1   \n",
       "2  Arrondissement Antwerpen  Provincie Antwerpen   Vlaams Gewest        1   \n",
       "3  Arrondissement Antwerpen  Provincie Antwerpen   Vlaams Gewest        1   \n",
       "4  Arrondissement Antwerpen  Provincie Antwerpen   Vlaams Gewest        1   \n",
       "\n",
       "   MS_ACCT_WITH_DEAD  MS_ACCT_WITH_DEAD_30_DAYS  MS_ACCT_WITH_MORY_INJ  \\\n",
       "0                  0                          0                      0   \n",
       "1                  0                          0                      0   \n",
       "2                  0                          0                      0   \n",
       "3                  0                          0                      0   \n",
       "4                  0                          0                      0   \n",
       "\n",
       "   MS_ACCT_WITH_SERLY_INJ  MS_ACCT_WITH_SLY_INJ  \n",
       "0                       0                     1  \n",
       "1                       1                     0  \n",
       "2                       0                     1  \n",
       "3                       0                     1  \n",
       "4                       0                     1  "
      ]
     },
     "execution_count": 8,
     "metadata": {},
     "output_type": "execute_result"
    }
   ],
   "source": [
    "#mantener columnas relevantes solo - si opcion entre varias: selección de las en las cuales menos valores faltan\n",
    "acc_2012_col = acc_2012.iloc[:,[0,2,6,12,15,18,21,24,27,29,30,31,32,33,34]]\n",
    "acc_2012_col.head(5)"
   ]
  },
  {
   "cell_type": "code",
   "execution_count": 9,
   "metadata": {},
   "outputs": [
    {
     "name": "stdout",
     "output_type": "stream",
     "text": [
      "<class 'pandas.core.frame.DataFrame'>\n",
      "RangeIndex: 44051 entries, 0 to 44050\n",
      "Data columns (total 15 columns):\n",
      " #   Column                     Non-Null Count  Dtype         \n",
      "---  ------                     --------------  -----         \n",
      " 0   DT_DAY                     44051 non-null  datetime64[ns]\n",
      " 1   CD_DAY_OF_WEEK             44051 non-null  int64         \n",
      " 2   TX_BUILD_UP_AREA_DESCR_NL  44051 non-null  object        \n",
      " 3   TX_LIGHT_COND_DESCR_NL     44051 non-null  object        \n",
      " 4   TX_ROAD_TYPE_DESCR_NL      44051 non-null  object        \n",
      " 5   TX_MUNTY_DESCR_NL          44051 non-null  object        \n",
      " 6   TX_ADM_DSTR_DESCR_NL       44051 non-null  object        \n",
      " 7   TX_PROV_DESCR_NL           40196 non-null  object        \n",
      " 8   TX_RGN_DESCR_NL            44051 non-null  object        \n",
      " 9   MS_ACCT                    44051 non-null  int64         \n",
      " 10  MS_ACCT_WITH_DEAD          44051 non-null  int64         \n",
      " 11  MS_ACCT_WITH_DEAD_30_DAYS  44051 non-null  int64         \n",
      " 12  MS_ACCT_WITH_MORY_INJ      44051 non-null  int64         \n",
      " 13  MS_ACCT_WITH_SERLY_INJ     44051 non-null  int64         \n",
      " 14  MS_ACCT_WITH_SLY_INJ       44051 non-null  int64         \n",
      "dtypes: datetime64[ns](1), int64(7), object(7)\n",
      "memory usage: 5.0+ MB\n"
     ]
    }
   ],
   "source": [
    "#nuevo vistazo sobre tipos de datos y valores ausentes:\n",
    "acc_2012_col.info()"
   ]
  },
  {
   "cell_type": "code",
   "execution_count": 10,
   "metadata": {},
   "outputs": [],
   "source": [
    "# deducción: solo en col[7] faltan valores - se deberían poder recuperar en base a col[8] \n",
    "# de momento todavía por determinar si hará falta (dependerá del nivel que seleccionaremos por zona)"
   ]
  },
  {
   "cell_type": "markdown",
   "metadata": {},
   "source": [
    "## II.2. limpiar DB original (parte columnas): crear columna YEAR y MONTH, eliminar columna YEAR-MONTH-DAY"
   ]
  },
  {
   "cell_type": "markdown",
   "metadata": {},
   "source": [
    "Con vistas a agrupaciones posteriores por día laboral vs. sábado vs. domingo, preparamos los datos necesarios para las agrupaciones. Para el proceso de elaboración concreta, referimos al fichero TEST_extraction YEAR DAY."
   ]
  },
  {
   "cell_type": "code",
   "execution_count": 10,
   "metadata": {},
   "outputs": [
    {
     "name": "stderr",
     "output_type": "stream",
     "text": [
      "C:\\Users\\piovr\\AppData\\Roaming\\Python\\Python37\\site-packages\\ipykernel_launcher.py:2: SettingWithCopyWarning: \n",
      "A value is trying to be set on a copy of a slice from a DataFrame.\n",
      "Try using .loc[row_indexer,col_indexer] = value instead\n",
      "\n",
      "See the caveats in the documentation: https://pandas.pydata.org/pandas-docs/stable/user_guide/indexing.html#returning-a-view-versus-a-copy\n",
      "  \n",
      "C:\\Users\\piovr\\AppData\\Roaming\\Python\\Python37\\site-packages\\ipykernel_launcher.py:3: SettingWithCopyWarning: \n",
      "A value is trying to be set on a copy of a slice from a DataFrame.\n",
      "Try using .loc[row_indexer,col_indexer] = value instead\n",
      "\n",
      "See the caveats in the documentation: https://pandas.pydata.org/pandas-docs/stable/user_guide/indexing.html#returning-a-view-versus-a-copy\n",
      "  This is separate from the ipykernel package so we can avoid doing imports until\n"
     ]
    }
   ],
   "source": [
    "# primer paso: creamos unas nuevas columnas \"YEAR\" y \"MONTH\" a partir de la columna existente \"DT_DAY\"\n",
    "acc_2012_col['YEAR'] = acc_2012_col['DT_DAY'].dt.year\n",
    "acc_2012_col['MONTH'] = acc_2012_col['DT_DAY'].dt.month"
   ]
  },
  {
   "cell_type": "code",
   "execution_count": 11,
   "metadata": {},
   "outputs": [
    {
     "data": {
      "text/plain": [
       "Index(['DT_DAY', 'CD_DAY_OF_WEEK', 'TX_BUILD_UP_AREA_DESCR_NL',\n",
       "       'TX_LIGHT_COND_DESCR_NL', 'TX_ROAD_TYPE_DESCR_NL', 'TX_MUNTY_DESCR_NL',\n",
       "       'TX_ADM_DSTR_DESCR_NL', 'TX_PROV_DESCR_NL', 'TX_RGN_DESCR_NL',\n",
       "       'MS_ACCT', 'MS_ACCT_WITH_DEAD', 'MS_ACCT_WITH_DEAD_30_DAYS',\n",
       "       'MS_ACCT_WITH_MORY_INJ', 'MS_ACCT_WITH_SERLY_INJ',\n",
       "       'MS_ACCT_WITH_SLY_INJ', 'YEAR', 'MONTH'],\n",
       "      dtype='object')"
      ]
     },
     "execution_count": 11,
     "metadata": {},
     "output_type": "execute_result"
    }
   ],
   "source": [
    "# segundo paso: verificación: se ha extendido nuestro df de 2 columnas?\n",
    "acc_2012_col.columns\n",
    "# respuesta: sí"
   ]
  },
  {
   "cell_type": "code",
   "execution_count": 12,
   "metadata": {},
   "outputs": [
    {
     "data": {
      "text/plain": [
       "0       2012-08-27\n",
       "1       2012-10-26\n",
       "2       2012-09-16\n",
       "3       2012-09-06\n",
       "4       2012-12-23\n",
       "           ...    \n",
       "44046   2012-10-22\n",
       "44047   2012-10-21\n",
       "44048   2012-09-02\n",
       "44049   2012-09-02\n",
       "44050   2012-12-18\n",
       "Name: DT_DAY, Length: 44051, dtype: datetime64[ns]"
      ]
     },
     "execution_count": 12,
     "metadata": {},
     "output_type": "execute_result"
    }
   ],
   "source": [
    "# tercer paso: eliminamos la primera columna (información relevante mejor distribuida en otra columnas, información no relevante (día) por eliminar)\n",
    "acc_2012_col.pop(\"DT_DAY\")"
   ]
  },
  {
   "cell_type": "code",
   "execution_count": 13,
   "metadata": {},
   "outputs": [
    {
     "data": {
      "text/plain": [
       "Index(['CD_DAY_OF_WEEK', 'TX_BUILD_UP_AREA_DESCR_NL', 'TX_LIGHT_COND_DESCR_NL',\n",
       "       'TX_ROAD_TYPE_DESCR_NL', 'TX_MUNTY_DESCR_NL', 'TX_ADM_DSTR_DESCR_NL',\n",
       "       'TX_PROV_DESCR_NL', 'TX_RGN_DESCR_NL', 'MS_ACCT', 'MS_ACCT_WITH_DEAD',\n",
       "       'MS_ACCT_WITH_DEAD_30_DAYS', 'MS_ACCT_WITH_MORY_INJ',\n",
       "       'MS_ACCT_WITH_SERLY_INJ', 'MS_ACCT_WITH_SLY_INJ', 'YEAR', 'MONTH'],\n",
       "      dtype='object')"
      ]
     },
     "execution_count": 13,
     "metadata": {},
     "output_type": "execute_result"
    }
   ],
   "source": [
    "#cuarto paso: verificación de las columnas presentes:\n",
    "acc_2012_col.columns"
   ]
  },
  {
   "cell_type": "code",
   "execution_count": 17,
   "metadata": {},
   "outputs": [
    {
     "name": "stdout",
     "output_type": "stream",
     "text": [
      "Index(['YEAR', 'MONTH', 'CD_DAY_OF_WEEK', 'TX_BUILD_UP_AREA_DESCR_NL',\n",
      "       'TX_LIGHT_COND_DESCR_NL', 'TX_ROAD_TYPE_DESCR_NL', 'TX_MUNTY_DESCR_NL',\n",
      "       'TX_ADM_DSTR_DESCR_NL', 'TX_PROV_DESCR_NL', 'TX_RGN_DESCR_NL',\n",
      "       'MS_ACCT', 'MS_ACCT_WITH_DEAD', 'MS_ACCT_WITH_DEAD_30_DAYS',\n",
      "       'MS_ACCT_WITH_MORY_INJ', 'MS_ACCT_WITH_SERLY_INJ',\n",
      "       'MS_ACCT_WITH_SLY_INJ'],\n",
      "      dtype='object')\n"
     ]
    }
   ],
   "source": [
    "# quinto paso: desplazamos la última y penúltima columnas a primera y segunda posición de columna:\n",
    "acc_2012_col_fila = reorder_columns(dataframe= acc_2012_col, col_name='YEAR', position=0)\n",
    "#print(acc_2012_col_fila.columns)\n",
    "acc_2012_col_filb = reorder_columns(dataframe= acc_2012_col_fila, col_name=\"MONTH\", position=1)\n",
    "print(acc_2012_col_filb.columns)"
   ]
  },
  {
   "cell_type": "markdown",
   "metadata": {},
   "source": [
    "## II.3. Limpiamos dataframe de valores NaN"
   ]
  },
  {
   "cell_type": "code",
   "execution_count": 18,
   "metadata": {},
   "outputs": [
    {
     "data": {
      "text/html": [
       "<div>\n",
       "<style scoped>\n",
       "    .dataframe tbody tr th:only-of-type {\n",
       "        vertical-align: middle;\n",
       "    }\n",
       "\n",
       "    .dataframe tbody tr th {\n",
       "        vertical-align: top;\n",
       "    }\n",
       "\n",
       "    .dataframe thead th {\n",
       "        text-align: right;\n",
       "    }\n",
       "</style>\n",
       "<table border=\"1\" class=\"dataframe\">\n",
       "  <thead>\n",
       "    <tr style=\"text-align: right;\">\n",
       "      <th></th>\n",
       "      <th>YEAR</th>\n",
       "      <th>MONTH</th>\n",
       "      <th>CD_DAY_OF_WEEK</th>\n",
       "      <th>TX_BUILD_UP_AREA_DESCR_NL</th>\n",
       "      <th>TX_LIGHT_COND_DESCR_NL</th>\n",
       "      <th>TX_ROAD_TYPE_DESCR_NL</th>\n",
       "      <th>TX_MUNTY_DESCR_NL</th>\n",
       "      <th>TX_ADM_DSTR_DESCR_NL</th>\n",
       "      <th>TX_PROV_DESCR_NL</th>\n",
       "      <th>TX_RGN_DESCR_NL</th>\n",
       "      <th>MS_ACCT</th>\n",
       "      <th>MS_ACCT_WITH_DEAD</th>\n",
       "      <th>MS_ACCT_WITH_DEAD_30_DAYS</th>\n",
       "      <th>MS_ACCT_WITH_MORY_INJ</th>\n",
       "      <th>MS_ACCT_WITH_SERLY_INJ</th>\n",
       "      <th>MS_ACCT_WITH_SLY_INJ</th>\n",
       "    </tr>\n",
       "  </thead>\n",
       "  <tbody>\n",
       "    <tr>\n",
       "      <th>710</th>\n",
       "      <td>2012</td>\n",
       "      <td>5</td>\n",
       "      <td>3</td>\n",
       "      <td>Binnen bebouwde kom</td>\n",
       "      <td>Bij klaarlichte dag</td>\n",
       "      <td>Gewestweg, provincieweg of gemeenteweg</td>\n",
       "      <td>Antwerpen</td>\n",
       "      <td>Arrondissement Antwerpen</td>\n",
       "      <td>Provincie Antwerpen</td>\n",
       "      <td>Vlaams Gewest</td>\n",
       "      <td>1</td>\n",
       "      <td>0</td>\n",
       "      <td>0</td>\n",
       "      <td>0</td>\n",
       "      <td>0</td>\n",
       "      <td>1</td>\n",
       "    </tr>\n",
       "    <tr>\n",
       "      <th>7432</th>\n",
       "      <td>2012</td>\n",
       "      <td>9</td>\n",
       "      <td>3</td>\n",
       "      <td>Binnen bebouwde kom</td>\n",
       "      <td>Nacht, ontstoken openbare verlichting</td>\n",
       "      <td>Gewestweg, provincieweg of gemeenteweg</td>\n",
       "      <td>Anderlecht</td>\n",
       "      <td>Arrondissement Brussel-Hoofdstad</td>\n",
       "      <td>Arr. Brussel-Hfdstad[no Prov]</td>\n",
       "      <td>Brussels Hoofdstedelijk Gewest</td>\n",
       "      <td>1</td>\n",
       "      <td>0</td>\n",
       "      <td>0</td>\n",
       "      <td>0</td>\n",
       "      <td>0</td>\n",
       "      <td>1</td>\n",
       "    </tr>\n",
       "    <tr>\n",
       "      <th>21906</th>\n",
       "      <td>2012</td>\n",
       "      <td>6</td>\n",
       "      <td>6</td>\n",
       "      <td>Niet beschikbaar</td>\n",
       "      <td>Bij klaarlichte dag</td>\n",
       "      <td>Gewestweg, provincieweg of gemeenteweg</td>\n",
       "      <td>Nazareth</td>\n",
       "      <td>Arrondissement Gent</td>\n",
       "      <td>Provincie Oost-Vlaanderen</td>\n",
       "      <td>Vlaams Gewest</td>\n",
       "      <td>1</td>\n",
       "      <td>0</td>\n",
       "      <td>0</td>\n",
       "      <td>0</td>\n",
       "      <td>0</td>\n",
       "      <td>1</td>\n",
       "    </tr>\n",
       "    <tr>\n",
       "      <th>22018</th>\n",
       "      <td>2012</td>\n",
       "      <td>1</td>\n",
       "      <td>2</td>\n",
       "      <td>Buiten bebouwde kom</td>\n",
       "      <td>Nacht, ontstoken openbare verlichting</td>\n",
       "      <td>Gewestweg, provincieweg of gemeenteweg</td>\n",
       "      <td>Oosterzele</td>\n",
       "      <td>Arrondissement Gent</td>\n",
       "      <td>Provincie Oost-Vlaanderen</td>\n",
       "      <td>Vlaams Gewest</td>\n",
       "      <td>1</td>\n",
       "      <td>0</td>\n",
       "      <td>0</td>\n",
       "      <td>0</td>\n",
       "      <td>0</td>\n",
       "      <td>1</td>\n",
       "    </tr>\n",
       "    <tr>\n",
       "      <th>628</th>\n",
       "      <td>2012</td>\n",
       "      <td>4</td>\n",
       "      <td>5</td>\n",
       "      <td>Binnen bebouwde kom</td>\n",
       "      <td>Bij klaarlichte dag</td>\n",
       "      <td>Gewestweg, provincieweg of gemeenteweg</td>\n",
       "      <td>Antwerpen</td>\n",
       "      <td>Arrondissement Antwerpen</td>\n",
       "      <td>Provincie Antwerpen</td>\n",
       "      <td>Vlaams Gewest</td>\n",
       "      <td>1</td>\n",
       "      <td>0</td>\n",
       "      <td>0</td>\n",
       "      <td>0</td>\n",
       "      <td>0</td>\n",
       "      <td>1</td>\n",
       "    </tr>\n",
       "  </tbody>\n",
       "</table>\n",
       "</div>"
      ],
      "text/plain": [
       "       YEAR  MONTH  CD_DAY_OF_WEEK TX_BUILD_UP_AREA_DESCR_NL  \\\n",
       "710    2012      5               3       Binnen bebouwde kom   \n",
       "7432   2012      9               3       Binnen bebouwde kom   \n",
       "21906  2012      6               6          Niet beschikbaar   \n",
       "22018  2012      1               2       Buiten bebouwde kom   \n",
       "628    2012      4               5       Binnen bebouwde kom   \n",
       "\n",
       "                      TX_LIGHT_COND_DESCR_NL  \\\n",
       "710                      Bij klaarlichte dag   \n",
       "7432   Nacht, ontstoken openbare verlichting   \n",
       "21906                    Bij klaarlichte dag   \n",
       "22018  Nacht, ontstoken openbare verlichting   \n",
       "628                      Bij klaarlichte dag   \n",
       "\n",
       "                        TX_ROAD_TYPE_DESCR_NL TX_MUNTY_DESCR_NL  \\\n",
       "710    Gewestweg, provincieweg of gemeenteweg         Antwerpen   \n",
       "7432   Gewestweg, provincieweg of gemeenteweg        Anderlecht   \n",
       "21906  Gewestweg, provincieweg of gemeenteweg          Nazareth   \n",
       "22018  Gewestweg, provincieweg of gemeenteweg        Oosterzele   \n",
       "628    Gewestweg, provincieweg of gemeenteweg         Antwerpen   \n",
       "\n",
       "                   TX_ADM_DSTR_DESCR_NL               TX_PROV_DESCR_NL  \\\n",
       "710            Arrondissement Antwerpen            Provincie Antwerpen   \n",
       "7432   Arrondissement Brussel-Hoofdstad  Arr. Brussel-Hfdstad[no Prov]   \n",
       "21906               Arrondissement Gent      Provincie Oost-Vlaanderen   \n",
       "22018               Arrondissement Gent      Provincie Oost-Vlaanderen   \n",
       "628            Arrondissement Antwerpen            Provincie Antwerpen   \n",
       "\n",
       "                      TX_RGN_DESCR_NL  MS_ACCT  MS_ACCT_WITH_DEAD  \\\n",
       "710                     Vlaams Gewest        1                  0   \n",
       "7432   Brussels Hoofdstedelijk Gewest        1                  0   \n",
       "21906                   Vlaams Gewest        1                  0   \n",
       "22018                   Vlaams Gewest        1                  0   \n",
       "628                     Vlaams Gewest        1                  0   \n",
       "\n",
       "       MS_ACCT_WITH_DEAD_30_DAYS  MS_ACCT_WITH_MORY_INJ  \\\n",
       "710                            0                      0   \n",
       "7432                           0                      0   \n",
       "21906                          0                      0   \n",
       "22018                          0                      0   \n",
       "628                            0                      0   \n",
       "\n",
       "       MS_ACCT_WITH_SERLY_INJ  MS_ACCT_WITH_SLY_INJ  \n",
       "710                         0                     1  \n",
       "7432                        0                     1  \n",
       "21906                       0                     1  \n",
       "22018                       0                     1  \n",
       "628                         0                     1  "
      ]
     },
     "execution_count": 18,
     "metadata": {},
     "output_type": "execute_result"
    }
   ],
   "source": [
    "#limpiamos el dataframe de valores 0, basándonos en la argumentación más detallada ya llevado a cabo en d_pobl_2012\n",
    "acc_2012_col_filb['TX_PROV_DESCR_NL'] = acc_2012_col_filb['TX_PROV_DESCR_NL'].fillna(\"Arr. Brussel-Hfdstad[no Prov]\")\n",
    "acc_2012_col_filb.sample(5)"
   ]
  },
  {
   "cell_type": "code",
   "execution_count": 19,
   "metadata": {},
   "outputs": [
    {
     "data": {
      "text/plain": [
       "44051"
      ]
     },
     "execution_count": 19,
     "metadata": {},
     "output_type": "execute_result"
    }
   ],
   "source": [
    "#número de filas por controlar si queremos hacer un control 'visual':\n",
    "len(acc_2012_col_filb)"
   ]
  },
  {
   "cell_type": "code",
   "execution_count": 20,
   "metadata": {},
   "outputs": [
    {
     "data": {
      "text/plain": [
       "YEAR                         0\n",
       "MONTH                        0\n",
       "CD_DAY_OF_WEEK               0\n",
       "TX_BUILD_UP_AREA_DESCR_NL    0\n",
       "TX_LIGHT_COND_DESCR_NL       0\n",
       "TX_ROAD_TYPE_DESCR_NL        0\n",
       "TX_MUNTY_DESCR_NL            0\n",
       "TX_ADM_DSTR_DESCR_NL         0\n",
       "TX_PROV_DESCR_NL             0\n",
       "TX_RGN_DESCR_NL              0\n",
       "MS_ACCT                      0\n",
       "MS_ACCT_WITH_DEAD            0\n",
       "MS_ACCT_WITH_DEAD_30_DAYS    0\n",
       "MS_ACCT_WITH_MORY_INJ        0\n",
       "MS_ACCT_WITH_SERLY_INJ       0\n",
       "MS_ACCT_WITH_SLY_INJ         0\n",
       "dtype: int64"
      ]
     },
     "execution_count": 20,
     "metadata": {},
     "output_type": "execute_result"
    }
   ],
   "source": [
    "#dado que una verificación visual es más complicada aquí (nº de registros = 30102), nos apoyamos solo en el código para verificar \n",
    "# si con la transformación de arriba hemos conseguido eleminar todos los valores NaN:\n",
    "acc_2012_col_filb.isnull().sum()"
   ]
  },
  {
   "cell_type": "markdown",
   "metadata": {},
   "source": [
    "## II.4. LAYOUT: lectura: mejoramos nombres de títulos de/en nuestro dataframe\n",
    "### II.4.1 Título de dataframe "
   ]
  },
  {
   "cell_type": "code",
   "execution_count": 21,
   "metadata": {},
   "outputs": [
    {
     "data": {
      "text/html": [
       "<div>\n",
       "<style scoped>\n",
       "    .dataframe tbody tr th:only-of-type {\n",
       "        vertical-align: middle;\n",
       "    }\n",
       "\n",
       "    .dataframe tbody tr th {\n",
       "        vertical-align: top;\n",
       "    }\n",
       "\n",
       "    .dataframe thead th {\n",
       "        text-align: right;\n",
       "    }\n",
       "</style>\n",
       "<table border=\"1\" class=\"dataframe\">\n",
       "  <thead>\n",
       "    <tr style=\"text-align: right;\">\n",
       "      <th></th>\n",
       "      <th>YEAR</th>\n",
       "      <th>MONTH</th>\n",
       "      <th>CD_DAY_OF_WEEK</th>\n",
       "      <th>TX_BUILD_UP_AREA_DESCR_NL</th>\n",
       "      <th>TX_LIGHT_COND_DESCR_NL</th>\n",
       "      <th>TX_ROAD_TYPE_DESCR_NL</th>\n",
       "      <th>TX_MUNTY_DESCR_NL</th>\n",
       "      <th>TX_ADM_DSTR_DESCR_NL</th>\n",
       "      <th>TX_PROV_DESCR_NL</th>\n",
       "      <th>TX_RGN_DESCR_NL</th>\n",
       "      <th>MS_ACCT</th>\n",
       "      <th>MS_ACCT_WITH_DEAD</th>\n",
       "      <th>MS_ACCT_WITH_DEAD_30_DAYS</th>\n",
       "      <th>MS_ACCT_WITH_MORY_INJ</th>\n",
       "      <th>MS_ACCT_WITH_SERLY_INJ</th>\n",
       "      <th>MS_ACCT_WITH_SLY_INJ</th>\n",
       "    </tr>\n",
       "  </thead>\n",
       "  <tbody>\n",
       "    <tr>\n",
       "      <th>0</th>\n",
       "      <td>2012</td>\n",
       "      <td>8</td>\n",
       "      <td>1</td>\n",
       "      <td>Buiten bebouwde kom</td>\n",
       "      <td>Bij klaarlichte dag</td>\n",
       "      <td>Autosnelweg</td>\n",
       "      <td>Aartselaar</td>\n",
       "      <td>Arrondissement Antwerpen</td>\n",
       "      <td>Provincie Antwerpen</td>\n",
       "      <td>Vlaams Gewest</td>\n",
       "      <td>1</td>\n",
       "      <td>0</td>\n",
       "      <td>0</td>\n",
       "      <td>0</td>\n",
       "      <td>0</td>\n",
       "      <td>1</td>\n",
       "    </tr>\n",
       "    <tr>\n",
       "      <th>1</th>\n",
       "      <td>2012</td>\n",
       "      <td>10</td>\n",
       "      <td>5</td>\n",
       "      <td>Niet beschikbaar</td>\n",
       "      <td>Niet beschikbaar</td>\n",
       "      <td>Gewestweg, provincieweg of gemeenteweg</td>\n",
       "      <td>Aartselaar</td>\n",
       "      <td>Arrondissement Antwerpen</td>\n",
       "      <td>Provincie Antwerpen</td>\n",
       "      <td>Vlaams Gewest</td>\n",
       "      <td>1</td>\n",
       "      <td>0</td>\n",
       "      <td>0</td>\n",
       "      <td>0</td>\n",
       "      <td>1</td>\n",
       "      <td>0</td>\n",
       "    </tr>\n",
       "  </tbody>\n",
       "</table>\n",
       "</div>"
      ],
      "text/plain": [
       "   YEAR  MONTH  CD_DAY_OF_WEEK TX_BUILD_UP_AREA_DESCR_NL  \\\n",
       "0  2012      8               1       Buiten bebouwde kom   \n",
       "1  2012     10               5          Niet beschikbaar   \n",
       "\n",
       "  TX_LIGHT_COND_DESCR_NL                   TX_ROAD_TYPE_DESCR_NL  \\\n",
       "0    Bij klaarlichte dag                             Autosnelweg   \n",
       "1       Niet beschikbaar  Gewestweg, provincieweg of gemeenteweg   \n",
       "\n",
       "  TX_MUNTY_DESCR_NL      TX_ADM_DSTR_DESCR_NL     TX_PROV_DESCR_NL  \\\n",
       "0        Aartselaar  Arrondissement Antwerpen  Provincie Antwerpen   \n",
       "1        Aartselaar  Arrondissement Antwerpen  Provincie Antwerpen   \n",
       "\n",
       "  TX_RGN_DESCR_NL  MS_ACCT  MS_ACCT_WITH_DEAD  MS_ACCT_WITH_DEAD_30_DAYS  \\\n",
       "0   Vlaams Gewest        1                  0                          0   \n",
       "1   Vlaams Gewest        1                  0                          0   \n",
       "\n",
       "   MS_ACCT_WITH_MORY_INJ  MS_ACCT_WITH_SERLY_INJ  MS_ACCT_WITH_SLY_INJ  \n",
       "0                      0                       0                     1  \n",
       "1                      0                       1                     0  "
      ]
     },
     "execution_count": 21,
     "metadata": {},
     "output_type": "execute_result"
    }
   ],
   "source": [
    "#simplicar nombre dataframe y verificación de que sigue funcionando bien al llamar:\n",
    "acc_2012_base = acc_2012_col_filb\n",
    "acc_2012_base.head(2)"
   ]
  },
  {
   "cell_type": "markdown",
   "metadata": {},
   "source": [
    "### II.4.2. Título columnas: abreviaciones donde sea posible (según patrón iterativo)"
   ]
  },
  {
   "cell_type": "code",
   "execution_count": 22,
   "metadata": {},
   "outputs": [],
   "source": [
    "#primer paso: renombrar títulos de columnas\n",
    "acc_2012_base.columns = shorten_column_titles(acc_2012_base.columns)"
   ]
  },
  {
   "cell_type": "code",
   "execution_count": 23,
   "metadata": {},
   "outputs": [
    {
     "name": "stdout",
     "output_type": "stream",
     "text": [
      "Index(['YEAR', 'MONTH', 'CD_DAY_OF_WEEK', 'BUILD_UP_AREA', 'LIGHT_COND',\n",
      "       'ROAD_TYPE', 'MUNTY', 'ADM_DSTR', 'PROV', 'RGN', 'MS_ACCT',\n",
      "       'MS_ACCT_WITH_DEAD', 'MS_ACCT_WITH_DEAD_30_DAYS',\n",
      "       'MS_ACCT_WITH_MORY_INJ', 'MS_ACCT_WITH_SERLY_INJ',\n",
      "       'MS_ACCT_WITH_SLY_INJ'],\n",
      "      dtype='object')\n"
     ]
    }
   ],
   "source": [
    "#segundo paso: primera posibilidad de verificación:\n",
    "print(acc_2012_base.columns)"
   ]
  },
  {
   "cell_type": "code",
   "execution_count": 24,
   "metadata": {},
   "outputs": [
    {
     "data": {
      "text/html": [
       "<div>\n",
       "<style scoped>\n",
       "    .dataframe tbody tr th:only-of-type {\n",
       "        vertical-align: middle;\n",
       "    }\n",
       "\n",
       "    .dataframe tbody tr th {\n",
       "        vertical-align: top;\n",
       "    }\n",
       "\n",
       "    .dataframe thead th {\n",
       "        text-align: right;\n",
       "    }\n",
       "</style>\n",
       "<table border=\"1\" class=\"dataframe\">\n",
       "  <thead>\n",
       "    <tr style=\"text-align: right;\">\n",
       "      <th></th>\n",
       "      <th>YEAR</th>\n",
       "      <th>MONTH</th>\n",
       "      <th>CD_DAY_OF_WEEK</th>\n",
       "      <th>BUILD_UP_AREA</th>\n",
       "      <th>LIGHT_COND</th>\n",
       "      <th>ROAD_TYPE</th>\n",
       "      <th>MUNTY</th>\n",
       "      <th>ADM_DSTR</th>\n",
       "      <th>PROV</th>\n",
       "      <th>RGN</th>\n",
       "      <th>MS_ACCT</th>\n",
       "      <th>MS_ACCT_WITH_DEAD</th>\n",
       "      <th>MS_ACCT_WITH_DEAD_30_DAYS</th>\n",
       "      <th>MS_ACCT_WITH_MORY_INJ</th>\n",
       "      <th>MS_ACCT_WITH_SERLY_INJ</th>\n",
       "      <th>MS_ACCT_WITH_SLY_INJ</th>\n",
       "    </tr>\n",
       "  </thead>\n",
       "  <tbody>\n",
       "    <tr>\n",
       "      <th>36448</th>\n",
       "      <td>2012</td>\n",
       "      <td>11</td>\n",
       "      <td>5</td>\n",
       "      <td>Buiten bebouwde kom</td>\n",
       "      <td>Dageraad - schemering</td>\n",
       "      <td>Gewestweg, provincieweg of gemeenteweg</td>\n",
       "      <td>Couvin</td>\n",
       "      <td>Arrondissement Philippeville</td>\n",
       "      <td>Provincie Namen</td>\n",
       "      <td>Waals Gewest</td>\n",
       "      <td>1</td>\n",
       "      <td>0</td>\n",
       "      <td>0</td>\n",
       "      <td>0</td>\n",
       "      <td>0</td>\n",
       "      <td>1</td>\n",
       "    </tr>\n",
       "  </tbody>\n",
       "</table>\n",
       "</div>"
      ],
      "text/plain": [
       "       YEAR  MONTH  CD_DAY_OF_WEEK        BUILD_UP_AREA  \\\n",
       "36448  2012     11               5  Buiten bebouwde kom   \n",
       "\n",
       "                  LIGHT_COND                               ROAD_TYPE   MUNTY  \\\n",
       "36448  Dageraad - schemering  Gewestweg, provincieweg of gemeenteweg  Couvin   \n",
       "\n",
       "                           ADM_DSTR             PROV           RGN  MS_ACCT  \\\n",
       "36448  Arrondissement Philippeville  Provincie Namen  Waals Gewest        1   \n",
       "\n",
       "       MS_ACCT_WITH_DEAD  MS_ACCT_WITH_DEAD_30_DAYS  MS_ACCT_WITH_MORY_INJ  \\\n",
       "36448                  0                          0                      0   \n",
       "\n",
       "       MS_ACCT_WITH_SERLY_INJ  MS_ACCT_WITH_SLY_INJ  \n",
       "36448                       0                     1  "
      ]
     },
     "execution_count": 24,
     "metadata": {},
     "output_type": "execute_result"
    }
   ],
   "source": [
    "#segundo paso: segunda posibilidad de verificación (integración real en el dataframe):\n",
    "acc_2012_base.sample()"
   ]
  },
  {
   "cell_type": "markdown",
   "metadata": {},
   "source": [
    "### II.4.3. Título columnas accidentes: más transparencia"
   ]
  },
  {
   "cell_type": "code",
   "execution_count": 25,
   "metadata": {},
   "outputs": [
    {
     "data": {
      "text/plain": [
       "Index(['YEAR', 'MONTH', 'CD_DAY_OF_WEEK', 'BUILD_UP_AREA', 'LIGHT_COND',\n",
       "       'ROAD_TYPE', 'MUNTY', 'ADM_DSTR', 'PROV', 'RGN', 'MS_ACCT',\n",
       "       'MS_ACCT_WITH_DEAD', 'MS_ACCT_WITH_DEAD_30_DAYS',\n",
       "       'MS_ACCT_WITH_MORY_INJ', 'MS_ACCT_WITH_SERLY_INJ',\n",
       "       'MS_ACCT_WITH_SLY_INJ'],\n",
       "      dtype='object')"
      ]
     },
     "execution_count": 25,
     "metadata": {},
     "output_type": "execute_result"
    }
   ],
   "source": [
    "acc_2012_base.columns"
   ]
  },
  {
   "cell_type": "code",
   "execution_count": 26,
   "metadata": {},
   "outputs": [
    {
     "data": {
      "text/plain": [
       "['YEAR',\n",
       " 'MONTH',\n",
       " 'CD_DAY_OF_WEEK',\n",
       " 'BUILD_UP_AREA',\n",
       " 'LIGHT_COND',\n",
       " 'ROAD_TYPE',\n",
       " 'MUNTY',\n",
       " 'ADM_DSTR',\n",
       " 'PROV',\n",
       " 'RGN',\n",
       " 'Nº ACC',\n",
       " 'Nº ACC_WITH_DEAD',\n",
       " 'Nº ACC_WITH_DEAD_30_DAYS',\n",
       " 'Nº ACC_WITH_MORY_INJ',\n",
       " 'Nº ACC_WITH_SERLY_INJ',\n",
       " 'Nº ACC_WITH_SLY_INJ']"
      ]
     },
     "execution_count": 26,
     "metadata": {},
     "output_type": "execute_result"
    }
   ],
   "source": [
    "clarify_name_acc(acc_2012_base.columns)"
   ]
  },
  {
   "cell_type": "code",
   "execution_count": 27,
   "metadata": {},
   "outputs": [
    {
     "data": {
      "text/plain": [
       "Index(['YEAR', 'MONTH', 'CD_DAY_OF_WEEK', 'BUILD_UP_AREA', 'LIGHT_COND',\n",
       "       'ROAD_TYPE', 'MUNTY', 'ADM_DSTR', 'PROV', 'RGN', 'Nº ACC',\n",
       "       'Nº ACC_WITH_DEAD', 'Nº ACC_WITH_DEAD_30_DAYS', 'Nº ACC_WITH_MORY_INJ',\n",
       "       'Nº ACC_WITH_SERLY_INJ', 'Nº ACC_WITH_SLY_INJ'],\n",
       "      dtype='object')"
      ]
     },
     "execution_count": 27,
     "metadata": {},
     "output_type": "execute_result"
    }
   ],
   "source": [
    "acc_2012_base.columns = clarify_name_acc(acc_2012_base.columns)\n",
    "#acc_2012_base = acc_2012_base.rename(columns={\"MS_ACCT\": \"Nº ACCIDENTS\"})\n",
    "acc_2012_base.columns"
   ]
  },
  {
   "cell_type": "code",
   "execution_count": 28,
   "metadata": {},
   "outputs": [],
   "source": [
    "######################################################################################################\n",
    "acc_2012_base.to_csv(\"Data_ACC/acc_2012_base.csv\", index=False)"
   ]
  },
  {
   "cell_type": "markdown",
   "metadata": {},
   "source": [
    "## II.5. Operaciones para analizar los datos:"
   ]
  },
  {
   "cell_type": "markdown",
   "metadata": {},
   "source": [
    "### II.5.1. Total de accidentes para el año 2012:"
   ]
  },
  {
   "cell_type": "code",
   "execution_count": 29,
   "metadata": {},
   "outputs": [
    {
     "data": {
      "text/plain": [
       "44051"
      ]
     },
     "execution_count": 29,
     "metadata": {},
     "output_type": "execute_result"
    }
   ],
   "source": [
    "tot_acc_2012 = acc_2012_base[\"Nº ACC\"].count()\n",
    "tot_acc_2012"
   ]
  },
  {
   "cell_type": "markdown",
   "metadata": {},
   "source": [
    "### II.5.2. Totales por otras distinciones en el tiempo\n",
    "\n",
    "a) nº de accidentes por día"
   ]
  },
  {
   "cell_type": "code",
   "execution_count": 30,
   "metadata": {},
   "outputs": [
    {
     "data": {
      "text/html": [
       "<div>\n",
       "<style scoped>\n",
       "    .dataframe tbody tr th:only-of-type {\n",
       "        vertical-align: middle;\n",
       "    }\n",
       "\n",
       "    .dataframe tbody tr th {\n",
       "        vertical-align: top;\n",
       "    }\n",
       "\n",
       "    .dataframe thead th {\n",
       "        text-align: right;\n",
       "    }\n",
       "</style>\n",
       "<table border=\"1\" class=\"dataframe\">\n",
       "  <thead>\n",
       "    <tr style=\"text-align: right;\">\n",
       "      <th></th>\n",
       "      <th>Nº ACC</th>\n",
       "    </tr>\n",
       "    <tr>\n",
       "      <th>CD_DAY_OF_WEEK</th>\n",
       "      <th></th>\n",
       "    </tr>\n",
       "  </thead>\n",
       "  <tbody>\n",
       "    <tr>\n",
       "      <th>1</th>\n",
       "      <td>6267</td>\n",
       "    </tr>\n",
       "    <tr>\n",
       "      <th>2</th>\n",
       "      <td>6311</td>\n",
       "    </tr>\n",
       "    <tr>\n",
       "      <th>3</th>\n",
       "      <td>6662</td>\n",
       "    </tr>\n",
       "    <tr>\n",
       "      <th>4</th>\n",
       "      <td>6415</td>\n",
       "    </tr>\n",
       "    <tr>\n",
       "      <th>5</th>\n",
       "      <td>6905</td>\n",
       "    </tr>\n",
       "    <tr>\n",
       "      <th>6</th>\n",
       "      <td>6138</td>\n",
       "    </tr>\n",
       "    <tr>\n",
       "      <th>7</th>\n",
       "      <td>5353</td>\n",
       "    </tr>\n",
       "  </tbody>\n",
       "</table>\n",
       "</div>"
      ],
      "text/plain": [
       "                Nº ACC\n",
       "CD_DAY_OF_WEEK        \n",
       "1                 6267\n",
       "2                 6311\n",
       "3                 6662\n",
       "4                 6415\n",
       "5                 6905\n",
       "6                 6138\n",
       "7                 5353"
      ]
     },
     "execution_count": 30,
     "metadata": {},
     "output_type": "execute_result"
    }
   ],
   "source": [
    "acc_2012_por_dia = acc_2012_base.groupby(\"CD_DAY_OF_WEEK\")[[\"Nº ACC\"]].count()\n",
    "acc_2012_por_dia"
   ]
  },
  {
   "cell_type": "markdown",
   "metadata": {},
   "source": [
    "b) nº de accidentes por mes"
   ]
  },
  {
   "cell_type": "code",
   "execution_count": 31,
   "metadata": {},
   "outputs": [
    {
     "data": {
      "text/html": [
       "<div>\n",
       "<style scoped>\n",
       "    .dataframe tbody tr th:only-of-type {\n",
       "        vertical-align: middle;\n",
       "    }\n",
       "\n",
       "    .dataframe tbody tr th {\n",
       "        vertical-align: top;\n",
       "    }\n",
       "\n",
       "    .dataframe thead th {\n",
       "        text-align: right;\n",
       "    }\n",
       "</style>\n",
       "<table border=\"1\" class=\"dataframe\">\n",
       "  <thead>\n",
       "    <tr style=\"text-align: right;\">\n",
       "      <th></th>\n",
       "      <th>Nº ACC</th>\n",
       "    </tr>\n",
       "    <tr>\n",
       "      <th>MONTH</th>\n",
       "      <th></th>\n",
       "    </tr>\n",
       "  </thead>\n",
       "  <tbody>\n",
       "    <tr>\n",
       "      <th>1</th>\n",
       "      <td>3630</td>\n",
       "    </tr>\n",
       "    <tr>\n",
       "      <th>2</th>\n",
       "      <td>2771</td>\n",
       "    </tr>\n",
       "    <tr>\n",
       "      <th>3</th>\n",
       "      <td>3679</td>\n",
       "    </tr>\n",
       "    <tr>\n",
       "      <th>4</th>\n",
       "      <td>3247</td>\n",
       "    </tr>\n",
       "    <tr>\n",
       "      <th>5</th>\n",
       "      <td>4147</td>\n",
       "    </tr>\n",
       "    <tr>\n",
       "      <th>6</th>\n",
       "      <td>3874</td>\n",
       "    </tr>\n",
       "    <tr>\n",
       "      <th>7</th>\n",
       "      <td>3477</td>\n",
       "    </tr>\n",
       "    <tr>\n",
       "      <th>8</th>\n",
       "      <td>3779</td>\n",
       "    </tr>\n",
       "    <tr>\n",
       "      <th>9</th>\n",
       "      <td>4096</td>\n",
       "    </tr>\n",
       "    <tr>\n",
       "      <th>10</th>\n",
       "      <td>4356</td>\n",
       "    </tr>\n",
       "    <tr>\n",
       "      <th>11</th>\n",
       "      <td>3645</td>\n",
       "    </tr>\n",
       "    <tr>\n",
       "      <th>12</th>\n",
       "      <td>3350</td>\n",
       "    </tr>\n",
       "  </tbody>\n",
       "</table>\n",
       "</div>"
      ],
      "text/plain": [
       "       Nº ACC\n",
       "MONTH        \n",
       "1        3630\n",
       "2        2771\n",
       "3        3679\n",
       "4        3247\n",
       "5        4147\n",
       "6        3874\n",
       "7        3477\n",
       "8        3779\n",
       "9        4096\n",
       "10       4356\n",
       "11       3645\n",
       "12       3350"
      ]
     },
     "execution_count": 31,
     "metadata": {},
     "output_type": "execute_result"
    }
   ],
   "source": [
    "acc_2012_por_mes = acc_2012_base.groupby(\"MONTH\")[[\"Nº ACC\"]].count()\n",
    "acc_2012_por_mes"
   ]
  },
  {
   "cell_type": "markdown",
   "metadata": {},
   "source": [
    "### II.5.3 Totales por distinciones en el espacio "
   ]
  },
  {
   "cell_type": "markdown",
   "metadata": {},
   "source": [
    "preliminar: nº de distritos:"
   ]
  },
  {
   "cell_type": "code",
   "execution_count": 32,
   "metadata": {},
   "outputs": [
    {
     "data": {
      "text/plain": [
       "43"
      ]
     },
     "execution_count": 32,
     "metadata": {},
     "output_type": "execute_result"
    }
   ],
   "source": [
    "tot_dstr = len(acc_2012_base.groupby(\"ADM_DSTR\"))\n",
    "tot_dstr"
   ]
  },
  {
   "cell_type": "markdown",
   "metadata": {},
   "source": [
    "promedio por distrito (si no hubiera variación espacial)"
   ]
  },
  {
   "cell_type": "code",
   "execution_count": 33,
   "metadata": {},
   "outputs": [
    {
     "data": {
      "text/plain": [
       "1024.4418604651162"
      ]
     },
     "execution_count": 33,
     "metadata": {},
     "output_type": "execute_result"
    }
   ],
   "source": [
    "#promedio de accidentes por distrito:\n",
    "tot_acc_2012 / tot_dstr"
   ]
  },
  {
   "cell_type": "markdown",
   "metadata": {},
   "source": [
    "a) nº de accidentes por distrito"
   ]
  },
  {
   "cell_type": "code",
   "execution_count": 34,
   "metadata": {},
   "outputs": [
    {
     "data": {
      "text/html": [
       "<div>\n",
       "<style scoped>\n",
       "    .dataframe tbody tr th:only-of-type {\n",
       "        vertical-align: middle;\n",
       "    }\n",
       "\n",
       "    .dataframe tbody tr th {\n",
       "        vertical-align: top;\n",
       "    }\n",
       "\n",
       "    .dataframe thead th {\n",
       "        text-align: right;\n",
       "    }\n",
       "</style>\n",
       "<table border=\"1\" class=\"dataframe\">\n",
       "  <thead>\n",
       "    <tr style=\"text-align: right;\">\n",
       "      <th></th>\n",
       "      <th>PROV</th>\n",
       "      <th>ADM_DSTR</th>\n",
       "      <th>Nº ACC</th>\n",
       "    </tr>\n",
       "  </thead>\n",
       "  <tbody>\n",
       "    <tr>\n",
       "      <th>0</th>\n",
       "      <td>Arr. Brussel-Hfdstad[no Prov]</td>\n",
       "      <td>Arrondissement Brussel-Hoofdstad</td>\n",
       "      <td>3855</td>\n",
       "    </tr>\n",
       "    <tr>\n",
       "      <th>1</th>\n",
       "      <td>Provincie Antwerpen</td>\n",
       "      <td>Arrondissement Antwerpen</td>\n",
       "      <td>4338</td>\n",
       "    </tr>\n",
       "    <tr>\n",
       "      <th>2</th>\n",
       "      <td>Provincie Antwerpen</td>\n",
       "      <td>Arrondissement Mechelen</td>\n",
       "      <td>1277</td>\n",
       "    </tr>\n",
       "    <tr>\n",
       "      <th>3</th>\n",
       "      <td>Provincie Antwerpen</td>\n",
       "      <td>Arrondissement Turnhout</td>\n",
       "      <td>1940</td>\n",
       "    </tr>\n",
       "    <tr>\n",
       "      <th>4</th>\n",
       "      <td>Provincie Henegouwen</td>\n",
       "      <td>Arrondissement Aat</td>\n",
       "      <td>274</td>\n",
       "    </tr>\n",
       "    <tr>\n",
       "      <th>5</th>\n",
       "      <td>Provincie Henegouwen</td>\n",
       "      <td>Arrondissement Bergen</td>\n",
       "      <td>706</td>\n",
       "    </tr>\n",
       "    <tr>\n",
       "      <th>6</th>\n",
       "      <td>Provincie Henegouwen</td>\n",
       "      <td>Arrondissement Charleroi</td>\n",
       "      <td>1535</td>\n",
       "    </tr>\n",
       "    <tr>\n",
       "      <th>7</th>\n",
       "      <td>Provincie Henegouwen</td>\n",
       "      <td>Arrondissement Doornik</td>\n",
       "      <td>567</td>\n",
       "    </tr>\n",
       "    <tr>\n",
       "      <th>8</th>\n",
       "      <td>Provincie Henegouwen</td>\n",
       "      <td>Arrondissement Moeskroen</td>\n",
       "      <td>217</td>\n",
       "    </tr>\n",
       "    <tr>\n",
       "      <th>9</th>\n",
       "      <td>Provincie Henegouwen</td>\n",
       "      <td>Arrondissement Thuin</td>\n",
       "      <td>507</td>\n",
       "    </tr>\n",
       "    <tr>\n",
       "      <th>10</th>\n",
       "      <td>Provincie Henegouwen</td>\n",
       "      <td>Arrondissement Zinnik</td>\n",
       "      <td>528</td>\n",
       "    </tr>\n",
       "    <tr>\n",
       "      <th>11</th>\n",
       "      <td>Provincie Limburg</td>\n",
       "      <td>Arrondissement Hasselt</td>\n",
       "      <td>1924</td>\n",
       "    </tr>\n",
       "    <tr>\n",
       "      <th>12</th>\n",
       "      <td>Provincie Limburg</td>\n",
       "      <td>Arrondissement Maaseik</td>\n",
       "      <td>898</td>\n",
       "    </tr>\n",
       "    <tr>\n",
       "      <th>13</th>\n",
       "      <td>Provincie Limburg</td>\n",
       "      <td>Arrondissement Tongeren</td>\n",
       "      <td>660</td>\n",
       "    </tr>\n",
       "    <tr>\n",
       "      <th>14</th>\n",
       "      <td>Provincie Luik</td>\n",
       "      <td>Arrondissement Borgworm</td>\n",
       "      <td>244</td>\n",
       "    </tr>\n",
       "    <tr>\n",
       "      <th>15</th>\n",
       "      <td>Provincie Luik</td>\n",
       "      <td>Arrondissement Hoei</td>\n",
       "      <td>346</td>\n",
       "    </tr>\n",
       "    <tr>\n",
       "      <th>16</th>\n",
       "      <td>Provincie Luik</td>\n",
       "      <td>Arrondissement Luik</td>\n",
       "      <td>2279</td>\n",
       "    </tr>\n",
       "    <tr>\n",
       "      <th>17</th>\n",
       "      <td>Provincie Luik</td>\n",
       "      <td>Arrondissement Verviers</td>\n",
       "      <td>999</td>\n",
       "    </tr>\n",
       "    <tr>\n",
       "      <th>18</th>\n",
       "      <td>Provincie Luxemburg</td>\n",
       "      <td>Arrondissement Aarlen</td>\n",
       "      <td>179</td>\n",
       "    </tr>\n",
       "    <tr>\n",
       "      <th>19</th>\n",
       "      <td>Provincie Luxemburg</td>\n",
       "      <td>Arrondissement Bastenaken</td>\n",
       "      <td>205</td>\n",
       "    </tr>\n",
       "    <tr>\n",
       "      <th>20</th>\n",
       "      <td>Provincie Luxemburg</td>\n",
       "      <td>Arrondissement Marche-en-Famenne</td>\n",
       "      <td>287</td>\n",
       "    </tr>\n",
       "    <tr>\n",
       "      <th>21</th>\n",
       "      <td>Provincie Luxemburg</td>\n",
       "      <td>Arrondissement Neufchâteau</td>\n",
       "      <td>261</td>\n",
       "    </tr>\n",
       "    <tr>\n",
       "      <th>22</th>\n",
       "      <td>Provincie Luxemburg</td>\n",
       "      <td>Arrondissement Virton</td>\n",
       "      <td>140</td>\n",
       "    </tr>\n",
       "    <tr>\n",
       "      <th>23</th>\n",
       "      <td>Provincie Namen</td>\n",
       "      <td>Arrondissement Dinant</td>\n",
       "      <td>426</td>\n",
       "    </tr>\n",
       "    <tr>\n",
       "      <th>24</th>\n",
       "      <td>Provincie Namen</td>\n",
       "      <td>Arrondissement Namen</td>\n",
       "      <td>1061</td>\n",
       "    </tr>\n",
       "    <tr>\n",
       "      <th>25</th>\n",
       "      <td>Provincie Namen</td>\n",
       "      <td>Arrondissement Philippeville</td>\n",
       "      <td>268</td>\n",
       "    </tr>\n",
       "    <tr>\n",
       "      <th>26</th>\n",
       "      <td>Provincie Oost-Vlaanderen</td>\n",
       "      <td>Arrondissement Aalst</td>\n",
       "      <td>1114</td>\n",
       "    </tr>\n",
       "    <tr>\n",
       "      <th>27</th>\n",
       "      <td>Provincie Oost-Vlaanderen</td>\n",
       "      <td>Arrondissement Dendermonde</td>\n",
       "      <td>901</td>\n",
       "    </tr>\n",
       "    <tr>\n",
       "      <th>28</th>\n",
       "      <td>Provincie Oost-Vlaanderen</td>\n",
       "      <td>Arrondissement Eeklo</td>\n",
       "      <td>441</td>\n",
       "    </tr>\n",
       "    <tr>\n",
       "      <th>29</th>\n",
       "      <td>Provincie Oost-Vlaanderen</td>\n",
       "      <td>Arrondissement Gent</td>\n",
       "      <td>2979</td>\n",
       "    </tr>\n",
       "    <tr>\n",
       "      <th>30</th>\n",
       "      <td>Provincie Oost-Vlaanderen</td>\n",
       "      <td>Arrondissement Oudenaarde</td>\n",
       "      <td>479</td>\n",
       "    </tr>\n",
       "    <tr>\n",
       "      <th>31</th>\n",
       "      <td>Provincie Oost-Vlaanderen</td>\n",
       "      <td>Arrondissement Sint-Niklaas</td>\n",
       "      <td>1318</td>\n",
       "    </tr>\n",
       "    <tr>\n",
       "      <th>32</th>\n",
       "      <td>Provincie Vlaams-Brabant</td>\n",
       "      <td>Arrondissement Halle-Vilvoorde</td>\n",
       "      <td>2199</td>\n",
       "    </tr>\n",
       "    <tr>\n",
       "      <th>33</th>\n",
       "      <td>Provincie Vlaams-Brabant</td>\n",
       "      <td>Arrondissement Leuven</td>\n",
       "      <td>1674</td>\n",
       "    </tr>\n",
       "    <tr>\n",
       "      <th>34</th>\n",
       "      <td>Provincie Waals-Brabant</td>\n",
       "      <td>Arrondissement Nijvel</td>\n",
       "      <td>1241</td>\n",
       "    </tr>\n",
       "    <tr>\n",
       "      <th>35</th>\n",
       "      <td>Provincie West-Vlaanderen</td>\n",
       "      <td>Arrondissement Brugge</td>\n",
       "      <td>1793</td>\n",
       "    </tr>\n",
       "    <tr>\n",
       "      <th>36</th>\n",
       "      <td>Provincie West-Vlaanderen</td>\n",
       "      <td>Arrondissement Diksmuide</td>\n",
       "      <td>204</td>\n",
       "    </tr>\n",
       "    <tr>\n",
       "      <th>37</th>\n",
       "      <td>Provincie West-Vlaanderen</td>\n",
       "      <td>Arrondissement Ieper</td>\n",
       "      <td>447</td>\n",
       "    </tr>\n",
       "    <tr>\n",
       "      <th>38</th>\n",
       "      <td>Provincie West-Vlaanderen</td>\n",
       "      <td>Arrondissement Kortrijk</td>\n",
       "      <td>1332</td>\n",
       "    </tr>\n",
       "    <tr>\n",
       "      <th>39</th>\n",
       "      <td>Provincie West-Vlaanderen</td>\n",
       "      <td>Arrondissement Oostende</td>\n",
       "      <td>676</td>\n",
       "    </tr>\n",
       "    <tr>\n",
       "      <th>40</th>\n",
       "      <td>Provincie West-Vlaanderen</td>\n",
       "      <td>Arrondissement Roeselare</td>\n",
       "      <td>646</td>\n",
       "    </tr>\n",
       "    <tr>\n",
       "      <th>41</th>\n",
       "      <td>Provincie West-Vlaanderen</td>\n",
       "      <td>Arrondissement Tielt</td>\n",
       "      <td>326</td>\n",
       "    </tr>\n",
       "    <tr>\n",
       "      <th>42</th>\n",
       "      <td>Provincie West-Vlaanderen</td>\n",
       "      <td>Arrondissement Veurne</td>\n",
       "      <td>360</td>\n",
       "    </tr>\n",
       "  </tbody>\n",
       "</table>\n",
       "</div>"
      ],
      "text/plain": [
       "                             PROV                          ADM_DSTR  Nº ACC\n",
       "0   Arr. Brussel-Hfdstad[no Prov]  Arrondissement Brussel-Hoofdstad    3855\n",
       "1             Provincie Antwerpen          Arrondissement Antwerpen    4338\n",
       "2             Provincie Antwerpen           Arrondissement Mechelen    1277\n",
       "3             Provincie Antwerpen           Arrondissement Turnhout    1940\n",
       "4            Provincie Henegouwen                Arrondissement Aat     274\n",
       "5            Provincie Henegouwen             Arrondissement Bergen     706\n",
       "6            Provincie Henegouwen          Arrondissement Charleroi    1535\n",
       "7            Provincie Henegouwen            Arrondissement Doornik     567\n",
       "8            Provincie Henegouwen          Arrondissement Moeskroen     217\n",
       "9            Provincie Henegouwen              Arrondissement Thuin     507\n",
       "10           Provincie Henegouwen             Arrondissement Zinnik     528\n",
       "11              Provincie Limburg            Arrondissement Hasselt    1924\n",
       "12              Provincie Limburg            Arrondissement Maaseik     898\n",
       "13              Provincie Limburg           Arrondissement Tongeren     660\n",
       "14                 Provincie Luik           Arrondissement Borgworm     244\n",
       "15                 Provincie Luik               Arrondissement Hoei     346\n",
       "16                 Provincie Luik               Arrondissement Luik    2279\n",
       "17                 Provincie Luik           Arrondissement Verviers     999\n",
       "18            Provincie Luxemburg             Arrondissement Aarlen     179\n",
       "19            Provincie Luxemburg         Arrondissement Bastenaken     205\n",
       "20            Provincie Luxemburg  Arrondissement Marche-en-Famenne     287\n",
       "21            Provincie Luxemburg        Arrondissement Neufchâteau     261\n",
       "22            Provincie Luxemburg             Arrondissement Virton     140\n",
       "23                Provincie Namen             Arrondissement Dinant     426\n",
       "24                Provincie Namen              Arrondissement Namen    1061\n",
       "25                Provincie Namen      Arrondissement Philippeville     268\n",
       "26      Provincie Oost-Vlaanderen              Arrondissement Aalst    1114\n",
       "27      Provincie Oost-Vlaanderen        Arrondissement Dendermonde     901\n",
       "28      Provincie Oost-Vlaanderen              Arrondissement Eeklo     441\n",
       "29      Provincie Oost-Vlaanderen               Arrondissement Gent    2979\n",
       "30      Provincie Oost-Vlaanderen         Arrondissement Oudenaarde     479\n",
       "31      Provincie Oost-Vlaanderen       Arrondissement Sint-Niklaas    1318\n",
       "32       Provincie Vlaams-Brabant    Arrondissement Halle-Vilvoorde    2199\n",
       "33       Provincie Vlaams-Brabant             Arrondissement Leuven    1674\n",
       "34        Provincie Waals-Brabant             Arrondissement Nijvel    1241\n",
       "35      Provincie West-Vlaanderen             Arrondissement Brugge    1793\n",
       "36      Provincie West-Vlaanderen          Arrondissement Diksmuide     204\n",
       "37      Provincie West-Vlaanderen              Arrondissement Ieper     447\n",
       "38      Provincie West-Vlaanderen           Arrondissement Kortrijk    1332\n",
       "39      Provincie West-Vlaanderen           Arrondissement Oostende     676\n",
       "40      Provincie West-Vlaanderen          Arrondissement Roeselare     646\n",
       "41      Provincie West-Vlaanderen              Arrondissement Tielt     326\n",
       "42      Provincie West-Vlaanderen             Arrondissement Veurne     360"
      ]
     },
     "execution_count": 34,
     "metadata": {},
     "output_type": "execute_result"
    }
   ],
   "source": [
    "#primer paso: nº de accidentes por zona, vistazo ordenado por provincia\n",
    "acc_2012_por_zona = acc_2012_base.groupby([\"PROV\",\"ADM_DSTR\"])[[\"Nº ACC\"]].count()\n",
    "    #acc_2012_por_zona.value_counts()\n",
    "    #acc_2012_por_zona.reset_index(inplace=True)\n",
    "    #acc_2012_por_zona = acc_2012_por_zona.sort_values([\"ADM_DSTR\"], ascending=False)\n",
    "acc_2012_por_zona.reset_index(inplace=True)\n",
    "acc_2012_por_zona"
   ]
  },
  {
   "cell_type": "code",
   "execution_count": 35,
   "metadata": {},
   "outputs": [
    {
     "data": {
      "text/html": [
       "<div>\n",
       "<style scoped>\n",
       "    .dataframe tbody tr th:only-of-type {\n",
       "        vertical-align: middle;\n",
       "    }\n",
       "\n",
       "    .dataframe tbody tr th {\n",
       "        vertical-align: top;\n",
       "    }\n",
       "\n",
       "    .dataframe thead th {\n",
       "        text-align: right;\n",
       "    }\n",
       "</style>\n",
       "<table border=\"1\" class=\"dataframe\">\n",
       "  <thead>\n",
       "    <tr style=\"text-align: right;\">\n",
       "      <th></th>\n",
       "      <th>PROV</th>\n",
       "      <th>ADM_DSTR</th>\n",
       "      <th>Nº ACC</th>\n",
       "    </tr>\n",
       "  </thead>\n",
       "  <tbody>\n",
       "    <tr>\n",
       "      <th>0</th>\n",
       "      <td>Provincie Antwerpen</td>\n",
       "      <td>Arrondissement Antwerpen</td>\n",
       "      <td>4338</td>\n",
       "    </tr>\n",
       "    <tr>\n",
       "      <th>1</th>\n",
       "      <td>Arr. Brussel-Hfdstad[no Prov]</td>\n",
       "      <td>Arrondissement Brussel-Hoofdstad</td>\n",
       "      <td>3855</td>\n",
       "    </tr>\n",
       "    <tr>\n",
       "      <th>2</th>\n",
       "      <td>Provincie Oost-Vlaanderen</td>\n",
       "      <td>Arrondissement Gent</td>\n",
       "      <td>2979</td>\n",
       "    </tr>\n",
       "    <tr>\n",
       "      <th>3</th>\n",
       "      <td>Provincie Luik</td>\n",
       "      <td>Arrondissement Luik</td>\n",
       "      <td>2279</td>\n",
       "    </tr>\n",
       "    <tr>\n",
       "      <th>4</th>\n",
       "      <td>Provincie Vlaams-Brabant</td>\n",
       "      <td>Arrondissement Halle-Vilvoorde</td>\n",
       "      <td>2199</td>\n",
       "    </tr>\n",
       "    <tr>\n",
       "      <th>5</th>\n",
       "      <td>Provincie Antwerpen</td>\n",
       "      <td>Arrondissement Turnhout</td>\n",
       "      <td>1940</td>\n",
       "    </tr>\n",
       "    <tr>\n",
       "      <th>6</th>\n",
       "      <td>Provincie Limburg</td>\n",
       "      <td>Arrondissement Hasselt</td>\n",
       "      <td>1924</td>\n",
       "    </tr>\n",
       "    <tr>\n",
       "      <th>7</th>\n",
       "      <td>Provincie West-Vlaanderen</td>\n",
       "      <td>Arrondissement Brugge</td>\n",
       "      <td>1793</td>\n",
       "    </tr>\n",
       "    <tr>\n",
       "      <th>8</th>\n",
       "      <td>Provincie Vlaams-Brabant</td>\n",
       "      <td>Arrondissement Leuven</td>\n",
       "      <td>1674</td>\n",
       "    </tr>\n",
       "    <tr>\n",
       "      <th>9</th>\n",
       "      <td>Provincie Henegouwen</td>\n",
       "      <td>Arrondissement Charleroi</td>\n",
       "      <td>1535</td>\n",
       "    </tr>\n",
       "    <tr>\n",
       "      <th>10</th>\n",
       "      <td>Provincie West-Vlaanderen</td>\n",
       "      <td>Arrondissement Kortrijk</td>\n",
       "      <td>1332</td>\n",
       "    </tr>\n",
       "    <tr>\n",
       "      <th>11</th>\n",
       "      <td>Provincie Oost-Vlaanderen</td>\n",
       "      <td>Arrondissement Sint-Niklaas</td>\n",
       "      <td>1318</td>\n",
       "    </tr>\n",
       "    <tr>\n",
       "      <th>12</th>\n",
       "      <td>Provincie Antwerpen</td>\n",
       "      <td>Arrondissement Mechelen</td>\n",
       "      <td>1277</td>\n",
       "    </tr>\n",
       "    <tr>\n",
       "      <th>13</th>\n",
       "      <td>Provincie Waals-Brabant</td>\n",
       "      <td>Arrondissement Nijvel</td>\n",
       "      <td>1241</td>\n",
       "    </tr>\n",
       "    <tr>\n",
       "      <th>14</th>\n",
       "      <td>Provincie Oost-Vlaanderen</td>\n",
       "      <td>Arrondissement Aalst</td>\n",
       "      <td>1114</td>\n",
       "    </tr>\n",
       "    <tr>\n",
       "      <th>15</th>\n",
       "      <td>Provincie Namen</td>\n",
       "      <td>Arrondissement Namen</td>\n",
       "      <td>1061</td>\n",
       "    </tr>\n",
       "    <tr>\n",
       "      <th>16</th>\n",
       "      <td>Provincie Luik</td>\n",
       "      <td>Arrondissement Verviers</td>\n",
       "      <td>999</td>\n",
       "    </tr>\n",
       "    <tr>\n",
       "      <th>17</th>\n",
       "      <td>Provincie Oost-Vlaanderen</td>\n",
       "      <td>Arrondissement Dendermonde</td>\n",
       "      <td>901</td>\n",
       "    </tr>\n",
       "    <tr>\n",
       "      <th>18</th>\n",
       "      <td>Provincie Limburg</td>\n",
       "      <td>Arrondissement Maaseik</td>\n",
       "      <td>898</td>\n",
       "    </tr>\n",
       "    <tr>\n",
       "      <th>19</th>\n",
       "      <td>Provincie Henegouwen</td>\n",
       "      <td>Arrondissement Bergen</td>\n",
       "      <td>706</td>\n",
       "    </tr>\n",
       "    <tr>\n",
       "      <th>20</th>\n",
       "      <td>Provincie West-Vlaanderen</td>\n",
       "      <td>Arrondissement Oostende</td>\n",
       "      <td>676</td>\n",
       "    </tr>\n",
       "    <tr>\n",
       "      <th>21</th>\n",
       "      <td>Provincie Limburg</td>\n",
       "      <td>Arrondissement Tongeren</td>\n",
       "      <td>660</td>\n",
       "    </tr>\n",
       "    <tr>\n",
       "      <th>22</th>\n",
       "      <td>Provincie West-Vlaanderen</td>\n",
       "      <td>Arrondissement Roeselare</td>\n",
       "      <td>646</td>\n",
       "    </tr>\n",
       "    <tr>\n",
       "      <th>23</th>\n",
       "      <td>Provincie Henegouwen</td>\n",
       "      <td>Arrondissement Doornik</td>\n",
       "      <td>567</td>\n",
       "    </tr>\n",
       "    <tr>\n",
       "      <th>24</th>\n",
       "      <td>Provincie Henegouwen</td>\n",
       "      <td>Arrondissement Zinnik</td>\n",
       "      <td>528</td>\n",
       "    </tr>\n",
       "    <tr>\n",
       "      <th>25</th>\n",
       "      <td>Provincie Henegouwen</td>\n",
       "      <td>Arrondissement Thuin</td>\n",
       "      <td>507</td>\n",
       "    </tr>\n",
       "    <tr>\n",
       "      <th>26</th>\n",
       "      <td>Provincie Oost-Vlaanderen</td>\n",
       "      <td>Arrondissement Oudenaarde</td>\n",
       "      <td>479</td>\n",
       "    </tr>\n",
       "    <tr>\n",
       "      <th>27</th>\n",
       "      <td>Provincie West-Vlaanderen</td>\n",
       "      <td>Arrondissement Ieper</td>\n",
       "      <td>447</td>\n",
       "    </tr>\n",
       "    <tr>\n",
       "      <th>28</th>\n",
       "      <td>Provincie Oost-Vlaanderen</td>\n",
       "      <td>Arrondissement Eeklo</td>\n",
       "      <td>441</td>\n",
       "    </tr>\n",
       "    <tr>\n",
       "      <th>29</th>\n",
       "      <td>Provincie Namen</td>\n",
       "      <td>Arrondissement Dinant</td>\n",
       "      <td>426</td>\n",
       "    </tr>\n",
       "    <tr>\n",
       "      <th>30</th>\n",
       "      <td>Provincie West-Vlaanderen</td>\n",
       "      <td>Arrondissement Veurne</td>\n",
       "      <td>360</td>\n",
       "    </tr>\n",
       "    <tr>\n",
       "      <th>31</th>\n",
       "      <td>Provincie Luik</td>\n",
       "      <td>Arrondissement Hoei</td>\n",
       "      <td>346</td>\n",
       "    </tr>\n",
       "    <tr>\n",
       "      <th>32</th>\n",
       "      <td>Provincie West-Vlaanderen</td>\n",
       "      <td>Arrondissement Tielt</td>\n",
       "      <td>326</td>\n",
       "    </tr>\n",
       "    <tr>\n",
       "      <th>33</th>\n",
       "      <td>Provincie Luxemburg</td>\n",
       "      <td>Arrondissement Marche-en-Famenne</td>\n",
       "      <td>287</td>\n",
       "    </tr>\n",
       "    <tr>\n",
       "      <th>34</th>\n",
       "      <td>Provincie Henegouwen</td>\n",
       "      <td>Arrondissement Aat</td>\n",
       "      <td>274</td>\n",
       "    </tr>\n",
       "    <tr>\n",
       "      <th>35</th>\n",
       "      <td>Provincie Namen</td>\n",
       "      <td>Arrondissement Philippeville</td>\n",
       "      <td>268</td>\n",
       "    </tr>\n",
       "    <tr>\n",
       "      <th>36</th>\n",
       "      <td>Provincie Luxemburg</td>\n",
       "      <td>Arrondissement Neufchâteau</td>\n",
       "      <td>261</td>\n",
       "    </tr>\n",
       "    <tr>\n",
       "      <th>37</th>\n",
       "      <td>Provincie Luik</td>\n",
       "      <td>Arrondissement Borgworm</td>\n",
       "      <td>244</td>\n",
       "    </tr>\n",
       "    <tr>\n",
       "      <th>38</th>\n",
       "      <td>Provincie Henegouwen</td>\n",
       "      <td>Arrondissement Moeskroen</td>\n",
       "      <td>217</td>\n",
       "    </tr>\n",
       "    <tr>\n",
       "      <th>39</th>\n",
       "      <td>Provincie Luxemburg</td>\n",
       "      <td>Arrondissement Bastenaken</td>\n",
       "      <td>205</td>\n",
       "    </tr>\n",
       "    <tr>\n",
       "      <th>40</th>\n",
       "      <td>Provincie West-Vlaanderen</td>\n",
       "      <td>Arrondissement Diksmuide</td>\n",
       "      <td>204</td>\n",
       "    </tr>\n",
       "    <tr>\n",
       "      <th>41</th>\n",
       "      <td>Provincie Luxemburg</td>\n",
       "      <td>Arrondissement Aarlen</td>\n",
       "      <td>179</td>\n",
       "    </tr>\n",
       "    <tr>\n",
       "      <th>42</th>\n",
       "      <td>Provincie Luxemburg</td>\n",
       "      <td>Arrondissement Virton</td>\n",
       "      <td>140</td>\n",
       "    </tr>\n",
       "  </tbody>\n",
       "</table>\n",
       "</div>"
      ],
      "text/plain": [
       "                             PROV                          ADM_DSTR  Nº ACC\n",
       "0             Provincie Antwerpen          Arrondissement Antwerpen    4338\n",
       "1   Arr. Brussel-Hfdstad[no Prov]  Arrondissement Brussel-Hoofdstad    3855\n",
       "2       Provincie Oost-Vlaanderen               Arrondissement Gent    2979\n",
       "3                  Provincie Luik               Arrondissement Luik    2279\n",
       "4        Provincie Vlaams-Brabant    Arrondissement Halle-Vilvoorde    2199\n",
       "5             Provincie Antwerpen           Arrondissement Turnhout    1940\n",
       "6               Provincie Limburg            Arrondissement Hasselt    1924\n",
       "7       Provincie West-Vlaanderen             Arrondissement Brugge    1793\n",
       "8        Provincie Vlaams-Brabant             Arrondissement Leuven    1674\n",
       "9            Provincie Henegouwen          Arrondissement Charleroi    1535\n",
       "10      Provincie West-Vlaanderen           Arrondissement Kortrijk    1332\n",
       "11      Provincie Oost-Vlaanderen       Arrondissement Sint-Niklaas    1318\n",
       "12            Provincie Antwerpen           Arrondissement Mechelen    1277\n",
       "13        Provincie Waals-Brabant             Arrondissement Nijvel    1241\n",
       "14      Provincie Oost-Vlaanderen              Arrondissement Aalst    1114\n",
       "15                Provincie Namen              Arrondissement Namen    1061\n",
       "16                 Provincie Luik           Arrondissement Verviers     999\n",
       "17      Provincie Oost-Vlaanderen        Arrondissement Dendermonde     901\n",
       "18              Provincie Limburg            Arrondissement Maaseik     898\n",
       "19           Provincie Henegouwen             Arrondissement Bergen     706\n",
       "20      Provincie West-Vlaanderen           Arrondissement Oostende     676\n",
       "21              Provincie Limburg           Arrondissement Tongeren     660\n",
       "22      Provincie West-Vlaanderen          Arrondissement Roeselare     646\n",
       "23           Provincie Henegouwen            Arrondissement Doornik     567\n",
       "24           Provincie Henegouwen             Arrondissement Zinnik     528\n",
       "25           Provincie Henegouwen              Arrondissement Thuin     507\n",
       "26      Provincie Oost-Vlaanderen         Arrondissement Oudenaarde     479\n",
       "27      Provincie West-Vlaanderen              Arrondissement Ieper     447\n",
       "28      Provincie Oost-Vlaanderen              Arrondissement Eeklo     441\n",
       "29                Provincie Namen             Arrondissement Dinant     426\n",
       "30      Provincie West-Vlaanderen             Arrondissement Veurne     360\n",
       "31                 Provincie Luik               Arrondissement Hoei     346\n",
       "32      Provincie West-Vlaanderen              Arrondissement Tielt     326\n",
       "33            Provincie Luxemburg  Arrondissement Marche-en-Famenne     287\n",
       "34           Provincie Henegouwen                Arrondissement Aat     274\n",
       "35                Provincie Namen      Arrondissement Philippeville     268\n",
       "36            Provincie Luxemburg        Arrondissement Neufchâteau     261\n",
       "37                 Provincie Luik           Arrondissement Borgworm     244\n",
       "38           Provincie Henegouwen          Arrondissement Moeskroen     217\n",
       "39            Provincie Luxemburg         Arrondissement Bastenaken     205\n",
       "40      Provincie West-Vlaanderen          Arrondissement Diksmuide     204\n",
       "41            Provincie Luxemburg             Arrondissement Aarlen     179\n",
       "42            Provincie Luxemburg             Arrondissement Virton     140"
      ]
     },
     "execution_count": 35,
     "metadata": {},
     "output_type": "execute_result"
    }
   ],
   "source": [
    "#segundo paso: ordenar de mayor a menor\n",
    "sorted_acc_2012_por_zona = acc_2012_por_zona.sort_values(\"Nº ACC\", ascending=False)\n",
    "sorted_acc_2012_por_zona.reset_index(inplace=True, drop=[\"index\"])\n",
    "sorted_acc_2012_por_zona"
   ]
  },
  {
   "cell_type": "markdown",
   "metadata": {},
   "source": [
    "# III. Preparación de los ficheros por exportar"
   ]
  },
  {
   "cell_type": "code",
   "execution_count": 36,
   "metadata": {},
   "outputs": [],
   "source": [
    "acc_2012_por_zona.to_csv(\"Data_ACC/acc_por_zona_2012.csv\", index=False)\n",
    "sorted_acc_2012_por_zona.to_csv(\"Data_ACC/sorted_acc_por_zona_2012.csv\", index=False)\n",
    "\n",
    "acc_2012_por_dia.to_csv(\"Data_ACC/acc_2012_por_dia.csv\", index = False)\n",
    "acc_2012_por_mes.to_csv(\"Data_ACC/acc_2012_por_mes.csv\", index = False)"
   ]
  },
  {
   "cell_type": "markdown",
   "metadata": {},
   "source": [
    "### Anexo: primeras pruebas con gráficas"
   ]
  },
  {
   "cell_type": "code",
   "execution_count": 35,
   "metadata": {},
   "outputs": [
    {
     "data": {
      "text/plain": [
       "<pandas.core.groupby.generic.DataFrameGroupBy object at 0x0000028AF91B3848>"
      ]
     },
     "execution_count": 35,
     "metadata": {},
     "output_type": "execute_result"
    }
   ],
   "source": [
    "#borrador...\n",
    "MASK = acc_2012_col[\"CD_DAY_OF_WEEK\"].isin([1,2,3,4,5])\n",
    "acc_2012_col_fil = acc_2012_col.groupby(MASK)\n",
    "acc_2012_col_fil"
   ]
  },
  {
   "cell_type": "code",
   "execution_count": 36,
   "metadata": {},
   "outputs": [
    {
     "data": {
      "text/plain": [
       "<AxesSubplot:>"
      ]
     },
     "execution_count": 36,
     "metadata": {},
     "output_type": "execute_result"
    },
    {
     "data": {
      "image/png": "[encoded data removed]",
      "text/plain": [
       "<Figure size 432x288 with 1 Axes>"
      ]
     },
     "metadata": {
      "needs_background": "light"
     },
     "output_type": "display_data"
    }
   ],
   "source": [
    "#prueba...\n",
    "sorted_acc_2012_por_zona[\"Nº ACC\"].hist()"
   ]
  },
  {
   "cell_type": "code",
   "execution_count": 37,
   "metadata": {},
   "outputs": [
    {
     "data": {
      "application/vnd.plotly.v1+json": {
       "config": {
        "plotlyServerURL": "https://plot.ly"
       },
       "data": [
        {
         "hovertemplate": "distritos=%{x}<br>nº accidentes=%{y}<extra></extra>",
         "legendgroup": "",
         "line": {
          "color": "#636efa",
          "dash": "solid"
         },
         "marker": {
          "symbol": "circle"
         },
         "mode": "lines",
         "name": "",
         "orientation": "v",
         "showlegend": false,
         "type": "scatter",
         "x": [
          "Arrondissement Antwerpen",
          "Arrondissement Brussel-Hoofdstad",
          "Arrondissement Gent",
          "Arrondissement Luik",
          "Arrondissement Halle-Vilvoorde",
          "Arrondissement Turnhout",
          "Arrondissement Hasselt",
          "Arrondissement Brugge",
          "Arrondissement Leuven",
          "Arrondissement Charleroi",
          "Arrondissement Kortrijk",
          "Arrondissement Sint-Niklaas",
          "Arrondissement Mechelen",
          "Arrondissement Nijvel",
          "Arrondissement Aalst",
          "Arrondissement Namen",
          "Arrondissement Verviers",
          "Arrondissement Dendermonde",
          "Arrondissement Maaseik",
          "Arrondissement Bergen",
          "Arrondissement Oostende",
          "Arrondissement Tongeren",
          "Arrondissement Roeselare",
          "Arrondissement Doornik",
          "Arrondissement Zinnik",
          "Arrondissement Thuin",
          "Arrondissement Oudenaarde",
          "Arrondissement Ieper",
          "Arrondissement Eeklo",
          "Arrondissement Dinant",
          "Arrondissement Veurne",
          "Arrondissement Hoei",
          "Arrondissement Tielt",
          "Arrondissement Marche-en-Famenne",
          "Arrondissement Aat",
          "Arrondissement Philippeville",
          "Arrondissement Neufchâteau",
          "Arrondissement Borgworm",
          "Arrondissement Moeskroen",
          "Arrondissement Bastenaken",
          "Arrondissement Diksmuide",
          "Arrondissement Aarlen",
          "Arrondissement Virton"
         ],
         "xaxis": "x",
         "y": [
          4338,
          3855,
          2979,
          2279,
          2199,
          1940,
          1924,
          1793,
          1674,
          1535,
          1332,
          1318,
          1277,
          1241,
          1114,
          1061,
          999,
          901,
          898,
          706,
          676,
          660,
          646,
          567,
          528,
          507,
          479,
          447,
          441,
          426,
          360,
          346,
          326,
          287,
          274,
          268,
          261,
          244,
          217,
          205,
          204,
          179,
          140
         ],
         "yaxis": "y"
        }
       ],
       "layout": {
        "legend": {
         "tracegroupgap": 0
        },
        "template": {
         "data": {
          "bar": [
           {
            "error_x": {
             "color": "#2a3f5f"
            },
            "error_y": {
             "color": "#2a3f5f"
            },
            "marker": {
             "line": {
              "color": "#E5ECF6",
              "width": 0.5
             },
             "pattern": {
              "fillmode": "overlay",
              "size": 10,
              "solidity": 0.2
             }
            },
            "type": "bar"
           }
          ],
          "barpolar": [
           {
            "marker": {
             "line": {
              "color": "#E5ECF6",
              "width": 0.5
             },
             "pattern": {
              "fillmode": "overlay",
              "size": 10,
              "solidity": 0.2
             }
            },
            "type": "barpolar"
           }
          ],
          "carpet": [
           {
            "aaxis": {
             "endlinecolor": "#2a3f5f",
             "gridcolor": "white",
             "linecolor": "white",
             "minorgridcolor": "white",
             "startlinecolor": "#2a3f5f"
            },
            "baxis": {
             "endlinecolor": "#2a3f5f",
             "gridcolor": "white",
             "linecolor": "white",
             "minorgridcolor": "white",
             "startlinecolor": "#2a3f5f"
            },
            "type": "carpet"
           }
          ],
          "choropleth": [
           {
            "colorbar": {
             "outlinewidth": 0,
             "ticks": ""
            },
            "type": "choropleth"
           }
          ],
          "contour": [
           {
            "colorbar": {
             "outlinewidth": 0,
             "ticks": ""
            },
            "colorscale": [
             [
              0,
              "#0d0887"
             ],
             [
              0.1111111111111111,
              "#46039f"
             ],
             [
              0.2222222222222222,
              "#7201a8"
             ],
             [
              0.3333333333333333,
              "#9c179e"
             ],
             [
              0.4444444444444444,
              "#bd3786"
             ],
             [
              0.5555555555555556,
              "#d8576b"
             ],
             [
              0.6666666666666666,
              "#ed7953"
             ],
             [
              0.7777777777777778,
              "#fb9f3a"
             ],
             [
              0.8888888888888888,
              "#fdca26"
             ],
             [
              1,
              "#f0f921"
             ]
            ],
            "type": "contour"
           }
          ],
          "contourcarpet": [
           {
            "colorbar": {
             "outlinewidth": 0,
             "ticks": ""
            },
            "type": "contourcarpet"
           }
          ],
          "heatmap": [
           {
            "colorbar": {
             "outlinewidth": 0,
             "ticks": ""
            },
            "colorscale": [
             [
              0,
              "#0d0887"
             ],
             [
              0.1111111111111111,
              "#46039f"
             ],
             [
              0.2222222222222222,
              "#7201a8"
             ],
             [
              0.3333333333333333,
              "#9c179e"
             ],
             [
              0.4444444444444444,
              "#bd3786"
             ],
             [
              0.5555555555555556,
              "#d8576b"
             ],
             [
              0.6666666666666666,
              "#ed7953"
             ],
             [
              0.7777777777777778,
              "#fb9f3a"
             ],
             [
              0.8888888888888888,
              "#fdca26"
             ],
             [
              1,
              "#f0f921"
             ]
            ],
            "type": "heatmap"
           }
          ],
          "heatmapgl": [
           {
            "colorbar": {
             "outlinewidth": 0,
             "ticks": ""
            },
            "colorscale": [
             [
              0,
              "#0d0887"
             ],
             [
              0.1111111111111111,
              "#46039f"
             ],
             [
              0.2222222222222222,
              "#7201a8"
             ],
             [
              0.3333333333333333,
              "#9c179e"
             ],
             [
              0.4444444444444444,
              "#bd3786"
             ],
             [
              0.5555555555555556,
              "#d8576b"
             ],
             [
              0.6666666666666666,
              "#ed7953"
             ],
             [
              0.7777777777777778,
              "#fb9f3a"
             ],
             [
              0.8888888888888888,
              "#fdca26"
             ],
             [
              1,
              "#f0f921"
             ]
            ],
            "type": "heatmapgl"
           }
          ],
          "histogram": [
           {
            "marker": {
             "pattern": {
              "fillmode": "overlay",
              "size": 10,
              "solidity": 0.2
             }
            },
            "type": "histogram"
           }
          ],
          "histogram2d": [
           {
            "colorbar": {
             "outlinewidth": 0,
             "ticks": ""
            },
            "colorscale": [
             [
              0,
              "#0d0887"
             ],
             [
              0.1111111111111111,
              "#46039f"
             ],
             [
              0.2222222222222222,
              "#7201a8"
             ],
             [
              0.3333333333333333,
              "#9c179e"
             ],
             [
              0.4444444444444444,
              "#bd3786"
             ],
             [
              0.5555555555555556,
              "#d8576b"
             ],
             [
              0.6666666666666666,
              "#ed7953"
             ],
             [
              0.7777777777777778,
              "#fb9f3a"
             ],
             [
              0.8888888888888888,
              "#fdca26"
             ],
             [
              1,
              "#f0f921"
             ]
            ],
            "type": "histogram2d"
           }
          ],
          "histogram2dcontour": [
           {
            "colorbar": {
             "outlinewidth": 0,
             "ticks": ""
            },
            "colorscale": [
             [
              0,
              "#0d0887"
             ],
             [
              0.1111111111111111,
              "#46039f"
             ],
             [
              0.2222222222222222,
              "#7201a8"
             ],
             [
              0.3333333333333333,
              "#9c179e"
             ],
             [
              0.4444444444444444,
              "#bd3786"
             ],
             [
              0.5555555555555556,
              "#d8576b"
             ],
             [
              0.6666666666666666,
              "#ed7953"
             ],
             [
              0.7777777777777778,
              "#fb9f3a"
             ],
             [
              0.8888888888888888,
              "#fdca26"
             ],
             [
              1,
              "#f0f921"
             ]
            ],
            "type": "histogram2dcontour"
           }
          ],
          "mesh3d": [
           {
            "colorbar": {
             "outlinewidth": 0,
             "ticks": ""
            },
            "type": "mesh3d"
           }
          ],
          "parcoords": [
           {
            "line": {
             "colorbar": {
              "outlinewidth": 0,
              "ticks": ""
             }
            },
            "type": "parcoords"
           }
          ],
          "pie": [
           {
            "automargin": true,
            "type": "pie"
           }
          ],
          "scatter": [
           {
            "marker": {
             "colorbar": {
              "outlinewidth": 0,
              "ticks": ""
             }
            },
            "type": "scatter"
           }
          ],
          "scatter3d": [
           {
            "line": {
             "colorbar": {
              "outlinewidth": 0,
              "ticks": ""
             }
            },
            "marker": {
             "colorbar": {
              "outlinewidth": 0,
              "ticks": ""
             }
            },
            "type": "scatter3d"
           }
          ],
          "scattercarpet": [
           {
            "marker": {
             "colorbar": {
              "outlinewidth": 0,
              "ticks": ""
             }
            },
            "type": "scattercarpet"
           }
          ],
          "scattergeo": [
           {
            "marker": {
             "colorbar": {
              "outlinewidth": 0,
              "ticks": ""
             }
            },
            "type": "scattergeo"
           }
          ],
          "scattergl": [
           {
            "marker": {
             "colorbar": {
              "outlinewidth": 0,
              "ticks": ""
             }
            },
            "type": "scattergl"
           }
          ],
          "scattermapbox": [
           {
            "marker": {
             "colorbar": {
              "outlinewidth": 0,
              "ticks": ""
             }
            },
            "type": "scattermapbox"
           }
          ],
          "scatterpolar": [
           {
            "marker": {
             "colorbar": {
              "outlinewidth": 0,
              "ticks": ""
             }
            },
            "type": "scatterpolar"
           }
          ],
          "scatterpolargl": [
           {
            "marker": {
             "colorbar": {
              "outlinewidth": 0,
              "ticks": ""
             }
            },
            "type": "scatterpolargl"
           }
          ],
          "scatterternary": [
           {
            "marker": {
             "colorbar": {
              "outlinewidth": 0,
              "ticks": ""
             }
            },
            "type": "scatterternary"
           }
          ],
          "surface": [
           {
            "colorbar": {
             "outlinewidth": 0,
             "ticks": ""
            },
            "colorscale": [
             [
              0,
              "#0d0887"
             ],
             [
              0.1111111111111111,
              "#46039f"
             ],
             [
              0.2222222222222222,
              "#7201a8"
             ],
             [
              0.3333333333333333,
              "#9c179e"
             ],
             [
              0.4444444444444444,
              "#bd3786"
             ],
             [
              0.5555555555555556,
              "#d8576b"
             ],
             [
              0.6666666666666666,
              "#ed7953"
             ],
             [
              0.7777777777777778,
              "#fb9f3a"
             ],
             [
              0.8888888888888888,
              "#fdca26"
             ],
             [
              1,
              "#f0f921"
             ]
            ],
            "type": "surface"
           }
          ],
          "table": [
           {
            "cells": {
             "fill": {
              "color": "#EBF0F8"
             },
             "line": {
              "color": "white"
             }
            },
            "header": {
             "fill": {
              "color": "#C8D4E3"
             },
             "line": {
              "color": "white"
             }
            },
            "type": "table"
           }
          ]
         },
         "layout": {
          "annotationdefaults": {
           "arrowcolor": "#2a3f5f",
           "arrowhead": 0,
           "arrowwidth": 1
          },
          "autotypenumbers": "strict",
          "coloraxis": {
           "colorbar": {
            "outlinewidth": 0,
            "ticks": ""
           }
          },
          "colorscale": {
           "diverging": [
            [
             0,
             "#8e0152"
            ],
            [
             0.1,
             "#c51b7d"
            ],
            [
             0.2,
             "#de77ae"
            ],
            [
             0.3,
             "#f1b6da"
            ],
            [
             0.4,
             "#fde0ef"
            ],
            [
             0.5,
             "#f7f7f7"
            ],
            [
             0.6,
             "#e6f5d0"
            ],
            [
             0.7,
             "#b8e186"
            ],
            [
             0.8,
             "#7fbc41"
            ],
            [
             0.9,
             "#4d9221"
            ],
            [
             1,
             "#276419"
            ]
           ],
           "sequential": [
            [
             0,
             "#0d0887"
            ],
            [
             0.1111111111111111,
             "#46039f"
            ],
            [
             0.2222222222222222,
             "#7201a8"
            ],
            [
             0.3333333333333333,
             "#9c179e"
            ],
            [
             0.4444444444444444,
             "#bd3786"
            ],
            [
             0.5555555555555556,
             "#d8576b"
            ],
            [
             0.6666666666666666,
             "#ed7953"
            ],
            [
             0.7777777777777778,
             "#fb9f3a"
            ],
            [
             0.8888888888888888,
             "#fdca26"
            ],
            [
             1,
             "#f0f921"
            ]
           ],
           "sequentialminus": [
            [
             0,
             "#0d0887"
            ],
            [
             0.1111111111111111,
             "#46039f"
            ],
            [
             0.2222222222222222,
             "#7201a8"
            ],
            [
             0.3333333333333333,
             "#9c179e"
            ],
            [
             0.4444444444444444,
             "#bd3786"
            ],
            [
             0.5555555555555556,
             "#d8576b"
            ],
            [
             0.6666666666666666,
             "#ed7953"
            ],
            [
             0.7777777777777778,
             "#fb9f3a"
            ],
            [
             0.8888888888888888,
             "#fdca26"
            ],
            [
             1,
             "#f0f921"
            ]
           ]
          },
          "colorway": [
           "#636efa",
           "#EF553B",
           "#00cc96",
           "#ab63fa",
           "#FFA15A",
           "#19d3f3",
           "#FF6692",
           "#B6E880",
           "#FF97FF",
           "#FECB52"
          ],
          "font": {
           "color": "#2a3f5f"
          },
          "geo": {
           "bgcolor": "white",
           "lakecolor": "white",
           "landcolor": "#E5ECF6",
           "showlakes": true,
           "showland": true,
           "subunitcolor": "white"
          },
          "hoverlabel": {
           "align": "left"
          },
          "hovermode": "closest",
          "mapbox": {
           "style": "light"
          },
          "paper_bgcolor": "white",
          "plot_bgcolor": "#E5ECF6",
          "polar": {
           "angularaxis": {
            "gridcolor": "white",
            "linecolor": "white",
            "ticks": ""
           },
           "bgcolor": "#E5ECF6",
           "radialaxis": {
            "gridcolor": "white",
            "linecolor": "white",
            "ticks": ""
           }
          },
          "scene": {
           "xaxis": {
            "backgroundcolor": "#E5ECF6",
            "gridcolor": "white",
            "gridwidth": 2,
            "linecolor": "white",
            "showbackground": true,
            "ticks": "",
            "zerolinecolor": "white"
           },
           "yaxis": {
            "backgroundcolor": "#E5ECF6",
            "gridcolor": "white",
            "gridwidth": 2,
            "linecolor": "white",
            "showbackground": true,
            "ticks": "",
            "zerolinecolor": "white"
           },
           "zaxis": {
            "backgroundcolor": "#E5ECF6",
            "gridcolor": "white",
            "gridwidth": 2,
            "linecolor": "white",
            "showbackground": true,
            "ticks": "",
            "zerolinecolor": "white"
           }
          },
          "shapedefaults": {
           "line": {
            "color": "#2a3f5f"
           }
          },
          "ternary": {
           "aaxis": {
            "gridcolor": "white",
            "linecolor": "white",
            "ticks": ""
           },
           "baxis": {
            "gridcolor": "white",
            "linecolor": "white",
            "ticks": ""
           },
           "bgcolor": "#E5ECF6",
           "caxis": {
            "gridcolor": "white",
            "linecolor": "white",
            "ticks": ""
           }
          },
          "title": {
           "x": 0.05
          },
          "xaxis": {
           "automargin": true,
           "gridcolor": "white",
           "linecolor": "white",
           "ticks": "",
           "title": {
            "standoff": 15
           },
           "zerolinecolor": "white",
           "zerolinewidth": 2
          },
          "yaxis": {
           "automargin": true,
           "gridcolor": "white",
           "linecolor": "white",
           "ticks": "",
           "title": {
            "standoff": 15
           },
           "zerolinecolor": "white",
           "zerolinewidth": 2
          }
         }
        },
        "title": {
         "text": "Nº de accidentes por zona (2012)"
        },
        "xaxis": {
         "anchor": "y",
         "domain": [
          0,
          1
         ],
         "tickangle": 60,
         "title": {
          "text": "distritos"
         }
        },
        "yaxis": {
         "anchor": "x",
         "domain": [
          0,
          1
         ],
         "title": {
          "text": "nº accidentes"
         }
        }
       }
      }
     },
     "metadata": {},
     "output_type": "display_data"
    }
   ],
   "source": [
    "fig = px.line(x=sorted_acc_2012_por_zona[\"ADM_DSTR\"], y=sorted_acc_2012_por_zona[\"Nº ACC\"], labels = {\"x\": \"distritos\", \"y\": \"nº accidentes\"}, title = \"Nº de accidentes por zona (2012)\")\n",
    "#ax.set_xlabel(xlabel, rotation=60)\n",
    "fig.update_xaxes(tickangle=60)\n",
    "fig.show()"
   ]
  }
 ],
 "metadata": {
  "interpreter": {
   "hash": "7291fc089e198fa8915d0d58dd480239dc8daf5dc8a6486e165be5bbe751df3e"
  },
  "kernelspec": {
   "display_name": "Python 3.7.4 64-bit",
   "language": "python",
   "name": "python3"
  },
  "language_info": {
   "codemirror_mode": {
    "name": "ipython",
    "version": 3
   },
   "file_extension": ".py",
   "mimetype": "text/x-python",
   "name": "python",
   "nbconvert_exporter": "python",
   "pygments_lexer": "ipython3",
   "version": "3.7.4"
  },
  "orig_nbformat": 4
 },
 "nbformat": 4,
 "nbformat_minor": 2
}
