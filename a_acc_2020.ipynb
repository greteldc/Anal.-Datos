{
 "cells": [
  {
   "cell_type": "markdown",
   "metadata": {},
   "source": [
    "# 0. IMPORTACIONES DE SOFTWARE Y CÓDIGO"
   ]
  },
  {
   "cell_type": "code",
   "execution_count": 2,
   "metadata": {},
   "outputs": [],
   "source": [
    "import pandas as pd\n",
    "import seaborn as sns\n",
    "import matplotlib as plt\n",
    "import plotly.express as px\n",
    "import numpy as np\n",
    "from datetime import datetime\n",
    "\n",
    "from utils.functions import reorder_columns, shorten_column_titles, clarify_name_acc"
   ]
  },
  {
   "cell_type": "markdown",
   "metadata": {},
   "source": [
    "# I. IMPORTACION & PRIMERA EXPLORACIÓN DE LOS DATOS"
   ]
  },
  {
   "cell_type": "code",
   "execution_count": 5,
   "metadata": {},
   "outputs": [
    {
     "data": {
      "text/html": [
       "<div>\n",
       "<style scoped>\n",
       "    .dataframe tbody tr th:only-of-type {\n",
       "        vertical-align: middle;\n",
       "    }\n",
       "\n",
       "    .dataframe tbody tr th {\n",
       "        vertical-align: top;\n",
       "    }\n",
       "\n",
       "    .dataframe thead th {\n",
       "        text-align: right;\n",
       "    }\n",
       "</style>\n",
       "<table border=\"1\" class=\"dataframe\">\n",
       "  <thead>\n",
       "    <tr style=\"text-align: right;\">\n",
       "      <th></th>\n",
       "      <th>DT_DAY</th>\n",
       "      <th>DT_HOUR</th>\n",
       "      <th>CD_DAY_OF_WEEK</th>\n",
       "      <th>TX_DAY_OF_WEEK_DESCR_FR</th>\n",
       "      <th>TX_DAY_OF_WEEK_DESCR_NL</th>\n",
       "      <th>CD_BUILD_UP_AREA</th>\n",
       "      <th>TX_BUILD_UP_AREA_DESCR_NL</th>\n",
       "      <th>TX_BUILD_UP_AREA_DESCR_FR</th>\n",
       "      <th>CD_COLL_TYPE</th>\n",
       "      <th>TX_COLL_TYPE_DESCR_NL</th>\n",
       "      <th>...</th>\n",
       "      <th>TX_PROV_DESCR_FR</th>\n",
       "      <th>CD_RGN_REFNIS</th>\n",
       "      <th>TX_RGN_DESCR_NL</th>\n",
       "      <th>TX_RGN_DESCR_FR</th>\n",
       "      <th>MS_ACCT</th>\n",
       "      <th>MS_ACCT_WITH_DEAD</th>\n",
       "      <th>MS_ACCT_WITH_DEAD_30_DAYS</th>\n",
       "      <th>MS_ACCT_WITH_MORY_INJ</th>\n",
       "      <th>MS_ACCT_WITH_SERLY_INJ</th>\n",
       "      <th>MS_ACCT_WITH_SLY_INJ</th>\n",
       "    </tr>\n",
       "  </thead>\n",
       "  <tbody>\n",
       "    <tr>\n",
       "      <th>0</th>\n",
       "      <td>2020-11-28</td>\n",
       "      <td>16</td>\n",
       "      <td>6</td>\n",
       "      <td>Samedi</td>\n",
       "      <td>zaterdag</td>\n",
       "      <td>2.0</td>\n",
       "      <td>Buiten bebouwde kom</td>\n",
       "      <td>Hors agglomération</td>\n",
       "      <td>3.0</td>\n",
       "      <td>Langs achteren (of naast elkaar)</td>\n",
       "      <td>...</td>\n",
       "      <td>Province d’Anvers</td>\n",
       "      <td>2000</td>\n",
       "      <td>Vlaams Gewest</td>\n",
       "      <td>Région flamande</td>\n",
       "      <td>1</td>\n",
       "      <td>0</td>\n",
       "      <td>0</td>\n",
       "      <td>0</td>\n",
       "      <td>0</td>\n",
       "      <td>1</td>\n",
       "    </tr>\n",
       "    <tr>\n",
       "      <th>1</th>\n",
       "      <td>2020-09-24</td>\n",
       "      <td>16</td>\n",
       "      <td>4</td>\n",
       "      <td>Jeudi</td>\n",
       "      <td>donderdag</td>\n",
       "      <td>1.0</td>\n",
       "      <td>Binnen bebouwde kom</td>\n",
       "      <td>En agglomération</td>\n",
       "      <td>3.0</td>\n",
       "      <td>Langs achteren (of naast elkaar)</td>\n",
       "      <td>...</td>\n",
       "      <td>Province d’Anvers</td>\n",
       "      <td>2000</td>\n",
       "      <td>Vlaams Gewest</td>\n",
       "      <td>Région flamande</td>\n",
       "      <td>1</td>\n",
       "      <td>0</td>\n",
       "      <td>0</td>\n",
       "      <td>0</td>\n",
       "      <td>0</td>\n",
       "      <td>1</td>\n",
       "    </tr>\n",
       "    <tr>\n",
       "      <th>2</th>\n",
       "      <td>2020-12-14</td>\n",
       "      <td>14</td>\n",
       "      <td>1</td>\n",
       "      <td>Lundi</td>\n",
       "      <td>maandag</td>\n",
       "      <td>2.0</td>\n",
       "      <td>Buiten bebouwde kom</td>\n",
       "      <td>Hors agglomération</td>\n",
       "      <td>3.0</td>\n",
       "      <td>Langs achteren (of naast elkaar)</td>\n",
       "      <td>...</td>\n",
       "      <td>Province d’Anvers</td>\n",
       "      <td>2000</td>\n",
       "      <td>Vlaams Gewest</td>\n",
       "      <td>Région flamande</td>\n",
       "      <td>1</td>\n",
       "      <td>0</td>\n",
       "      <td>0</td>\n",
       "      <td>0</td>\n",
       "      <td>0</td>\n",
       "      <td>1</td>\n",
       "    </tr>\n",
       "    <tr>\n",
       "      <th>3</th>\n",
       "      <td>2020-11-18</td>\n",
       "      <td>18</td>\n",
       "      <td>3</td>\n",
       "      <td>Mercredi</td>\n",
       "      <td>woensdag</td>\n",
       "      <td>1.0</td>\n",
       "      <td>Binnen bebouwde kom</td>\n",
       "      <td>En agglomération</td>\n",
       "      <td>4.0</td>\n",
       "      <td>Langs opzij</td>\n",
       "      <td>...</td>\n",
       "      <td>Province d’Anvers</td>\n",
       "      <td>2000</td>\n",
       "      <td>Vlaams Gewest</td>\n",
       "      <td>Région flamande</td>\n",
       "      <td>1</td>\n",
       "      <td>0</td>\n",
       "      <td>0</td>\n",
       "      <td>0</td>\n",
       "      <td>1</td>\n",
       "      <td>0</td>\n",
       "    </tr>\n",
       "    <tr>\n",
       "      <th>4</th>\n",
       "      <td>2020-09-17</td>\n",
       "      <td>9</td>\n",
       "      <td>4</td>\n",
       "      <td>Jeudi</td>\n",
       "      <td>donderdag</td>\n",
       "      <td>1.0</td>\n",
       "      <td>Binnen bebouwde kom</td>\n",
       "      <td>En agglomération</td>\n",
       "      <td>4.0</td>\n",
       "      <td>Langs opzij</td>\n",
       "      <td>...</td>\n",
       "      <td>Province d’Anvers</td>\n",
       "      <td>2000</td>\n",
       "      <td>Vlaams Gewest</td>\n",
       "      <td>Région flamande</td>\n",
       "      <td>1</td>\n",
       "      <td>0</td>\n",
       "      <td>0</td>\n",
       "      <td>0</td>\n",
       "      <td>0</td>\n",
       "      <td>1</td>\n",
       "    </tr>\n",
       "  </tbody>\n",
       "</table>\n",
       "<p>5 rows × 35 columns</p>\n",
       "</div>"
      ],
      "text/plain": [
       "      DT_DAY  DT_HOUR  CD_DAY_OF_WEEK TX_DAY_OF_WEEK_DESCR_FR  \\\n",
       "0 2020-11-28       16               6                  Samedi   \n",
       "1 2020-09-24       16               4                   Jeudi   \n",
       "2 2020-12-14       14               1                   Lundi   \n",
       "3 2020-11-18       18               3                Mercredi   \n",
       "4 2020-09-17        9               4                   Jeudi   \n",
       "\n",
       "  TX_DAY_OF_WEEK_DESCR_NL  CD_BUILD_UP_AREA TX_BUILD_UP_AREA_DESCR_NL  \\\n",
       "0                zaterdag               2.0       Buiten bebouwde kom   \n",
       "1               donderdag               1.0       Binnen bebouwde kom   \n",
       "2                 maandag               2.0       Buiten bebouwde kom   \n",
       "3                woensdag               1.0       Binnen bebouwde kom   \n",
       "4               donderdag               1.0       Binnen bebouwde kom   \n",
       "\n",
       "  TX_BUILD_UP_AREA_DESCR_FR  CD_COLL_TYPE             TX_COLL_TYPE_DESCR_NL  \\\n",
       "0        Hors agglomération           3.0  Langs achteren (of naast elkaar)   \n",
       "1          En agglomération           3.0  Langs achteren (of naast elkaar)   \n",
       "2        Hors agglomération           3.0  Langs achteren (of naast elkaar)   \n",
       "3          En agglomération           4.0                       Langs opzij   \n",
       "4          En agglomération           4.0                       Langs opzij   \n",
       "\n",
       "   ...   TX_PROV_DESCR_FR  CD_RGN_REFNIS TX_RGN_DESCR_NL  TX_RGN_DESCR_FR  \\\n",
       "0  ...  Province d’Anvers           2000   Vlaams Gewest  Région flamande   \n",
       "1  ...  Province d’Anvers           2000   Vlaams Gewest  Région flamande   \n",
       "2  ...  Province d’Anvers           2000   Vlaams Gewest  Région flamande   \n",
       "3  ...  Province d’Anvers           2000   Vlaams Gewest  Région flamande   \n",
       "4  ...  Province d’Anvers           2000   Vlaams Gewest  Région flamande   \n",
       "\n",
       "   MS_ACCT MS_ACCT_WITH_DEAD MS_ACCT_WITH_DEAD_30_DAYS  MS_ACCT_WITH_MORY_INJ  \\\n",
       "0        1                 0                         0                      0   \n",
       "1        1                 0                         0                      0   \n",
       "2        1                 0                         0                      0   \n",
       "3        1                 0                         0                      0   \n",
       "4        1                 0                         0                      0   \n",
       "\n",
       "  MS_ACCT_WITH_SERLY_INJ MS_ACCT_WITH_SLY_INJ  \n",
       "0                      0                    1  \n",
       "1                      0                    1  \n",
       "2                      0                    1  \n",
       "3                      1                    0  \n",
       "4                      0                    1  \n",
       "\n",
       "[5 rows x 35 columns]"
      ]
     },
     "execution_count": 5,
     "metadata": {},
     "output_type": "execute_result"
    }
   ],
   "source": [
    "#introduccion de nuestro primer fichero de datos:\n",
    "acc_2020 = pd.read_excel(\"Data_ACC/datos_brutos/TF_ACCIDENTS_2020.xlsx\")\n",
    "acc_2020.head()"
   ]
  },
  {
   "cell_type": "code",
   "execution_count": 6,
   "metadata": {},
   "outputs": [
    {
     "data": {
      "text/plain": [
       "(30102, 35)"
      ]
     },
     "execution_count": 6,
     "metadata": {},
     "output_type": "execute_result"
    }
   ],
   "source": [
    "#aplicamos shape para tener primera idea de nº columnas y filas\n",
    "acc_2020.shape"
   ]
  },
  {
   "cell_type": "code",
   "execution_count": 7,
   "metadata": {},
   "outputs": [
    {
     "name": "stdout",
     "output_type": "stream",
     "text": [
      "<class 'pandas.core.frame.DataFrame'>\n",
      "RangeIndex: 30102 entries, 0 to 30101\n",
      "Data columns (total 35 columns):\n",
      " #   Column                     Non-Null Count  Dtype         \n",
      "---  ------                     --------------  -----         \n",
      " 0   DT_DAY                     30102 non-null  datetime64[ns]\n",
      " 1   DT_HOUR                    30102 non-null  int64         \n",
      " 2   CD_DAY_OF_WEEK             30102 non-null  int64         \n",
      " 3   TX_DAY_OF_WEEK_DESCR_FR    30102 non-null  object        \n",
      " 4   TX_DAY_OF_WEEK_DESCR_NL    30102 non-null  object        \n",
      " 5   CD_BUILD_UP_AREA           28799 non-null  float64       \n",
      " 6   TX_BUILD_UP_AREA_DESCR_NL  30102 non-null  object        \n",
      " 7   TX_BUILD_UP_AREA_DESCR_FR  30102 non-null  object        \n",
      " 8   CD_COLL_TYPE               24182 non-null  float64       \n",
      " 9   TX_COLL_TYPE_DESCR_NL      30102 non-null  object        \n",
      " 10  TX_COLL_TYPE_DESCR_FR      30102 non-null  object        \n",
      " 11  CD_LIGHT_COND              28844 non-null  float64       \n",
      " 12  TX_LIGHT_COND_DESCR_NL     30102 non-null  object        \n",
      " 13  TX_LIGHT_COND_DESCR_FR     30102 non-null  object        \n",
      " 14  CD_ROAD_TYPE               29954 non-null  float64       \n",
      " 15  TX_ROAD_TYPE_DESCR_NL      30102 non-null  object        \n",
      " 16  TX_ROAD_TYPE_DESCR_FR      30102 non-null  object        \n",
      " 17  CD_MUNTY_REFNIS            30102 non-null  int64         \n",
      " 18  TX_MUNTY_DESCR_NL          30102 non-null  object        \n",
      " 19  TX_MUNTY_DESCR_FR          30102 non-null  object        \n",
      " 20  CD_DSTR_REFNIS             30102 non-null  int64         \n",
      " 21  TX_ADM_DSTR_DESCR_NL       30102 non-null  object        \n",
      " 22  TX_ADM_DSTR_DESCR_FR       30102 non-null  object        \n",
      " 23  CD_PROV_REFNIS             26914 non-null  float64       \n",
      " 24  TX_PROV_DESCR_NL           26914 non-null  object        \n",
      " 25  TX_PROV_DESCR_FR           26914 non-null  object        \n",
      " 26  CD_RGN_REFNIS              30102 non-null  int64         \n",
      " 27  TX_RGN_DESCR_NL            30102 non-null  object        \n",
      " 28  TX_RGN_DESCR_FR            30102 non-null  object        \n",
      " 29  MS_ACCT                    30102 non-null  int64         \n",
      " 30  MS_ACCT_WITH_DEAD          30102 non-null  int64         \n",
      " 31  MS_ACCT_WITH_DEAD_30_DAYS  30102 non-null  int64         \n",
      " 32  MS_ACCT_WITH_MORY_INJ      30102 non-null  int64         \n",
      " 33  MS_ACCT_WITH_SERLY_INJ     30102 non-null  int64         \n",
      " 34  MS_ACCT_WITH_SLY_INJ       30102 non-null  int64         \n",
      "dtypes: datetime64[ns](1), float64(5), int64(11), object(18)\n",
      "memory usage: 8.0+ MB\n"
     ]
    }
   ],
   "source": [
    "#más info sobre tipos de datos y valores ausentes en nuestro DF:\n",
    "acc_2020.info()"
   ]
  },
  {
   "cell_type": "markdown",
   "metadata": {},
   "source": [
    ">> vistazo sobre todas las columnas + indicación de índice correspondiente:"
   ]
  },
  {
   "cell_type": "code",
   "execution_count": 8,
   "metadata": {},
   "outputs": [
    {
     "name": "stdout",
     "output_type": "stream",
     "text": [
      "(0, 'DT_DAY')\n",
      "(1, 'DT_HOUR')\n",
      "(2, 'CD_DAY_OF_WEEK')\n",
      "(3, 'TX_DAY_OF_WEEK_DESCR_FR')\n",
      "(4, 'TX_DAY_OF_WEEK_DESCR_NL')\n",
      "(5, 'CD_BUILD_UP_AREA')\n",
      "(6, 'TX_BUILD_UP_AREA_DESCR_NL')\n",
      "(7, 'TX_BUILD_UP_AREA_DESCR_FR')\n",
      "(8, 'CD_COLL_TYPE')\n",
      "(9, 'TX_COLL_TYPE_DESCR_NL')\n",
      "(10, 'TX_COLL_TYPE_DESCR_FR')\n",
      "(11, 'CD_LIGHT_COND')\n",
      "(12, 'TX_LIGHT_COND_DESCR_NL')\n",
      "(13, 'TX_LIGHT_COND_DESCR_FR')\n",
      "(14, 'CD_ROAD_TYPE')\n",
      "(15, 'TX_ROAD_TYPE_DESCR_NL')\n",
      "(16, 'TX_ROAD_TYPE_DESCR_FR')\n",
      "(17, 'CD_MUNTY_REFNIS')\n",
      "(18, 'TX_MUNTY_DESCR_NL')\n",
      "(19, 'TX_MUNTY_DESCR_FR')\n",
      "(20, 'CD_DSTR_REFNIS')\n",
      "(21, 'TX_ADM_DSTR_DESCR_NL')\n",
      "(22, 'TX_ADM_DSTR_DESCR_FR')\n",
      "(23, 'CD_PROV_REFNIS')\n",
      "(24, 'TX_PROV_DESCR_NL')\n",
      "(25, 'TX_PROV_DESCR_FR')\n",
      "(26, 'CD_RGN_REFNIS')\n",
      "(27, 'TX_RGN_DESCR_NL')\n",
      "(28, 'TX_RGN_DESCR_FR')\n",
      "(29, 'MS_ACCT')\n",
      "(30, 'MS_ACCT_WITH_DEAD')\n",
      "(31, 'MS_ACCT_WITH_DEAD_30_DAYS')\n",
      "(32, 'MS_ACCT_WITH_MORY_INJ')\n",
      "(33, 'MS_ACCT_WITH_SERLY_INJ')\n",
      "(34, 'MS_ACCT_WITH_SLY_INJ')\n"
     ]
    }
   ],
   "source": [
    "#preparación para poder seleccionar por indice fluidamente las columnas relevantes (sin conteo manual):\n",
    "todas_col = enumerate(acc_2020.columns)\n",
    "for i in todas_col:\n",
    "    print (i)"
   ]
  },
  {
   "cell_type": "code",
   "execution_count": 9,
   "metadata": {},
   "outputs": [
    {
     "data": {
      "text/plain": [
       "CD_DAY_OF_WEEK\n",
       "1    4261\n",
       "2    4503\n",
       "3    4653\n",
       "4    4749\n",
       "5    4907\n",
       "6    3855\n",
       "7    3174\n",
       "Name: CD_DAY_OF_WEEK, dtype: int64"
      ]
     },
     "execution_count": 9,
     "metadata": {},
     "output_type": "execute_result"
    }
   ],
   "source": [
    "#exploracion de nº accidentes por día\n",
    "A = acc_2020.groupby([\"CD_DAY_OF_WEEK\"])[\"CD_DAY_OF_WEEK\"].count()\n",
    "A"
   ]
  },
  {
   "cell_type": "markdown",
   "metadata": {},
   "source": [
    "primera deducción: \n",
    "1. días laborables: más accidentes (esperado)\n",
    "    1a. el nº va subiendo por día de la semana (inesperado)\n",
    "2. fin de semana: menos accidentes (esperado)\n",
    "    2a. sábado más que domingo (esperado)"
   ]
  },
  {
   "cell_type": "markdown",
   "metadata": {},
   "source": [
    "# II. LIMPIAR LOS DATOS DEL DATAFRAME PARA NUESTRO PROPÓSITO"
   ]
  },
  {
   "cell_type": "markdown",
   "metadata": {},
   "source": [
    "## II.1. limpiar DB original (parte columnas): eliminar columnas irrelevantes"
   ]
  },
  {
   "cell_type": "code",
   "execution_count": 10,
   "metadata": {},
   "outputs": [
    {
     "data": {
      "text/html": [
       "<div>\n",
       "<style scoped>\n",
       "    .dataframe tbody tr th:only-of-type {\n",
       "        vertical-align: middle;\n",
       "    }\n",
       "\n",
       "    .dataframe tbody tr th {\n",
       "        vertical-align: top;\n",
       "    }\n",
       "\n",
       "    .dataframe thead th {\n",
       "        text-align: right;\n",
       "    }\n",
       "</style>\n",
       "<table border=\"1\" class=\"dataframe\">\n",
       "  <thead>\n",
       "    <tr style=\"text-align: right;\">\n",
       "      <th></th>\n",
       "      <th>DT_DAY</th>\n",
       "      <th>CD_DAY_OF_WEEK</th>\n",
       "      <th>TX_BUILD_UP_AREA_DESCR_NL</th>\n",
       "      <th>TX_LIGHT_COND_DESCR_NL</th>\n",
       "      <th>TX_ROAD_TYPE_DESCR_NL</th>\n",
       "      <th>TX_MUNTY_DESCR_NL</th>\n",
       "      <th>TX_ADM_DSTR_DESCR_NL</th>\n",
       "      <th>TX_PROV_DESCR_NL</th>\n",
       "      <th>TX_RGN_DESCR_NL</th>\n",
       "      <th>MS_ACCT</th>\n",
       "      <th>MS_ACCT_WITH_DEAD</th>\n",
       "      <th>MS_ACCT_WITH_DEAD_30_DAYS</th>\n",
       "      <th>MS_ACCT_WITH_MORY_INJ</th>\n",
       "      <th>MS_ACCT_WITH_SERLY_INJ</th>\n",
       "      <th>MS_ACCT_WITH_SLY_INJ</th>\n",
       "    </tr>\n",
       "  </thead>\n",
       "  <tbody>\n",
       "    <tr>\n",
       "      <th>0</th>\n",
       "      <td>2020-11-28</td>\n",
       "      <td>6</td>\n",
       "      <td>Buiten bebouwde kom</td>\n",
       "      <td>Bij klaarlichte dag</td>\n",
       "      <td>Gewestweg, provincieweg of gemeenteweg</td>\n",
       "      <td>Aartselaar</td>\n",
       "      <td>Arrondissement Antwerpen</td>\n",
       "      <td>Provincie Antwerpen</td>\n",
       "      <td>Vlaams Gewest</td>\n",
       "      <td>1</td>\n",
       "      <td>0</td>\n",
       "      <td>0</td>\n",
       "      <td>0</td>\n",
       "      <td>0</td>\n",
       "      <td>1</td>\n",
       "    </tr>\n",
       "    <tr>\n",
       "      <th>1</th>\n",
       "      <td>2020-09-24</td>\n",
       "      <td>4</td>\n",
       "      <td>Binnen bebouwde kom</td>\n",
       "      <td>Bij klaarlichte dag</td>\n",
       "      <td>Gewestweg, provincieweg of gemeenteweg</td>\n",
       "      <td>Aartselaar</td>\n",
       "      <td>Arrondissement Antwerpen</td>\n",
       "      <td>Provincie Antwerpen</td>\n",
       "      <td>Vlaams Gewest</td>\n",
       "      <td>1</td>\n",
       "      <td>0</td>\n",
       "      <td>0</td>\n",
       "      <td>0</td>\n",
       "      <td>0</td>\n",
       "      <td>1</td>\n",
       "    </tr>\n",
       "    <tr>\n",
       "      <th>2</th>\n",
       "      <td>2020-12-14</td>\n",
       "      <td>1</td>\n",
       "      <td>Buiten bebouwde kom</td>\n",
       "      <td>Bij klaarlichte dag</td>\n",
       "      <td>Autosnelweg</td>\n",
       "      <td>Aartselaar</td>\n",
       "      <td>Arrondissement Antwerpen</td>\n",
       "      <td>Provincie Antwerpen</td>\n",
       "      <td>Vlaams Gewest</td>\n",
       "      <td>1</td>\n",
       "      <td>0</td>\n",
       "      <td>0</td>\n",
       "      <td>0</td>\n",
       "      <td>0</td>\n",
       "      <td>1</td>\n",
       "    </tr>\n",
       "    <tr>\n",
       "      <th>3</th>\n",
       "      <td>2020-11-18</td>\n",
       "      <td>3</td>\n",
       "      <td>Binnen bebouwde kom</td>\n",
       "      <td>Nacht, ontstoken openbare verlichting</td>\n",
       "      <td>Gewestweg, provincieweg of gemeenteweg</td>\n",
       "      <td>Aartselaar</td>\n",
       "      <td>Arrondissement Antwerpen</td>\n",
       "      <td>Provincie Antwerpen</td>\n",
       "      <td>Vlaams Gewest</td>\n",
       "      <td>1</td>\n",
       "      <td>0</td>\n",
       "      <td>0</td>\n",
       "      <td>0</td>\n",
       "      <td>1</td>\n",
       "      <td>0</td>\n",
       "    </tr>\n",
       "    <tr>\n",
       "      <th>4</th>\n",
       "      <td>2020-09-17</td>\n",
       "      <td>4</td>\n",
       "      <td>Binnen bebouwde kom</td>\n",
       "      <td>Bij klaarlichte dag</td>\n",
       "      <td>Gewestweg, provincieweg of gemeenteweg</td>\n",
       "      <td>Aartselaar</td>\n",
       "      <td>Arrondissement Antwerpen</td>\n",
       "      <td>Provincie Antwerpen</td>\n",
       "      <td>Vlaams Gewest</td>\n",
       "      <td>1</td>\n",
       "      <td>0</td>\n",
       "      <td>0</td>\n",
       "      <td>0</td>\n",
       "      <td>0</td>\n",
       "      <td>1</td>\n",
       "    </tr>\n",
       "  </tbody>\n",
       "</table>\n",
       "</div>"
      ],
      "text/plain": [
       "      DT_DAY  CD_DAY_OF_WEEK TX_BUILD_UP_AREA_DESCR_NL  \\\n",
       "0 2020-11-28               6       Buiten bebouwde kom   \n",
       "1 2020-09-24               4       Binnen bebouwde kom   \n",
       "2 2020-12-14               1       Buiten bebouwde kom   \n",
       "3 2020-11-18               3       Binnen bebouwde kom   \n",
       "4 2020-09-17               4       Binnen bebouwde kom   \n",
       "\n",
       "                  TX_LIGHT_COND_DESCR_NL  \\\n",
       "0                    Bij klaarlichte dag   \n",
       "1                    Bij klaarlichte dag   \n",
       "2                    Bij klaarlichte dag   \n",
       "3  Nacht, ontstoken openbare verlichting   \n",
       "4                    Bij klaarlichte dag   \n",
       "\n",
       "                    TX_ROAD_TYPE_DESCR_NL TX_MUNTY_DESCR_NL  \\\n",
       "0  Gewestweg, provincieweg of gemeenteweg        Aartselaar   \n",
       "1  Gewestweg, provincieweg of gemeenteweg        Aartselaar   \n",
       "2                             Autosnelweg        Aartselaar   \n",
       "3  Gewestweg, provincieweg of gemeenteweg        Aartselaar   \n",
       "4  Gewestweg, provincieweg of gemeenteweg        Aartselaar   \n",
       "\n",
       "       TX_ADM_DSTR_DESCR_NL     TX_PROV_DESCR_NL TX_RGN_DESCR_NL  MS_ACCT  \\\n",
       "0  Arrondissement Antwerpen  Provincie Antwerpen   Vlaams Gewest        1   \n",
       "1  Arrondissement Antwerpen  Provincie Antwerpen   Vlaams Gewest        1   \n",
       "2  Arrondissement Antwerpen  Provincie Antwerpen   Vlaams Gewest        1   \n",
       "3  Arrondissement Antwerpen  Provincie Antwerpen   Vlaams Gewest        1   \n",
       "4  Arrondissement Antwerpen  Provincie Antwerpen   Vlaams Gewest        1   \n",
       "\n",
       "   MS_ACCT_WITH_DEAD  MS_ACCT_WITH_DEAD_30_DAYS  MS_ACCT_WITH_MORY_INJ  \\\n",
       "0                  0                          0                      0   \n",
       "1                  0                          0                      0   \n",
       "2                  0                          0                      0   \n",
       "3                  0                          0                      0   \n",
       "4                  0                          0                      0   \n",
       "\n",
       "   MS_ACCT_WITH_SERLY_INJ  MS_ACCT_WITH_SLY_INJ  \n",
       "0                       0                     1  \n",
       "1                       0                     1  \n",
       "2                       0                     1  \n",
       "3                       1                     0  \n",
       "4                       0                     1  "
      ]
     },
     "execution_count": 10,
     "metadata": {},
     "output_type": "execute_result"
    }
   ],
   "source": [
    "#mantener columnas relevantes solo - si opcion entre varias: selección de las en las cuales menos valores faltan\n",
    "acc_2020_col = acc_2020.iloc[:,[0,2,6,12,15,18,21,24,27,29,30,31,32,33,34]]\n",
    "acc_2020_col.head(5)"
   ]
  },
  {
   "cell_type": "code",
   "execution_count": 11,
   "metadata": {},
   "outputs": [
    {
     "name": "stdout",
     "output_type": "stream",
     "text": [
      "<class 'pandas.core.frame.DataFrame'>\n",
      "RangeIndex: 30102 entries, 0 to 30101\n",
      "Data columns (total 15 columns):\n",
      " #   Column                     Non-Null Count  Dtype         \n",
      "---  ------                     --------------  -----         \n",
      " 0   DT_DAY                     30102 non-null  datetime64[ns]\n",
      " 1   CD_DAY_OF_WEEK             30102 non-null  int64         \n",
      " 2   TX_BUILD_UP_AREA_DESCR_NL  30102 non-null  object        \n",
      " 3   TX_LIGHT_COND_DESCR_NL     30102 non-null  object        \n",
      " 4   TX_ROAD_TYPE_DESCR_NL      30102 non-null  object        \n",
      " 5   TX_MUNTY_DESCR_NL          30102 non-null  object        \n",
      " 6   TX_ADM_DSTR_DESCR_NL       30102 non-null  object        \n",
      " 7   TX_PROV_DESCR_NL           26914 non-null  object        \n",
      " 8   TX_RGN_DESCR_NL            30102 non-null  object        \n",
      " 9   MS_ACCT                    30102 non-null  int64         \n",
      " 10  MS_ACCT_WITH_DEAD          30102 non-null  int64         \n",
      " 11  MS_ACCT_WITH_DEAD_30_DAYS  30102 non-null  int64         \n",
      " 12  MS_ACCT_WITH_MORY_INJ      30102 non-null  int64         \n",
      " 13  MS_ACCT_WITH_SERLY_INJ     30102 non-null  int64         \n",
      " 14  MS_ACCT_WITH_SLY_INJ       30102 non-null  int64         \n",
      "dtypes: datetime64[ns](1), int64(7), object(7)\n",
      "memory usage: 3.4+ MB\n"
     ]
    }
   ],
   "source": [
    "#nuevo vistazo sobre tipos de datos y valores ausentes:\n",
    "acc_2020_col.info()"
   ]
  },
  {
   "cell_type": "code",
   "execution_count": 10,
   "metadata": {},
   "outputs": [],
   "source": [
    "# deducción: solo en col[7] faltan valores - se deberían poder recuperar en base a col[8] \n",
    "# de momento todavía por determinar si hará falta (dependerá del nivel que seleccionaremos por zona)"
   ]
  },
  {
   "cell_type": "markdown",
   "metadata": {},
   "source": [
    "## II.2. limpiar DB original (parte columnas): crear columna YEAR y MONTH, eliminar columna YEAR-MONTH-DAY"
   ]
  },
  {
   "cell_type": "markdown",
   "metadata": {},
   "source": [
    "Con vistas a agrupaciones posteriores por día laboral vs. sábado vs. domingo, preparamos los datos necesarios para las agrupaciones. Para el proceso de elaboración concreta, referimos al fichero TEST_extraction YEAR DAY."
   ]
  },
  {
   "cell_type": "code",
   "execution_count": 12,
   "metadata": {},
   "outputs": [
    {
     "name": "stderr",
     "output_type": "stream",
     "text": [
      "C:\\Users\\piovr\\AppData\\Roaming\\Python\\Python37\\site-packages\\ipykernel_launcher.py:2: SettingWithCopyWarning: \n",
      "A value is trying to be set on a copy of a slice from a DataFrame.\n",
      "Try using .loc[row_indexer,col_indexer] = value instead\n",
      "\n",
      "See the caveats in the documentation: https://pandas.pydata.org/pandas-docs/stable/user_guide/indexing.html#returning-a-view-versus-a-copy\n",
      "  \n",
      "C:\\Users\\piovr\\AppData\\Roaming\\Python\\Python37\\site-packages\\ipykernel_launcher.py:3: SettingWithCopyWarning: \n",
      "A value is trying to be set on a copy of a slice from a DataFrame.\n",
      "Try using .loc[row_indexer,col_indexer] = value instead\n",
      "\n",
      "See the caveats in the documentation: https://pandas.pydata.org/pandas-docs/stable/user_guide/indexing.html#returning-a-view-versus-a-copy\n",
      "  This is separate from the ipykernel package so we can avoid doing imports until\n"
     ]
    }
   ],
   "source": [
    "# primer paso: creamos unas nuevas columnas \"YEAR\" y \"MONTH\" a partir de la columna existente \"DT_DAY\"\n",
    "acc_2020_col['YEAR'] = acc_2020_col['DT_DAY'].dt.year\n",
    "acc_2020_col['MONTH'] = acc_2020_col['DT_DAY'].dt.month"
   ]
  },
  {
   "cell_type": "code",
   "execution_count": 13,
   "metadata": {},
   "outputs": [
    {
     "data": {
      "text/plain": [
       "Index(['DT_DAY', 'CD_DAY_OF_WEEK', 'TX_BUILD_UP_AREA_DESCR_NL',\n",
       "       'TX_LIGHT_COND_DESCR_NL', 'TX_ROAD_TYPE_DESCR_NL', 'TX_MUNTY_DESCR_NL',\n",
       "       'TX_ADM_DSTR_DESCR_NL', 'TX_PROV_DESCR_NL', 'TX_RGN_DESCR_NL',\n",
       "       'MS_ACCT', 'MS_ACCT_WITH_DEAD', 'MS_ACCT_WITH_DEAD_30_DAYS',\n",
       "       'MS_ACCT_WITH_MORY_INJ', 'MS_ACCT_WITH_SERLY_INJ',\n",
       "       'MS_ACCT_WITH_SLY_INJ', 'YEAR', 'MONTH'],\n",
       "      dtype='object')"
      ]
     },
     "execution_count": 13,
     "metadata": {},
     "output_type": "execute_result"
    }
   ],
   "source": [
    "# segundo paso: verificación: se ha extendido nuestro df de 2 columnas?\n",
    "acc_2020_col.columns\n",
    "# respuesta: sí"
   ]
  },
  {
   "cell_type": "code",
   "execution_count": 14,
   "metadata": {},
   "outputs": [
    {
     "data": {
      "text/plain": [
       "0       2020-11-28\n",
       "1       2020-09-24\n",
       "2       2020-12-14\n",
       "3       2020-11-18\n",
       "4       2020-09-17\n",
       "           ...    \n",
       "30097   2020-09-18\n",
       "30098   2020-08-05\n",
       "30099   2020-07-11\n",
       "30100   2020-07-11\n",
       "30101   2020-08-02\n",
       "Name: DT_DAY, Length: 30102, dtype: datetime64[ns]"
      ]
     },
     "execution_count": 14,
     "metadata": {},
     "output_type": "execute_result"
    }
   ],
   "source": [
    "# tercer paso: eliminamos la primera columna (información relevante mejor distribuida en otra columnas, información no relevante (día) por eliminar)\n",
    "acc_2020_col.pop(\"DT_DAY\")"
   ]
  },
  {
   "cell_type": "code",
   "execution_count": 15,
   "metadata": {},
   "outputs": [
    {
     "data": {
      "text/plain": [
       "Index(['CD_DAY_OF_WEEK', 'TX_BUILD_UP_AREA_DESCR_NL', 'TX_LIGHT_COND_DESCR_NL',\n",
       "       'TX_ROAD_TYPE_DESCR_NL', 'TX_MUNTY_DESCR_NL', 'TX_ADM_DSTR_DESCR_NL',\n",
       "       'TX_PROV_DESCR_NL', 'TX_RGN_DESCR_NL', 'MS_ACCT', 'MS_ACCT_WITH_DEAD',\n",
       "       'MS_ACCT_WITH_DEAD_30_DAYS', 'MS_ACCT_WITH_MORY_INJ',\n",
       "       'MS_ACCT_WITH_SERLY_INJ', 'MS_ACCT_WITH_SLY_INJ', 'YEAR', 'MONTH'],\n",
       "      dtype='object')"
      ]
     },
     "execution_count": 15,
     "metadata": {},
     "output_type": "execute_result"
    }
   ],
   "source": [
    "#cuarto paso: verificación de las columnas presentes:\n",
    "acc_2020_col.columns"
   ]
  },
  {
   "cell_type": "code",
   "execution_count": 16,
   "metadata": {},
   "outputs": [
    {
     "name": "stdout",
     "output_type": "stream",
     "text": [
      "Index(['YEAR', 'MONTH', 'CD_DAY_OF_WEEK', 'TX_BUILD_UP_AREA_DESCR_NL',\n",
      "       'TX_LIGHT_COND_DESCR_NL', 'TX_ROAD_TYPE_DESCR_NL', 'TX_MUNTY_DESCR_NL',\n",
      "       'TX_ADM_DSTR_DESCR_NL', 'TX_PROV_DESCR_NL', 'TX_RGN_DESCR_NL',\n",
      "       'MS_ACCT', 'MS_ACCT_WITH_DEAD', 'MS_ACCT_WITH_DEAD_30_DAYS',\n",
      "       'MS_ACCT_WITH_MORY_INJ', 'MS_ACCT_WITH_SERLY_INJ',\n",
      "       'MS_ACCT_WITH_SLY_INJ'],\n",
      "      dtype='object')\n"
     ]
    }
   ],
   "source": [
    "# quinto paso: desplazamos la última y penúltima columnas a primera y segunda posición de columna:\n",
    "acc_2020_col_fila = reorder_columns(dataframe= acc_2020_col, col_name='YEAR', position=0)\n",
    "#print(acc_2020_col_fila.columns)\n",
    "acc_2020_col_filb = reorder_columns(dataframe= acc_2020_col_fila, col_name=\"MONTH\", position=1)\n",
    "print(acc_2020_col_filb.columns)"
   ]
  },
  {
   "cell_type": "markdown",
   "metadata": {},
   "source": [
    "## II.3. Limpiamos dataframe de valores NaN"
   ]
  },
  {
   "cell_type": "code",
   "execution_count": 17,
   "metadata": {},
   "outputs": [
    {
     "data": {
      "text/html": [
       "<div>\n",
       "<style scoped>\n",
       "    .dataframe tbody tr th:only-of-type {\n",
       "        vertical-align: middle;\n",
       "    }\n",
       "\n",
       "    .dataframe tbody tr th {\n",
       "        vertical-align: top;\n",
       "    }\n",
       "\n",
       "    .dataframe thead th {\n",
       "        text-align: right;\n",
       "    }\n",
       "</style>\n",
       "<table border=\"1\" class=\"dataframe\">\n",
       "  <thead>\n",
       "    <tr style=\"text-align: right;\">\n",
       "      <th></th>\n",
       "      <th>YEAR</th>\n",
       "      <th>MONTH</th>\n",
       "      <th>CD_DAY_OF_WEEK</th>\n",
       "      <th>TX_BUILD_UP_AREA_DESCR_NL</th>\n",
       "      <th>TX_LIGHT_COND_DESCR_NL</th>\n",
       "      <th>TX_ROAD_TYPE_DESCR_NL</th>\n",
       "      <th>TX_MUNTY_DESCR_NL</th>\n",
       "      <th>TX_ADM_DSTR_DESCR_NL</th>\n",
       "      <th>TX_PROV_DESCR_NL</th>\n",
       "      <th>TX_RGN_DESCR_NL</th>\n",
       "      <th>MS_ACCT</th>\n",
       "      <th>MS_ACCT_WITH_DEAD</th>\n",
       "      <th>MS_ACCT_WITH_DEAD_30_DAYS</th>\n",
       "      <th>MS_ACCT_WITH_MORY_INJ</th>\n",
       "      <th>MS_ACCT_WITH_SERLY_INJ</th>\n",
       "      <th>MS_ACCT_WITH_SLY_INJ</th>\n",
       "    </tr>\n",
       "  </thead>\n",
       "  <tbody>\n",
       "    <tr>\n",
       "      <th>27492</th>\n",
       "      <td>2020</td>\n",
       "      <td>4</td>\n",
       "      <td>4</td>\n",
       "      <td>Binnen bebouwde kom</td>\n",
       "      <td>Bij klaarlichte dag</td>\n",
       "      <td>Gewestweg, provincieweg of gemeenteweg</td>\n",
       "      <td>Landen</td>\n",
       "      <td>Arrondissement Leuven</td>\n",
       "      <td>Provincie Vlaams-Brabant</td>\n",
       "      <td>Vlaams Gewest</td>\n",
       "      <td>1</td>\n",
       "      <td>0</td>\n",
       "      <td>0</td>\n",
       "      <td>0</td>\n",
       "      <td>0</td>\n",
       "      <td>1</td>\n",
       "    </tr>\n",
       "    <tr>\n",
       "      <th>17876</th>\n",
       "      <td>2020</td>\n",
       "      <td>3</td>\n",
       "      <td>1</td>\n",
       "      <td>Buiten bebouwde kom</td>\n",
       "      <td>Bij klaarlichte dag</td>\n",
       "      <td>Gewestweg, provincieweg of gemeenteweg</td>\n",
       "      <td>Anderlues</td>\n",
       "      <td>Arrondissement Thuin</td>\n",
       "      <td>Provincie Henegouwen</td>\n",
       "      <td>Waals Gewest</td>\n",
       "      <td>1</td>\n",
       "      <td>0</td>\n",
       "      <td>0</td>\n",
       "      <td>0</td>\n",
       "      <td>0</td>\n",
       "      <td>1</td>\n",
       "    </tr>\n",
       "    <tr>\n",
       "      <th>10726</th>\n",
       "      <td>2020</td>\n",
       "      <td>2</td>\n",
       "      <td>4</td>\n",
       "      <td>Buiten bebouwde kom</td>\n",
       "      <td>Dageraad - schemering</td>\n",
       "      <td>Autosnelweg</td>\n",
       "      <td>Gistel</td>\n",
       "      <td>Arrondissement Oostende</td>\n",
       "      <td>Provincie West-Vlaanderen</td>\n",
       "      <td>Vlaams Gewest</td>\n",
       "      <td>1</td>\n",
       "      <td>0</td>\n",
       "      <td>0</td>\n",
       "      <td>0</td>\n",
       "      <td>0</td>\n",
       "      <td>1</td>\n",
       "    </tr>\n",
       "    <tr>\n",
       "      <th>3793</th>\n",
       "      <td>2020</td>\n",
       "      <td>7</td>\n",
       "      <td>3</td>\n",
       "      <td>Binnen bebouwde kom</td>\n",
       "      <td>Bij klaarlichte dag</td>\n",
       "      <td>Gewestweg, provincieweg of gemeenteweg</td>\n",
       "      <td>Mechelen</td>\n",
       "      <td>Arrondissement Mechelen</td>\n",
       "      <td>Provincie Antwerpen</td>\n",
       "      <td>Vlaams Gewest</td>\n",
       "      <td>1</td>\n",
       "      <td>0</td>\n",
       "      <td>0</td>\n",
       "      <td>0</td>\n",
       "      <td>0</td>\n",
       "      <td>1</td>\n",
       "    </tr>\n",
       "    <tr>\n",
       "      <th>19022</th>\n",
       "      <td>2020</td>\n",
       "      <td>12</td>\n",
       "      <td>4</td>\n",
       "      <td>Binnen bebouwde kom</td>\n",
       "      <td>Bij klaarlichte dag</td>\n",
       "      <td>Gewestweg, provincieweg of gemeenteweg</td>\n",
       "      <td>Luik</td>\n",
       "      <td>Arrondissement Luik</td>\n",
       "      <td>Provincie Luik</td>\n",
       "      <td>Waals Gewest</td>\n",
       "      <td>1</td>\n",
       "      <td>0</td>\n",
       "      <td>0</td>\n",
       "      <td>0</td>\n",
       "      <td>0</td>\n",
       "      <td>1</td>\n",
       "    </tr>\n",
       "  </tbody>\n",
       "</table>\n",
       "</div>"
      ],
      "text/plain": [
       "       YEAR  MONTH  CD_DAY_OF_WEEK TX_BUILD_UP_AREA_DESCR_NL  \\\n",
       "27492  2020      4               4       Binnen bebouwde kom   \n",
       "17876  2020      3               1       Buiten bebouwde kom   \n",
       "10726  2020      2               4       Buiten bebouwde kom   \n",
       "3793   2020      7               3       Binnen bebouwde kom   \n",
       "19022  2020     12               4       Binnen bebouwde kom   \n",
       "\n",
       "      TX_LIGHT_COND_DESCR_NL                   TX_ROAD_TYPE_DESCR_NL  \\\n",
       "27492    Bij klaarlichte dag  Gewestweg, provincieweg of gemeenteweg   \n",
       "17876    Bij klaarlichte dag  Gewestweg, provincieweg of gemeenteweg   \n",
       "10726  Dageraad - schemering                             Autosnelweg   \n",
       "3793     Bij klaarlichte dag  Gewestweg, provincieweg of gemeenteweg   \n",
       "19022    Bij klaarlichte dag  Gewestweg, provincieweg of gemeenteweg   \n",
       "\n",
       "      TX_MUNTY_DESCR_NL     TX_ADM_DSTR_DESCR_NL           TX_PROV_DESCR_NL  \\\n",
       "27492            Landen    Arrondissement Leuven   Provincie Vlaams-Brabant   \n",
       "17876         Anderlues     Arrondissement Thuin       Provincie Henegouwen   \n",
       "10726            Gistel  Arrondissement Oostende  Provincie West-Vlaanderen   \n",
       "3793           Mechelen  Arrondissement Mechelen        Provincie Antwerpen   \n",
       "19022              Luik      Arrondissement Luik             Provincie Luik   \n",
       "\n",
       "      TX_RGN_DESCR_NL  MS_ACCT  MS_ACCT_WITH_DEAD  MS_ACCT_WITH_DEAD_30_DAYS  \\\n",
       "27492   Vlaams Gewest        1                  0                          0   \n",
       "17876    Waals Gewest        1                  0                          0   \n",
       "10726   Vlaams Gewest        1                  0                          0   \n",
       "3793    Vlaams Gewest        1                  0                          0   \n",
       "19022    Waals Gewest        1                  0                          0   \n",
       "\n",
       "       MS_ACCT_WITH_MORY_INJ  MS_ACCT_WITH_SERLY_INJ  MS_ACCT_WITH_SLY_INJ  \n",
       "27492                      0                       0                     1  \n",
       "17876                      0                       0                     1  \n",
       "10726                      0                       0                     1  \n",
       "3793                       0                       0                     1  \n",
       "19022                      0                       0                     1  "
      ]
     },
     "execution_count": 17,
     "metadata": {},
     "output_type": "execute_result"
    }
   ],
   "source": [
    "#limpiamos el dataframe de valores 0, basándonos en la argumentación más detallada ya llevado a cabo en d_pobl_2020\n",
    "acc_2020_col_filb['TX_PROV_DESCR_NL'] = acc_2020_col_filb['TX_PROV_DESCR_NL'].fillna(\"Arr. Brussel-Hfdstad[no Prov]\")\n",
    "acc_2020_col_filb.sample(5)"
   ]
  },
  {
   "cell_type": "code",
   "execution_count": 18,
   "metadata": {},
   "outputs": [
    {
     "data": {
      "text/plain": [
       "30102"
      ]
     },
     "execution_count": 18,
     "metadata": {},
     "output_type": "execute_result"
    }
   ],
   "source": [
    "#número de filas por controlar si queremos hacer un control 'visual':\n",
    "len(acc_2020_col_filb)"
   ]
  },
  {
   "cell_type": "code",
   "execution_count": 19,
   "metadata": {},
   "outputs": [
    {
     "data": {
      "text/plain": [
       "YEAR                         0\n",
       "MONTH                        0\n",
       "CD_DAY_OF_WEEK               0\n",
       "TX_BUILD_UP_AREA_DESCR_NL    0\n",
       "TX_LIGHT_COND_DESCR_NL       0\n",
       "TX_ROAD_TYPE_DESCR_NL        0\n",
       "TX_MUNTY_DESCR_NL            0\n",
       "TX_ADM_DSTR_DESCR_NL         0\n",
       "TX_PROV_DESCR_NL             0\n",
       "TX_RGN_DESCR_NL              0\n",
       "MS_ACCT                      0\n",
       "MS_ACCT_WITH_DEAD            0\n",
       "MS_ACCT_WITH_DEAD_30_DAYS    0\n",
       "MS_ACCT_WITH_MORY_INJ        0\n",
       "MS_ACCT_WITH_SERLY_INJ       0\n",
       "MS_ACCT_WITH_SLY_INJ         0\n",
       "dtype: int64"
      ]
     },
     "execution_count": 19,
     "metadata": {},
     "output_type": "execute_result"
    }
   ],
   "source": [
    "#dado que una verificación visual es más complicada aquí (nº de registros = 30102), nos apoyamos solo en el código para verificar \n",
    "# si con la transformación de arriba hemos conseguido eleminar todos los valores NaN:\n",
    "acc_2020_col_filb.isnull().sum()"
   ]
  },
  {
   "cell_type": "markdown",
   "metadata": {},
   "source": [
    "## II.4. LAYOUT: lectura: mejoramos nombres de títulos de/en nuestro dataframe\n",
    "### II.4.1 Título de dataframe "
   ]
  },
  {
   "cell_type": "code",
   "execution_count": 20,
   "metadata": {},
   "outputs": [
    {
     "data": {
      "text/html": [
       "<div>\n",
       "<style scoped>\n",
       "    .dataframe tbody tr th:only-of-type {\n",
       "        vertical-align: middle;\n",
       "    }\n",
       "\n",
       "    .dataframe tbody tr th {\n",
       "        vertical-align: top;\n",
       "    }\n",
       "\n",
       "    .dataframe thead th {\n",
       "        text-align: right;\n",
       "    }\n",
       "</style>\n",
       "<table border=\"1\" class=\"dataframe\">\n",
       "  <thead>\n",
       "    <tr style=\"text-align: right;\">\n",
       "      <th></th>\n",
       "      <th>YEAR</th>\n",
       "      <th>MONTH</th>\n",
       "      <th>CD_DAY_OF_WEEK</th>\n",
       "      <th>TX_BUILD_UP_AREA_DESCR_NL</th>\n",
       "      <th>TX_LIGHT_COND_DESCR_NL</th>\n",
       "      <th>TX_ROAD_TYPE_DESCR_NL</th>\n",
       "      <th>TX_MUNTY_DESCR_NL</th>\n",
       "      <th>TX_ADM_DSTR_DESCR_NL</th>\n",
       "      <th>TX_PROV_DESCR_NL</th>\n",
       "      <th>TX_RGN_DESCR_NL</th>\n",
       "      <th>MS_ACCT</th>\n",
       "      <th>MS_ACCT_WITH_DEAD</th>\n",
       "      <th>MS_ACCT_WITH_DEAD_30_DAYS</th>\n",
       "      <th>MS_ACCT_WITH_MORY_INJ</th>\n",
       "      <th>MS_ACCT_WITH_SERLY_INJ</th>\n",
       "      <th>MS_ACCT_WITH_SLY_INJ</th>\n",
       "    </tr>\n",
       "  </thead>\n",
       "  <tbody>\n",
       "    <tr>\n",
       "      <th>0</th>\n",
       "      <td>2020</td>\n",
       "      <td>11</td>\n",
       "      <td>6</td>\n",
       "      <td>Buiten bebouwde kom</td>\n",
       "      <td>Bij klaarlichte dag</td>\n",
       "      <td>Gewestweg, provincieweg of gemeenteweg</td>\n",
       "      <td>Aartselaar</td>\n",
       "      <td>Arrondissement Antwerpen</td>\n",
       "      <td>Provincie Antwerpen</td>\n",
       "      <td>Vlaams Gewest</td>\n",
       "      <td>1</td>\n",
       "      <td>0</td>\n",
       "      <td>0</td>\n",
       "      <td>0</td>\n",
       "      <td>0</td>\n",
       "      <td>1</td>\n",
       "    </tr>\n",
       "    <tr>\n",
       "      <th>1</th>\n",
       "      <td>2020</td>\n",
       "      <td>9</td>\n",
       "      <td>4</td>\n",
       "      <td>Binnen bebouwde kom</td>\n",
       "      <td>Bij klaarlichte dag</td>\n",
       "      <td>Gewestweg, provincieweg of gemeenteweg</td>\n",
       "      <td>Aartselaar</td>\n",
       "      <td>Arrondissement Antwerpen</td>\n",
       "      <td>Provincie Antwerpen</td>\n",
       "      <td>Vlaams Gewest</td>\n",
       "      <td>1</td>\n",
       "      <td>0</td>\n",
       "      <td>0</td>\n",
       "      <td>0</td>\n",
       "      <td>0</td>\n",
       "      <td>1</td>\n",
       "    </tr>\n",
       "  </tbody>\n",
       "</table>\n",
       "</div>"
      ],
      "text/plain": [
       "   YEAR  MONTH  CD_DAY_OF_WEEK TX_BUILD_UP_AREA_DESCR_NL  \\\n",
       "0  2020     11               6       Buiten bebouwde kom   \n",
       "1  2020      9               4       Binnen bebouwde kom   \n",
       "\n",
       "  TX_LIGHT_COND_DESCR_NL                   TX_ROAD_TYPE_DESCR_NL  \\\n",
       "0    Bij klaarlichte dag  Gewestweg, provincieweg of gemeenteweg   \n",
       "1    Bij klaarlichte dag  Gewestweg, provincieweg of gemeenteweg   \n",
       "\n",
       "  TX_MUNTY_DESCR_NL      TX_ADM_DSTR_DESCR_NL     TX_PROV_DESCR_NL  \\\n",
       "0        Aartselaar  Arrondissement Antwerpen  Provincie Antwerpen   \n",
       "1        Aartselaar  Arrondissement Antwerpen  Provincie Antwerpen   \n",
       "\n",
       "  TX_RGN_DESCR_NL  MS_ACCT  MS_ACCT_WITH_DEAD  MS_ACCT_WITH_DEAD_30_DAYS  \\\n",
       "0   Vlaams Gewest        1                  0                          0   \n",
       "1   Vlaams Gewest        1                  0                          0   \n",
       "\n",
       "   MS_ACCT_WITH_MORY_INJ  MS_ACCT_WITH_SERLY_INJ  MS_ACCT_WITH_SLY_INJ  \n",
       "0                      0                       0                     1  \n",
       "1                      0                       0                     1  "
      ]
     },
     "execution_count": 20,
     "metadata": {},
     "output_type": "execute_result"
    }
   ],
   "source": [
    "#simplicar nombre dataframe y verificación de que sigue funcionando bien al llamar:\n",
    "acc_2020_base = acc_2020_col_filb\n",
    "acc_2020_base.head(2)"
   ]
  },
  {
   "cell_type": "markdown",
   "metadata": {},
   "source": [
    "### II.4.2. Título columnas: abreviaciones donde sea posible (según patrón iterativo)"
   ]
  },
  {
   "cell_type": "code",
   "execution_count": 21,
   "metadata": {},
   "outputs": [],
   "source": [
    "#primer paso: renombrar títulos de columnas\n",
    "acc_2020_base.columns = shorten_column_titles(acc_2020_base.columns)"
   ]
  },
  {
   "cell_type": "code",
   "execution_count": 22,
   "metadata": {},
   "outputs": [
    {
     "name": "stdout",
     "output_type": "stream",
     "text": [
      "Index(['YEAR', 'MONTH', 'CD_DAY_OF_WEEK', 'BUILD_UP_AREA', 'LIGHT_COND',\n",
      "       'ROAD_TYPE', 'MUNTY', 'ADM_DSTR', 'PROV', 'RGN', 'MS_ACCT',\n",
      "       'MS_ACCT_WITH_DEAD', 'MS_ACCT_WITH_DEAD_30_DAYS',\n",
      "       'MS_ACCT_WITH_MORY_INJ', 'MS_ACCT_WITH_SERLY_INJ',\n",
      "       'MS_ACCT_WITH_SLY_INJ'],\n",
      "      dtype='object')\n"
     ]
    }
   ],
   "source": [
    "#segundo paso: primera posibilidad de verificación:\n",
    "print(acc_2020_base.columns)"
   ]
  },
  {
   "cell_type": "code",
   "execution_count": 23,
   "metadata": {},
   "outputs": [
    {
     "data": {
      "text/html": [
       "<div>\n",
       "<style scoped>\n",
       "    .dataframe tbody tr th:only-of-type {\n",
       "        vertical-align: middle;\n",
       "    }\n",
       "\n",
       "    .dataframe tbody tr th {\n",
       "        vertical-align: top;\n",
       "    }\n",
       "\n",
       "    .dataframe thead th {\n",
       "        text-align: right;\n",
       "    }\n",
       "</style>\n",
       "<table border=\"1\" class=\"dataframe\">\n",
       "  <thead>\n",
       "    <tr style=\"text-align: right;\">\n",
       "      <th></th>\n",
       "      <th>YEAR</th>\n",
       "      <th>MONTH</th>\n",
       "      <th>CD_DAY_OF_WEEK</th>\n",
       "      <th>BUILD_UP_AREA</th>\n",
       "      <th>LIGHT_COND</th>\n",
       "      <th>ROAD_TYPE</th>\n",
       "      <th>MUNTY</th>\n",
       "      <th>ADM_DSTR</th>\n",
       "      <th>PROV</th>\n",
       "      <th>RGN</th>\n",
       "      <th>MS_ACCT</th>\n",
       "      <th>MS_ACCT_WITH_DEAD</th>\n",
       "      <th>MS_ACCT_WITH_DEAD_30_DAYS</th>\n",
       "      <th>MS_ACCT_WITH_MORY_INJ</th>\n",
       "      <th>MS_ACCT_WITH_SERLY_INJ</th>\n",
       "      <th>MS_ACCT_WITH_SLY_INJ</th>\n",
       "    </tr>\n",
       "  </thead>\n",
       "  <tbody>\n",
       "    <tr>\n",
       "      <th>19330</th>\n",
       "      <td>2020</td>\n",
       "      <td>9</td>\n",
       "      <td>4</td>\n",
       "      <td>Binnen bebouwde kom</td>\n",
       "      <td>Bij klaarlichte dag</td>\n",
       "      <td>Gewestweg, provincieweg of gemeenteweg</td>\n",
       "      <td>Luik</td>\n",
       "      <td>Arrondissement Luik</td>\n",
       "      <td>Provincie Luik</td>\n",
       "      <td>Waals Gewest</td>\n",
       "      <td>1</td>\n",
       "      <td>0</td>\n",
       "      <td>0</td>\n",
       "      <td>0</td>\n",
       "      <td>0</td>\n",
       "      <td>1</td>\n",
       "    </tr>\n",
       "  </tbody>\n",
       "</table>\n",
       "</div>"
      ],
      "text/plain": [
       "       YEAR  MONTH  CD_DAY_OF_WEEK        BUILD_UP_AREA           LIGHT_COND  \\\n",
       "19330  2020      9               4  Binnen bebouwde kom  Bij klaarlichte dag   \n",
       "\n",
       "                                    ROAD_TYPE MUNTY             ADM_DSTR  \\\n",
       "19330  Gewestweg, provincieweg of gemeenteweg  Luik  Arrondissement Luik   \n",
       "\n",
       "                 PROV           RGN  MS_ACCT  MS_ACCT_WITH_DEAD  \\\n",
       "19330  Provincie Luik  Waals Gewest        1                  0   \n",
       "\n",
       "       MS_ACCT_WITH_DEAD_30_DAYS  MS_ACCT_WITH_MORY_INJ  \\\n",
       "19330                          0                      0   \n",
       "\n",
       "       MS_ACCT_WITH_SERLY_INJ  MS_ACCT_WITH_SLY_INJ  \n",
       "19330                       0                     1  "
      ]
     },
     "execution_count": 23,
     "metadata": {},
     "output_type": "execute_result"
    }
   ],
   "source": [
    "#segundo paso: segunda posibilidad de verificación (integración real en el dataframe):\n",
    "acc_2020_base.sample()"
   ]
  },
  {
   "cell_type": "markdown",
   "metadata": {},
   "source": [
    "### II.4.3. Título columnas accidentes: más transparencia"
   ]
  },
  {
   "cell_type": "code",
   "execution_count": 24,
   "metadata": {},
   "outputs": [
    {
     "data": {
      "text/plain": [
       "Index(['YEAR', 'MONTH', 'CD_DAY_OF_WEEK', 'BUILD_UP_AREA', 'LIGHT_COND',\n",
       "       'ROAD_TYPE', 'MUNTY', 'ADM_DSTR', 'PROV', 'RGN', 'MS_ACCT',\n",
       "       'MS_ACCT_WITH_DEAD', 'MS_ACCT_WITH_DEAD_30_DAYS',\n",
       "       'MS_ACCT_WITH_MORY_INJ', 'MS_ACCT_WITH_SERLY_INJ',\n",
       "       'MS_ACCT_WITH_SLY_INJ'],\n",
       "      dtype='object')"
      ]
     },
     "execution_count": 24,
     "metadata": {},
     "output_type": "execute_result"
    }
   ],
   "source": [
    "acc_2020_base.columns"
   ]
  },
  {
   "cell_type": "code",
   "execution_count": 25,
   "metadata": {},
   "outputs": [
    {
     "data": {
      "text/plain": [
       "['YEAR',\n",
       " 'MONTH',\n",
       " 'CD_DAY_OF_WEEK',\n",
       " 'BUILD_UP_AREA',\n",
       " 'LIGHT_COND',\n",
       " 'ROAD_TYPE',\n",
       " 'MUNTY',\n",
       " 'ADM_DSTR',\n",
       " 'PROV',\n",
       " 'RGN',\n",
       " 'Nº ACC',\n",
       " 'Nº ACC_WITH_DEAD',\n",
       " 'Nº ACC_WITH_DEAD_30_DAYS',\n",
       " 'Nº ACC_WITH_MORY_INJ',\n",
       " 'Nº ACC_WITH_SERLY_INJ',\n",
       " 'Nº ACC_WITH_SLY_INJ']"
      ]
     },
     "execution_count": 25,
     "metadata": {},
     "output_type": "execute_result"
    }
   ],
   "source": [
    "clarify_name_acc(acc_2020_base.columns)"
   ]
  },
  {
   "cell_type": "code",
   "execution_count": 26,
   "metadata": {},
   "outputs": [
    {
     "data": {
      "text/plain": [
       "Index(['YEAR', 'MONTH', 'CD_DAY_OF_WEEK', 'BUILD_UP_AREA', 'LIGHT_COND',\n",
       "       'ROAD_TYPE', 'MUNTY', 'ADM_DSTR', 'PROV', 'RGN', 'Nº ACC',\n",
       "       'Nº ACC_WITH_DEAD', 'Nº ACC_WITH_DEAD_30_DAYS', 'Nº ACC_WITH_MORY_INJ',\n",
       "       'Nº ACC_WITH_SERLY_INJ', 'Nº ACC_WITH_SLY_INJ'],\n",
       "      dtype='object')"
      ]
     },
     "execution_count": 26,
     "metadata": {},
     "output_type": "execute_result"
    }
   ],
   "source": [
    "acc_2020_base.columns = clarify_name_acc(acc_2020_base.columns)\n",
    "#acc_2020_base = acc_2020_base.rename(columns={\"MS_ACCT\": \"Nº ACCIDENTS\"})\n",
    "acc_2020_base.columns"
   ]
  },
  {
   "cell_type": "markdown",
   "metadata": {},
   "source": [
    "## II.5. Operaciones para analizar los datos:"
   ]
  },
  {
   "cell_type": "markdown",
   "metadata": {},
   "source": [
    "### II.5.1. Total de accidentes para el año 2020:"
   ]
  },
  {
   "cell_type": "code",
   "execution_count": 27,
   "metadata": {},
   "outputs": [
    {
     "data": {
      "text/plain": [
       "30102"
      ]
     },
     "execution_count": 27,
     "metadata": {},
     "output_type": "execute_result"
    }
   ],
   "source": [
    "tot_acc_2020 = acc_2020_base[\"Nº ACC\"].count()\n",
    "tot_acc_2020"
   ]
  },
  {
   "cell_type": "markdown",
   "metadata": {},
   "source": [
    "### II.5.2. Totales por otras distinciones en el tiempo\n",
    "\n",
    "a) nº de accidentes por día"
   ]
  },
  {
   "cell_type": "code",
   "execution_count": 28,
   "metadata": {},
   "outputs": [
    {
     "data": {
      "text/html": [
       "<div>\n",
       "<style scoped>\n",
       "    .dataframe tbody tr th:only-of-type {\n",
       "        vertical-align: middle;\n",
       "    }\n",
       "\n",
       "    .dataframe tbody tr th {\n",
       "        vertical-align: top;\n",
       "    }\n",
       "\n",
       "    .dataframe thead th {\n",
       "        text-align: right;\n",
       "    }\n",
       "</style>\n",
       "<table border=\"1\" class=\"dataframe\">\n",
       "  <thead>\n",
       "    <tr style=\"text-align: right;\">\n",
       "      <th></th>\n",
       "      <th>Nº ACC</th>\n",
       "    </tr>\n",
       "    <tr>\n",
       "      <th>CD_DAY_OF_WEEK</th>\n",
       "      <th></th>\n",
       "    </tr>\n",
       "  </thead>\n",
       "  <tbody>\n",
       "    <tr>\n",
       "      <th>1</th>\n",
       "      <td>4261</td>\n",
       "    </tr>\n",
       "    <tr>\n",
       "      <th>2</th>\n",
       "      <td>4503</td>\n",
       "    </tr>\n",
       "    <tr>\n",
       "      <th>3</th>\n",
       "      <td>4653</td>\n",
       "    </tr>\n",
       "    <tr>\n",
       "      <th>4</th>\n",
       "      <td>4749</td>\n",
       "    </tr>\n",
       "    <tr>\n",
       "      <th>5</th>\n",
       "      <td>4907</td>\n",
       "    </tr>\n",
       "    <tr>\n",
       "      <th>6</th>\n",
       "      <td>3855</td>\n",
       "    </tr>\n",
       "    <tr>\n",
       "      <th>7</th>\n",
       "      <td>3174</td>\n",
       "    </tr>\n",
       "  </tbody>\n",
       "</table>\n",
       "</div>"
      ],
      "text/plain": [
       "                Nº ACC\n",
       "CD_DAY_OF_WEEK        \n",
       "1                 4261\n",
       "2                 4503\n",
       "3                 4653\n",
       "4                 4749\n",
       "5                 4907\n",
       "6                 3855\n",
       "7                 3174"
      ]
     },
     "execution_count": 28,
     "metadata": {},
     "output_type": "execute_result"
    }
   ],
   "source": [
    "acc_2020_por_dia = acc_2020_base.groupby(\"CD_DAY_OF_WEEK\")[[\"Nº ACC\"]].count()\n",
    "acc_2020_por_dia"
   ]
  },
  {
   "cell_type": "markdown",
   "metadata": {},
   "source": [
    "b) nº de accidentes por mes"
   ]
  },
  {
   "cell_type": "code",
   "execution_count": 29,
   "metadata": {},
   "outputs": [
    {
     "data": {
      "text/html": [
       "<div>\n",
       "<style scoped>\n",
       "    .dataframe tbody tr th:only-of-type {\n",
       "        vertical-align: middle;\n",
       "    }\n",
       "\n",
       "    .dataframe tbody tr th {\n",
       "        vertical-align: top;\n",
       "    }\n",
       "\n",
       "    .dataframe thead th {\n",
       "        text-align: right;\n",
       "    }\n",
       "</style>\n",
       "<table border=\"1\" class=\"dataframe\">\n",
       "  <thead>\n",
       "    <tr style=\"text-align: right;\">\n",
       "      <th></th>\n",
       "      <th>Nº ACC</th>\n",
       "    </tr>\n",
       "    <tr>\n",
       "      <th>MONTH</th>\n",
       "      <th></th>\n",
       "    </tr>\n",
       "  </thead>\n",
       "  <tbody>\n",
       "    <tr>\n",
       "      <th>1</th>\n",
       "      <td>2883</td>\n",
       "    </tr>\n",
       "    <tr>\n",
       "      <th>2</th>\n",
       "      <td>2730</td>\n",
       "    </tr>\n",
       "    <tr>\n",
       "      <th>3</th>\n",
       "      <td>1903</td>\n",
       "    </tr>\n",
       "    <tr>\n",
       "      <th>4</th>\n",
       "      <td>1289</td>\n",
       "    </tr>\n",
       "    <tr>\n",
       "      <th>5</th>\n",
       "      <td>2371</td>\n",
       "    </tr>\n",
       "    <tr>\n",
       "      <th>6</th>\n",
       "      <td>2799</td>\n",
       "    </tr>\n",
       "    <tr>\n",
       "      <th>7</th>\n",
       "      <td>2860</td>\n",
       "    </tr>\n",
       "    <tr>\n",
       "      <th>8</th>\n",
       "      <td>2795</td>\n",
       "    </tr>\n",
       "    <tr>\n",
       "      <th>9</th>\n",
       "      <td>3422</td>\n",
       "    </tr>\n",
       "    <tr>\n",
       "      <th>10</th>\n",
       "      <td>2717</td>\n",
       "    </tr>\n",
       "    <tr>\n",
       "      <th>11</th>\n",
       "      <td>2037</td>\n",
       "    </tr>\n",
       "    <tr>\n",
       "      <th>12</th>\n",
       "      <td>2296</td>\n",
       "    </tr>\n",
       "  </tbody>\n",
       "</table>\n",
       "</div>"
      ],
      "text/plain": [
       "       Nº ACC\n",
       "MONTH        \n",
       "1        2883\n",
       "2        2730\n",
       "3        1903\n",
       "4        1289\n",
       "5        2371\n",
       "6        2799\n",
       "7        2860\n",
       "8        2795\n",
       "9        3422\n",
       "10       2717\n",
       "11       2037\n",
       "12       2296"
      ]
     },
     "execution_count": 29,
     "metadata": {},
     "output_type": "execute_result"
    }
   ],
   "source": [
    "acc_2020_por_mes = acc_2020_base.groupby(\"MONTH\")[[\"Nº ACC\"]].count()\n",
    "acc_2020_por_mes"
   ]
  },
  {
   "cell_type": "markdown",
   "metadata": {},
   "source": [
    "### II.5.3 Totales por distinciones en el espacio "
   ]
  },
  {
   "cell_type": "markdown",
   "metadata": {},
   "source": [
    "preliminar: nº de distritos:"
   ]
  },
  {
   "cell_type": "code",
   "execution_count": 30,
   "metadata": {},
   "outputs": [
    {
     "data": {
      "text/plain": [
       "43"
      ]
     },
     "execution_count": 30,
     "metadata": {},
     "output_type": "execute_result"
    }
   ],
   "source": [
    "tot_dstr = len(acc_2020_base.groupby(\"ADM_DSTR\"))\n",
    "tot_dstr"
   ]
  },
  {
   "cell_type": "markdown",
   "metadata": {},
   "source": [
    "promedio por distrito (si no hubiera variación espacial)"
   ]
  },
  {
   "cell_type": "code",
   "execution_count": 31,
   "metadata": {},
   "outputs": [
    {
     "data": {
      "text/plain": [
       "700.046511627907"
      ]
     },
     "execution_count": 31,
     "metadata": {},
     "output_type": "execute_result"
    }
   ],
   "source": [
    "#promedio de accidentes por distrito:\n",
    "tot_acc_2020 / tot_dstr"
   ]
  },
  {
   "cell_type": "markdown",
   "metadata": {},
   "source": [
    "a) nº de accidentes por distrito"
   ]
  },
  {
   "cell_type": "code",
   "execution_count": 32,
   "metadata": {},
   "outputs": [
    {
     "data": {
      "text/html": [
       "<div>\n",
       "<style scoped>\n",
       "    .dataframe tbody tr th:only-of-type {\n",
       "        vertical-align: middle;\n",
       "    }\n",
       "\n",
       "    .dataframe tbody tr th {\n",
       "        vertical-align: top;\n",
       "    }\n",
       "\n",
       "    .dataframe thead th {\n",
       "        text-align: right;\n",
       "    }\n",
       "</style>\n",
       "<table border=\"1\" class=\"dataframe\">\n",
       "  <thead>\n",
       "    <tr style=\"text-align: right;\">\n",
       "      <th></th>\n",
       "      <th>PROV</th>\n",
       "      <th>ADM_DSTR</th>\n",
       "      <th>Nº ACC</th>\n",
       "    </tr>\n",
       "  </thead>\n",
       "  <tbody>\n",
       "    <tr>\n",
       "      <th>0</th>\n",
       "      <td>Arr. Brussel-Hfdstad[no Prov]</td>\n",
       "      <td>Arrondissement Brussel-Hoofdstad</td>\n",
       "      <td>3188</td>\n",
       "    </tr>\n",
       "    <tr>\n",
       "      <th>1</th>\n",
       "      <td>Provincie Antwerpen</td>\n",
       "      <td>Arrondissement Antwerpen</td>\n",
       "      <td>3419</td>\n",
       "    </tr>\n",
       "    <tr>\n",
       "      <th>2</th>\n",
       "      <td>Provincie Antwerpen</td>\n",
       "      <td>Arrondissement Mechelen</td>\n",
       "      <td>706</td>\n",
       "    </tr>\n",
       "    <tr>\n",
       "      <th>3</th>\n",
       "      <td>Provincie Antwerpen</td>\n",
       "      <td>Arrondissement Turnhout</td>\n",
       "      <td>1155</td>\n",
       "    </tr>\n",
       "    <tr>\n",
       "      <th>4</th>\n",
       "      <td>Provincie Henegouwen</td>\n",
       "      <td>Arrondissement Aat</td>\n",
       "      <td>261</td>\n",
       "    </tr>\n",
       "    <tr>\n",
       "      <th>5</th>\n",
       "      <td>Provincie Henegouwen</td>\n",
       "      <td>Arrondissement Bergen</td>\n",
       "      <td>487</td>\n",
       "    </tr>\n",
       "    <tr>\n",
       "      <th>6</th>\n",
       "      <td>Provincie Henegouwen</td>\n",
       "      <td>Arrondissement Charleroi</td>\n",
       "      <td>935</td>\n",
       "    </tr>\n",
       "    <tr>\n",
       "      <th>7</th>\n",
       "      <td>Provincie Henegouwen</td>\n",
       "      <td>Arrondissement Doornik-Moeskroen</td>\n",
       "      <td>538</td>\n",
       "    </tr>\n",
       "    <tr>\n",
       "      <th>8</th>\n",
       "      <td>Provincie Henegouwen</td>\n",
       "      <td>Arrondissement La Louvière</td>\n",
       "      <td>259</td>\n",
       "    </tr>\n",
       "    <tr>\n",
       "      <th>9</th>\n",
       "      <td>Provincie Henegouwen</td>\n",
       "      <td>Arrondissement Thuin</td>\n",
       "      <td>212</td>\n",
       "    </tr>\n",
       "    <tr>\n",
       "      <th>10</th>\n",
       "      <td>Provincie Henegouwen</td>\n",
       "      <td>Arrondissement Zinnik</td>\n",
       "      <td>256</td>\n",
       "    </tr>\n",
       "    <tr>\n",
       "      <th>11</th>\n",
       "      <td>Provincie Limburg</td>\n",
       "      <td>Arrondissement Hasselt</td>\n",
       "      <td>1199</td>\n",
       "    </tr>\n",
       "    <tr>\n",
       "      <th>12</th>\n",
       "      <td>Provincie Limburg</td>\n",
       "      <td>Arrondissement Maaseik</td>\n",
       "      <td>665</td>\n",
       "    </tr>\n",
       "    <tr>\n",
       "      <th>13</th>\n",
       "      <td>Provincie Limburg</td>\n",
       "      <td>Arrondissement Tongeren</td>\n",
       "      <td>477</td>\n",
       "    </tr>\n",
       "    <tr>\n",
       "      <th>14</th>\n",
       "      <td>Provincie Luik</td>\n",
       "      <td>Arrondissement Borgworm</td>\n",
       "      <td>175</td>\n",
       "    </tr>\n",
       "    <tr>\n",
       "      <th>15</th>\n",
       "      <td>Provincie Luik</td>\n",
       "      <td>Arrondissement Hoei</td>\n",
       "      <td>261</td>\n",
       "    </tr>\n",
       "    <tr>\n",
       "      <th>16</th>\n",
       "      <td>Provincie Luik</td>\n",
       "      <td>Arrondissement Luik</td>\n",
       "      <td>1568</td>\n",
       "    </tr>\n",
       "    <tr>\n",
       "      <th>17</th>\n",
       "      <td>Provincie Luik</td>\n",
       "      <td>Arrondissement Verviers</td>\n",
       "      <td>666</td>\n",
       "    </tr>\n",
       "    <tr>\n",
       "      <th>18</th>\n",
       "      <td>Provincie Luxemburg</td>\n",
       "      <td>Arrondissement Aarlen</td>\n",
       "      <td>117</td>\n",
       "    </tr>\n",
       "    <tr>\n",
       "      <th>19</th>\n",
       "      <td>Provincie Luxemburg</td>\n",
       "      <td>Arrondissement Bastenaken</td>\n",
       "      <td>110</td>\n",
       "    </tr>\n",
       "    <tr>\n",
       "      <th>20</th>\n",
       "      <td>Provincie Luxemburg</td>\n",
       "      <td>Arrondissement Marche-en-Famenne</td>\n",
       "      <td>200</td>\n",
       "    </tr>\n",
       "    <tr>\n",
       "      <th>21</th>\n",
       "      <td>Provincie Luxemburg</td>\n",
       "      <td>Arrondissement Neufchâteau</td>\n",
       "      <td>191</td>\n",
       "    </tr>\n",
       "    <tr>\n",
       "      <th>22</th>\n",
       "      <td>Provincie Luxemburg</td>\n",
       "      <td>Arrondissement Virton</td>\n",
       "      <td>115</td>\n",
       "    </tr>\n",
       "    <tr>\n",
       "      <th>23</th>\n",
       "      <td>Provincie Namen</td>\n",
       "      <td>Arrondissement Dinant</td>\n",
       "      <td>269</td>\n",
       "    </tr>\n",
       "    <tr>\n",
       "      <th>24</th>\n",
       "      <td>Provincie Namen</td>\n",
       "      <td>Arrondissement Namen</td>\n",
       "      <td>721</td>\n",
       "    </tr>\n",
       "    <tr>\n",
       "      <th>25</th>\n",
       "      <td>Provincie Namen</td>\n",
       "      <td>Arrondissement Philippeville</td>\n",
       "      <td>189</td>\n",
       "    </tr>\n",
       "    <tr>\n",
       "      <th>26</th>\n",
       "      <td>Provincie Oost-Vlaanderen</td>\n",
       "      <td>Arrondissement Aalst</td>\n",
       "      <td>760</td>\n",
       "    </tr>\n",
       "    <tr>\n",
       "      <th>27</th>\n",
       "      <td>Provincie Oost-Vlaanderen</td>\n",
       "      <td>Arrondissement Dendermonde</td>\n",
       "      <td>573</td>\n",
       "    </tr>\n",
       "    <tr>\n",
       "      <th>28</th>\n",
       "      <td>Provincie Oost-Vlaanderen</td>\n",
       "      <td>Arrondissement Eeklo</td>\n",
       "      <td>342</td>\n",
       "    </tr>\n",
       "    <tr>\n",
       "      <th>29</th>\n",
       "      <td>Provincie Oost-Vlaanderen</td>\n",
       "      <td>Arrondissement Gent</td>\n",
       "      <td>1914</td>\n",
       "    </tr>\n",
       "    <tr>\n",
       "      <th>30</th>\n",
       "      <td>Provincie Oost-Vlaanderen</td>\n",
       "      <td>Arrondissement Oudenaarde</td>\n",
       "      <td>296</td>\n",
       "    </tr>\n",
       "    <tr>\n",
       "      <th>31</th>\n",
       "      <td>Provincie Oost-Vlaanderen</td>\n",
       "      <td>Arrondissement Sint-Niklaas</td>\n",
       "      <td>951</td>\n",
       "    </tr>\n",
       "    <tr>\n",
       "      <th>32</th>\n",
       "      <td>Provincie Vlaams-Brabant</td>\n",
       "      <td>Arrondissement Halle-Vilvoorde</td>\n",
       "      <td>1343</td>\n",
       "    </tr>\n",
       "    <tr>\n",
       "      <th>33</th>\n",
       "      <td>Provincie Vlaams-Brabant</td>\n",
       "      <td>Arrondissement Leuven</td>\n",
       "      <td>1143</td>\n",
       "    </tr>\n",
       "    <tr>\n",
       "      <th>34</th>\n",
       "      <td>Provincie Waals-Brabant</td>\n",
       "      <td>Arrondissement Nijvel</td>\n",
       "      <td>814</td>\n",
       "    </tr>\n",
       "    <tr>\n",
       "      <th>35</th>\n",
       "      <td>Provincie West-Vlaanderen</td>\n",
       "      <td>Arrondissement Brugge</td>\n",
       "      <td>1094</td>\n",
       "    </tr>\n",
       "    <tr>\n",
       "      <th>36</th>\n",
       "      <td>Provincie West-Vlaanderen</td>\n",
       "      <td>Arrondissement Diksmuide</td>\n",
       "      <td>131</td>\n",
       "    </tr>\n",
       "    <tr>\n",
       "      <th>37</th>\n",
       "      <td>Provincie West-Vlaanderen</td>\n",
       "      <td>Arrondissement Ieper</td>\n",
       "      <td>371</td>\n",
       "    </tr>\n",
       "    <tr>\n",
       "      <th>38</th>\n",
       "      <td>Provincie West-Vlaanderen</td>\n",
       "      <td>Arrondissement Kortrijk</td>\n",
       "      <td>790</td>\n",
       "    </tr>\n",
       "    <tr>\n",
       "      <th>39</th>\n",
       "      <td>Provincie West-Vlaanderen</td>\n",
       "      <td>Arrondissement Oostende</td>\n",
       "      <td>419</td>\n",
       "    </tr>\n",
       "    <tr>\n",
       "      <th>40</th>\n",
       "      <td>Provincie West-Vlaanderen</td>\n",
       "      <td>Arrondissement Roeselare</td>\n",
       "      <td>435</td>\n",
       "    </tr>\n",
       "    <tr>\n",
       "      <th>41</th>\n",
       "      <td>Provincie West-Vlaanderen</td>\n",
       "      <td>Arrondissement Tielt</td>\n",
       "      <td>222</td>\n",
       "    </tr>\n",
       "    <tr>\n",
       "      <th>42</th>\n",
       "      <td>Provincie West-Vlaanderen</td>\n",
       "      <td>Arrondissement Veurne</td>\n",
       "      <td>165</td>\n",
       "    </tr>\n",
       "  </tbody>\n",
       "</table>\n",
       "</div>"
      ],
      "text/plain": [
       "                             PROV                          ADM_DSTR  Nº ACC\n",
       "0   Arr. Brussel-Hfdstad[no Prov]  Arrondissement Brussel-Hoofdstad    3188\n",
       "1             Provincie Antwerpen          Arrondissement Antwerpen    3419\n",
       "2             Provincie Antwerpen           Arrondissement Mechelen     706\n",
       "3             Provincie Antwerpen           Arrondissement Turnhout    1155\n",
       "4            Provincie Henegouwen                Arrondissement Aat     261\n",
       "5            Provincie Henegouwen             Arrondissement Bergen     487\n",
       "6            Provincie Henegouwen          Arrondissement Charleroi     935\n",
       "7            Provincie Henegouwen  Arrondissement Doornik-Moeskroen     538\n",
       "8            Provincie Henegouwen        Arrondissement La Louvière     259\n",
       "9            Provincie Henegouwen              Arrondissement Thuin     212\n",
       "10           Provincie Henegouwen             Arrondissement Zinnik     256\n",
       "11              Provincie Limburg            Arrondissement Hasselt    1199\n",
       "12              Provincie Limburg            Arrondissement Maaseik     665\n",
       "13              Provincie Limburg           Arrondissement Tongeren     477\n",
       "14                 Provincie Luik           Arrondissement Borgworm     175\n",
       "15                 Provincie Luik               Arrondissement Hoei     261\n",
       "16                 Provincie Luik               Arrondissement Luik    1568\n",
       "17                 Provincie Luik           Arrondissement Verviers     666\n",
       "18            Provincie Luxemburg             Arrondissement Aarlen     117\n",
       "19            Provincie Luxemburg         Arrondissement Bastenaken     110\n",
       "20            Provincie Luxemburg  Arrondissement Marche-en-Famenne     200\n",
       "21            Provincie Luxemburg        Arrondissement Neufchâteau     191\n",
       "22            Provincie Luxemburg             Arrondissement Virton     115\n",
       "23                Provincie Namen             Arrondissement Dinant     269\n",
       "24                Provincie Namen              Arrondissement Namen     721\n",
       "25                Provincie Namen      Arrondissement Philippeville     189\n",
       "26      Provincie Oost-Vlaanderen              Arrondissement Aalst     760\n",
       "27      Provincie Oost-Vlaanderen        Arrondissement Dendermonde     573\n",
       "28      Provincie Oost-Vlaanderen              Arrondissement Eeklo     342\n",
       "29      Provincie Oost-Vlaanderen               Arrondissement Gent    1914\n",
       "30      Provincie Oost-Vlaanderen         Arrondissement Oudenaarde     296\n",
       "31      Provincie Oost-Vlaanderen       Arrondissement Sint-Niklaas     951\n",
       "32       Provincie Vlaams-Brabant    Arrondissement Halle-Vilvoorde    1343\n",
       "33       Provincie Vlaams-Brabant             Arrondissement Leuven    1143\n",
       "34        Provincie Waals-Brabant             Arrondissement Nijvel     814\n",
       "35      Provincie West-Vlaanderen             Arrondissement Brugge    1094\n",
       "36      Provincie West-Vlaanderen          Arrondissement Diksmuide     131\n",
       "37      Provincie West-Vlaanderen              Arrondissement Ieper     371\n",
       "38      Provincie West-Vlaanderen           Arrondissement Kortrijk     790\n",
       "39      Provincie West-Vlaanderen           Arrondissement Oostende     419\n",
       "40      Provincie West-Vlaanderen          Arrondissement Roeselare     435\n",
       "41      Provincie West-Vlaanderen              Arrondissement Tielt     222\n",
       "42      Provincie West-Vlaanderen             Arrondissement Veurne     165"
      ]
     },
     "execution_count": 32,
     "metadata": {},
     "output_type": "execute_result"
    }
   ],
   "source": [
    "#primer paso: nº de accidentes por zona, vistazo ordenado por provincia\n",
    "acc_2020_por_zona = acc_2020_base.groupby([\"PROV\",\"ADM_DSTR\"])[[\"Nº ACC\"]].count()\n",
    "    #acc_2020_por_zona.value_counts()\n",
    "    #acc_2020_por_zona.reset_index(inplace=True)\n",
    "    #acc_2020_por_zona = acc_2020_por_zona.sort_values([\"ADM_DSTR\"], ascending=False)\n",
    "acc_2020_por_zona.reset_index(inplace=True)\n",
    "acc_2020_por_zona"
   ]
  },
  {
   "cell_type": "code",
   "execution_count": 33,
   "metadata": {},
   "outputs": [
    {
     "data": {
      "text/html": [
       "<div>\n",
       "<style scoped>\n",
       "    .dataframe tbody tr th:only-of-type {\n",
       "        vertical-align: middle;\n",
       "    }\n",
       "\n",
       "    .dataframe tbody tr th {\n",
       "        vertical-align: top;\n",
       "    }\n",
       "\n",
       "    .dataframe thead th {\n",
       "        text-align: right;\n",
       "    }\n",
       "</style>\n",
       "<table border=\"1\" class=\"dataframe\">\n",
       "  <thead>\n",
       "    <tr style=\"text-align: right;\">\n",
       "      <th></th>\n",
       "      <th>PROV</th>\n",
       "      <th>ADM_DSTR</th>\n",
       "      <th>Nº ACC</th>\n",
       "    </tr>\n",
       "  </thead>\n",
       "  <tbody>\n",
       "    <tr>\n",
       "      <th>0</th>\n",
       "      <td>Provincie Antwerpen</td>\n",
       "      <td>Arrondissement Antwerpen</td>\n",
       "      <td>3419</td>\n",
       "    </tr>\n",
       "    <tr>\n",
       "      <th>1</th>\n",
       "      <td>Arr. Brussel-Hfdstad[no Prov]</td>\n",
       "      <td>Arrondissement Brussel-Hoofdstad</td>\n",
       "      <td>3188</td>\n",
       "    </tr>\n",
       "    <tr>\n",
       "      <th>2</th>\n",
       "      <td>Provincie Oost-Vlaanderen</td>\n",
       "      <td>Arrondissement Gent</td>\n",
       "      <td>1914</td>\n",
       "    </tr>\n",
       "    <tr>\n",
       "      <th>3</th>\n",
       "      <td>Provincie Luik</td>\n",
       "      <td>Arrondissement Luik</td>\n",
       "      <td>1568</td>\n",
       "    </tr>\n",
       "    <tr>\n",
       "      <th>4</th>\n",
       "      <td>Provincie Vlaams-Brabant</td>\n",
       "      <td>Arrondissement Halle-Vilvoorde</td>\n",
       "      <td>1343</td>\n",
       "    </tr>\n",
       "    <tr>\n",
       "      <th>5</th>\n",
       "      <td>Provincie Limburg</td>\n",
       "      <td>Arrondissement Hasselt</td>\n",
       "      <td>1199</td>\n",
       "    </tr>\n",
       "    <tr>\n",
       "      <th>6</th>\n",
       "      <td>Provincie Antwerpen</td>\n",
       "      <td>Arrondissement Turnhout</td>\n",
       "      <td>1155</td>\n",
       "    </tr>\n",
       "    <tr>\n",
       "      <th>7</th>\n",
       "      <td>Provincie Vlaams-Brabant</td>\n",
       "      <td>Arrondissement Leuven</td>\n",
       "      <td>1143</td>\n",
       "    </tr>\n",
       "    <tr>\n",
       "      <th>8</th>\n",
       "      <td>Provincie West-Vlaanderen</td>\n",
       "      <td>Arrondissement Brugge</td>\n",
       "      <td>1094</td>\n",
       "    </tr>\n",
       "    <tr>\n",
       "      <th>9</th>\n",
       "      <td>Provincie Oost-Vlaanderen</td>\n",
       "      <td>Arrondissement Sint-Niklaas</td>\n",
       "      <td>951</td>\n",
       "    </tr>\n",
       "    <tr>\n",
       "      <th>10</th>\n",
       "      <td>Provincie Henegouwen</td>\n",
       "      <td>Arrondissement Charleroi</td>\n",
       "      <td>935</td>\n",
       "    </tr>\n",
       "    <tr>\n",
       "      <th>11</th>\n",
       "      <td>Provincie Waals-Brabant</td>\n",
       "      <td>Arrondissement Nijvel</td>\n",
       "      <td>814</td>\n",
       "    </tr>\n",
       "    <tr>\n",
       "      <th>12</th>\n",
       "      <td>Provincie West-Vlaanderen</td>\n",
       "      <td>Arrondissement Kortrijk</td>\n",
       "      <td>790</td>\n",
       "    </tr>\n",
       "    <tr>\n",
       "      <th>13</th>\n",
       "      <td>Provincie Oost-Vlaanderen</td>\n",
       "      <td>Arrondissement Aalst</td>\n",
       "      <td>760</td>\n",
       "    </tr>\n",
       "    <tr>\n",
       "      <th>14</th>\n",
       "      <td>Provincie Namen</td>\n",
       "      <td>Arrondissement Namen</td>\n",
       "      <td>721</td>\n",
       "    </tr>\n",
       "    <tr>\n",
       "      <th>15</th>\n",
       "      <td>Provincie Antwerpen</td>\n",
       "      <td>Arrondissement Mechelen</td>\n",
       "      <td>706</td>\n",
       "    </tr>\n",
       "    <tr>\n",
       "      <th>16</th>\n",
       "      <td>Provincie Luik</td>\n",
       "      <td>Arrondissement Verviers</td>\n",
       "      <td>666</td>\n",
       "    </tr>\n",
       "    <tr>\n",
       "      <th>17</th>\n",
       "      <td>Provincie Limburg</td>\n",
       "      <td>Arrondissement Maaseik</td>\n",
       "      <td>665</td>\n",
       "    </tr>\n",
       "    <tr>\n",
       "      <th>18</th>\n",
       "      <td>Provincie Oost-Vlaanderen</td>\n",
       "      <td>Arrondissement Dendermonde</td>\n",
       "      <td>573</td>\n",
       "    </tr>\n",
       "    <tr>\n",
       "      <th>19</th>\n",
       "      <td>Provincie Henegouwen</td>\n",
       "      <td>Arrondissement Doornik-Moeskroen</td>\n",
       "      <td>538</td>\n",
       "    </tr>\n",
       "    <tr>\n",
       "      <th>20</th>\n",
       "      <td>Provincie Henegouwen</td>\n",
       "      <td>Arrondissement Bergen</td>\n",
       "      <td>487</td>\n",
       "    </tr>\n",
       "    <tr>\n",
       "      <th>21</th>\n",
       "      <td>Provincie Limburg</td>\n",
       "      <td>Arrondissement Tongeren</td>\n",
       "      <td>477</td>\n",
       "    </tr>\n",
       "    <tr>\n",
       "      <th>22</th>\n",
       "      <td>Provincie West-Vlaanderen</td>\n",
       "      <td>Arrondissement Roeselare</td>\n",
       "      <td>435</td>\n",
       "    </tr>\n",
       "    <tr>\n",
       "      <th>23</th>\n",
       "      <td>Provincie West-Vlaanderen</td>\n",
       "      <td>Arrondissement Oostende</td>\n",
       "      <td>419</td>\n",
       "    </tr>\n",
       "    <tr>\n",
       "      <th>24</th>\n",
       "      <td>Provincie West-Vlaanderen</td>\n",
       "      <td>Arrondissement Ieper</td>\n",
       "      <td>371</td>\n",
       "    </tr>\n",
       "    <tr>\n",
       "      <th>25</th>\n",
       "      <td>Provincie Oost-Vlaanderen</td>\n",
       "      <td>Arrondissement Eeklo</td>\n",
       "      <td>342</td>\n",
       "    </tr>\n",
       "    <tr>\n",
       "      <th>26</th>\n",
       "      <td>Provincie Oost-Vlaanderen</td>\n",
       "      <td>Arrondissement Oudenaarde</td>\n",
       "      <td>296</td>\n",
       "    </tr>\n",
       "    <tr>\n",
       "      <th>27</th>\n",
       "      <td>Provincie Namen</td>\n",
       "      <td>Arrondissement Dinant</td>\n",
       "      <td>269</td>\n",
       "    </tr>\n",
       "    <tr>\n",
       "      <th>28</th>\n",
       "      <td>Provincie Henegouwen</td>\n",
       "      <td>Arrondissement Aat</td>\n",
       "      <td>261</td>\n",
       "    </tr>\n",
       "    <tr>\n",
       "      <th>29</th>\n",
       "      <td>Provincie Luik</td>\n",
       "      <td>Arrondissement Hoei</td>\n",
       "      <td>261</td>\n",
       "    </tr>\n",
       "    <tr>\n",
       "      <th>30</th>\n",
       "      <td>Provincie Henegouwen</td>\n",
       "      <td>Arrondissement La Louvière</td>\n",
       "      <td>259</td>\n",
       "    </tr>\n",
       "    <tr>\n",
       "      <th>31</th>\n",
       "      <td>Provincie Henegouwen</td>\n",
       "      <td>Arrondissement Zinnik</td>\n",
       "      <td>256</td>\n",
       "    </tr>\n",
       "    <tr>\n",
       "      <th>32</th>\n",
       "      <td>Provincie West-Vlaanderen</td>\n",
       "      <td>Arrondissement Tielt</td>\n",
       "      <td>222</td>\n",
       "    </tr>\n",
       "    <tr>\n",
       "      <th>33</th>\n",
       "      <td>Provincie Henegouwen</td>\n",
       "      <td>Arrondissement Thuin</td>\n",
       "      <td>212</td>\n",
       "    </tr>\n",
       "    <tr>\n",
       "      <th>34</th>\n",
       "      <td>Provincie Luxemburg</td>\n",
       "      <td>Arrondissement Marche-en-Famenne</td>\n",
       "      <td>200</td>\n",
       "    </tr>\n",
       "    <tr>\n",
       "      <th>35</th>\n",
       "      <td>Provincie Luxemburg</td>\n",
       "      <td>Arrondissement Neufchâteau</td>\n",
       "      <td>191</td>\n",
       "    </tr>\n",
       "    <tr>\n",
       "      <th>36</th>\n",
       "      <td>Provincie Namen</td>\n",
       "      <td>Arrondissement Philippeville</td>\n",
       "      <td>189</td>\n",
       "    </tr>\n",
       "    <tr>\n",
       "      <th>37</th>\n",
       "      <td>Provincie Luik</td>\n",
       "      <td>Arrondissement Borgworm</td>\n",
       "      <td>175</td>\n",
       "    </tr>\n",
       "    <tr>\n",
       "      <th>38</th>\n",
       "      <td>Provincie West-Vlaanderen</td>\n",
       "      <td>Arrondissement Veurne</td>\n",
       "      <td>165</td>\n",
       "    </tr>\n",
       "    <tr>\n",
       "      <th>39</th>\n",
       "      <td>Provincie West-Vlaanderen</td>\n",
       "      <td>Arrondissement Diksmuide</td>\n",
       "      <td>131</td>\n",
       "    </tr>\n",
       "    <tr>\n",
       "      <th>40</th>\n",
       "      <td>Provincie Luxemburg</td>\n",
       "      <td>Arrondissement Aarlen</td>\n",
       "      <td>117</td>\n",
       "    </tr>\n",
       "    <tr>\n",
       "      <th>41</th>\n",
       "      <td>Provincie Luxemburg</td>\n",
       "      <td>Arrondissement Virton</td>\n",
       "      <td>115</td>\n",
       "    </tr>\n",
       "    <tr>\n",
       "      <th>42</th>\n",
       "      <td>Provincie Luxemburg</td>\n",
       "      <td>Arrondissement Bastenaken</td>\n",
       "      <td>110</td>\n",
       "    </tr>\n",
       "  </tbody>\n",
       "</table>\n",
       "</div>"
      ],
      "text/plain": [
       "                             PROV                          ADM_DSTR  Nº ACC\n",
       "0             Provincie Antwerpen          Arrondissement Antwerpen    3419\n",
       "1   Arr. Brussel-Hfdstad[no Prov]  Arrondissement Brussel-Hoofdstad    3188\n",
       "2       Provincie Oost-Vlaanderen               Arrondissement Gent    1914\n",
       "3                  Provincie Luik               Arrondissement Luik    1568\n",
       "4        Provincie Vlaams-Brabant    Arrondissement Halle-Vilvoorde    1343\n",
       "5               Provincie Limburg            Arrondissement Hasselt    1199\n",
       "6             Provincie Antwerpen           Arrondissement Turnhout    1155\n",
       "7        Provincie Vlaams-Brabant             Arrondissement Leuven    1143\n",
       "8       Provincie West-Vlaanderen             Arrondissement Brugge    1094\n",
       "9       Provincie Oost-Vlaanderen       Arrondissement Sint-Niklaas     951\n",
       "10           Provincie Henegouwen          Arrondissement Charleroi     935\n",
       "11        Provincie Waals-Brabant             Arrondissement Nijvel     814\n",
       "12      Provincie West-Vlaanderen           Arrondissement Kortrijk     790\n",
       "13      Provincie Oost-Vlaanderen              Arrondissement Aalst     760\n",
       "14                Provincie Namen              Arrondissement Namen     721\n",
       "15            Provincie Antwerpen           Arrondissement Mechelen     706\n",
       "16                 Provincie Luik           Arrondissement Verviers     666\n",
       "17              Provincie Limburg            Arrondissement Maaseik     665\n",
       "18      Provincie Oost-Vlaanderen        Arrondissement Dendermonde     573\n",
       "19           Provincie Henegouwen  Arrondissement Doornik-Moeskroen     538\n",
       "20           Provincie Henegouwen             Arrondissement Bergen     487\n",
       "21              Provincie Limburg           Arrondissement Tongeren     477\n",
       "22      Provincie West-Vlaanderen          Arrondissement Roeselare     435\n",
       "23      Provincie West-Vlaanderen           Arrondissement Oostende     419\n",
       "24      Provincie West-Vlaanderen              Arrondissement Ieper     371\n",
       "25      Provincie Oost-Vlaanderen              Arrondissement Eeklo     342\n",
       "26      Provincie Oost-Vlaanderen         Arrondissement Oudenaarde     296\n",
       "27                Provincie Namen             Arrondissement Dinant     269\n",
       "28           Provincie Henegouwen                Arrondissement Aat     261\n",
       "29                 Provincie Luik               Arrondissement Hoei     261\n",
       "30           Provincie Henegouwen        Arrondissement La Louvière     259\n",
       "31           Provincie Henegouwen             Arrondissement Zinnik     256\n",
       "32      Provincie West-Vlaanderen              Arrondissement Tielt     222\n",
       "33           Provincie Henegouwen              Arrondissement Thuin     212\n",
       "34            Provincie Luxemburg  Arrondissement Marche-en-Famenne     200\n",
       "35            Provincie Luxemburg        Arrondissement Neufchâteau     191\n",
       "36                Provincie Namen      Arrondissement Philippeville     189\n",
       "37                 Provincie Luik           Arrondissement Borgworm     175\n",
       "38      Provincie West-Vlaanderen             Arrondissement Veurne     165\n",
       "39      Provincie West-Vlaanderen          Arrondissement Diksmuide     131\n",
       "40            Provincie Luxemburg             Arrondissement Aarlen     117\n",
       "41            Provincie Luxemburg             Arrondissement Virton     115\n",
       "42            Provincie Luxemburg         Arrondissement Bastenaken     110"
      ]
     },
     "execution_count": 33,
     "metadata": {},
     "output_type": "execute_result"
    }
   ],
   "source": [
    "#segundo paso: ordenar de mayor a menor\n",
    "sorted_acc_2020_por_zona = acc_2020_por_zona.sort_values(\"Nº ACC\", ascending=False)\n",
    "sorted_acc_2020_por_zona.reset_index(inplace=True, drop=[\"index\"])\n",
    "sorted_acc_2020_por_zona"
   ]
  },
  {
   "cell_type": "markdown",
   "metadata": {},
   "source": [
    "# III Preparación de ficheros para la exportación"
   ]
  },
  {
   "cell_type": "code",
   "execution_count": 34,
   "metadata": {},
   "outputs": [],
   "source": [
    "acc_2020_por_zona.to_csv(\"Data_ACC/acc_por_zona_2020.csv\", index=False)\n",
    "sorted_acc_2020_por_zona.to_csv(\"Data_ACC/sorted_acc_por_zona_2020.csv\", index=False)\n",
    "\n",
    "acc_2020_por_dia.to_csv(\"Data_ACC/acc_2020_por_dia.csv\", index = False)\n",
    "acc_2020_por_mes.to_csv(\"Data_ACC/acc_2020_por_mes.csv\", index = False)"
   ]
  },
  {
   "cell_type": "markdown",
   "metadata": {},
   "source": [
    "### Anexo: primeras pruebas con gráficos"
   ]
  },
  {
   "cell_type": "code",
   "execution_count": 34,
   "metadata": {},
   "outputs": [
    {
     "data": {
      "text/plain": [
       "<pandas.core.groupby.generic.DataFrameGroupBy object at 0x000001D7CE4D6648>"
      ]
     },
     "execution_count": 34,
     "metadata": {},
     "output_type": "execute_result"
    }
   ],
   "source": [
    "#borrador...\n",
    "MASK = acc_2020_col[\"CD_DAY_OF_WEEK\"].isin([1,2,3,4,5])\n",
    "acc_2020_col_fil = acc_2020_col.groupby(MASK)\n",
    "acc_2020_col_fil"
   ]
  },
  {
   "cell_type": "code",
   "execution_count": 35,
   "metadata": {},
   "outputs": [
    {
     "data": {
      "text/plain": [
       "<AxesSubplot:>"
      ]
     },
     "execution_count": 35,
     "metadata": {},
     "output_type": "execute_result"
    },
    {
     "data": {
      "image/png": "[encoded data removed]",
      "text/plain": [
       "<Figure size 432x288 with 1 Axes>"
      ]
     },
     "metadata": {
      "needs_background": "light"
     },
     "output_type": "display_data"
    }
   ],
   "source": [
    "#prueba...\n",
    "sorted_acc_2020_por_zona[\"Nº ACC\"].hist()"
   ]
  },
  {
   "cell_type": "code",
   "execution_count": 36,
   "metadata": {},
   "outputs": [
    {
     "data": {
      "application/vnd.plotly.v1+json": {
       "config": {
        "plotlyServerURL": "https://plot.ly"
       },
       "data": [
        {
         "hovertemplate": "distritos=%{x}<br>nº accidentes=%{y}<extra></extra>",
         "legendgroup": "",
         "line": {
          "color": "#636efa",
          "dash": "solid"
         },
         "marker": {
          "symbol": "circle"
         },
         "mode": "lines",
         "name": "",
         "orientation": "v",
         "showlegend": false,
         "type": "scatter",
         "x": [
          "Arrondissement Antwerpen",
          "Arrondissement Brussel-Hoofdstad",
          "Arrondissement Gent",
          "Arrondissement Luik",
          "Arrondissement Halle-Vilvoorde",
          "Arrondissement Hasselt",
          "Arrondissement Turnhout",
          "Arrondissement Leuven",
          "Arrondissement Brugge",
          "Arrondissement Sint-Niklaas",
          "Arrondissement Charleroi",
          "Arrondissement Nijvel",
          "Arrondissement Kortrijk",
          "Arrondissement Aalst",
          "Arrondissement Namen",
          "Arrondissement Mechelen",
          "Arrondissement Verviers",
          "Arrondissement Maaseik",
          "Arrondissement Dendermonde",
          "Arrondissement Doornik-Moeskroen",
          "Arrondissement Bergen",
          "Arrondissement Tongeren",
          "Arrondissement Roeselare",
          "Arrondissement Oostende",
          "Arrondissement Ieper",
          "Arrondissement Eeklo",
          "Arrondissement Oudenaarde",
          "Arrondissement Dinant",
          "Arrondissement Aat",
          "Arrondissement Hoei",
          "Arrondissement La Louvière",
          "Arrondissement Zinnik",
          "Arrondissement Tielt",
          "Arrondissement Thuin",
          "Arrondissement Marche-en-Famenne",
          "Arrondissement Neufchâteau",
          "Arrondissement Philippeville",
          "Arrondissement Borgworm",
          "Arrondissement Veurne",
          "Arrondissement Diksmuide",
          "Arrondissement Aarlen",
          "Arrondissement Virton",
          "Arrondissement Bastenaken"
         ],
         "xaxis": "x",
         "y": [
          3419,
          3188,
          1914,
          1568,
          1343,
          1199,
          1155,
          1143,
          1094,
          951,
          935,
          814,
          790,
          760,
          721,
          706,
          666,
          665,
          573,
          538,
          487,
          477,
          435,
          419,
          371,
          342,
          296,
          269,
          261,
          261,
          259,
          256,
          222,
          212,
          200,
          191,
          189,
          175,
          165,
          131,
          117,
          115,
          110
         ],
         "yaxis": "y"
        }
       ],
       "layout": {
        "legend": {
         "tracegroupgap": 0
        },
        "template": {
         "data": {
          "bar": [
           {
            "error_x": {
             "color": "#2a3f5f"
            },
            "error_y": {
             "color": "#2a3f5f"
            },
            "marker": {
             "line": {
              "color": "#E5ECF6",
              "width": 0.5
             },
             "pattern": {
              "fillmode": "overlay",
              "size": 10,
              "solidity": 0.2
             }
            },
            "type": "bar"
           }
          ],
          "barpolar": [
           {
            "marker": {
             "line": {
              "color": "#E5ECF6",
              "width": 0.5
             },
             "pattern": {
              "fillmode": "overlay",
              "size": 10,
              "solidity": 0.2
             }
            },
            "type": "barpolar"
           }
          ],
          "carpet": [
           {
            "aaxis": {
             "endlinecolor": "#2a3f5f",
             "gridcolor": "white",
             "linecolor": "white",
             "minorgridcolor": "white",
             "startlinecolor": "#2a3f5f"
            },
            "baxis": {
             "endlinecolor": "#2a3f5f",
             "gridcolor": "white",
             "linecolor": "white",
             "minorgridcolor": "white",
             "startlinecolor": "#2a3f5f"
            },
            "type": "carpet"
           }
          ],
          "choropleth": [
           {
            "colorbar": {
             "outlinewidth": 0,
             "ticks": ""
            },
            "type": "choropleth"
           }
          ],
          "contour": [
           {
            "colorbar": {
             "outlinewidth": 0,
             "ticks": ""
            },
            "colorscale": [
             [
              0,
              "#0d0887"
             ],
             [
              0.1111111111111111,
              "#46039f"
             ],
             [
              0.2222222222222222,
              "#7201a8"
             ],
             [
              0.3333333333333333,
              "#9c179e"
             ],
             [
              0.4444444444444444,
              "#bd3786"
             ],
             [
              0.5555555555555556,
              "#d8576b"
             ],
             [
              0.6666666666666666,
              "#ed7953"
             ],
             [
              0.7777777777777778,
              "#fb9f3a"
             ],
             [
              0.8888888888888888,
              "#fdca26"
             ],
             [
              1,
              "#f0f921"
             ]
            ],
            "type": "contour"
           }
          ],
          "contourcarpet": [
           {
            "colorbar": {
             "outlinewidth": 0,
             "ticks": ""
            },
            "type": "contourcarpet"
           }
          ],
          "heatmap": [
           {
            "colorbar": {
             "outlinewidth": 0,
             "ticks": ""
            },
            "colorscale": [
             [
              0,
              "#0d0887"
             ],
             [
              0.1111111111111111,
              "#46039f"
             ],
             [
              0.2222222222222222,
              "#7201a8"
             ],
             [
              0.3333333333333333,
              "#9c179e"
             ],
             [
              0.4444444444444444,
              "#bd3786"
             ],
             [
              0.5555555555555556,
              "#d8576b"
             ],
             [
              0.6666666666666666,
              "#ed7953"
             ],
             [
              0.7777777777777778,
              "#fb9f3a"
             ],
             [
              0.8888888888888888,
              "#fdca26"
             ],
             [
              1,
              "#f0f921"
             ]
            ],
            "type": "heatmap"
           }
          ],
          "heatmapgl": [
           {
            "colorbar": {
             "outlinewidth": 0,
             "ticks": ""
            },
            "colorscale": [
             [
              0,
              "#0d0887"
             ],
             [
              0.1111111111111111,
              "#46039f"
             ],
             [
              0.2222222222222222,
              "#7201a8"
             ],
             [
              0.3333333333333333,
              "#9c179e"
             ],
             [
              0.4444444444444444,
              "#bd3786"
             ],
             [
              0.5555555555555556,
              "#d8576b"
             ],
             [
              0.6666666666666666,
              "#ed7953"
             ],
             [
              0.7777777777777778,
              "#fb9f3a"
             ],
             [
              0.8888888888888888,
              "#fdca26"
             ],
             [
              1,
              "#f0f921"
             ]
            ],
            "type": "heatmapgl"
           }
          ],
          "histogram": [
           {
            "marker": {
             "pattern": {
              "fillmode": "overlay",
              "size": 10,
              "solidity": 0.2
             }
            },
            "type": "histogram"
           }
          ],
          "histogram2d": [
           {
            "colorbar": {
             "outlinewidth": 0,
             "ticks": ""
            },
            "colorscale": [
             [
              0,
              "#0d0887"
             ],
             [
              0.1111111111111111,
              "#46039f"
             ],
             [
              0.2222222222222222,
              "#7201a8"
             ],
             [
              0.3333333333333333,
              "#9c179e"
             ],
             [
              0.4444444444444444,
              "#bd3786"
             ],
             [
              0.5555555555555556,
              "#d8576b"
             ],
             [
              0.6666666666666666,
              "#ed7953"
             ],
             [
              0.7777777777777778,
              "#fb9f3a"
             ],
             [
              0.8888888888888888,
              "#fdca26"
             ],
             [
              1,
              "#f0f921"
             ]
            ],
            "type": "histogram2d"
           }
          ],
          "histogram2dcontour": [
           {
            "colorbar": {
             "outlinewidth": 0,
             "ticks": ""
            },
            "colorscale": [
             [
              0,
              "#0d0887"
             ],
             [
              0.1111111111111111,
              "#46039f"
             ],
             [
              0.2222222222222222,
              "#7201a8"
             ],
             [
              0.3333333333333333,
              "#9c179e"
             ],
             [
              0.4444444444444444,
              "#bd3786"
             ],
             [
              0.5555555555555556,
              "#d8576b"
             ],
             [
              0.6666666666666666,
              "#ed7953"
             ],
             [
              0.7777777777777778,
              "#fb9f3a"
             ],
             [
              0.8888888888888888,
              "#fdca26"
             ],
             [
              1,
              "#f0f921"
             ]
            ],
            "type": "histogram2dcontour"
           }
          ],
          "mesh3d": [
           {
            "colorbar": {
             "outlinewidth": 0,
             "ticks": ""
            },
            "type": "mesh3d"
           }
          ],
          "parcoords": [
           {
            "line": {
             "colorbar": {
              "outlinewidth": 0,
              "ticks": ""
             }
            },
            "type": "parcoords"
           }
          ],
          "pie": [
           {
            "automargin": true,
            "type": "pie"
           }
          ],
          "scatter": [
           {
            "marker": {
             "colorbar": {
              "outlinewidth": 0,
              "ticks": ""
             }
            },
            "type": "scatter"
           }
          ],
          "scatter3d": [
           {
            "line": {
             "colorbar": {
              "outlinewidth": 0,
              "ticks": ""
             }
            },
            "marker": {
             "colorbar": {
              "outlinewidth": 0,
              "ticks": ""
             }
            },
            "type": "scatter3d"
           }
          ],
          "scattercarpet": [
           {
            "marker": {
             "colorbar": {
              "outlinewidth": 0,
              "ticks": ""
             }
            },
            "type": "scattercarpet"
           }
          ],
          "scattergeo": [
           {
            "marker": {
             "colorbar": {
              "outlinewidth": 0,
              "ticks": ""
             }
            },
            "type": "scattergeo"
           }
          ],
          "scattergl": [
           {
            "marker": {
             "colorbar": {
              "outlinewidth": 0,
              "ticks": ""
             }
            },
            "type": "scattergl"
           }
          ],
          "scattermapbox": [
           {
            "marker": {
             "colorbar": {
              "outlinewidth": 0,
              "ticks": ""
             }
            },
            "type": "scattermapbox"
           }
          ],
          "scatterpolar": [
           {
            "marker": {
             "colorbar": {
              "outlinewidth": 0,
              "ticks": ""
             }
            },
            "type": "scatterpolar"
           }
          ],
          "scatterpolargl": [
           {
            "marker": {
             "colorbar": {
              "outlinewidth": 0,
              "ticks": ""
             }
            },
            "type": "scatterpolargl"
           }
          ],
          "scatterternary": [
           {
            "marker": {
             "colorbar": {
              "outlinewidth": 0,
              "ticks": ""
             }
            },
            "type": "scatterternary"
           }
          ],
          "surface": [
           {
            "colorbar": {
             "outlinewidth": 0,
             "ticks": ""
            },
            "colorscale": [
             [
              0,
              "#0d0887"
             ],
             [
              0.1111111111111111,
              "#46039f"
             ],
             [
              0.2222222222222222,
              "#7201a8"
             ],
             [
              0.3333333333333333,
              "#9c179e"
             ],
             [
              0.4444444444444444,
              "#bd3786"
             ],
             [
              0.5555555555555556,
              "#d8576b"
             ],
             [
              0.6666666666666666,
              "#ed7953"
             ],
             [
              0.7777777777777778,
              "#fb9f3a"
             ],
             [
              0.8888888888888888,
              "#fdca26"
             ],
             [
              1,
              "#f0f921"
             ]
            ],
            "type": "surface"
           }
          ],
          "table": [
           {
            "cells": {
             "fill": {
              "color": "#EBF0F8"
             },
             "line": {
              "color": "white"
             }
            },
            "header": {
             "fill": {
              "color": "#C8D4E3"
             },
             "line": {
              "color": "white"
             }
            },
            "type": "table"
           }
          ]
         },
         "layout": {
          "annotationdefaults": {
           "arrowcolor": "#2a3f5f",
           "arrowhead": 0,
           "arrowwidth": 1
          },
          "autotypenumbers": "strict",
          "coloraxis": {
           "colorbar": {
            "outlinewidth": 0,
            "ticks": ""
           }
          },
          "colorscale": {
           "diverging": [
            [
             0,
             "#8e0152"
            ],
            [
             0.1,
             "#c51b7d"
            ],
            [
             0.2,
             "#de77ae"
            ],
            [
             0.3,
             "#f1b6da"
            ],
            [
             0.4,
             "#fde0ef"
            ],
            [
             0.5,
             "#f7f7f7"
            ],
            [
             0.6,
             "#e6f5d0"
            ],
            [
             0.7,
             "#b8e186"
            ],
            [
             0.8,
             "#7fbc41"
            ],
            [
             0.9,
             "#4d9221"
            ],
            [
             1,
             "#276419"
            ]
           ],
           "sequential": [
            [
             0,
             "#0d0887"
            ],
            [
             0.1111111111111111,
             "#46039f"
            ],
            [
             0.2222222222222222,
             "#7201a8"
            ],
            [
             0.3333333333333333,
             "#9c179e"
            ],
            [
             0.4444444444444444,
             "#bd3786"
            ],
            [
             0.5555555555555556,
             "#d8576b"
            ],
            [
             0.6666666666666666,
             "#ed7953"
            ],
            [
             0.7777777777777778,
             "#fb9f3a"
            ],
            [
             0.8888888888888888,
             "#fdca26"
            ],
            [
             1,
             "#f0f921"
            ]
           ],
           "sequentialminus": [
            [
             0,
             "#0d0887"
            ],
            [
             0.1111111111111111,
             "#46039f"
            ],
            [
             0.2222222222222222,
             "#7201a8"
            ],
            [
             0.3333333333333333,
             "#9c179e"
            ],
            [
             0.4444444444444444,
             "#bd3786"
            ],
            [
             0.5555555555555556,
             "#d8576b"
            ],
            [
             0.6666666666666666,
             "#ed7953"
            ],
            [
             0.7777777777777778,
             "#fb9f3a"
            ],
            [
             0.8888888888888888,
             "#fdca26"
            ],
            [
             1,
             "#f0f921"
            ]
           ]
          },
          "colorway": [
           "#636efa",
           "#EF553B",
           "#00cc96",
           "#ab63fa",
           "#FFA15A",
           "#19d3f3",
           "#FF6692",
           "#B6E880",
           "#FF97FF",
           "#FECB52"
          ],
          "font": {
           "color": "#2a3f5f"
          },
          "geo": {
           "bgcolor": "white",
           "lakecolor": "white",
           "landcolor": "#E5ECF6",
           "showlakes": true,
           "showland": true,
           "subunitcolor": "white"
          },
          "hoverlabel": {
           "align": "left"
          },
          "hovermode": "closest",
          "mapbox": {
           "style": "light"
          },
          "paper_bgcolor": "white",
          "plot_bgcolor": "#E5ECF6",
          "polar": {
           "angularaxis": {
            "gridcolor": "white",
            "linecolor": "white",
            "ticks": ""
           },
           "bgcolor": "#E5ECF6",
           "radialaxis": {
            "gridcolor": "white",
            "linecolor": "white",
            "ticks": ""
           }
          },
          "scene": {
           "xaxis": {
            "backgroundcolor": "#E5ECF6",
            "gridcolor": "white",
            "gridwidth": 2,
            "linecolor": "white",
            "showbackground": true,
            "ticks": "",
            "zerolinecolor": "white"
           },
           "yaxis": {
            "backgroundcolor": "#E5ECF6",
            "gridcolor": "white",
            "gridwidth": 2,
            "linecolor": "white",
            "showbackground": true,
            "ticks": "",
            "zerolinecolor": "white"
           },
           "zaxis": {
            "backgroundcolor": "#E5ECF6",
            "gridcolor": "white",
            "gridwidth": 2,
            "linecolor": "white",
            "showbackground": true,
            "ticks": "",
            "zerolinecolor": "white"
           }
          },
          "shapedefaults": {
           "line": {
            "color": "#2a3f5f"
           }
          },
          "ternary": {
           "aaxis": {
            "gridcolor": "white",
            "linecolor": "white",
            "ticks": ""
           },
           "baxis": {
            "gridcolor": "white",
            "linecolor": "white",
            "ticks": ""
           },
           "bgcolor": "#E5ECF6",
           "caxis": {
            "gridcolor": "white",
            "linecolor": "white",
            "ticks": ""
           }
          },
          "title": {
           "x": 0.05
          },
          "xaxis": {
           "automargin": true,
           "gridcolor": "white",
           "linecolor": "white",
           "ticks": "",
           "title": {
            "standoff": 15
           },
           "zerolinecolor": "white",
           "zerolinewidth": 2
          },
          "yaxis": {
           "automargin": true,
           "gridcolor": "white",
           "linecolor": "white",
           "ticks": "",
           "title": {
            "standoff": 15
           },
           "zerolinecolor": "white",
           "zerolinewidth": 2
          }
         }
        },
        "title": {
         "text": "Nº de accidentes por zona (2020)"
        },
        "xaxis": {
         "anchor": "y",
         "domain": [
          0,
          1
         ],
         "tickangle": 60,
         "title": {
          "text": "distritos"
         }
        },
        "yaxis": {
         "anchor": "x",
         "domain": [
          0,
          1
         ],
         "title": {
          "text": "nº accidentes"
         }
        }
       }
      }
     },
     "metadata": {},
     "output_type": "display_data"
    }
   ],
   "source": [
    "fig = px.line(x=sorted_acc_2020_por_zona[\"ADM_DSTR\"], y=sorted_acc_2020_por_zona[\"Nº ACC\"], labels = {\"x\": \"distritos\", \"y\": \"nº accidentes\"}, title = \"Nº de accidentes por zona (2020)\")\n",
    "#ax.set_xlabel(xlabel, rotation=60)\n",
    "fig.update_xaxes(tickangle=60)\n",
    "fig.show()"
   ]
  }
 ],
 "metadata": {
  "interpreter": {
   "hash": "7291fc089e198fa8915d0d58dd480239dc8daf5dc8a6486e165be5bbe751df3e"
  },
  "kernelspec": {
   "display_name": "Python 3.7.4 64-bit",
   "language": "python",
   "name": "python3"
  },
  "language_info": {
   "codemirror_mode": {
    "name": "ipython",
    "version": 3
   },
   "file_extension": ".py",
   "mimetype": "text/x-python",
   "name": "python",
   "nbconvert_exporter": "python",
   "pygments_lexer": "ipython3",
   "version": "3.7.4"
  },
  "orig_nbformat": 4
 },
 "nbformat": 4,
 "nbformat_minor": 2
}
